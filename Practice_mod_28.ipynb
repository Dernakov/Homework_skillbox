{
 "cells": [
  {
   "cell_type": "markdown",
   "metadata": {
    "id": "R7z_bLlN82Fq"
   },
   "source": [
    "## Практическая работа"
   ]
  },
  {
   "cell_type": "markdown",
   "metadata": {
    "id": "kkjjqZ3h8_Xs"
   },
   "source": [
    "В этой работе вам нужно будет подготовить финальный нотбук по задаче предсказания стоимости поддержанного автомобиля, которую мы решали на протяжении нескольких модулей.\n",
    "<br>\n",
    "*Обязательные задачи* помогут проверить, что вы действительно усвоили материал. Если у вас всё получилось, можете переходить к следующей теме.\n",
    "<br>\n",
    "Удачи!"
   ]
  },
  {
   "cell_type": "markdown",
   "metadata": {
    "id": "L7jIYdtWLK83"
   },
   "source": [
    "Цели практической работы:\n",
    "\n",
    "1.   Потренироваться в формировании понятного и структурированного ноутбука по результатам исследования.\n",
    "2.   Отработать выбор наилучшей предсказательной модели с помощью кросс-валидации.\n",
    "3.   На основе результатов метрик научиться делать выводы о переобучении/недообучении модели.\n",
    "4.   Научиться сохранять обученные модели в формате `pickle`.\n",
    "\n",
    "\n"
   ]
  },
  {
   "cell_type": "markdown",
   "metadata": {
    "id": "euoZ2_MKMq8a"
   },
   "source": [
    "Что оценивается:\n",
    "\n",
    "*   Ноутбук состоит из блоков: каждый блок соответствует определённой фазе работы с задачей.\n",
    "*   Блоки, которые состоят из нескольких этапов, декомпозированы на подблоки (например, в `Data Preparation` может быть несколько подблоков: `Data cleaning`, `Feature Selection` и тому подобное).\n",
    "*   Код написан в едином стиле и не нарушает PEP-8.\n",
    "*   Код покрыт комментариями.\n",
    "*   Код воспроизводим (то есть проверяющий, запустив ноутбук, получит ровно такие же результаты).\n",
    "*   Все условия задач выполнены.\n",
    "\n",
    "\n",
    "\n"
   ]
  },
  {
   "cell_type": "markdown",
   "metadata": {
    "id": "o6QMs6bwNahN"
   },
   "source": [
    "## Обязательные задачи"
   ]
  },
  {
   "cell_type": "markdown",
   "metadata": {
    "id": "oTIytkb-P_fc",
    "jp-MarkdownHeadingCollapsed": true
   },
   "source": [
    "### Постановка общей задачи:\n",
    "\n"
   ]
  },
  {
   "cell_type": "markdown",
   "metadata": {
    "id": "3OVyFidZQQCM"
   },
   "source": [
    "Напомним, что вы работаете с небольшой выборкой из коллекции подержанных автомобилей, выставленных на продажу в Соединённых Штатах. На этих данных вам нужно построить модель классификации, определяющую категорию цены подержанного автомобиля в зависимости от характеристик транспортного средства."
   ]
  },
  {
   "cell_type": "markdown",
   "metadata": {
    "id": "aXJiblYGPnl7"
   },
   "source": [
    "### Описание датасета:\n",
    "\n"
   ]
  },
  {
   "cell_type": "markdown",
   "metadata": {
    "id": "iEkPagJvQMct"
   },
   "source": [
    "- `id`: идентификатор записи;\n",
    "- `url`: URL записи о продаже;\n",
    "- `region`: регион;\n",
    "- `region_url`: URL региона;\n",
    "- `price`: стоимость;\n",
    "- `year`: год выпуска;\n",
    "- `manufacturer`: производитель;\n",
    "- `model`: модель;\n",
    "- `fuel`: тип топлива;\n",
    "- `odometer`: количество пройденных миль;\n",
    "- `title_status`: статус;\n",
    "- `transmission`: коробка передач;\n",
    "- `image_url`: URL изображения;\n",
    "- `description`: указанное описание;\n",
    "- `state`: штат;\n",
    "- `lat`: широта;\n",
    "- `long`: долгота;\n",
    "- `posting_date`: дата размещения объявления о продаже;\n",
    "- `price_category`: категория цены;\n",
    "- `date`: дата публикации."
   ]
  },
  {
   "cell_type": "markdown",
   "metadata": {
    "id": "QOz03a6IS3yM"
   },
   "source": [
    "###  Задачи:"
   ]
  },
  {
   "cell_type": "markdown",
   "metadata": {
    "id": "fyPW74cuS0xV"
   },
   "source": [
    "Ниже представлены задачи по проекту построения модели. Выполните их и в отдельном файле соберите финальный ноутбук проекта."
   ]
  },
  {
   "cell_type": "markdown",
   "metadata": {
    "id": "foZlR0n9Qe5d"
   },
   "source": [
    "0. *Импорт сторонних библиотек*\n",
    "\n",
    "В первой ячейке ноутбука импортируйте библиотеки, которые необходимы для работы с данными. Впоследствии все импорты добавляйте в эту ячейку. Структурируйте их по PEP-8.\n",
    "\n",
    "[Документация по оформлению import'ов (PEP-8)](https://peps.python.org/pep-0008/#imports)"
   ]
  },
  {
   "cell_type": "markdown",
   "metadata": {
    "id": "bhYiJs3jSRzu"
   },
   "source": [
    "1. *Загрузка данных*\n",
    "\n",
    "Загрузите данные из файла `df_out`. Выведите размерность и первые 5 строчек данных."
   ]
  },
  {
   "cell_type": "markdown",
   "metadata": {
    "id": "yU_ge0TwTQu_"
   },
   "source": [
    "2. *Data Preparation*\n",
    "\n",
    "Объявите блок Data Preparation. В этом блоке:\n",
    "* произведите преобразование типов данных, если нужно;\n",
    "* исследуйте данные на пропуски, обработайте их (например, заполните какими-то значениями);\n",
    "* избавьтесь от аномалий, если нужно.\n",
    "\n",
    "В решении данной задачи опирайтесь на результаты работы в 17-19 модулях блока Data Preparation. Исследование данных подкрепляйте соответствующей визуализацией в виде графиков, таблиц или статистических значений.\n",
    "\n",
    "Декомпозируйте блок на подблоки.\n"
   ]
  },
  {
   "cell_type": "markdown",
   "metadata": {
    "id": "hzw5oxCacLEN"
   },
   "source": [
    "3. *Feature engineering*\n",
    "\n",
    "Объявите блок Feature engineering. В этом блоке:\n",
    "* подготовьте категориальные переменные с помощью OneHotEncoder;\n",
    "* стандартизируйте и нормализуйте переменные, если нужно;\n",
    "* создайте новые признаки на основе информации в датафрейме (на основе дат, текстовых значений переменных, и так далее);\n",
    "* удалите неинформативные колонки, которые появились в датасете в результате Feature engineering;\n",
    "* сформируйте финальный датасет, на котором будет производиться моделирование, и сохраните его в отдельный файл.\n",
    "\n",
    "В решении данной задачи опирайтесь на результаты работы в 20 модуле блока Data Preparation. Исследование подкрепляйте соответствующей визуализацией в виде графиков, таблиц или матриц корреляций, если это нужно.\n",
    "\n",
    "Декомпозируйте блок на подблоки."
   ]
  },
  {
   "cell_type": "markdown",
   "metadata": {
    "id": "oPvQ_MlUeU6n"
   },
   "source": [
    "4. *Modelling*\n",
    "\n",
    "Объявите блок Modelling. В этом блоке:\n",
    "* сформируйте датасет для обучения; инициализируйте фичи и целевую переменную\n",
    "(`price_category`); положите их в соответствующие переменные;\n",
    "* разделите данные на треин и тест;\n",
    "* объявите три модели: логистическая регрессия, случайный лес и многослойный персептрон;\n",
    "* поработайте с моделями: сделайте тюнинг параметров и выберите лучшую модель с помощью кросс-валидации на тренировочной выборке;\n",
    "* по результатам кросс-валидации выберите лучшую модель;\n",
    "* посчитайте значение метрики лучшей модели на тестовой выборке; убедитесь, что модель не переобучилась.\n",
    "\n",
    "В решении данной задачи опирайтесь на результаты работы в 22-23 модулях блока Modelling. Исследование подкрепляйте соответствующей визуализацией в виде графиков, таблиц или матриц корреляций, если это нужно.\n",
    "\n",
    "Декомпозируйте блок на подблоки, если это нужно."
   ]
  },
  {
   "cell_type": "markdown",
   "metadata": {
    "id": "LPADUk0IiiEJ"
   },
   "source": [
    "4. *Results*\n",
    "\n",
    "Объявите блок Results. В этом блоке:\n",
    "\n",
    "* подведите итог: какая модель показала себя лучше всего и будет финальным результатом данного ноутбука;\n",
    "* обучите эту модель на всём датасете;\n",
    "* сохраните обученную модель в `pickle`."
   ]
  },
  {
   "cell_type": "markdown",
   "metadata": {
    "id": "w6-JQdeGzhdk"
   },
   "source": [
    "## Как отправить работу на проверку\n"
   ]
  },
  {
   "cell_type": "markdown",
   "metadata": {
    "id": "_lKrJVJpzqNA"
   },
   "source": [
    "Отправьте куратору на проверку финальный ноутбук проекта, а также файл обученной модели в формате `pickle`."
   ]
  },
  {
   "cell_type": "markdown",
   "metadata": {
    "jp-MarkdownHeadingCollapsed": true
   },
   "source": [
    "## 0. *Импорт сторонних библиотек*"
   ]
  },
  {
   "cell_type": "code",
   "execution_count": 405,
   "metadata": {},
   "outputs": [],
   "source": [
    "import matplotlib.pyplot as plt\n",
    "import pandas as pd\n",
    "import pickle\n",
    "import missingno as msno\n",
    "\n",
    "from sklearn.ensemble import RandomForestClassifier\n",
    "from sklearn.linear_model import LogisticRegression, LinearRegression\n",
    "from sklearn.metrics import accuracy_score, confusion_matrix, mean_absolute_error\n",
    "from sklearn.model_selection import train_test_split, cross_val_score, cross_validate\n",
    "from sklearn.neural_network import MLPClassifier\n",
    "from sklearn.preprocessing import OneHotEncoder\n",
    "from matplotlib.ticker import FormatStrFormatter\n",
    "from sklearn.preprocessing import StandardScaler"
   ]
  },
  {
   "cell_type": "markdown",
   "metadata": {
    "id": "a9HIfIFknpKW",
    "jp-MarkdownHeadingCollapsed": true
   },
   "source": [
    "## 1. *Загрузка данных*"
   ]
  },
  {
   "cell_type": "code",
   "execution_count": 408,
   "metadata": {},
   "outputs": [
    {
     "name": "stdout",
     "output_type": "stream",
     "text": [
      "(10000, 20)\n"
     ]
    },
    {
     "data": {
      "text/html": [
       "<div>\n",
       "<style scoped>\n",
       "    .dataframe tbody tr th:only-of-type {\n",
       "        vertical-align: middle;\n",
       "    }\n",
       "\n",
       "    .dataframe tbody tr th {\n",
       "        vertical-align: top;\n",
       "    }\n",
       "\n",
       "    .dataframe thead th {\n",
       "        text-align: right;\n",
       "    }\n",
       "</style>\n",
       "<table border=\"1\" class=\"dataframe\">\n",
       "  <thead>\n",
       "    <tr style=\"text-align: right;\">\n",
       "      <th></th>\n",
       "      <th>id</th>\n",
       "      <th>url</th>\n",
       "      <th>region</th>\n",
       "      <th>region_url</th>\n",
       "      <th>price</th>\n",
       "      <th>year</th>\n",
       "      <th>manufacturer</th>\n",
       "      <th>model</th>\n",
       "      <th>fuel</th>\n",
       "      <th>odometer</th>\n",
       "      <th>title_status</th>\n",
       "      <th>transmission</th>\n",
       "      <th>image_url</th>\n",
       "      <th>description</th>\n",
       "      <th>state</th>\n",
       "      <th>lat</th>\n",
       "      <th>long</th>\n",
       "      <th>posting_date</th>\n",
       "      <th>price_category</th>\n",
       "      <th>date</th>\n",
       "    </tr>\n",
       "  </thead>\n",
       "  <tbody>\n",
       "    <tr>\n",
       "      <th>0</th>\n",
       "      <td>7308295377</td>\n",
       "      <td>https://chattanooga.craigslist.org/ctd/d/chatt...</td>\n",
       "      <td>chattanooga</td>\n",
       "      <td>https://chattanooga.craigslist.org</td>\n",
       "      <td>54990</td>\n",
       "      <td>2020.0</td>\n",
       "      <td>ram</td>\n",
       "      <td>2500 crew cab big horn</td>\n",
       "      <td>diesel</td>\n",
       "      <td>27442</td>\n",
       "      <td>clean</td>\n",
       "      <td>other</td>\n",
       "      <td>https://images.craigslist.org/00N0N_1xMPvfxRAI...</td>\n",
       "      <td>Carvana is the safer way to buy a car During t...</td>\n",
       "      <td>tn</td>\n",
       "      <td>35.060000</td>\n",
       "      <td>-85.250000</td>\n",
       "      <td>2021-04-17T12:30:50-0400</td>\n",
       "      <td>high</td>\n",
       "      <td>2021-04-17 16:30:50+00:00</td>\n",
       "    </tr>\n",
       "    <tr>\n",
       "      <th>1</th>\n",
       "      <td>7316380095</td>\n",
       "      <td>https://newjersey.craigslist.org/ctd/d/carlsta...</td>\n",
       "      <td>north jersey</td>\n",
       "      <td>https://newjersey.craigslist.org</td>\n",
       "      <td>16942</td>\n",
       "      <td>2016.0</td>\n",
       "      <td>ford</td>\n",
       "      <td>explorer 4wd 4dr xlt</td>\n",
       "      <td>NaN</td>\n",
       "      <td>60023</td>\n",
       "      <td>clean</td>\n",
       "      <td>automatic</td>\n",
       "      <td>https://images.craigslist.org/00x0x_26jl9F0cnL...</td>\n",
       "      <td>***Call Us for more information at: 201-635-14...</td>\n",
       "      <td>nj</td>\n",
       "      <td>40.821805</td>\n",
       "      <td>-74.061962</td>\n",
       "      <td>2021-05-03T15:40:21-0400</td>\n",
       "      <td>medium</td>\n",
       "      <td>2021-05-03 19:40:21+00:00</td>\n",
       "    </tr>\n",
       "    <tr>\n",
       "      <th>2</th>\n",
       "      <td>7313733749</td>\n",
       "      <td>https://reno.craigslist.org/ctd/d/atlanta-2017...</td>\n",
       "      <td>reno / tahoe</td>\n",
       "      <td>https://reno.craigslist.org</td>\n",
       "      <td>35590</td>\n",
       "      <td>2017.0</td>\n",
       "      <td>volkswagen</td>\n",
       "      <td>golf r hatchback</td>\n",
       "      <td>gas</td>\n",
       "      <td>14048</td>\n",
       "      <td>clean</td>\n",
       "      <td>other</td>\n",
       "      <td>https://images.craigslist.org/00y0y_eeZjWeiSfb...</td>\n",
       "      <td>Carvana is the safer way to buy a car During t...</td>\n",
       "      <td>ca</td>\n",
       "      <td>33.779214</td>\n",
       "      <td>-84.411811</td>\n",
       "      <td>2021-04-28T03:52:20-0700</td>\n",
       "      <td>high</td>\n",
       "      <td>2021-04-28 10:52:20+00:00</td>\n",
       "    </tr>\n",
       "    <tr>\n",
       "      <th>3</th>\n",
       "      <td>7308210929</td>\n",
       "      <td>https://fayetteville.craigslist.org/ctd/d/rale...</td>\n",
       "      <td>fayetteville</td>\n",
       "      <td>https://fayetteville.craigslist.org</td>\n",
       "      <td>14500</td>\n",
       "      <td>2013.0</td>\n",
       "      <td>toyota</td>\n",
       "      <td>rav4</td>\n",
       "      <td>gas</td>\n",
       "      <td>117291</td>\n",
       "      <td>clean</td>\n",
       "      <td>automatic</td>\n",
       "      <td>https://images.craigslist.org/00606_iGe5iXidib...</td>\n",
       "      <td>2013 Toyota RAV4 XLE 4dr SUV     Offered by: R...</td>\n",
       "      <td>nc</td>\n",
       "      <td>35.715954</td>\n",
       "      <td>-78.655304</td>\n",
       "      <td>2021-04-17T10:08:57-0400</td>\n",
       "      <td>medium</td>\n",
       "      <td>2021-04-17 14:08:57+00:00</td>\n",
       "    </tr>\n",
       "    <tr>\n",
       "      <th>4</th>\n",
       "      <td>7316474668</td>\n",
       "      <td>https://newyork.craigslist.org/lgi/cto/d/baldw...</td>\n",
       "      <td>new york city</td>\n",
       "      <td>https://newyork.craigslist.org</td>\n",
       "      <td>21800</td>\n",
       "      <td>2021.0</td>\n",
       "      <td>nissan</td>\n",
       "      <td>altima</td>\n",
       "      <td>gas</td>\n",
       "      <td>8000</td>\n",
       "      <td>clean</td>\n",
       "      <td>automatic</td>\n",
       "      <td>https://images.craigslist.org/00V0V_3pSOiPZ3Sd...</td>\n",
       "      <td>2021 Nissan Altima Sv with Only 8 K Miles Titl...</td>\n",
       "      <td>ny</td>\n",
       "      <td>40.654800</td>\n",
       "      <td>-73.609700</td>\n",
       "      <td>2021-05-03T18:32:06-0400</td>\n",
       "      <td>medium</td>\n",
       "      <td>2021-05-03 22:32:06+00:00</td>\n",
       "    </tr>\n",
       "  </tbody>\n",
       "</table>\n",
       "</div>"
      ],
      "text/plain": [
       "           id                                                url  \\\n",
       "0  7308295377  https://chattanooga.craigslist.org/ctd/d/chatt...   \n",
       "1  7316380095  https://newjersey.craigslist.org/ctd/d/carlsta...   \n",
       "2  7313733749  https://reno.craigslist.org/ctd/d/atlanta-2017...   \n",
       "3  7308210929  https://fayetteville.craigslist.org/ctd/d/rale...   \n",
       "4  7316474668  https://newyork.craigslist.org/lgi/cto/d/baldw...   \n",
       "\n",
       "          region                           region_url  price    year  \\\n",
       "0    chattanooga   https://chattanooga.craigslist.org  54990  2020.0   \n",
       "1   north jersey     https://newjersey.craigslist.org  16942  2016.0   \n",
       "2   reno / tahoe          https://reno.craigslist.org  35590  2017.0   \n",
       "3   fayetteville  https://fayetteville.craigslist.org  14500  2013.0   \n",
       "4  new york city       https://newyork.craigslist.org  21800  2021.0   \n",
       "\n",
       "  manufacturer                   model    fuel  odometer title_status  \\\n",
       "0          ram  2500 crew cab big horn  diesel     27442        clean   \n",
       "1         ford    explorer 4wd 4dr xlt     NaN     60023        clean   \n",
       "2   volkswagen        golf r hatchback     gas     14048        clean   \n",
       "3       toyota                    rav4     gas    117291        clean   \n",
       "4       nissan                  altima     gas      8000        clean   \n",
       "\n",
       "  transmission                                          image_url  \\\n",
       "0        other  https://images.craigslist.org/00N0N_1xMPvfxRAI...   \n",
       "1    automatic  https://images.craigslist.org/00x0x_26jl9F0cnL...   \n",
       "2        other  https://images.craigslist.org/00y0y_eeZjWeiSfb...   \n",
       "3    automatic  https://images.craigslist.org/00606_iGe5iXidib...   \n",
       "4    automatic  https://images.craigslist.org/00V0V_3pSOiPZ3Sd...   \n",
       "\n",
       "                                         description state        lat  \\\n",
       "0  Carvana is the safer way to buy a car During t...    tn  35.060000   \n",
       "1  ***Call Us for more information at: 201-635-14...    nj  40.821805   \n",
       "2  Carvana is the safer way to buy a car During t...    ca  33.779214   \n",
       "3  2013 Toyota RAV4 XLE 4dr SUV     Offered by: R...    nc  35.715954   \n",
       "4  2021 Nissan Altima Sv with Only 8 K Miles Titl...    ny  40.654800   \n",
       "\n",
       "        long              posting_date price_category  \\\n",
       "0 -85.250000  2021-04-17T12:30:50-0400           high   \n",
       "1 -74.061962  2021-05-03T15:40:21-0400         medium   \n",
       "2 -84.411811  2021-04-28T03:52:20-0700           high   \n",
       "3 -78.655304  2021-04-17T10:08:57-0400         medium   \n",
       "4 -73.609700  2021-05-03T18:32:06-0400         medium   \n",
       "\n",
       "                        date  \n",
       "0  2021-04-17 16:30:50+00:00  \n",
       "1  2021-05-03 19:40:21+00:00  \n",
       "2  2021-04-28 10:52:20+00:00  \n",
       "3  2021-04-17 14:08:57+00:00  \n",
       "4  2021-05-03 22:32:06+00:00  "
      ]
     },
     "execution_count": 408,
     "metadata": {},
     "output_type": "execute_result"
    }
   ],
   "source": [
    "df = pd.read_csv('df_out.csv')\n",
    "print(df.shape)\n",
    "df.head()"
   ]
  },
  {
   "cell_type": "markdown",
   "metadata": {
    "jp-MarkdownHeadingCollapsed": true
   },
   "source": [
    "## 2. *Data Preparation*"
   ]
  },
  {
   "cell_type": "markdown",
   "metadata": {
    "jp-MarkdownHeadingCollapsed": true
   },
   "source": [
    "### 2.1 Дубликаты, пропуски и неинформативные данные"
   ]
  },
  {
   "cell_type": "code",
   "execution_count": null,
   "metadata": {},
   "outputs": [],
   "source": []
  },
  {
   "cell_type": "code",
   "execution_count": 412,
   "metadata": {},
   "outputs": [
    {
     "data": {
      "text/html": [
       "<div>\n",
       "<style scoped>\n",
       "    .dataframe tbody tr th:only-of-type {\n",
       "        vertical-align: middle;\n",
       "    }\n",
       "\n",
       "    .dataframe tbody tr th {\n",
       "        vertical-align: top;\n",
       "    }\n",
       "\n",
       "    .dataframe thead th {\n",
       "        text-align: right;\n",
       "    }\n",
       "</style>\n",
       "<table border=\"1\" class=\"dataframe\">\n",
       "  <thead>\n",
       "    <tr style=\"text-align: right;\">\n",
       "      <th></th>\n",
       "      <th>id</th>\n",
       "      <th>url</th>\n",
       "      <th>region</th>\n",
       "      <th>region_url</th>\n",
       "      <th>price</th>\n",
       "      <th>year</th>\n",
       "      <th>manufacturer</th>\n",
       "      <th>model</th>\n",
       "      <th>fuel</th>\n",
       "      <th>odometer</th>\n",
       "      <th>title_status</th>\n",
       "      <th>transmission</th>\n",
       "      <th>image_url</th>\n",
       "      <th>description</th>\n",
       "      <th>state</th>\n",
       "      <th>lat</th>\n",
       "      <th>long</th>\n",
       "      <th>posting_date</th>\n",
       "      <th>price_category</th>\n",
       "      <th>date</th>\n",
       "    </tr>\n",
       "  </thead>\n",
       "  <tbody>\n",
       "  </tbody>\n",
       "</table>\n",
       "</div>"
      ],
      "text/plain": [
       "Empty DataFrame\n",
       "Columns: [id, url, region, region_url, price, year, manufacturer, model, fuel, odometer, title_status, transmission, image_url, description, state, lat, long, posting_date, price_category, date]\n",
       "Index: []"
      ]
     },
     "execution_count": 412,
     "metadata": {},
     "output_type": "execute_result"
    }
   ],
   "source": [
    "df.duplicated()\n",
    "\n",
    "df[df.duplicated()]\n",
    "\n",
    "## Дубликатов нет"
   ]
  },
  {
   "cell_type": "code",
   "execution_count": 413,
   "metadata": {
    "scrolled": true
   },
   "outputs": [
    {
     "data": {
      "image/png": "[encoded data removed]",
      "text/plain": [
       "<Figure size 2500x1000 with 3 Axes>"
      ]
     },
     "metadata": {},
     "output_type": "display_data"
    }
   ],
   "source": [
    "msno.bar(df);\n",
    "#Видим по графику, что основная часть данных есть в полном количестве. Столбцов, где много пустых значений нет."
   ]
  },
  {
   "cell_type": "code",
   "execution_count": 414,
   "metadata": {},
   "outputs": [
    {
     "name": "stdout",
     "output_type": "stream",
     "text": [
      "Количество полностью заполненных объектов из всей выборки: 9507\n",
      "Процент полностью заполненных объектов из всей выборки: 95.07\n"
     ]
    }
   ],
   "source": [
    "def print_useful_rows_info(df):\n",
    "    print('Количество полностью заполненных объектов из всей выборки:', \n",
    "          len(df.dropna()))\n",
    "    print('Процент полностью заполненных объектов из всей выборки:', \n",
    "          round(len(df.dropna()) / len(df) * 100, 2))\n",
    "    \n",
    "print_useful_rows_info(df)"
   ]
  },
  {
   "cell_type": "code",
   "execution_count": 415,
   "metadata": {},
   "outputs": [
    {
     "name": "stdout",
     "output_type": "stream",
     "text": [
      "(9507, 20)\n",
      "Количество полностью заполненных объектов из всей выборки: 9507\n",
      "Процент полностью заполненных объектов из всей выборки: 100.0\n"
     ]
    }
   ],
   "source": [
    "df_clean = df.copy()\n",
    "\n",
    "for i in df_clean.columns:\n",
    "    df_clean = df_clean[df_clean[i].notna()]\n",
    "\n",
    "print(df_clean.shape)\n",
    "print_useful_rows_info(df_clean)"
   ]
  },
  {
   "cell_type": "code",
   "execution_count": 417,
   "metadata": {},
   "outputs": [],
   "source": [
    "# Потеря 0.5% выборки незначительна, поэтому незаполненные строки удалил"
   ]
  },
  {
   "cell_type": "markdown",
   "metadata": {
    "jp-MarkdownHeadingCollapsed": true
   },
   "source": [
    "### 2.2 Приведение типов данных"
   ]
  },
  {
   "cell_type": "code",
   "execution_count": 419,
   "metadata": {},
   "outputs": [
    {
     "data": {
      "text/html": [
       "<div>\n",
       "<style scoped>\n",
       "    .dataframe tbody tr th:only-of-type {\n",
       "        vertical-align: middle;\n",
       "    }\n",
       "\n",
       "    .dataframe tbody tr th {\n",
       "        vertical-align: top;\n",
       "    }\n",
       "\n",
       "    .dataframe thead th {\n",
       "        text-align: right;\n",
       "    }\n",
       "</style>\n",
       "<table border=\"1\" class=\"dataframe\">\n",
       "  <thead>\n",
       "    <tr style=\"text-align: right;\">\n",
       "      <th></th>\n",
       "      <th>Column_Name</th>\n",
       "      <th>Num_Unique</th>\n",
       "    </tr>\n",
       "  </thead>\n",
       "  <tbody>\n",
       "    <tr>\n",
       "      <th>18</th>\n",
       "      <td>price_category</td>\n",
       "      <td>3</td>\n",
       "    </tr>\n",
       "    <tr>\n",
       "      <th>11</th>\n",
       "      <td>transmission</td>\n",
       "      <td>3</td>\n",
       "    </tr>\n",
       "    <tr>\n",
       "      <th>8</th>\n",
       "      <td>fuel</td>\n",
       "      <td>5</td>\n",
       "    </tr>\n",
       "    <tr>\n",
       "      <th>10</th>\n",
       "      <td>title_status</td>\n",
       "      <td>6</td>\n",
       "    </tr>\n",
       "    <tr>\n",
       "      <th>6</th>\n",
       "      <td>manufacturer</td>\n",
       "      <td>40</td>\n",
       "    </tr>\n",
       "    <tr>\n",
       "      <th>14</th>\n",
       "      <td>state</td>\n",
       "      <td>51</td>\n",
       "    </tr>\n",
       "    <tr>\n",
       "      <th>5</th>\n",
       "      <td>year</td>\n",
       "      <td>87</td>\n",
       "    </tr>\n",
       "    <tr>\n",
       "      <th>2</th>\n",
       "      <td>region</td>\n",
       "      <td>393</td>\n",
       "    </tr>\n",
       "    <tr>\n",
       "      <th>3</th>\n",
       "      <td>region_url</td>\n",
       "      <td>405</td>\n",
       "    </tr>\n",
       "    <tr>\n",
       "      <th>4</th>\n",
       "      <td>price</td>\n",
       "      <td>2091</td>\n",
       "    </tr>\n",
       "    <tr>\n",
       "      <th>7</th>\n",
       "      <td>model</td>\n",
       "      <td>3317</td>\n",
       "    </tr>\n",
       "    <tr>\n",
       "      <th>15</th>\n",
       "      <td>lat</td>\n",
       "      <td>4895</td>\n",
       "    </tr>\n",
       "    <tr>\n",
       "      <th>16</th>\n",
       "      <td>long</td>\n",
       "      <td>4925</td>\n",
       "    </tr>\n",
       "    <tr>\n",
       "      <th>9</th>\n",
       "      <td>odometer</td>\n",
       "      <td>6599</td>\n",
       "    </tr>\n",
       "    <tr>\n",
       "      <th>12</th>\n",
       "      <td>image_url</td>\n",
       "      <td>8622</td>\n",
       "    </tr>\n",
       "    <tr>\n",
       "      <th>13</th>\n",
       "      <td>description</td>\n",
       "      <td>9365</td>\n",
       "    </tr>\n",
       "    <tr>\n",
       "      <th>19</th>\n",
       "      <td>date</td>\n",
       "      <td>9424</td>\n",
       "    </tr>\n",
       "    <tr>\n",
       "      <th>17</th>\n",
       "      <td>posting_date</td>\n",
       "      <td>9470</td>\n",
       "    </tr>\n",
       "    <tr>\n",
       "      <th>1</th>\n",
       "      <td>url</td>\n",
       "      <td>9507</td>\n",
       "    </tr>\n",
       "    <tr>\n",
       "      <th>0</th>\n",
       "      <td>id</td>\n",
       "      <td>9507</td>\n",
       "    </tr>\n",
       "  </tbody>\n",
       "</table>\n",
       "</div>"
      ],
      "text/plain": [
       "       Column_Name  Num_Unique\n",
       "18  price_category           3\n",
       "11    transmission           3\n",
       "8             fuel           5\n",
       "10    title_status           6\n",
       "6     manufacturer          40\n",
       "14           state          51\n",
       "5             year          87\n",
       "2           region         393\n",
       "3       region_url         405\n",
       "4            price        2091\n",
       "7            model        3317\n",
       "15             lat        4895\n",
       "16            long        4925\n",
       "9         odometer        6599\n",
       "12       image_url        8622\n",
       "13     description        9365\n",
       "19            date        9424\n",
       "17    posting_date        9470\n",
       "1              url        9507\n",
       "0               id        9507"
      ]
     },
     "execution_count": 419,
     "metadata": {},
     "output_type": "execute_result"
    }
   ],
   "source": [
    "unique_counts = df_clean.from_records([(col, df_clean[col].nunique()) for col in df_clean.columns],\n",
    "                                          columns=['Column_Name', 'Num_Unique']).sort_values(by=['Num_Unique'])\n",
    "unique_counts\n",
    "\n",
    "#Значения до region_url включительно можно привести к формату категориальной переменной"
   ]
  },
  {
   "cell_type": "code",
   "execution_count": 421,
   "metadata": {},
   "outputs": [],
   "source": [
    "cols_to_exclude = ['year']\n",
    "\n",
    "for col in df_clean.columns:\n",
    "    if df_clean[col].nunique() < 406 and col not in cols_to_exclude:\n",
    "        df_clean[col] = df_clean[col].astype('category')"
   ]
  },
  {
   "cell_type": "code",
   "execution_count": 422,
   "metadata": {},
   "outputs": [
    {
     "name": "stdout",
     "output_type": "stream",
     "text": [
      "<class 'pandas.core.frame.DataFrame'>\n",
      "Index: 9507 entries, 0 to 9999\n",
      "Data columns (total 20 columns):\n",
      " #   Column          Non-Null Count  Dtype   \n",
      "---  ------          --------------  -----   \n",
      " 0   id              9507 non-null   int64   \n",
      " 1   url             9507 non-null   object  \n",
      " 2   region          9507 non-null   category\n",
      " 3   region_url      9507 non-null   category\n",
      " 4   price           9507 non-null   int64   \n",
      " 5   year            9507 non-null   float64 \n",
      " 6   manufacturer    9507 non-null   category\n",
      " 7   model           9507 non-null   object  \n",
      " 8   fuel            9507 non-null   category\n",
      " 9   odometer        9507 non-null   int64   \n",
      " 10  title_status    9507 non-null   category\n",
      " 11  transmission    9507 non-null   category\n",
      " 12  image_url       9507 non-null   object  \n",
      " 13  description     9507 non-null   object  \n",
      " 14  state           9507 non-null   category\n",
      " 15  lat             9507 non-null   float64 \n",
      " 16  long            9507 non-null   float64 \n",
      " 17  posting_date    9507 non-null   object  \n",
      " 18  price_category  9507 non-null   category\n",
      " 19  date            9507 non-null   object  \n",
      "dtypes: category(8), float64(3), int64(3), object(6)\n",
      "memory usage: 1.1+ MB\n"
     ]
    }
   ],
   "source": [
    "df_clean.info()"
   ]
  },
  {
   "cell_type": "code",
   "execution_count": 423,
   "metadata": {
    "scrolled": true
   },
   "outputs": [
    {
     "name": "stdout",
     "output_type": "stream",
     "text": [
      "<class 'pandas.core.frame.DataFrame'>\n",
      "Index: 9507 entries, 0 to 9999\n",
      "Data columns (total 20 columns):\n",
      " #   Column          Non-Null Count  Dtype              \n",
      "---  ------          --------------  -----              \n",
      " 0   id              9507 non-null   int64              \n",
      " 1   url             9507 non-null   object             \n",
      " 2   region          9507 non-null   category           \n",
      " 3   region_url      9507 non-null   category           \n",
      " 4   price           9507 non-null   int64              \n",
      " 5   year            9507 non-null   float64            \n",
      " 6   manufacturer    9507 non-null   category           \n",
      " 7   model           9507 non-null   object             \n",
      " 8   fuel            9507 non-null   category           \n",
      " 9   odometer        9507 non-null   int64              \n",
      " 10  title_status    9507 non-null   category           \n",
      " 11  transmission    9507 non-null   category           \n",
      " 12  image_url       9507 non-null   object             \n",
      " 13  description     9507 non-null   object             \n",
      " 14  state           9507 non-null   category           \n",
      " 15  lat             9507 non-null   float64            \n",
      " 16  long            9507 non-null   float64            \n",
      " 17  posting_date    9507 non-null   datetime64[ns, UTC]\n",
      " 18  price_category  9507 non-null   category           \n",
      " 19  date            9507 non-null   datetime64[ns, UTC]\n",
      "dtypes: category(8), datetime64[ns, UTC](2), float64(3), int64(3), object(4)\n",
      "memory usage: 1.1+ MB\n"
     ]
    }
   ],
   "source": [
    "df_clean['date'] = pd.to_datetime(df_clean['date'], utc=True)\n",
    "df_clean['posting_date'] = pd.to_datetime(df_clean['posting_date'], utc=True)\n",
    "df_clean.info()"
   ]
  },
  {
   "cell_type": "code",
   "execution_count": 424,
   "metadata": {
    "scrolled": true
   },
   "outputs": [
    {
     "data": {
      "text/html": [
       "<div>\n",
       "<style scoped>\n",
       "    .dataframe tbody tr th:only-of-type {\n",
       "        vertical-align: middle;\n",
       "    }\n",
       "\n",
       "    .dataframe tbody tr th {\n",
       "        vertical-align: top;\n",
       "    }\n",
       "\n",
       "    .dataframe thead th {\n",
       "        text-align: right;\n",
       "    }\n",
       "</style>\n",
       "<table border=\"1\" class=\"dataframe\">\n",
       "  <thead>\n",
       "    <tr style=\"text-align: right;\">\n",
       "      <th></th>\n",
       "      <th>long</th>\n",
       "      <th>year</th>\n",
       "      <th>lat</th>\n",
       "    </tr>\n",
       "  </thead>\n",
       "  <tbody>\n",
       "    <tr>\n",
       "      <th>0</th>\n",
       "      <td>-85.250000</td>\n",
       "      <td>2020.0</td>\n",
       "      <td>35.060000</td>\n",
       "    </tr>\n",
       "    <tr>\n",
       "      <th>2</th>\n",
       "      <td>-84.411811</td>\n",
       "      <td>2017.0</td>\n",
       "      <td>33.779214</td>\n",
       "    </tr>\n",
       "    <tr>\n",
       "      <th>3</th>\n",
       "      <td>-78.655304</td>\n",
       "      <td>2013.0</td>\n",
       "      <td>35.715954</td>\n",
       "    </tr>\n",
       "    <tr>\n",
       "      <th>4</th>\n",
       "      <td>-73.609700</td>\n",
       "      <td>2021.0</td>\n",
       "      <td>40.654800</td>\n",
       "    </tr>\n",
       "    <tr>\n",
       "      <th>5</th>\n",
       "      <td>-83.940000</td>\n",
       "      <td>2012.0</td>\n",
       "      <td>35.970000</td>\n",
       "    </tr>\n",
       "    <tr>\n",
       "      <th>...</th>\n",
       "      <td>...</td>\n",
       "      <td>...</td>\n",
       "      <td>...</td>\n",
       "    </tr>\n",
       "    <tr>\n",
       "      <th>9995</th>\n",
       "      <td>-79.189500</td>\n",
       "      <td>2002.0</td>\n",
       "      <td>42.123900</td>\n",
       "    </tr>\n",
       "    <tr>\n",
       "      <th>9996</th>\n",
       "      <td>-77.755610</td>\n",
       "      <td>2008.0</td>\n",
       "      <td>43.216990</td>\n",
       "    </tr>\n",
       "    <tr>\n",
       "      <th>9997</th>\n",
       "      <td>-122.982753</td>\n",
       "      <td>2011.0</td>\n",
       "      <td>44.925908</td>\n",
       "    </tr>\n",
       "    <tr>\n",
       "      <th>9998</th>\n",
       "      <td>-89.397796</td>\n",
       "      <td>2015.0</td>\n",
       "      <td>43.029559</td>\n",
       "    </tr>\n",
       "    <tr>\n",
       "      <th>9999</th>\n",
       "      <td>-76.300000</td>\n",
       "      <td>2017.0</td>\n",
       "      <td>36.670000</td>\n",
       "    </tr>\n",
       "  </tbody>\n",
       "</table>\n",
       "<p>9507 rows × 3 columns</p>\n",
       "</div>"
      ],
      "text/plain": [
       "            long    year        lat\n",
       "0     -85.250000  2020.0  35.060000\n",
       "2     -84.411811  2017.0  33.779214\n",
       "3     -78.655304  2013.0  35.715954\n",
       "4     -73.609700  2021.0  40.654800\n",
       "5     -83.940000  2012.0  35.970000\n",
       "...          ...     ...        ...\n",
       "9995  -79.189500  2002.0  42.123900\n",
       "9996  -77.755610  2008.0  43.216990\n",
       "9997 -122.982753  2011.0  44.925908\n",
       "9998  -89.397796  2015.0  43.029559\n",
       "9999  -76.300000  2017.0  36.670000\n",
       "\n",
       "[9507 rows x 3 columns]"
      ]
     },
     "execution_count": 424,
     "metadata": {},
     "output_type": "execute_result"
    }
   ],
   "source": [
    "df_clean[['long', 'year', 'lat' ]]\n",
    "#Колонка year имеет целые числа, можно преобразовать в int"
   ]
  },
  {
   "cell_type": "code",
   "execution_count": 425,
   "metadata": {
    "scrolled": true
   },
   "outputs": [
    {
     "name": "stdout",
     "output_type": "stream",
     "text": [
      "<class 'pandas.core.frame.DataFrame'>\n",
      "Index: 9507 entries, 0 to 9999\n",
      "Data columns (total 20 columns):\n",
      " #   Column          Non-Null Count  Dtype              \n",
      "---  ------          --------------  -----              \n",
      " 0   id              9507 non-null   int64              \n",
      " 1   url             9507 non-null   object             \n",
      " 2   region          9507 non-null   category           \n",
      " 3   region_url      9507 non-null   category           \n",
      " 4   price           9507 non-null   int64              \n",
      " 5   year            9507 non-null   int32              \n",
      " 6   manufacturer    9507 non-null   category           \n",
      " 7   model           9507 non-null   object             \n",
      " 8   fuel            9507 non-null   category           \n",
      " 9   odometer        9507 non-null   int64              \n",
      " 10  title_status    9507 non-null   category           \n",
      " 11  transmission    9507 non-null   category           \n",
      " 12  image_url       9507 non-null   object             \n",
      " 13  description     9507 non-null   object             \n",
      " 14  state           9507 non-null   category           \n",
      " 15  lat             9507 non-null   float64            \n",
      " 16  long            9507 non-null   float64            \n",
      " 17  posting_date    9507 non-null   datetime64[ns, UTC]\n",
      " 18  price_category  9507 non-null   category           \n",
      " 19  date            9507 non-null   datetime64[ns, UTC]\n",
      "dtypes: category(8), datetime64[ns, UTC](2), float64(2), int32(1), int64(3), object(4)\n",
      "memory usage: 1.0+ MB\n"
     ]
    }
   ],
   "source": [
    "df_clean['year'] = df_clean['year'].astype(int)\n",
    "df_clean.info()"
   ]
  },
  {
   "cell_type": "markdown",
   "metadata": {
    "jp-MarkdownHeadingCollapsed": true
   },
   "source": [
    "### 2.3 Работа с аномалиями"
   ]
  },
  {
   "cell_type": "code",
   "execution_count": 427,
   "metadata": {},
   "outputs": [
    {
     "data": {
      "text/plain": [
       "(1994, 2030)"
      ]
     },
     "execution_count": 427,
     "metadata": {},
     "output_type": "execute_result"
    }
   ],
   "source": [
    "def calculate_outliers(data):\n",
    "    q25 = data.quantile(0.25)\n",
    "    q75 = data.quantile(0.75)\n",
    "    iqr = q75 - q25\n",
    "    boundaries = (int(q25 - 1.5 * iqr), int(q75 + 1.5 * iqr))\n",
    "\n",
    "    return boundaries\n",
    "\n",
    "boundaries = calculate_outliers(df_clean.year)\n",
    "boundaries"
   ]
  },
  {
   "cell_type": "code",
   "execution_count": 428,
   "metadata": {
    "scrolled": true
   },
   "outputs": [
    {
     "name": "stdout",
     "output_type": "stream",
     "text": [
      "Количество выбросов в значении года выпуска: 336\n",
      "Процент выбросов от всей выборки: 3.534237929946355 %\n"
     ]
    }
   ],
   "source": [
    "is_outlier = (df_clean.year < boundaries[0]) | (df_clean.year > boundaries[1])\n",
    "\n",
    "print('Количество выбросов в значении года выпуска:', is_outlier.sum())\n",
    "\n",
    "print('Процент выбросов от всей выборки:', is_outlier.sum() / len(df_clean)*100, '%')\n",
    "\n"
   ]
  },
  {
   "cell_type": "code",
   "execution_count": 429,
   "metadata": {},
   "outputs": [],
   "source": [
    "df_clean = df_clean.loc[df_clean['year'] >= boundaries[0]]"
   ]
  },
  {
   "cell_type": "code",
   "execution_count": 430,
   "metadata": {},
   "outputs": [
    {
     "data": {
      "image/png": "[encoded data removed]",
      "text/plain": [
       "<Figure size 500x1500 with 1 Axes>"
      ]
     },
     "metadata": {},
     "output_type": "display_data"
    }
   ],
   "source": [
    "fig, ax = plt.subplots(figsize=(5, 15))\n",
    "ax.boxplot(df.price)\n",
    "ax.set_ylabel('Стоимость авто')\n",
    "ax.set_title('Ящик с усами стоимость авто')\n",
    "\n",
    "ax.yaxis.set_major_formatter(FormatStrFormatter('%.0f'))"
   ]
  },
  {
   "cell_type": "code",
   "execution_count": 431,
   "metadata": {
    "scrolled": true
   },
   "outputs": [
    {
     "name": "stdout",
     "output_type": "stream",
     "text": [
      "(8997, 20)\n",
      "<class 'pandas.core.frame.DataFrame'>\n",
      "Index: 8997 entries, 0 to 9999\n",
      "Data columns (total 20 columns):\n",
      " #   Column          Non-Null Count  Dtype              \n",
      "---  ------          --------------  -----              \n",
      " 0   id              8997 non-null   int64              \n",
      " 1   url             8997 non-null   object             \n",
      " 2   region          8997 non-null   category           \n",
      " 3   region_url      8997 non-null   category           \n",
      " 4   price           8997 non-null   int64              \n",
      " 5   year            8997 non-null   int32              \n",
      " 6   manufacturer    8997 non-null   category           \n",
      " 7   model           8997 non-null   object             \n",
      " 8   fuel            8997 non-null   category           \n",
      " 9   odometer        8997 non-null   int64              \n",
      " 10  title_status    8997 non-null   category           \n",
      " 11  transmission    8997 non-null   category           \n",
      " 12  image_url       8997 non-null   object             \n",
      " 13  description     8997 non-null   object             \n",
      " 14  state           8997 non-null   category           \n",
      " 15  lat             8997 non-null   float64            \n",
      " 16  long            8997 non-null   float64            \n",
      " 17  posting_date    8997 non-null   datetime64[ns, UTC]\n",
      " 18  price_category  8997 non-null   category           \n",
      " 19  date            8997 non-null   datetime64[ns, UTC]\n",
      "dtypes: category(8), datetime64[ns, UTC](2), float64(2), int32(1), int64(3), object(4)\n",
      "memory usage: 1001.5+ KB\n",
      "None\n"
     ]
    }
   ],
   "source": [
    "boundaries1 = calculate_outliers(df_clean.price)\n",
    "boundaries1\n",
    "\n",
    "df_clean = df_clean.loc[df_clean['price'] <= boundaries1[1]]\n",
    "\n",
    "print(df_clean.shape)\n",
    "print(df_clean.info())"
   ]
  },
  {
   "cell_type": "code",
   "execution_count": 434,
   "metadata": {},
   "outputs": [
    {
     "name": "stdout",
     "output_type": "stream",
     "text": [
      "Количество выбросов в значении пробега: 0\n",
      "Процент выбросов от всей выборки: 0.0 %\n"
     ]
    }
   ],
   "source": [
    "boundaries2 = calculate_outliers(df_clean.odometer)\n",
    "boundaries2\n",
    "\n",
    "is_outlier1 = (df_clean.odometer < boundaries2[0]) | (df_clean.odometer > boundaries2[1])\n",
    "\n",
    "print('Количество выбросов в значении пробега:', is_outlier1.sum())\n",
    "\n",
    "print('Процент выбросов от всей выборки:', is_outlier1.sum() / len(df_clean)*100, '%')"
   ]
  },
  {
   "cell_type": "code",
   "execution_count": 437,
   "metadata": {},
   "outputs": [],
   "source": [
    "#Столбцы в числовом формате проверены на выбросы"
   ]
  },
  {
   "cell_type": "markdown",
   "metadata": {},
   "source": [
    "## 3. *Feature engineering*"
   ]
  },
  {
   "cell_type": "markdown",
   "metadata": {
    "jp-MarkdownHeadingCollapsed": true
   },
   "source": [
    "#### 3.1 Подготовка категориальных переменных с помощью OneHotEncoder"
   ]
  },
  {
   "cell_type": "code",
   "execution_count": 440,
   "metadata": {
    "scrolled": true
   },
   "outputs": [
    {
     "name": "stdout",
     "output_type": "stream",
     "text": [
      "<class 'pandas.core.frame.DataFrame'>\n",
      "Index: 8997 entries, 0 to 9999\n",
      "Data columns (total 20 columns):\n",
      " #   Column          Non-Null Count  Dtype              \n",
      "---  ------          --------------  -----              \n",
      " 0   id              8997 non-null   int64              \n",
      " 1   url             8997 non-null   object             \n",
      " 2   region          8997 non-null   category           \n",
      " 3   region_url      8997 non-null   category           \n",
      " 4   price           8997 non-null   int64              \n",
      " 5   year            8997 non-null   int32              \n",
      " 6   manufacturer    8997 non-null   category           \n",
      " 7   model           8997 non-null   object             \n",
      " 8   fuel            8997 non-null   category           \n",
      " 9   odometer        8997 non-null   int64              \n",
      " 10  title_status    8997 non-null   category           \n",
      " 11  transmission    8997 non-null   category           \n",
      " 12  image_url       8997 non-null   object             \n",
      " 13  description     8997 non-null   object             \n",
      " 14  state           8997 non-null   category           \n",
      " 15  lat             8997 non-null   float64            \n",
      " 16  long            8997 non-null   float64            \n",
      " 17  posting_date    8997 non-null   datetime64[ns, UTC]\n",
      " 18  price_category  8997 non-null   category           \n",
      " 19  date            8997 non-null   datetime64[ns, UTC]\n",
      "dtypes: category(8), datetime64[ns, UTC](2), float64(2), int32(1), int64(3), object(4)\n",
      "memory usage: 1001.5+ KB\n"
     ]
    }
   ],
   "source": [
    "df_clean.info()"
   ]
  },
  {
   "cell_type": "code",
   "execution_count": 441,
   "metadata": {},
   "outputs": [
    {
     "data": {
      "text/html": [
       "<div>\n",
       "<style scoped>\n",
       "    .dataframe tbody tr th:only-of-type {\n",
       "        vertical-align: middle;\n",
       "    }\n",
       "\n",
       "    .dataframe tbody tr th {\n",
       "        vertical-align: top;\n",
       "    }\n",
       "\n",
       "    .dataframe thead th {\n",
       "        text-align: right;\n",
       "    }\n",
       "</style>\n",
       "<table border=\"1\" class=\"dataframe\">\n",
       "  <thead>\n",
       "    <tr style=\"text-align: right;\">\n",
       "      <th></th>\n",
       "      <th>transmission</th>\n",
       "      <th>region</th>\n",
       "      <th>manufacturer</th>\n",
       "      <th>state</th>\n",
       "      <th>title_status</th>\n",
       "      <th>fuel</th>\n",
       "      <th>price_category</th>\n",
       "    </tr>\n",
       "  </thead>\n",
       "  <tbody>\n",
       "    <tr>\n",
       "      <th>0</th>\n",
       "      <td>other</td>\n",
       "      <td>chattanooga</td>\n",
       "      <td>ram</td>\n",
       "      <td>tn</td>\n",
       "      <td>clean</td>\n",
       "      <td>diesel</td>\n",
       "      <td>high</td>\n",
       "    </tr>\n",
       "    <tr>\n",
       "      <th>2</th>\n",
       "      <td>other</td>\n",
       "      <td>reno / tahoe</td>\n",
       "      <td>volkswagen</td>\n",
       "      <td>ca</td>\n",
       "      <td>clean</td>\n",
       "      <td>gas</td>\n",
       "      <td>high</td>\n",
       "    </tr>\n",
       "    <tr>\n",
       "      <th>3</th>\n",
       "      <td>automatic</td>\n",
       "      <td>fayetteville</td>\n",
       "      <td>toyota</td>\n",
       "      <td>nc</td>\n",
       "      <td>clean</td>\n",
       "      <td>gas</td>\n",
       "      <td>medium</td>\n",
       "    </tr>\n",
       "    <tr>\n",
       "      <th>4</th>\n",
       "      <td>automatic</td>\n",
       "      <td>new york city</td>\n",
       "      <td>nissan</td>\n",
       "      <td>ny</td>\n",
       "      <td>clean</td>\n",
       "      <td>gas</td>\n",
       "      <td>medium</td>\n",
       "    </tr>\n",
       "    <tr>\n",
       "      <th>5</th>\n",
       "      <td>other</td>\n",
       "      <td>knoxville</td>\n",
       "      <td>bmw</td>\n",
       "      <td>tn</td>\n",
       "      <td>clean</td>\n",
       "      <td>other</td>\n",
       "      <td>medium</td>\n",
       "    </tr>\n",
       "    <tr>\n",
       "      <th>...</th>\n",
       "      <td>...</td>\n",
       "      <td>...</td>\n",
       "      <td>...</td>\n",
       "      <td>...</td>\n",
       "      <td>...</td>\n",
       "      <td>...</td>\n",
       "      <td>...</td>\n",
       "    </tr>\n",
       "    <tr>\n",
       "      <th>9995</th>\n",
       "      <td>automatic</td>\n",
       "      <td>chautauqua</td>\n",
       "      <td>toyota</td>\n",
       "      <td>ny</td>\n",
       "      <td>clean</td>\n",
       "      <td>gas</td>\n",
       "      <td>low</td>\n",
       "    </tr>\n",
       "    <tr>\n",
       "      <th>9996</th>\n",
       "      <td>other</td>\n",
       "      <td>binghamton</td>\n",
       "      <td>jeep</td>\n",
       "      <td>ny</td>\n",
       "      <td>clean</td>\n",
       "      <td>gas</td>\n",
       "      <td>medium</td>\n",
       "    </tr>\n",
       "    <tr>\n",
       "      <th>9997</th>\n",
       "      <td>automatic</td>\n",
       "      <td>salem</td>\n",
       "      <td>audi</td>\n",
       "      <td>or</td>\n",
       "      <td>clean</td>\n",
       "      <td>gas</td>\n",
       "      <td>low</td>\n",
       "    </tr>\n",
       "    <tr>\n",
       "      <th>9998</th>\n",
       "      <td>automatic</td>\n",
       "      <td>madison</td>\n",
       "      <td>porsche</td>\n",
       "      <td>wi</td>\n",
       "      <td>clean</td>\n",
       "      <td>hybrid</td>\n",
       "      <td>high</td>\n",
       "    </tr>\n",
       "    <tr>\n",
       "      <th>9999</th>\n",
       "      <td>other</td>\n",
       "      <td>norfolk / hampton roads</td>\n",
       "      <td>ram</td>\n",
       "      <td>va</td>\n",
       "      <td>clean</td>\n",
       "      <td>gas</td>\n",
       "      <td>high</td>\n",
       "    </tr>\n",
       "  </tbody>\n",
       "</table>\n",
       "<p>8997 rows × 7 columns</p>\n",
       "</div>"
      ],
      "text/plain": [
       "     transmission                   region manufacturer state title_status  \\\n",
       "0           other              chattanooga          ram    tn        clean   \n",
       "2           other             reno / tahoe   volkswagen    ca        clean   \n",
       "3       automatic             fayetteville       toyota    nc        clean   \n",
       "4       automatic            new york city       nissan    ny        clean   \n",
       "5           other                knoxville          bmw    tn        clean   \n",
       "...           ...                      ...          ...   ...          ...   \n",
       "9995    automatic               chautauqua       toyota    ny        clean   \n",
       "9996        other               binghamton         jeep    ny        clean   \n",
       "9997    automatic                    salem         audi    or        clean   \n",
       "9998    automatic                  madison      porsche    wi        clean   \n",
       "9999        other  norfolk / hampton roads          ram    va        clean   \n",
       "\n",
       "        fuel price_category  \n",
       "0     diesel           high  \n",
       "2        gas           high  \n",
       "3        gas         medium  \n",
       "4        gas         medium  \n",
       "5      other         medium  \n",
       "...      ...            ...  \n",
       "9995     gas            low  \n",
       "9996     gas         medium  \n",
       "9997     gas            low  \n",
       "9998  hybrid           high  \n",
       "9999     gas           high  \n",
       "\n",
       "[8997 rows x 7 columns]"
      ]
     },
     "execution_count": 441,
     "metadata": {},
     "output_type": "execute_result"
    }
   ],
   "source": [
    "df_cat= df_clean[['transmission', 'region', 'manufacturer', 'state', 'title_status', 'fuel', 'price_category']]\n",
    "df_cat"
   ]
  },
  {
   "cell_type": "code",
   "execution_count": 442,
   "metadata": {
    "scrolled": true
   },
   "outputs": [
    {
     "name": "stdout",
     "output_type": "stream",
     "text": [
      "   transmission_automatic  transmission_manual  transmission_other  \\\n",
      "0                     0.0                  0.0                 1.0   \n",
      "1                     0.0                  0.0                 1.0   \n",
      "2                     1.0                  0.0                 0.0   \n",
      "3                     1.0                  0.0                 0.0   \n",
      "4                     0.0                  0.0                 1.0   \n",
      "\n",
      "   region_SF bay area  region_abilene  region_akron / canton  region_albany  \\\n",
      "0                 0.0             0.0                    0.0            0.0   \n",
      "1                 0.0             0.0                    0.0            0.0   \n",
      "2                 0.0             0.0                    0.0            0.0   \n",
      "3                 0.0             0.0                    0.0            0.0   \n",
      "4                 0.0             0.0                    0.0            0.0   \n",
      "\n",
      "   region_albuquerque  region_altoona-johnstown  region_amarillo  ...  \\\n",
      "0                 0.0                       0.0              0.0  ...   \n",
      "1                 0.0                       0.0              0.0  ...   \n",
      "2                 0.0                       0.0              0.0  ...   \n",
      "3                 0.0                       0.0              0.0  ...   \n",
      "4                 0.0                       0.0              0.0  ...   \n",
      "\n",
      "   title_status_rebuilt  title_status_salvage  fuel_diesel  fuel_electric  \\\n",
      "0                   0.0                   0.0          1.0            0.0   \n",
      "1                   0.0                   0.0          0.0            0.0   \n",
      "2                   0.0                   0.0          0.0            0.0   \n",
      "3                   0.0                   0.0          0.0            0.0   \n",
      "4                   0.0                   0.0          0.0            0.0   \n",
      "\n",
      "   fuel_gas  fuel_hybrid  fuel_other  price_category_high  price_category_low  \\\n",
      "0       0.0          0.0         0.0                  1.0                 0.0   \n",
      "1       1.0          0.0         0.0                  1.0                 0.0   \n",
      "2       1.0          0.0         0.0                  0.0                 0.0   \n",
      "3       1.0          0.0         0.0                  0.0                 0.0   \n",
      "4       0.0          0.0         1.0                  0.0                 0.0   \n",
      "\n",
      "   price_category_medium  \n",
      "0                    0.0  \n",
      "1                    0.0  \n",
      "2                    1.0  \n",
      "3                    1.0  \n",
      "4                    1.0  \n",
      "\n",
      "[5 rows x 498 columns]\n"
     ]
    }
   ],
   "source": [
    "ohe = OneHotEncoder(sparse_output=False)\n",
    "encoded_data = ohe.fit_transform(df_cat)\n",
    "\n",
    "categorical_columns = ['transmission', 'region', 'manufacturer', 'state', 'title_status', 'fuel', 'price_category']\n",
    "encoded_df = pd.DataFrame(encoded_data, columns=ohe.get_feature_names_out(categorical_columns))\n",
    "print(encoded_df.head())"
   ]
  },
  {
   "cell_type": "code",
   "execution_count": 443,
   "metadata": {},
   "outputs": [
    {
     "data": {
      "text/plain": [
       "(9905, 518)"
      ]
     },
     "execution_count": 443,
     "metadata": {},
     "output_type": "execute_result"
    }
   ],
   "source": [
    "df_clean = pd.concat([df_clean, encoded_df], axis=1)\n",
    "df_clean.shape"
   ]
  },
  {
   "cell_type": "markdown",
   "metadata": {
    "jp-MarkdownHeadingCollapsed": true
   },
   "source": [
    "### 3.2 Стандартизация данных"
   ]
  },
  {
   "cell_type": "code",
   "execution_count": 448,
   "metadata": {},
   "outputs": [
    {
     "data": {
      "text/html": [
       "<div>\n",
       "<style scoped>\n",
       "    .dataframe tbody tr th:only-of-type {\n",
       "        vertical-align: middle;\n",
       "    }\n",
       "\n",
       "    .dataframe tbody tr th {\n",
       "        vertical-align: top;\n",
       "    }\n",
       "\n",
       "    .dataframe thead th {\n",
       "        text-align: right;\n",
       "    }\n",
       "</style>\n",
       "<table border=\"1\" class=\"dataframe\">\n",
       "  <thead>\n",
       "    <tr style=\"text-align: right;\">\n",
       "      <th></th>\n",
       "      <th>price</th>\n",
       "      <th>long</th>\n",
       "      <th>year</th>\n",
       "      <th>odometer</th>\n",
       "      <th>lat</th>\n",
       "    </tr>\n",
       "  </thead>\n",
       "  <tbody>\n",
       "    <tr>\n",
       "      <th>0</th>\n",
       "      <td>54990.0</td>\n",
       "      <td>-85.250000</td>\n",
       "      <td>2020.0</td>\n",
       "      <td>27442.0</td>\n",
       "      <td>35.060000</td>\n",
       "    </tr>\n",
       "    <tr>\n",
       "      <th>2</th>\n",
       "      <td>35590.0</td>\n",
       "      <td>-84.411811</td>\n",
       "      <td>2017.0</td>\n",
       "      <td>14048.0</td>\n",
       "      <td>33.779214</td>\n",
       "    </tr>\n",
       "    <tr>\n",
       "      <th>3</th>\n",
       "      <td>14500.0</td>\n",
       "      <td>-78.655304</td>\n",
       "      <td>2013.0</td>\n",
       "      <td>117291.0</td>\n",
       "      <td>35.715954</td>\n",
       "    </tr>\n",
       "    <tr>\n",
       "      <th>4</th>\n",
       "      <td>21800.0</td>\n",
       "      <td>-73.609700</td>\n",
       "      <td>2021.0</td>\n",
       "      <td>8000.0</td>\n",
       "      <td>40.654800</td>\n",
       "    </tr>\n",
       "    <tr>\n",
       "      <th>5</th>\n",
       "      <td>14590.0</td>\n",
       "      <td>-83.940000</td>\n",
       "      <td>2012.0</td>\n",
       "      <td>80465.0</td>\n",
       "      <td>35.970000</td>\n",
       "    </tr>\n",
       "  </tbody>\n",
       "</table>\n",
       "</div>"
      ],
      "text/plain": [
       "     price       long    year  odometer        lat\n",
       "0  54990.0 -85.250000  2020.0   27442.0  35.060000\n",
       "2  35590.0 -84.411811  2017.0   14048.0  33.779214\n",
       "3  14500.0 -78.655304  2013.0  117291.0  35.715954\n",
       "4  21800.0 -73.609700  2021.0    8000.0  40.654800\n",
       "5  14590.0 -83.940000  2012.0   80465.0  35.970000"
      ]
     },
     "execution_count": 448,
     "metadata": {},
     "output_type": "execute_result"
    }
   ],
   "source": [
    "val_columns = ['price', 'long', 'year', 'odometer', 'lat']\n",
    "data = df_clean[val_columns]\n",
    "data.head()"
   ]
  },
  {
   "cell_type": "code",
   "execution_count": 452,
   "metadata": {},
   "outputs": [
    {
     "name": "stdout",
     "output_type": "stream",
     "text": [
      "   price_std  long_std  year_std  odometer_std   lat_std\n",
      "0   2.910561  0.475143  1.374734     -1.077316 -0.618355\n",
      "1   1.370200  0.522462  0.841096     -1.290227 -0.842959\n",
      "2  -0.304348  0.847442  0.129579      0.350928 -0.503324\n",
      "3   0.275273  1.132289  1.552614     -1.386367  0.362772\n",
      "4  -0.297202  0.549098 -0.048300     -0.234460 -0.458774\n",
      "(9905, 5)\n"
     ]
    }
   ],
   "source": [
    "std_scaler = StandardScaler()\n",
    "\n",
    "std_scaler.fit(data)\n",
    "std_scaled = std_scaler.transform(data)\n",
    "\n",
    "scaled_df = pd.DataFrame(std_scaled, columns=[f\"{col}_std\" for col in val_columns])\n",
    "print(scaled_df.head())\n",
    "print(scaled_df.shape)"
   ]
  },
  {
   "cell_type": "code",
   "execution_count": 457,
   "metadata": {},
   "outputs": [
    {
     "data": {
      "text/plain": [
       "(9989, 523)"
      ]
     },
     "execution_count": 457,
     "metadata": {},
     "output_type": "execute_result"
    }
   ],
   "source": [
    "df_clean = pd.concat([df_clean, scaled_df], axis=1)\n",
    "df_clean.shape"
   ]
  },
  {
   "cell_type": "markdown",
   "metadata": {
    "jp-MarkdownHeadingCollapsed": true
   },
   "source": [
    "### 3.3 Стандартизация дат"
   ]
  },
  {
   "cell_type": "code",
   "execution_count": 466,
   "metadata": {},
   "outputs": [],
   "source": [
    "df_clean['month'] = df_clean['date'].dt.month\n",
    "df_clean['dayofweek'] = df_clean['date'].dt.dayofweek\n",
    "df_clean['diff_years'] = df_clean['date'].dt.year - df_clean['year']"
   ]
  },
  {
   "cell_type": "code",
   "execution_count": 468,
   "metadata": {
    "scrolled": true
   },
   "outputs": [
    {
     "name": "stdout",
     "output_type": "stream",
     "text": [
      "      month_std  dayofweek_std  diff_years_std\n",
      "0     -0.613792       1.118566       -1.374734\n",
      "2     -0.613792      -0.378865       -0.841096\n",
      "3     -0.613792       1.118566       -0.129579\n",
      "4      1.629216      -1.377153       -1.552614\n",
      "5     -0.613792       0.120278        0.048300\n",
      "...         ...            ...             ...\n",
      "9840        NaN            NaN             NaN\n",
      "9849        NaN            NaN             NaN\n",
      "9856        NaN            NaN             NaN\n",
      "9859        NaN            NaN             NaN\n",
      "9886        NaN            NaN             NaN\n",
      "\n",
      "[9989 rows x 3 columns]\n"
     ]
    }
   ],
   "source": [
    "df_clean['month_std'] = std_scaler.fit_transform(df_clean[['month']])\n",
    "df_clean['dayofweek_std'] = std_scaler.fit_transform(df_clean[['dayofweek']])\n",
    "df_clean['diff_years_std'] = std_scaler.fit_transform(df_clean[['diff_years']])\n",
    "\n",
    "print(df_clean[['month_std', 'dayofweek_std', 'diff_years_std']])"
   ]
  },
  {
   "cell_type": "markdown",
   "metadata": {
    "jp-MarkdownHeadingCollapsed": true
   },
   "source": [
    "### 3.4 Удаление неинформативных строк"
   ]
  },
  {
   "cell_type": "code",
   "execution_count": 473,
   "metadata": {},
   "outputs": [
    {
     "data": {
      "text/plain": [
       "Index(['id', 'url', 'region', 'region_url', 'price', 'year', 'manufacturer',\n",
       "       'model', 'fuel', 'odometer', 'title_status', 'transmission',\n",
       "       'image_url', 'description', 'state', 'lat', 'long', 'posting_date',\n",
       "       'price_category', 'date'],\n",
       "      dtype='object')"
      ]
     },
     "execution_count": 473,
     "metadata": {},
     "output_type": "execute_result"
    }
   ],
   "source": [
    "df.columns"
   ]
  },
  {
   "cell_type": "code",
   "execution_count": 484,
   "metadata": {},
   "outputs": [
    {
     "data": {
      "text/html": [
       "<div>\n",
       "<style scoped>\n",
       "    .dataframe tbody tr th:only-of-type {\n",
       "        vertical-align: middle;\n",
       "    }\n",
       "\n",
       "    .dataframe tbody tr th {\n",
       "        vertical-align: top;\n",
       "    }\n",
       "\n",
       "    .dataframe thead th {\n",
       "        text-align: right;\n",
       "    }\n",
       "</style>\n",
       "<table border=\"1\" class=\"dataframe\">\n",
       "  <thead>\n",
       "    <tr style=\"text-align: right;\">\n",
       "      <th></th>\n",
       "      <th>id</th>\n",
       "      <th>price</th>\n",
       "      <th>price_category</th>\n",
       "      <th>transmission_automatic</th>\n",
       "      <th>transmission_manual</th>\n",
       "      <th>transmission_other</th>\n",
       "      <th>region_SF bay area</th>\n",
       "      <th>region_abilene</th>\n",
       "      <th>region_akron / canton</th>\n",
       "      <th>region_albany</th>\n",
       "      <th>...</th>\n",
       "      <th>price_category_low</th>\n",
       "      <th>price_category_medium</th>\n",
       "      <th>price_std</th>\n",
       "      <th>long_std</th>\n",
       "      <th>year_std</th>\n",
       "      <th>odometer_std</th>\n",
       "      <th>lat_std</th>\n",
       "      <th>month_std</th>\n",
       "      <th>dayofweek_std</th>\n",
       "      <th>diff_years_std</th>\n",
       "    </tr>\n",
       "  </thead>\n",
       "  <tbody>\n",
       "    <tr>\n",
       "      <th>0</th>\n",
       "      <td>7.308295e+09</td>\n",
       "      <td>54990.0</td>\n",
       "      <td>high</td>\n",
       "      <td>0.0</td>\n",
       "      <td>0.0</td>\n",
       "      <td>1.0</td>\n",
       "      <td>0.0</td>\n",
       "      <td>0.0</td>\n",
       "      <td>0.0</td>\n",
       "      <td>0.0</td>\n",
       "      <td>...</td>\n",
       "      <td>0.0</td>\n",
       "      <td>0.0</td>\n",
       "      <td>2.910561</td>\n",
       "      <td>0.475143</td>\n",
       "      <td>1.374734</td>\n",
       "      <td>-1.077316</td>\n",
       "      <td>-0.618355</td>\n",
       "      <td>-0.613792</td>\n",
       "      <td>1.118566</td>\n",
       "      <td>-1.374734</td>\n",
       "    </tr>\n",
       "    <tr>\n",
       "      <th>2</th>\n",
       "      <td>7.313734e+09</td>\n",
       "      <td>35590.0</td>\n",
       "      <td>high</td>\n",
       "      <td>1.0</td>\n",
       "      <td>0.0</td>\n",
       "      <td>0.0</td>\n",
       "      <td>0.0</td>\n",
       "      <td>0.0</td>\n",
       "      <td>0.0</td>\n",
       "      <td>0.0</td>\n",
       "      <td>...</td>\n",
       "      <td>0.0</td>\n",
       "      <td>1.0</td>\n",
       "      <td>-0.304348</td>\n",
       "      <td>0.847442</td>\n",
       "      <td>0.129579</td>\n",
       "      <td>0.350928</td>\n",
       "      <td>-0.503324</td>\n",
       "      <td>-0.613792</td>\n",
       "      <td>-0.378865</td>\n",
       "      <td>-0.841096</td>\n",
       "    </tr>\n",
       "    <tr>\n",
       "      <th>3</th>\n",
       "      <td>7.308211e+09</td>\n",
       "      <td>14500.0</td>\n",
       "      <td>medium</td>\n",
       "      <td>1.0</td>\n",
       "      <td>0.0</td>\n",
       "      <td>0.0</td>\n",
       "      <td>0.0</td>\n",
       "      <td>0.0</td>\n",
       "      <td>0.0</td>\n",
       "      <td>0.0</td>\n",
       "      <td>...</td>\n",
       "      <td>0.0</td>\n",
       "      <td>1.0</td>\n",
       "      <td>0.275273</td>\n",
       "      <td>1.132289</td>\n",
       "      <td>1.552614</td>\n",
       "      <td>-1.386367</td>\n",
       "      <td>0.362772</td>\n",
       "      <td>-0.613792</td>\n",
       "      <td>1.118566</td>\n",
       "      <td>-0.129579</td>\n",
       "    </tr>\n",
       "    <tr>\n",
       "      <th>4</th>\n",
       "      <td>7.316475e+09</td>\n",
       "      <td>21800.0</td>\n",
       "      <td>medium</td>\n",
       "      <td>0.0</td>\n",
       "      <td>0.0</td>\n",
       "      <td>1.0</td>\n",
       "      <td>0.0</td>\n",
       "      <td>0.0</td>\n",
       "      <td>0.0</td>\n",
       "      <td>0.0</td>\n",
       "      <td>...</td>\n",
       "      <td>0.0</td>\n",
       "      <td>1.0</td>\n",
       "      <td>-0.297202</td>\n",
       "      <td>0.549098</td>\n",
       "      <td>-0.048300</td>\n",
       "      <td>-0.234460</td>\n",
       "      <td>-0.458774</td>\n",
       "      <td>1.629216</td>\n",
       "      <td>-1.377153</td>\n",
       "      <td>-1.552614</td>\n",
       "    </tr>\n",
       "    <tr>\n",
       "      <th>5</th>\n",
       "      <td>7.303797e+09</td>\n",
       "      <td>14590.0</td>\n",
       "      <td>medium</td>\n",
       "      <td>1.0</td>\n",
       "      <td>0.0</td>\n",
       "      <td>0.0</td>\n",
       "      <td>0.0</td>\n",
       "      <td>0.0</td>\n",
       "      <td>0.0</td>\n",
       "      <td>0.0</td>\n",
       "      <td>...</td>\n",
       "      <td>1.0</td>\n",
       "      <td>0.0</td>\n",
       "      <td>-0.923669</td>\n",
       "      <td>-0.003918</td>\n",
       "      <td>0.485338</td>\n",
       "      <td>0.854975</td>\n",
       "      <td>0.488718</td>\n",
       "      <td>-0.613792</td>\n",
       "      <td>0.120278</td>\n",
       "      <td>0.048300</td>\n",
       "    </tr>\n",
       "    <tr>\n",
       "      <th>...</th>\n",
       "      <td>...</td>\n",
       "      <td>...</td>\n",
       "      <td>...</td>\n",
       "      <td>...</td>\n",
       "      <td>...</td>\n",
       "      <td>...</td>\n",
       "      <td>...</td>\n",
       "      <td>...</td>\n",
       "      <td>...</td>\n",
       "      <td>...</td>\n",
       "      <td>...</td>\n",
       "      <td>...</td>\n",
       "      <td>...</td>\n",
       "      <td>...</td>\n",
       "      <td>...</td>\n",
       "      <td>...</td>\n",
       "      <td>...</td>\n",
       "      <td>...</td>\n",
       "      <td>...</td>\n",
       "      <td>...</td>\n",
       "      <td>...</td>\n",
       "    </tr>\n",
       "    <tr>\n",
       "      <th>9840</th>\n",
       "      <td>NaN</td>\n",
       "      <td>NaN</td>\n",
       "      <td>NaN</td>\n",
       "      <td>NaN</td>\n",
       "      <td>NaN</td>\n",
       "      <td>NaN</td>\n",
       "      <td>NaN</td>\n",
       "      <td>NaN</td>\n",
       "      <td>NaN</td>\n",
       "      <td>NaN</td>\n",
       "      <td>...</td>\n",
       "      <td>NaN</td>\n",
       "      <td>NaN</td>\n",
       "      <td>NaN</td>\n",
       "      <td>NaN</td>\n",
       "      <td>NaN</td>\n",
       "      <td>NaN</td>\n",
       "      <td>NaN</td>\n",
       "      <td>NaN</td>\n",
       "      <td>NaN</td>\n",
       "      <td>NaN</td>\n",
       "    </tr>\n",
       "    <tr>\n",
       "      <th>9849</th>\n",
       "      <td>NaN</td>\n",
       "      <td>NaN</td>\n",
       "      <td>NaN</td>\n",
       "      <td>NaN</td>\n",
       "      <td>NaN</td>\n",
       "      <td>NaN</td>\n",
       "      <td>NaN</td>\n",
       "      <td>NaN</td>\n",
       "      <td>NaN</td>\n",
       "      <td>NaN</td>\n",
       "      <td>...</td>\n",
       "      <td>NaN</td>\n",
       "      <td>NaN</td>\n",
       "      <td>NaN</td>\n",
       "      <td>NaN</td>\n",
       "      <td>NaN</td>\n",
       "      <td>NaN</td>\n",
       "      <td>NaN</td>\n",
       "      <td>NaN</td>\n",
       "      <td>NaN</td>\n",
       "      <td>NaN</td>\n",
       "    </tr>\n",
       "    <tr>\n",
       "      <th>9856</th>\n",
       "      <td>NaN</td>\n",
       "      <td>NaN</td>\n",
       "      <td>NaN</td>\n",
       "      <td>NaN</td>\n",
       "      <td>NaN</td>\n",
       "      <td>NaN</td>\n",
       "      <td>NaN</td>\n",
       "      <td>NaN</td>\n",
       "      <td>NaN</td>\n",
       "      <td>NaN</td>\n",
       "      <td>...</td>\n",
       "      <td>NaN</td>\n",
       "      <td>NaN</td>\n",
       "      <td>NaN</td>\n",
       "      <td>NaN</td>\n",
       "      <td>NaN</td>\n",
       "      <td>NaN</td>\n",
       "      <td>NaN</td>\n",
       "      <td>NaN</td>\n",
       "      <td>NaN</td>\n",
       "      <td>NaN</td>\n",
       "    </tr>\n",
       "    <tr>\n",
       "      <th>9859</th>\n",
       "      <td>NaN</td>\n",
       "      <td>NaN</td>\n",
       "      <td>NaN</td>\n",
       "      <td>NaN</td>\n",
       "      <td>NaN</td>\n",
       "      <td>NaN</td>\n",
       "      <td>NaN</td>\n",
       "      <td>NaN</td>\n",
       "      <td>NaN</td>\n",
       "      <td>NaN</td>\n",
       "      <td>...</td>\n",
       "      <td>NaN</td>\n",
       "      <td>NaN</td>\n",
       "      <td>NaN</td>\n",
       "      <td>NaN</td>\n",
       "      <td>NaN</td>\n",
       "      <td>NaN</td>\n",
       "      <td>NaN</td>\n",
       "      <td>NaN</td>\n",
       "      <td>NaN</td>\n",
       "      <td>NaN</td>\n",
       "    </tr>\n",
       "    <tr>\n",
       "      <th>9886</th>\n",
       "      <td>NaN</td>\n",
       "      <td>NaN</td>\n",
       "      <td>NaN</td>\n",
       "      <td>NaN</td>\n",
       "      <td>NaN</td>\n",
       "      <td>NaN</td>\n",
       "      <td>NaN</td>\n",
       "      <td>NaN</td>\n",
       "      <td>NaN</td>\n",
       "      <td>NaN</td>\n",
       "      <td>...</td>\n",
       "      <td>NaN</td>\n",
       "      <td>NaN</td>\n",
       "      <td>NaN</td>\n",
       "      <td>NaN</td>\n",
       "      <td>NaN</td>\n",
       "      <td>NaN</td>\n",
       "      <td>NaN</td>\n",
       "      <td>NaN</td>\n",
       "      <td>NaN</td>\n",
       "      <td>NaN</td>\n",
       "    </tr>\n",
       "  </tbody>\n",
       "</table>\n",
       "<p>9989 rows × 509 columns</p>\n",
       "</div>"
      ],
      "text/plain": [
       "                id    price price_category  transmission_automatic  \\\n",
       "0     7.308295e+09  54990.0           high                     0.0   \n",
       "2     7.313734e+09  35590.0           high                     1.0   \n",
       "3     7.308211e+09  14500.0         medium                     1.0   \n",
       "4     7.316475e+09  21800.0         medium                     0.0   \n",
       "5     7.303797e+09  14590.0         medium                     1.0   \n",
       "...            ...      ...            ...                     ...   \n",
       "9840           NaN      NaN            NaN                     NaN   \n",
       "9849           NaN      NaN            NaN                     NaN   \n",
       "9856           NaN      NaN            NaN                     NaN   \n",
       "9859           NaN      NaN            NaN                     NaN   \n",
       "9886           NaN      NaN            NaN                     NaN   \n",
       "\n",
       "      transmission_manual  transmission_other  region_SF bay area  \\\n",
       "0                     0.0                 1.0                 0.0   \n",
       "2                     0.0                 0.0                 0.0   \n",
       "3                     0.0                 0.0                 0.0   \n",
       "4                     0.0                 1.0                 0.0   \n",
       "5                     0.0                 0.0                 0.0   \n",
       "...                   ...                 ...                 ...   \n",
       "9840                  NaN                 NaN                 NaN   \n",
       "9849                  NaN                 NaN                 NaN   \n",
       "9856                  NaN                 NaN                 NaN   \n",
       "9859                  NaN                 NaN                 NaN   \n",
       "9886                  NaN                 NaN                 NaN   \n",
       "\n",
       "      region_abilene  region_akron / canton  region_albany  ...  \\\n",
       "0                0.0                    0.0            0.0  ...   \n",
       "2                0.0                    0.0            0.0  ...   \n",
       "3                0.0                    0.0            0.0  ...   \n",
       "4                0.0                    0.0            0.0  ...   \n",
       "5                0.0                    0.0            0.0  ...   \n",
       "...              ...                    ...            ...  ...   \n",
       "9840             NaN                    NaN            NaN  ...   \n",
       "9849             NaN                    NaN            NaN  ...   \n",
       "9856             NaN                    NaN            NaN  ...   \n",
       "9859             NaN                    NaN            NaN  ...   \n",
       "9886             NaN                    NaN            NaN  ...   \n",
       "\n",
       "      price_category_low  price_category_medium  price_std  long_std  \\\n",
       "0                    0.0                    0.0   2.910561  0.475143   \n",
       "2                    0.0                    1.0  -0.304348  0.847442   \n",
       "3                    0.0                    1.0   0.275273  1.132289   \n",
       "4                    0.0                    1.0  -0.297202  0.549098   \n",
       "5                    1.0                    0.0  -0.923669 -0.003918   \n",
       "...                  ...                    ...        ...       ...   \n",
       "9840                 NaN                    NaN        NaN       NaN   \n",
       "9849                 NaN                    NaN        NaN       NaN   \n",
       "9856                 NaN                    NaN        NaN       NaN   \n",
       "9859                 NaN                    NaN        NaN       NaN   \n",
       "9886                 NaN                    NaN        NaN       NaN   \n",
       "\n",
       "      year_std  odometer_std   lat_std  month_std  dayofweek_std  \\\n",
       "0     1.374734     -1.077316 -0.618355  -0.613792       1.118566   \n",
       "2     0.129579      0.350928 -0.503324  -0.613792      -0.378865   \n",
       "3     1.552614     -1.386367  0.362772  -0.613792       1.118566   \n",
       "4    -0.048300     -0.234460 -0.458774   1.629216      -1.377153   \n",
       "5     0.485338      0.854975  0.488718  -0.613792       0.120278   \n",
       "...        ...           ...       ...        ...            ...   \n",
       "9840       NaN           NaN       NaN        NaN            NaN   \n",
       "9849       NaN           NaN       NaN        NaN            NaN   \n",
       "9856       NaN           NaN       NaN        NaN            NaN   \n",
       "9859       NaN           NaN       NaN        NaN            NaN   \n",
       "9886       NaN           NaN       NaN        NaN            NaN   \n",
       "\n",
       "      diff_years_std  \n",
       "0          -1.374734  \n",
       "2          -0.841096  \n",
       "3          -0.129579  \n",
       "4          -1.552614  \n",
       "5           0.048300  \n",
       "...              ...  \n",
       "9840             NaN  \n",
       "9849             NaN  \n",
       "9856             NaN  \n",
       "9859             NaN  \n",
       "9886             NaN  \n",
       "\n",
       "[9989 rows x 509 columns]"
      ]
     },
     "execution_count": 484,
     "metadata": {},
     "output_type": "execute_result"
    }
   ],
   "source": [
    "columns_for_drop = ['year', 'url', 'region', 'region_url', 'manufacturer',\n",
    "                    'model', 'fuel', 'odometer', 'title_status', 'transmission',\n",
    "                    'image_url', 'description', 'state', 'lat', 'long', 'posting_date', 'date',\n",
    "                    'month', 'dayofweek', 'diff_years']\n",
    "\n",
    "df_prepared = df_clean.drop(columns=columns_for_drop)\n",
    "df_prepared\n",
    "\n"
   ]
  },
  {
   "cell_type": "code",
   "execution_count": 498,
   "metadata": {
    "scrolled": true
   },
   "outputs": [
    {
     "name": "stdout",
     "output_type": "stream",
     "text": [
      "(8089, 509)\n",
      "Количество полностью заполненных объектов из всей выборки: 8089\n",
      "Процент полностью заполненных объектов из всей выборки: 100.0\n"
     ]
    }
   ],
   "source": [
    "for i in df_prepared.columns:\n",
    "    df_prepared = df_prepared[df_prepared[i].notna()]\n",
    "\n",
    "print(df_prepared.shape)\n",
    "print_useful_rows_info(df_prepared)\n",
    "#Не понимаю почему начали появляться дополнительные пустые строки"
   ]
  },
  {
   "cell_type": "code",
   "execution_count": 500,
   "metadata": {},
   "outputs": [],
   "source": [
    "df_prepared.to_csv('C:/Users/derna/OneDrive/Рабочий стол/дата аналитик/дз/Module_28/vehicles_dataset_prepared.csv', index=False)"
   ]
  },
  {
   "cell_type": "markdown",
   "metadata": {},
   "source": [
    "## 4. *Modelling*"
   ]
  },
  {
   "cell_type": "markdown",
   "metadata": {
    "jp-MarkdownHeadingCollapsed": true
   },
   "source": [
    "### 4.1 Подготовка"
   ]
  },
  {
   "cell_type": "code",
   "execution_count": 543,
   "metadata": {},
   "outputs": [],
   "source": [
    "df_prepared1 = df_prepared.copy()\n",
    "df_prepared1 = df_prepared1.drop(['price', 'id'], axis=1)\n",
    "\n",
    "x = df_prepared1.drop(['price_category'], axis=1)\n",
    "y = df_prepared1['price_category']\n",
    "\n",
    "train_x, test_x, train_y, test_y = train_test_split(x, y, test_size=0.3, random_state=42)"
   ]
  },
  {
   "cell_type": "markdown",
   "metadata": {
    "jp-MarkdownHeadingCollapsed": true
   },
   "source": [
    "### 4.2 Logistic regression"
   ]
  },
  {
   "cell_type": "code",
   "execution_count": 545,
   "metadata": {},
   "outputs": [],
   "source": [
    "logreg = LogisticRegression()"
   ]
  },
  {
   "cell_type": "code",
   "execution_count": 547,
   "metadata": {
    "scrolled": true
   },
   "outputs": [
    {
     "name": "stdout",
     "output_type": "stream",
     "text": [
      "0.5793160280181294\n",
      "[[591  60 158]\n",
      " [ 65 547 201]\n",
      " [343 194 268]]\n"
     ]
    },
    {
     "name": "stderr",
     "output_type": "stream",
     "text": [
      "C:\\anaconda3\\Lib\\site-packages\\sklearn\\linear_model\\_logistic.py:469: ConvergenceWarning: lbfgs failed to converge (status=1):\n",
      "STOP: TOTAL NO. of ITERATIONS REACHED LIMIT.\n",
      "\n",
      "Increase the number of iterations (max_iter) or scale the data as shown in:\n",
      "    https://scikit-learn.org/stable/modules/preprocessing.html\n",
      "Please also refer to the documentation for alternative solver options:\n",
      "    https://scikit-learn.org/stable/modules/linear_model.html#logistic-regression\n",
      "  n_iter_i = _check_optimize_result(\n"
     ]
    }
   ],
   "source": [
    "logreg.fit(train_x, train_y)\n",
    "pred = logreg.predict(test_x)\n",
    "\n",
    "print(accuracy_score(test_y, pred))\n",
    "print(confusion_matrix(test_y, pred))"
   ]
  },
  {
   "cell_type": "markdown",
   "metadata": {
    "jp-MarkdownHeadingCollapsed": true
   },
   "source": [
    "### 4.3 MLP"
   ]
  },
  {
   "cell_type": "code",
   "execution_count": 549,
   "metadata": {
    "scrolled": true
   },
   "outputs": [
    {
     "name": "stdout",
     "output_type": "stream",
     "text": [
      "Accuracy на тестовой выборке: 0.5100947672023074\n",
      "Accuracy на тренировочной выборке: 0.9966442953020134\n",
      "[[469  91 249]\n",
      " [111 476 226]\n",
      " [295 217 293]]\n"
     ]
    }
   ],
   "source": [
    "mlp = MLPClassifier(random_state=42, max_iter=500, hidden_layer_sizes=(100,50))\n",
    "mlp.fit(train_x, train_y)\n",
    "\n",
    "pred_mlp = mlp.predict(test_x)\n",
    "y_train_pred_mlp = mlp.predict(train_x)\n",
    "\n",
    "print(f'Accuracy на тестовой выборке: {accuracy_score(test_y, pred_mlp)}')\n",
    "print(f'Accuracy на тренировочной выборке: {accuracy_score(train_y, y_train_pred_mlp)}')\n",
    "print(confusion_matrix(test_y, pred_mlp))"
   ]
  },
  {
   "cell_type": "code",
   "execution_count": 551,
   "metadata": {
    "scrolled": true
   },
   "outputs": [
    {
     "name": "stdout",
     "output_type": "stream",
     "text": [
      "                      Feature  Importance\n",
      "84              region_dothan    1.230202\n",
      "486      title_status_missing    1.028640\n",
      "303        region_santa maria    0.995535\n",
      "144        region_hilton head    0.862894\n",
      "344         region_susanville    0.803188\n",
      "..                        ...         ...\n",
      "148      region_hudson valley   -0.738368\n",
      "221       region_monterey bay   -0.814498\n",
      "249   region_odessa / midland   -0.885335\n",
      "253  region_olympic peninsula   -1.007468\n",
      "505            diff_years_std   -1.354361\n",
      "\n",
      "[506 rows x 2 columns]\n"
     ]
    }
   ],
   "source": [
    "feature_importance = pd.DataFrame({'Feature': x.columns, 'Importance': logreg.coef_[0]})\n",
    "feature_importance = feature_importance.sort_values(by='Importance', ascending=False)\n",
    "print(feature_importance)"
   ]
  },
  {
   "cell_type": "markdown",
   "metadata": {
    "jp-MarkdownHeadingCollapsed": true
   },
   "source": [
    "### 4.4 Случайный лес"
   ]
  },
  {
   "cell_type": "code",
   "execution_count": 561,
   "metadata": {},
   "outputs": [
    {
     "name": "stdout",
     "output_type": "stream",
     "text": [
      "1.0\n",
      "0.5916769674495261\n"
     ]
    }
   ],
   "source": [
    "clf_rf = RandomForestClassifier(random_state=42)\n",
    "clf_rf.fit(train_x, train_y)\n",
    "\n",
    "predicted_train = clf_rf.predict(train_x)\n",
    "predicted_test = clf_rf.predict(test_x)\n",
    "\n",
    "print(accuracy_score(train_y, predicted_train))\n",
    "print(accuracy_score(test_y, predicted_test))"
   ]
  },
  {
   "cell_type": "markdown",
   "metadata": {
    "jp-MarkdownHeadingCollapsed": true
   },
   "source": [
    "### 4.5 Кросс-валидация"
   ]
  },
  {
   "cell_type": "code",
   "execution_count": 577,
   "metadata": {},
   "outputs": [
    {
     "name": "stderr",
     "output_type": "stream",
     "text": [
      "C:\\anaconda3\\Lib\\site-packages\\sklearn\\linear_model\\_logistic.py:469: ConvergenceWarning: lbfgs failed to converge (status=1):\n",
      "STOP: TOTAL NO. of ITERATIONS REACHED LIMIT.\n",
      "\n",
      "Increase the number of iterations (max_iter) or scale the data as shown in:\n",
      "    https://scikit-learn.org/stable/modules/preprocessing.html\n",
      "Please also refer to the documentation for alternative solver options:\n",
      "    https://scikit-learn.org/stable/modules/linear_model.html#logistic-regression\n",
      "  n_iter_i = _check_optimize_result(\n",
      "C:\\anaconda3\\Lib\\site-packages\\sklearn\\linear_model\\_logistic.py:469: ConvergenceWarning: lbfgs failed to converge (status=1):\n",
      "STOP: TOTAL NO. of ITERATIONS REACHED LIMIT.\n",
      "\n",
      "Increase the number of iterations (max_iter) or scale the data as shown in:\n",
      "    https://scikit-learn.org/stable/modules/preprocessing.html\n",
      "Please also refer to the documentation for alternative solver options:\n",
      "    https://scikit-learn.org/stable/modules/linear_model.html#logistic-regression\n",
      "  n_iter_i = _check_optimize_result(\n",
      "C:\\anaconda3\\Lib\\site-packages\\sklearn\\linear_model\\_logistic.py:469: ConvergenceWarning: lbfgs failed to converge (status=1):\n",
      "STOP: TOTAL NO. of ITERATIONS REACHED LIMIT.\n",
      "\n",
      "Increase the number of iterations (max_iter) or scale the data as shown in:\n",
      "    https://scikit-learn.org/stable/modules/preprocessing.html\n",
      "Please also refer to the documentation for alternative solver options:\n",
      "    https://scikit-learn.org/stable/modules/linear_model.html#logistic-regression\n",
      "  n_iter_i = _check_optimize_result(\n",
      "C:\\anaconda3\\Lib\\site-packages\\sklearn\\linear_model\\_logistic.py:469: ConvergenceWarning: lbfgs failed to converge (status=1):\n",
      "STOP: TOTAL NO. of ITERATIONS REACHED LIMIT.\n",
      "\n",
      "Increase the number of iterations (max_iter) or scale the data as shown in:\n",
      "    https://scikit-learn.org/stable/modules/preprocessing.html\n",
      "Please also refer to the documentation for alternative solver options:\n",
      "    https://scikit-learn.org/stable/modules/linear_model.html#logistic-regression\n",
      "  n_iter_i = _check_optimize_result(\n",
      "C:\\anaconda3\\Lib\\site-packages\\sklearn\\linear_model\\_logistic.py:469: ConvergenceWarning: lbfgs failed to converge (status=1):\n",
      "STOP: TOTAL NO. of ITERATIONS REACHED LIMIT.\n",
      "\n",
      "Increase the number of iterations (max_iter) or scale the data as shown in:\n",
      "    https://scikit-learn.org/stable/modules/preprocessing.html\n",
      "Please also refer to the documentation for alternative solver options:\n",
      "    https://scikit-learn.org/stable/modules/linear_model.html#logistic-regression\n",
      "  n_iter_i = _check_optimize_result(\n"
     ]
    },
    {
     "data": {
      "text/plain": [
       "array([0.57787392, 0.56736712, 0.57045735, 0.56674907, 0.59121831])"
      ]
     },
     "execution_count": 577,
     "metadata": {},
     "output_type": "execute_result"
    }
   ],
   "source": [
    "cv_score = cross_val_score(logreg, x, y, cv=5)\n",
    "cv_score"
   ]
  },
  {
   "cell_type": "code",
   "execution_count": 579,
   "metadata": {},
   "outputs": [
    {
     "name": "stderr",
     "output_type": "stream",
     "text": [
      "C:\\anaconda3\\Lib\\site-packages\\sklearn\\neural_network\\_multilayer_perceptron.py:698: UserWarning: Training interrupted by user.\n",
      "  warnings.warn(\"Training interrupted by user.\")\n"
     ]
    },
    {
     "data": {
      "text/plain": [
       "array([0.50988875, 0.50123609, 0.49134734, 0.47466007, 0.50649351])"
      ]
     },
     "execution_count": 579,
     "metadata": {},
     "output_type": "execute_result"
    }
   ],
   "source": [
    "cv_score1 = cross_val_score(mlp, x, y, cv=5)\n",
    "cv_score1"
   ]
  },
  {
   "cell_type": "code",
   "execution_count": 587,
   "metadata": {
    "scrolled": true
   },
   "outputs": [
    {
     "data": {
      "text/plain": [
       "array([0.60444994, 0.58467244, 0.59332509, 0.5710754 , 0.59616574])"
      ]
     },
     "execution_count": 587,
     "metadata": {},
     "output_type": "execute_result"
    }
   ],
   "source": [
    "cv_score2 = cross_val_score(clf_rf, x, y, cv=5)\n",
    "cv_score2"
   ]
  },
  {
   "cell_type": "markdown",
   "metadata": {},
   "source": [
    "## 5. *Results*"
   ]
  },
  {
   "cell_type": "code",
   "execution_count": 589,
   "metadata": {},
   "outputs": [],
   "source": [
    "#Лучшая модель Random Forest. Вижу что accuracy в районе 60 - это довольно мало. Не понимаю пока, почему так. Или это норм?\n",
    "#Тюнинг модели не делала, слишком долго грузит компьютер"
   ]
  },
  {
   "cell_type": "code",
   "execution_count": 601,
   "metadata": {},
   "outputs": [],
   "source": [
    "clf_rf.fit(x, y)\n",
    "\n",
    "predicted_all = clf_rf.predict(x)"
   ]
  },
  {
   "cell_type": "code",
   "execution_count": 602,
   "metadata": {},
   "outputs": [],
   "source": [
    "filename = 'model.pickle'\n",
    "\n",
    "with open(filename, 'wb') as file:\n",
    "  pickle.dump(clf_rf, file)"
   ]
  },
  {
   "cell_type": "code",
   "execution_count": null,
   "metadata": {},
   "outputs": [],
   "source": []
  }
 ],
 "metadata": {
  "colab": {
   "collapsed_sections": [
    "oTIytkb-P_fc",
    "aXJiblYGPnl7"
   ],
   "provenance": []
  },
  "kernelspec": {
   "display_name": "Python 3 (ipykernel)",
   "language": "python",
   "name": "python3"
  },
  "language_info": {
   "codemirror_mode": {
    "name": "ipython",
    "version": 3
   },
   "file_extension": ".py",
   "mimetype": "text/x-python",
   "name": "python",
   "nbconvert_exporter": "python",
   "pygments_lexer": "ipython3",
   "version": "3.12.4"
  }
 },
 "nbformat": 4,
 "nbformat_minor": 4
}
