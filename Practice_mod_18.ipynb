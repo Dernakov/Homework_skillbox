{
 "cells": [
  {
   "cell_type": "code",
   "execution_count": 11,
   "id": "1dfcb873-6824-43e9-b96e-40ded26b4bf9",
   "metadata": {},
   "outputs": [],
   "source": [
    "import pandas as pd"
   ]
  },
  {
   "cell_type": "code",
   "execution_count": null,
   "id": "21e63abc-4788-474b-9d1c-69684f5de24c",
   "metadata": {},
   "outputs": [],
   "source": []
  },
  {
   "cell_type": "code",
   "execution_count": null,
   "id": "3df627a4-6317-4f36-b2f3-9892ab3703a5",
   "metadata": {},
   "outputs": [],
   "source": []
  },
  {
   "cell_type": "code",
   "execution_count": 15,
   "id": "d964ba65-fb5d-434a-9149-5f55eb8c7c87",
   "metadata": {},
   "outputs": [],
   "source": [
    "#Задание 1"
   ]
  },
  {
   "cell_type": "code",
   "execution_count": 17,
   "id": "9447afc1-1bb2-484e-9c36-33ae37abd48d",
   "metadata": {},
   "outputs": [
    {
     "data": {
      "text/plain": [
       "(9902, 19)"
      ]
     },
     "execution_count": 17,
     "metadata": {},
     "output_type": "execute_result"
    }
   ],
   "source": [
    "df = pd.read_csv('df_clean_upd.csv')\n",
    "df.shape"
   ]
  },
  {
   "cell_type": "code",
   "execution_count": 18,
   "id": "a8dfed77-b76b-487e-ba58-03d36371c188",
   "metadata": {},
   "outputs": [
    {
     "name": "stdout",
     "output_type": "stream",
     "text": [
      "Количество полностью заполненных объектов из всей выборки: 9543\n",
      "Процент полностью заполненных объектов из всей выборки: 96.37\n"
     ]
    }
   ],
   "source": [
    "def print_useful_rows_info(df):\n",
    "    print('Количество полностью заполненных объектов из всей выборки:', \n",
    "          len(df.dropna()))\n",
    "    print('Процент полностью заполненных объектов из всей выборки:', \n",
    "          round(len(df.dropna()) / len(df) * 100, 2))\n",
    "    \n",
    "print_useful_rows_info(df)"
   ]
  },
  {
   "cell_type": "code",
   "execution_count": null,
   "id": "80719f6a-3e2b-447f-8f28-2b470bea9e7e",
   "metadata": {},
   "outputs": [],
   "source": []
  },
  {
   "cell_type": "code",
   "execution_count": null,
   "id": "861a7efb-dca0-4909-b0fb-c8255d2ae1b4",
   "metadata": {},
   "outputs": [],
   "source": []
  },
  {
   "cell_type": "code",
   "execution_count": 23,
   "id": "d5c425cf-62ea-40d7-ad0f-2628ad824a94",
   "metadata": {},
   "outputs": [],
   "source": [
    "#Задание 2"
   ]
  },
  {
   "cell_type": "code",
   "execution_count": 25,
   "id": "61402adb-542e-48ed-8afa-15e5c6cfef7d",
   "metadata": {},
   "outputs": [
    {
     "name": "stdout",
     "output_type": "stream",
     "text": [
      "Количество строк с незаполненным значением года выпуска: 34\n"
     ]
    }
   ],
   "source": [
    "print('Количество строк с незаполненным значением года выпуска:', \n",
    "          df[df.year.isna()].shape[0])"
   ]
  },
  {
   "cell_type": "code",
   "execution_count": 27,
   "id": "1f6b800b-8583-4b55-936b-2185db312873",
   "metadata": {},
   "outputs": [],
   "source": [
    "df = df[df.year.notna()]"
   ]
  },
  {
   "cell_type": "code",
   "execution_count": 29,
   "id": "a534cd27-bb5a-4037-ae59-adb5c63a8caf",
   "metadata": {},
   "outputs": [
    {
     "name": "stdout",
     "output_type": "stream",
     "text": [
      "Количество строк с незаполненным значением года выпуска: 0\n"
     ]
    }
   ],
   "source": [
    "print('Количество строк с незаполненным значением года выпуска:', \n",
    "          df[df.year.isna()].shape[0])"
   ]
  },
  {
   "cell_type": "code",
   "execution_count": null,
   "id": "771391b8-95c9-4e1f-aec5-8ef1a63e0305",
   "metadata": {},
   "outputs": [],
   "source": []
  },
  {
   "cell_type": "code",
   "execution_count": null,
   "id": "cb6a7cec-c613-4431-877a-6a58e2ba761f",
   "metadata": {},
   "outputs": [],
   "source": []
  },
  {
   "cell_type": "code",
   "execution_count": 33,
   "id": "d77edb5e-4035-4c93-a136-f361d48c7d8e",
   "metadata": {},
   "outputs": [],
   "source": [
    "#Задание 3"
   ]
  },
  {
   "cell_type": "code",
   "execution_count": 35,
   "id": "1214f158-1769-4fe8-8af8-fc7070122147",
   "metadata": {},
   "outputs": [
    {
     "data": {
      "text/plain": [
       "fuel\n",
       "gas         8298\n",
       "other        725\n",
       "diesel       643\n",
       "hybrid       104\n",
       "NaN           54\n",
       "electric      44\n",
       "Name: count, dtype: int64"
      ]
     },
     "execution_count": 35,
     "metadata": {},
     "output_type": "execute_result"
    }
   ],
   "source": [
    "df.fuel.value_counts(dropna=False)"
   ]
  },
  {
   "cell_type": "code",
   "execution_count": 37,
   "id": "592e9770-21b7-4cd5-8143-fb09e3f5c9d3",
   "metadata": {},
   "outputs": [],
   "source": [
    "df.fuel = df.fuel.fillna('other')"
   ]
  },
  {
   "cell_type": "code",
   "execution_count": 39,
   "id": "571064d3-7dad-442f-a5ec-be18114c514b",
   "metadata": {},
   "outputs": [
    {
     "data": {
      "text/plain": [
       "fuel\n",
       "gas         8298\n",
       "other        779\n",
       "diesel       643\n",
       "hybrid       104\n",
       "electric      44\n",
       "Name: count, dtype: int64"
      ]
     },
     "execution_count": 39,
     "metadata": {},
     "output_type": "execute_result"
    }
   ],
   "source": [
    "df.fuel.value_counts(dropna=False)"
   ]
  },
  {
   "cell_type": "code",
   "execution_count": null,
   "id": "0bb1098c-b1a5-4162-9624-e971f3a5829e",
   "metadata": {},
   "outputs": [],
   "source": []
  },
  {
   "cell_type": "code",
   "execution_count": null,
   "id": "93e13f08-90fc-435d-8a3f-9f2ee97e41cc",
   "metadata": {},
   "outputs": [],
   "source": []
  },
  {
   "cell_type": "code",
   "execution_count": 43,
   "id": "dd1e6dbe-0304-4946-aad3-16ce8d545973",
   "metadata": {},
   "outputs": [],
   "source": [
    "#Задание 4"
   ]
  },
  {
   "cell_type": "code",
   "execution_count": 45,
   "id": "53f10848-f94e-4a27-a101-4d9fcd76b48b",
   "metadata": {},
   "outputs": [
    {
     "name": "stdout",
     "output_type": "stream",
     "text": [
      "Количество строк с незаполненным значением модели автомобиля: 126\n"
     ]
    }
   ],
   "source": [
    "print('Количество строк с незаполненным значением модели автомобиля:', \n",
    "          df[df.model.isna()].shape[0])"
   ]
  },
  {
   "cell_type": "code",
   "execution_count": 47,
   "id": "3cc84cdd-da9a-4b5d-875f-9b062f0c254c",
   "metadata": {},
   "outputs": [
    {
     "data": {
      "text/plain": [
       "model\n",
       "f-150                        148\n",
       "NaN                          126\n",
       "silverado 1500               106\n",
       "1500                         100\n",
       "camry                         76\n",
       "                            ... \n",
       "sorrento lx v6                 1\n",
       "sierra1500 crewcab 4x4         1\n",
       "corolla se                     1\n",
       "xc60 t6 inscription sport      1\n",
       "a3 2.0t premium plus pzev      1\n",
       "Name: count, Length: 3438, dtype: int64"
      ]
     },
     "execution_count": 47,
     "metadata": {},
     "output_type": "execute_result"
    }
   ],
   "source": [
    "df['model'].value_counts(dropna=False)"
   ]
  },
  {
   "cell_type": "code",
   "execution_count": 49,
   "id": "574912b1-0e92-4443-99c0-34229776c5d8",
   "metadata": {},
   "outputs": [],
   "source": [
    "df.model = df.model.fillna('other')"
   ]
  },
  {
   "cell_type": "code",
   "execution_count": null,
   "id": "45e2e9cb-9604-4211-94b2-a58bb60e0a00",
   "metadata": {},
   "outputs": [],
   "source": []
  },
  {
   "cell_type": "code",
   "execution_count": null,
   "id": "0c0d7c21-e1b5-4447-b500-afc0a8006f5a",
   "metadata": {},
   "outputs": [],
   "source": []
  },
  {
   "cell_type": "code",
   "execution_count": 53,
   "id": "736b62bf-ef18-4b18-85f7-5265bbc391d5",
   "metadata": {},
   "outputs": [],
   "source": [
    "#Задание 5"
   ]
  },
  {
   "cell_type": "code",
   "execution_count": 55,
   "id": "ce730e5c-0867-4bca-9af2-ef6194aba076",
   "metadata": {},
   "outputs": [
    {
     "data": {
      "text/plain": [
       "title_status\n",
       "clean         9397\n",
       "rebuilt        168\n",
       "NaN            159\n",
       "salvage         91\n",
       "lien            35\n",
       "missing         16\n",
       "parts only       2\n",
       "Name: count, dtype: int64"
      ]
     },
     "execution_count": 55,
     "metadata": {},
     "output_type": "execute_result"
    }
   ],
   "source": [
    "df['title_status'].value_counts(dropna=False)"
   ]
  },
  {
   "cell_type": "code",
   "execution_count": 57,
   "id": "2afd4e8f-53d9-46e8-be9f-ce5d255ef220",
   "metadata": {},
   "outputs": [],
   "source": [
    "df = df[df.title_status.notna()]"
   ]
  },
  {
   "cell_type": "code",
   "execution_count": 59,
   "id": "9106227b-4501-441f-847c-04820e95452b",
   "metadata": {},
   "outputs": [
    {
     "data": {
      "text/plain": [
       "title_status\n",
       "clean         9397\n",
       "rebuilt        168\n",
       "salvage         91\n",
       "lien            35\n",
       "missing         16\n",
       "parts only       2\n",
       "Name: count, dtype: int64"
      ]
     },
     "execution_count": 59,
     "metadata": {},
     "output_type": "execute_result"
    }
   ],
   "source": [
    "df['title_status'].value_counts(dropna=False)"
   ]
  },
  {
   "cell_type": "code",
   "execution_count": 61,
   "id": "8f6dce1b-cc0f-4eee-a5e4-27889ef878e6",
   "metadata": {},
   "outputs": [
    {
     "name": "stdout",
     "output_type": "stream",
     "text": [
      "Количество полностью заполненных объектов из всей выборки: 9709\n",
      "Процент полностью заполненных объектов из всей выборки: 100.0\n"
     ]
    }
   ],
   "source": [
    "def print_useful_rows_info(df):\n",
    "    print('Количество полностью заполненных объектов из всей выборки:', \n",
    "          len(df.dropna()))\n",
    "    print('Процент полностью заполненных объектов из всей выборки:', \n",
    "          round(len(df.dropna()) / len(df) * 100, 2))\n",
    "    \n",
    "print_useful_rows_info(df)"
   ]
  },
  {
   "cell_type": "code",
   "execution_count": null,
   "id": "4eba62e6-9db1-48b1-87de-1f61768f34fb",
   "metadata": {},
   "outputs": [],
   "source": []
  },
  {
   "cell_type": "code",
   "execution_count": null,
   "id": "5d735a3e-ec7d-4bee-a752-65b93333769f",
   "metadata": {},
   "outputs": [],
   "source": []
  },
  {
   "cell_type": "code",
   "execution_count": 65,
   "id": "989a909f-71f9-4acb-b093-1ef27ce14ca7",
   "metadata": {},
   "outputs": [],
   "source": [
    "#Задание 6"
   ]
  },
  {
   "cell_type": "code",
   "execution_count": 67,
   "id": "fbbf0d7c-8e75-4bd7-8cfe-2eabb25c8fa2",
   "metadata": {},
   "outputs": [
    {
     "data": {
      "text/plain": [
       "dtype('int32')"
      ]
     },
     "execution_count": 67,
     "metadata": {},
     "output_type": "execute_result"
    }
   ],
   "source": [
    "df_upd = df.copy()\n",
    "df_upd['year'] = df_upd['year'].astype(int)\n",
    "df_upd['year'].dtype"
   ]
  },
  {
   "cell_type": "code",
   "execution_count": null,
   "id": "596eb823-02aa-48c5-bebc-fc466af41055",
   "metadata": {},
   "outputs": [],
   "source": []
  },
  {
   "cell_type": "code",
   "execution_count": null,
   "id": "f431253d-176a-4ffe-9600-3e6680f8810e",
   "metadata": {},
   "outputs": [],
   "source": []
  },
  {
   "cell_type": "code",
   "execution_count": 71,
   "id": "b0080303-96bc-4b83-a867-383d00660c61",
   "metadata": {},
   "outputs": [],
   "source": [
    "#Задание 7"
   ]
  },
  {
   "cell_type": "code",
   "execution_count": 73,
   "id": "b4ba273e-bcc6-4bb1-8cc6-00648dc66134",
   "metadata": {
    "scrolled": true
   },
   "outputs": [
    {
     "data": {
      "text/html": [
       "<div>\n",
       "<style scoped>\n",
       "    .dataframe tbody tr th:only-of-type {\n",
       "        vertical-align: middle;\n",
       "    }\n",
       "\n",
       "    .dataframe tbody tr th {\n",
       "        vertical-align: top;\n",
       "    }\n",
       "\n",
       "    .dataframe thead th {\n",
       "        text-align: right;\n",
       "    }\n",
       "</style>\n",
       "<table border=\"1\" class=\"dataframe\">\n",
       "  <thead>\n",
       "    <tr style=\"text-align: right;\">\n",
       "      <th></th>\n",
       "      <th>Column_Name</th>\n",
       "      <th>Num_Unique</th>\n",
       "    </tr>\n",
       "  </thead>\n",
       "  <tbody>\n",
       "    <tr>\n",
       "      <th>18</th>\n",
       "      <td>price_category</td>\n",
       "      <td>3</td>\n",
       "    </tr>\n",
       "    <tr>\n",
       "      <th>11</th>\n",
       "      <td>transmission</td>\n",
       "      <td>3</td>\n",
       "    </tr>\n",
       "    <tr>\n",
       "      <th>8</th>\n",
       "      <td>fuel</td>\n",
       "      <td>5</td>\n",
       "    </tr>\n",
       "    <tr>\n",
       "      <th>10</th>\n",
       "      <td>title_status</td>\n",
       "      <td>6</td>\n",
       "    </tr>\n",
       "    <tr>\n",
       "      <th>6</th>\n",
       "      <td>manufacturer</td>\n",
       "      <td>40</td>\n",
       "    </tr>\n",
       "    <tr>\n",
       "      <th>14</th>\n",
       "      <td>state</td>\n",
       "      <td>51</td>\n",
       "    </tr>\n",
       "    <tr>\n",
       "      <th>5</th>\n",
       "      <td>year</td>\n",
       "      <td>89</td>\n",
       "    </tr>\n",
       "    <tr>\n",
       "      <th>2</th>\n",
       "      <td>region</td>\n",
       "      <td>393</td>\n",
       "    </tr>\n",
       "    <tr>\n",
       "      <th>3</th>\n",
       "      <td>region_url</td>\n",
       "      <td>405</td>\n",
       "    </tr>\n",
       "    <tr>\n",
       "      <th>4</th>\n",
       "      <td>price</td>\n",
       "      <td>2130</td>\n",
       "    </tr>\n",
       "    <tr>\n",
       "      <th>7</th>\n",
       "      <td>model</td>\n",
       "      <td>3355</td>\n",
       "    </tr>\n",
       "    <tr>\n",
       "      <th>15</th>\n",
       "      <td>lat</td>\n",
       "      <td>4983</td>\n",
       "    </tr>\n",
       "    <tr>\n",
       "      <th>16</th>\n",
       "      <td>long</td>\n",
       "      <td>5016</td>\n",
       "    </tr>\n",
       "    <tr>\n",
       "      <th>9</th>\n",
       "      <td>odometer</td>\n",
       "      <td>6796</td>\n",
       "    </tr>\n",
       "    <tr>\n",
       "      <th>12</th>\n",
       "      <td>image_url</td>\n",
       "      <td>8815</td>\n",
       "    </tr>\n",
       "    <tr>\n",
       "      <th>13</th>\n",
       "      <td>description</td>\n",
       "      <td>9560</td>\n",
       "    </tr>\n",
       "    <tr>\n",
       "      <th>17</th>\n",
       "      <td>posting_date</td>\n",
       "      <td>9670</td>\n",
       "    </tr>\n",
       "    <tr>\n",
       "      <th>1</th>\n",
       "      <td>url</td>\n",
       "      <td>9709</td>\n",
       "    </tr>\n",
       "    <tr>\n",
       "      <th>0</th>\n",
       "      <td>id</td>\n",
       "      <td>9709</td>\n",
       "    </tr>\n",
       "  </tbody>\n",
       "</table>\n",
       "</div>"
      ],
      "text/plain": [
       "       Column_Name  Num_Unique\n",
       "18  price_category           3\n",
       "11    transmission           3\n",
       "8             fuel           5\n",
       "10    title_status           6\n",
       "6     manufacturer          40\n",
       "14           state          51\n",
       "5             year          89\n",
       "2           region         393\n",
       "3       region_url         405\n",
       "4            price        2130\n",
       "7            model        3355\n",
       "15             lat        4983\n",
       "16            long        5016\n",
       "9         odometer        6796\n",
       "12       image_url        8815\n",
       "13     description        9560\n",
       "17    posting_date        9670\n",
       "1              url        9709\n",
       "0               id        9709"
      ]
     },
     "execution_count": 73,
     "metadata": {},
     "output_type": "execute_result"
    }
   ],
   "source": [
    "unique_counts = df_upd.from_records([(col, df_upd[col].nunique()) for col in df_upd.columns],\n",
    "                                          columns=['Column_Name', 'Num_Unique']).sort_values(by=['Num_Unique'])\n",
    "unique_counts"
   ]
  },
  {
   "cell_type": "code",
   "execution_count": 74,
   "id": "7f2dfa53-190e-48ee-8001-364a2932c1c4",
   "metadata": {},
   "outputs": [],
   "source": [
    "\n",
    "cols_to_exclude = ['year']\n",
    "\n",
    "for col in df_upd.columns:\n",
    "    if df_upd[col].nunique() < 406 and col not in cols_to_exclude:\n",
    "        df_upd[col] = df_upd[col].astype('category')"
   ]
  },
  {
   "cell_type": "code",
   "execution_count": 77,
   "id": "31f0b4c6-3a3d-4dd5-9977-ad58910bc96f",
   "metadata": {},
   "outputs": [
    {
     "name": "stdout",
     "output_type": "stream",
     "text": [
      "<class 'pandas.core.frame.DataFrame'>\n",
      "Index: 9709 entries, 0 to 9901\n",
      "Data columns (total 19 columns):\n",
      " #   Column          Non-Null Count  Dtype   \n",
      "---  ------          --------------  -----   \n",
      " 0   id              9709 non-null   int64   \n",
      " 1   url             9709 non-null   object  \n",
      " 2   region          9709 non-null   category\n",
      " 3   region_url      9709 non-null   category\n",
      " 4   price           9709 non-null   int64   \n",
      " 5   year            9709 non-null   int32   \n",
      " 6   manufacturer    9709 non-null   category\n",
      " 7   model           9709 non-null   object  \n",
      " 8   fuel            9709 non-null   category\n",
      " 9   odometer        9709 non-null   float64 \n",
      " 10  title_status    9709 non-null   category\n",
      " 11  transmission    9709 non-null   category\n",
      " 12  image_url       9709 non-null   object  \n",
      " 13  description     9709 non-null   object  \n",
      " 14  state           9709 non-null   category\n",
      " 15  lat             9709 non-null   float64 \n",
      " 16  long            9709 non-null   float64 \n",
      " 17  posting_date    9709 non-null   object  \n",
      " 18  price_category  9709 non-null   category\n",
      "dtypes: category(8), float64(3), int32(1), int64(2), object(5)\n",
      "memory usage: 1002.1+ KB\n"
     ]
    }
   ],
   "source": [
    "df_upd.info()"
   ]
  },
  {
   "cell_type": "code",
   "execution_count": null,
   "id": "6e40f211-a776-4e5f-a3ac-951f3841683d",
   "metadata": {},
   "outputs": [],
   "source": []
  },
  {
   "cell_type": "code",
   "execution_count": null,
   "id": "d4e9d226-cca1-46c2-978d-4a92beeda8a9",
   "metadata": {},
   "outputs": [],
   "source": []
  },
  {
   "cell_type": "code",
   "execution_count": 81,
   "id": "d2f73a22-eafb-42b4-99d8-15b857a28538",
   "metadata": {},
   "outputs": [],
   "source": [
    "#Задание 8"
   ]
  },
  {
   "cell_type": "code",
   "execution_count": 83,
   "id": "e11f6f5c-4444-4e5f-a429-346c083b3d48",
   "metadata": {},
   "outputs": [
    {
     "data": {
      "text/plain": [
       "count    9709.000000\n",
       "mean     2010.894222\n",
       "std         9.759301\n",
       "min      1915.000000\n",
       "25%      2008.000000\n",
       "50%      2013.000000\n",
       "75%      2017.000000\n",
       "max      2022.000000\n",
       "Name: year, dtype: float64"
      ]
     },
     "execution_count": 83,
     "metadata": {},
     "output_type": "execute_result"
    }
   ],
   "source": [
    "df_upd.year.describe()"
   ]
  },
  {
   "cell_type": "code",
   "execution_count": 85,
   "id": "05979b4e-2313-442f-9bc1-6439b3b01b95",
   "metadata": {
    "scrolled": true
   },
   "outputs": [
    {
     "data": {
      "text/plain": [
       "(1994, 2030)"
      ]
     },
     "execution_count": 85,
     "metadata": {},
     "output_type": "execute_result"
    }
   ],
   "source": [
    "def calculate_outliers(data):\n",
    "    q25 = data.quantile(0.25)\n",
    "    q75 = data.quantile(0.75)\n",
    "    iqr = q75 - q25\n",
    "    boundaries = (int(q25 - 1.5 * iqr), int(q75 + 1.5 * iqr))\n",
    "\n",
    "    return boundaries\n",
    "\n",
    "boundaries = calculate_outliers(df_upd.year)\n",
    "boundaries"
   ]
  },
  {
   "cell_type": "code",
   "execution_count": 87,
   "id": "13ddb4fc-d364-4fce-b34d-30656161dd66",
   "metadata": {},
   "outputs": [
    {
     "name": "stdout",
     "output_type": "stream",
     "text": [
      "Количество выбросов в значении года выпуска: 365\n",
      "Процент выбросов от всей выборки: 3.7593984962406015 %\n"
     ]
    }
   ],
   "source": [
    "is_outlier = (df_upd.year < boundaries[0]) | (df_upd.year > boundaries[1])\n",
    "\n",
    "print('Количество выбросов в значении года выпуска:', is_outlier.sum())\n",
    "\n",
    "print('Процент выбросов от всей выборки:', is_outlier.sum() / len(df_upd)*100, '%')"
   ]
  },
  {
   "cell_type": "code",
   "execution_count": 89,
   "id": "92692399-9c2a-481d-b0c2-0bb8697b93bc",
   "metadata": {
    "scrolled": true
   },
   "outputs": [
    {
     "data": {
      "text/html": [
       "<div>\n",
       "<style scoped>\n",
       "    .dataframe tbody tr th:only-of-type {\n",
       "        vertical-align: middle;\n",
       "    }\n",
       "\n",
       "    .dataframe tbody tr th {\n",
       "        vertical-align: top;\n",
       "    }\n",
       "\n",
       "    .dataframe thead th {\n",
       "        text-align: right;\n",
       "    }\n",
       "</style>\n",
       "<table border=\"1\" class=\"dataframe\">\n",
       "  <thead>\n",
       "    <tr style=\"text-align: right;\">\n",
       "      <th></th>\n",
       "      <th>id</th>\n",
       "      <th>url</th>\n",
       "      <th>region</th>\n",
       "      <th>region_url</th>\n",
       "      <th>price</th>\n",
       "      <th>year</th>\n",
       "      <th>manufacturer</th>\n",
       "      <th>model</th>\n",
       "      <th>fuel</th>\n",
       "      <th>odometer</th>\n",
       "      <th>title_status</th>\n",
       "      <th>transmission</th>\n",
       "      <th>image_url</th>\n",
       "      <th>description</th>\n",
       "      <th>state</th>\n",
       "      <th>lat</th>\n",
       "      <th>long</th>\n",
       "      <th>posting_date</th>\n",
       "      <th>price_category</th>\n",
       "    </tr>\n",
       "  </thead>\n",
       "  <tbody>\n",
       "    <tr>\n",
       "      <th>21</th>\n",
       "      <td>7312327909</td>\n",
       "      <td>https://madison.craigslist.org/cto/d/madison-1...</td>\n",
       "      <td>madison</td>\n",
       "      <td>https://madison.craigslist.org</td>\n",
       "      <td>89995</td>\n",
       "      <td>1970</td>\n",
       "      <td>other</td>\n",
       "      <td>oldsmobile 442</td>\n",
       "      <td>gas</td>\n",
       "      <td>111111.0</td>\n",
       "      <td>clean</td>\n",
       "      <td>automatic</td>\n",
       "      <td>https://images.craigslist.org/00S0S_agk7Nol4CO...</td>\n",
       "      <td>1970 Oldsmobile 442 Convertible 442 Indy Pace ...</td>\n",
       "      <td>wi</td>\n",
       "      <td>43.098400</td>\n",
       "      <td>-89.273400</td>\n",
       "      <td>2021-04-25T10:10:43-0500</td>\n",
       "      <td>high</td>\n",
       "    </tr>\n",
       "    <tr>\n",
       "      <th>57</th>\n",
       "      <td>7314413105</td>\n",
       "      <td>https://inlandempire.craigslist.org/ctd/d/cost...</td>\n",
       "      <td>inland empire</td>\n",
       "      <td>https://inlandempire.craigslist.org</td>\n",
       "      <td>69888</td>\n",
       "      <td>1948</td>\n",
       "      <td>ford</td>\n",
       "      <td>coe</td>\n",
       "      <td>gas</td>\n",
       "      <td>1.0</td>\n",
       "      <td>clean</td>\n",
       "      <td>automatic</td>\n",
       "      <td>https://images.craigslist.org/00M0M_8jgBCZZuG6...</td>\n",
       "      <td>Awesome Resto-Mod COE Ford Car Hauler. Equippe...</td>\n",
       "      <td>ca</td>\n",
       "      <td>33.680100</td>\n",
       "      <td>-117.908500</td>\n",
       "      <td>2021-04-29T10:49:29-0700</td>\n",
       "      <td>high</td>\n",
       "    </tr>\n",
       "    <tr>\n",
       "      <th>66</th>\n",
       "      <td>7310077530</td>\n",
       "      <td>https://hudsonvalley.craigslist.org/cto/d/bloo...</td>\n",
       "      <td>hudson valley</td>\n",
       "      <td>https://hudsonvalley.craigslist.org</td>\n",
       "      <td>5500</td>\n",
       "      <td>1990</td>\n",
       "      <td>other</td>\n",
       "      <td>Diahatsu</td>\n",
       "      <td>gas</td>\n",
       "      <td>30000.0</td>\n",
       "      <td>clean</td>\n",
       "      <td>manual</td>\n",
       "      <td>https://images.craigslist.org/00T0T_a4VRbx40ea...</td>\n",
       "      <td>1991 Daihatsu hijet 5 speed extended cab....im...</td>\n",
       "      <td>ny</td>\n",
       "      <td>41.564400</td>\n",
       "      <td>-74.430400</td>\n",
       "      <td>2021-04-20T18:30:18-0400</td>\n",
       "      <td>low</td>\n",
       "    </tr>\n",
       "    <tr>\n",
       "      <th>106</th>\n",
       "      <td>7314527175</td>\n",
       "      <td>https://rapidcity.craigslist.org/ctd/d/sherman...</td>\n",
       "      <td>rapid city / west SD</td>\n",
       "      <td>https://rapidcity.craigslist.org</td>\n",
       "      <td>43500</td>\n",
       "      <td>1968</td>\n",
       "      <td>chevrolet</td>\n",
       "      <td>camaro</td>\n",
       "      <td>gas</td>\n",
       "      <td>43320.0</td>\n",
       "      <td>clean</td>\n",
       "      <td>manual</td>\n",
       "      <td>https://images.craigslist.org/00h0h_2N66LMJBAI...</td>\n",
       "      <td>1968 Chevrolet Camaro Convertible. VIN:124678N...</td>\n",
       "      <td>sd</td>\n",
       "      <td>33.637200</td>\n",
       "      <td>-96.618400</td>\n",
       "      <td>2021-04-29T15:11:01-0600</td>\n",
       "      <td>high</td>\n",
       "    </tr>\n",
       "    <tr>\n",
       "      <th>143</th>\n",
       "      <td>7316938454</td>\n",
       "      <td>https://duluth.craigslist.org/cto/d/calumet-83...</td>\n",
       "      <td>duluth / superior</td>\n",
       "      <td>https://duluth.craigslist.org</td>\n",
       "      <td>4000</td>\n",
       "      <td>1983</td>\n",
       "      <td>chevrolet</td>\n",
       "      <td>c10 short box</td>\n",
       "      <td>gas</td>\n",
       "      <td>0.0</td>\n",
       "      <td>clean</td>\n",
       "      <td>automatic</td>\n",
       "      <td>https://images.craigslist.org/00P0P_6I2TfYDHbN...</td>\n",
       "      <td>Arizona  project started. new 350 4 bolt main ...</td>\n",
       "      <td>mn</td>\n",
       "      <td>47.394400</td>\n",
       "      <td>-93.246200</td>\n",
       "      <td>2021-05-04T15:55:58-0500</td>\n",
       "      <td>low</td>\n",
       "    </tr>\n",
       "    <tr>\n",
       "      <th>...</th>\n",
       "      <td>...</td>\n",
       "      <td>...</td>\n",
       "      <td>...</td>\n",
       "      <td>...</td>\n",
       "      <td>...</td>\n",
       "      <td>...</td>\n",
       "      <td>...</td>\n",
       "      <td>...</td>\n",
       "      <td>...</td>\n",
       "      <td>...</td>\n",
       "      <td>...</td>\n",
       "      <td>...</td>\n",
       "      <td>...</td>\n",
       "      <td>...</td>\n",
       "      <td>...</td>\n",
       "      <td>...</td>\n",
       "      <td>...</td>\n",
       "      <td>...</td>\n",
       "      <td>...</td>\n",
       "    </tr>\n",
       "    <tr>\n",
       "      <th>9762</th>\n",
       "      <td>7316395713</td>\n",
       "      <td>https://seattle.craigslist.org/see/ctd/d/sherm...</td>\n",
       "      <td>seattle-tacoma</td>\n",
       "      <td>https://seattle.craigslist.org</td>\n",
       "      <td>35500</td>\n",
       "      <td>1965</td>\n",
       "      <td>pontiac</td>\n",
       "      <td>gto</td>\n",
       "      <td>gas</td>\n",
       "      <td>61009.0</td>\n",
       "      <td>clean</td>\n",
       "      <td>manual</td>\n",
       "      <td>https://images.craigslist.org/00C0C_k6h7Uzc55e...</td>\n",
       "      <td>1965 Pontiac GTO. VIN: 237375P248569. True GTO...</td>\n",
       "      <td>wa</td>\n",
       "      <td>33.637200</td>\n",
       "      <td>-96.618400</td>\n",
       "      <td>2021-05-03T13:06:11-0700</td>\n",
       "      <td>high</td>\n",
       "    </tr>\n",
       "    <tr>\n",
       "      <th>9789</th>\n",
       "      <td>7313487583</td>\n",
       "      <td>https://springfield.craigslist.org/cto/d/mount...</td>\n",
       "      <td>springfield</td>\n",
       "      <td>https://springfield.craigslist.org</td>\n",
       "      <td>3500</td>\n",
       "      <td>1974</td>\n",
       "      <td>jeep</td>\n",
       "      <td>cj5</td>\n",
       "      <td>gas</td>\n",
       "      <td>10000.0</td>\n",
       "      <td>clean</td>\n",
       "      <td>manual</td>\n",
       "      <td>https://images.craigslist.org/00G0G_cdxzaTaVqa...</td>\n",
       "      <td>1974 Jeep cj5  304 v8  4speed manual trans  Da...</td>\n",
       "      <td>mo</td>\n",
       "      <td>36.331200</td>\n",
       "      <td>-92.375300</td>\n",
       "      <td>2021-04-27T14:30:28-0500</td>\n",
       "      <td>low</td>\n",
       "    </tr>\n",
       "    <tr>\n",
       "      <th>9846</th>\n",
       "      <td>7313676859</td>\n",
       "      <td>https://reno.craigslist.org/ctd/d/sherman-1984...</td>\n",
       "      <td>reno / tahoe</td>\n",
       "      <td>https://reno.craigslist.org</td>\n",
       "      <td>26500</td>\n",
       "      <td>1984</td>\n",
       "      <td>chevrolet</td>\n",
       "      <td>silverado</td>\n",
       "      <td>gas</td>\n",
       "      <td>38751.0</td>\n",
       "      <td>clean</td>\n",
       "      <td>automatic</td>\n",
       "      <td>https://images.craigslist.org/00r0r_czXfi4UeJF...</td>\n",
       "      <td>1984 Chevrolet C10 Silverado, short wheelbase ...</td>\n",
       "      <td>ca</td>\n",
       "      <td>33.637200</td>\n",
       "      <td>-96.618400</td>\n",
       "      <td>2021-04-27T19:44:27-0700</td>\n",
       "      <td>high</td>\n",
       "    </tr>\n",
       "    <tr>\n",
       "      <th>9874</th>\n",
       "      <td>7316458200</td>\n",
       "      <td>https://portland.craigslist.org/mlt/cto/d/port...</td>\n",
       "      <td>portland</td>\n",
       "      <td>https://portland.craigslist.org</td>\n",
       "      <td>18500</td>\n",
       "      <td>1972</td>\n",
       "      <td>chevrolet</td>\n",
       "      <td>other</td>\n",
       "      <td>gas</td>\n",
       "      <td>75000.0</td>\n",
       "      <td>clean</td>\n",
       "      <td>automatic</td>\n",
       "      <td>https://images.craigslist.org/00x0x_7FqS8iHJst...</td>\n",
       "      <td>1972 classic Chevrolet pick up custom  deluxe ...</td>\n",
       "      <td>or</td>\n",
       "      <td>45.494960</td>\n",
       "      <td>-122.666988</td>\n",
       "      <td>2021-05-03T14:58:34-0700</td>\n",
       "      <td>medium</td>\n",
       "    </tr>\n",
       "    <tr>\n",
       "      <th>9892</th>\n",
       "      <td>7316175335</td>\n",
       "      <td>https://orangecounty.craigslist.org/cto/d/hunt...</td>\n",
       "      <td>orange county</td>\n",
       "      <td>https://orangecounty.craigslist.org</td>\n",
       "      <td>1575</td>\n",
       "      <td>1988</td>\n",
       "      <td>other</td>\n",
       "      <td>1988 Nisan</td>\n",
       "      <td>gas</td>\n",
       "      <td>120000.0</td>\n",
       "      <td>clean</td>\n",
       "      <td>manual</td>\n",
       "      <td>https://images.craigslist.org/00B0B_5t6BpiGoz9...</td>\n",
       "      <td>Really good running 88 Nissan. Has Sun roof. B...</td>\n",
       "      <td>ca</td>\n",
       "      <td>33.654019</td>\n",
       "      <td>-117.980606</td>\n",
       "      <td>2021-05-03T07:19:18-0700</td>\n",
       "      <td>low</td>\n",
       "    </tr>\n",
       "  </tbody>\n",
       "</table>\n",
       "<p>365 rows × 19 columns</p>\n",
       "</div>"
      ],
      "text/plain": [
       "              id                                                url  \\\n",
       "21    7312327909  https://madison.craigslist.org/cto/d/madison-1...   \n",
       "57    7314413105  https://inlandempire.craigslist.org/ctd/d/cost...   \n",
       "66    7310077530  https://hudsonvalley.craigslist.org/cto/d/bloo...   \n",
       "106   7314527175  https://rapidcity.craigslist.org/ctd/d/sherman...   \n",
       "143   7316938454  https://duluth.craigslist.org/cto/d/calumet-83...   \n",
       "...          ...                                                ...   \n",
       "9762  7316395713  https://seattle.craigslist.org/see/ctd/d/sherm...   \n",
       "9789  7313487583  https://springfield.craigslist.org/cto/d/mount...   \n",
       "9846  7313676859  https://reno.craigslist.org/ctd/d/sherman-1984...   \n",
       "9874  7316458200  https://portland.craigslist.org/mlt/cto/d/port...   \n",
       "9892  7316175335  https://orangecounty.craigslist.org/cto/d/hunt...   \n",
       "\n",
       "                    region                           region_url  price  year  \\\n",
       "21                 madison       https://madison.craigslist.org  89995  1970   \n",
       "57           inland empire  https://inlandempire.craigslist.org  69888  1948   \n",
       "66           hudson valley  https://hudsonvalley.craigslist.org   5500  1990   \n",
       "106   rapid city / west SD     https://rapidcity.craigslist.org  43500  1968   \n",
       "143      duluth / superior        https://duluth.craigslist.org   4000  1983   \n",
       "...                    ...                                  ...    ...   ...   \n",
       "9762        seattle-tacoma       https://seattle.craigslist.org  35500  1965   \n",
       "9789           springfield   https://springfield.craigslist.org   3500  1974   \n",
       "9846          reno / tahoe          https://reno.craigslist.org  26500  1984   \n",
       "9874              portland      https://portland.craigslist.org  18500  1972   \n",
       "9892         orange county  https://orangecounty.craigslist.org   1575  1988   \n",
       "\n",
       "     manufacturer           model fuel  odometer title_status transmission  \\\n",
       "21          other  oldsmobile 442  gas  111111.0        clean    automatic   \n",
       "57           ford             coe  gas       1.0        clean    automatic   \n",
       "66          other        Diahatsu  gas   30000.0        clean       manual   \n",
       "106     chevrolet          camaro  gas   43320.0        clean       manual   \n",
       "143     chevrolet   c10 short box  gas       0.0        clean    automatic   \n",
       "...           ...             ...  ...       ...          ...          ...   \n",
       "9762      pontiac             gto  gas   61009.0        clean       manual   \n",
       "9789         jeep             cj5  gas   10000.0        clean       manual   \n",
       "9846    chevrolet       silverado  gas   38751.0        clean    automatic   \n",
       "9874    chevrolet           other  gas   75000.0        clean    automatic   \n",
       "9892        other      1988 Nisan  gas  120000.0        clean       manual   \n",
       "\n",
       "                                              image_url  \\\n",
       "21    https://images.craigslist.org/00S0S_agk7Nol4CO...   \n",
       "57    https://images.craigslist.org/00M0M_8jgBCZZuG6...   \n",
       "66    https://images.craigslist.org/00T0T_a4VRbx40ea...   \n",
       "106   https://images.craigslist.org/00h0h_2N66LMJBAI...   \n",
       "143   https://images.craigslist.org/00P0P_6I2TfYDHbN...   \n",
       "...                                                 ...   \n",
       "9762  https://images.craigslist.org/00C0C_k6h7Uzc55e...   \n",
       "9789  https://images.craigslist.org/00G0G_cdxzaTaVqa...   \n",
       "9846  https://images.craigslist.org/00r0r_czXfi4UeJF...   \n",
       "9874  https://images.craigslist.org/00x0x_7FqS8iHJst...   \n",
       "9892  https://images.craigslist.org/00B0B_5t6BpiGoz9...   \n",
       "\n",
       "                                            description state        lat  \\\n",
       "21    1970 Oldsmobile 442 Convertible 442 Indy Pace ...    wi  43.098400   \n",
       "57    Awesome Resto-Mod COE Ford Car Hauler. Equippe...    ca  33.680100   \n",
       "66    1991 Daihatsu hijet 5 speed extended cab....im...    ny  41.564400   \n",
       "106   1968 Chevrolet Camaro Convertible. VIN:124678N...    sd  33.637200   \n",
       "143   Arizona  project started. new 350 4 bolt main ...    mn  47.394400   \n",
       "...                                                 ...   ...        ...   \n",
       "9762  1965 Pontiac GTO. VIN: 237375P248569. True GTO...    wa  33.637200   \n",
       "9789  1974 Jeep cj5  304 v8  4speed manual trans  Da...    mo  36.331200   \n",
       "9846  1984 Chevrolet C10 Silverado, short wheelbase ...    ca  33.637200   \n",
       "9874  1972 classic Chevrolet pick up custom  deluxe ...    or  45.494960   \n",
       "9892  Really good running 88 Nissan. Has Sun roof. B...    ca  33.654019   \n",
       "\n",
       "            long              posting_date price_category  \n",
       "21    -89.273400  2021-04-25T10:10:43-0500           high  \n",
       "57   -117.908500  2021-04-29T10:49:29-0700           high  \n",
       "66    -74.430400  2021-04-20T18:30:18-0400            low  \n",
       "106   -96.618400  2021-04-29T15:11:01-0600           high  \n",
       "143   -93.246200  2021-05-04T15:55:58-0500            low  \n",
       "...          ...                       ...            ...  \n",
       "9762  -96.618400  2021-05-03T13:06:11-0700           high  \n",
       "9789  -92.375300  2021-04-27T14:30:28-0500            low  \n",
       "9846  -96.618400  2021-04-27T19:44:27-0700           high  \n",
       "9874 -122.666988  2021-05-03T14:58:34-0700         medium  \n",
       "9892 -117.980606  2021-05-03T07:19:18-0700            low  \n",
       "\n",
       "[365 rows x 19 columns]"
      ]
     },
     "execution_count": 89,
     "metadata": {},
     "output_type": "execute_result"
    }
   ],
   "source": [
    "df_upd[is_outlier]"
   ]
  },
  {
   "cell_type": "markdown",
   "id": "4226320f-3af0-4a8e-95d3-9ed9865241af",
   "metadata": {},
   "source": [
    "***Верхняя граница выбросов (2030) не актуальна, т к максимальное значение в столбце == 2022. \n",
    "Если стоит задача, чтобы ML определяла категорию цены авто, в зависимости от ее характеристик(в том числе и года выпуска), то по моему скромному мнению, стоит удалить из выборки автомобили старше нижней границы выбросов. Такие автомобили слишком разнятся в цене, то есть бывает хлам, который стоит гроши, а бывает эксклюзивный раритет, который оценивается в миллионы. На такие авто категорию цены стоит устанавливать вручную.\n",
    "P.S. Не знаю на сколько это относится к практической работе, просто мысли вслух.***"
   ]
  },
  {
   "cell_type": "code",
   "execution_count": 100,
   "id": "232ce714-6fde-4424-b8e9-7356e35305c2",
   "metadata": {},
   "outputs": [],
   "source": [
    "df_upd.to_csv('df_upd.csv', index=False)"
   ]
  },
  {
   "cell_type": "code",
   "execution_count": null,
   "id": "849e798e-4ed5-4dd6-a0a8-c13d4165cacf",
   "metadata": {},
   "outputs": [],
   "source": []
  }
 ],
 "metadata": {
  "kernelspec": {
   "display_name": "Python 3 (ipykernel)",
   "language": "python",
   "name": "python3"
  },
  "language_info": {
   "codemirror_mode": {
    "name": "ipython",
    "version": 3
   },
   "file_extension": ".py",
   "mimetype": "text/x-python",
   "name": "python",
   "nbconvert_exporter": "python",
   "pygments_lexer": "ipython3",
   "version": "3.12.4"
  }
 },
 "nbformat": 4,
 "nbformat_minor": 5
}
