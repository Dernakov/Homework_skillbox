{
 "cells": [
  {
   "cell_type": "markdown",
   "metadata": {
    "id": "4tc7YC6O8Ev1"
   },
   "source": [
    "## Практическая работа"
   ]
  },
  {
   "cell_type": "markdown",
   "metadata": {
    "id": "vSt7qQM58QEB"
   },
   "source": [
    "В этой практической работе пять обязательных задач.\n",
    "\n",
    "*Обязательные задачи* помогут проверить, что вы действительно усвоили материал модуля. Сдайте их на проверку.\n",
    "\n",
    "Удачи!"
   ]
  },
  {
   "cell_type": "markdown",
   "metadata": {
    "id": "WwzP6BdQ8jbE"
   },
   "source": [
    "Цели практической работы: \n",
    "\n",
    "\n",
    "1.   Потренироваться в обучении модели линейной регрессии.\n",
    "2.   Потренироваться в обучении модели логистической регрессии. \n",
    "3.   Потренироваться в обучении модели многослойного персептрона.\n",
    "\n",
    "\n",
    "\n"
   ]
  },
  {
   "cell_type": "markdown",
   "metadata": {
    "id": "fGPUx8Nh8l0F"
   },
   "source": [
    "Что оценивается:\n",
    "\n",
    "*   Все пункты и критерии приёмки по каждому заданию выполнены.\n",
    "*   Код оформлен и работает корректно.\n",
    "\n",
    "\n",
    "\n"
   ]
  },
  {
   "cell_type": "markdown",
   "metadata": {
    "id": "IP-cDDXr-WD0"
   },
   "source": [
    "Как отправить работу на проверку:\n",
    "\n",
    "Сдайте практическую работу этого модуля через систему контроля версий Git сервиса Skillbox GitLab. После загрузки работы на проверку напишите об этом в личном кабинете своему куратору."
   ]
  },
  {
   "cell_type": "markdown",
   "metadata": {
    "id": "dH3j5hM1qCUw"
   },
   "source": [
    "В этом задании вам нужно построить модель классификации, определяющую категорию цены/цену подержанного автомобиля в зависимости от характеристик транспортного средства. \n",
    "\n",
    "Мы будем использовать датасет из коллекции подержанных автомобилей, выставленных на продажу в Соединенных Штатах. Он уже подготовлен, без выбросов и с категориальными фичами, преобразованными с помощью one hot encoding, и количественными фичами, стандартизированными с помощью скейлеров.\n"
   ]
  },
  {
   "cell_type": "markdown",
   "metadata": {
    "id": "jKgw4zyS8uOJ"
   },
   "source": [
    "### Описание датасета:\n",
    "- `id`: идентификатор записи;\n",
    "- `is_manufacturer_name`: признак производителя автомобиля;\n",
    "\n",
    "- `region_*`: регион;\n",
    "- `x0_*`: тип топлива;\n",
    "- `manufacturer_*`: производитель;\n",
    "- `short_model_*`: сокращённая модель автомобиля;\n",
    "- `title_status_*`: статус;\n",
    "- `transmission_*`: коробка передач;\n",
    "- `state_*`: штат;\n",
    "- `age_category_*`: возрастная категория автомобиля;\n",
    "\n",
    "- `std_scaled_odometer`: количество пройденных миль (после стандартизации);\n",
    "- `year_std`: год выпуска (после стандартизации);\n",
    "- `lat_std`: широта (после стандартизации);\n",
    "- `long_std`: долгота (после стандартизации);\n",
    "- `odometer/price_std`: отношение стоимости к пробегу автомобиля (после стандартизации);\n",
    "- `desc_len_std`: количество символов в тексте объявления о продаже (после стандартизации);\n",
    "- `model_in_desc_std`: количество наименований модели автомобиля в тексте объявления о продаже (после стандартизации);\n",
    "- `model_len_std`: длина наименования автомобиля (после стандартизации);\n",
    "- `model_word_count_std`: количество слов в наименовании автомобиля (после стандартизации);\n",
    "- `month_std`: номер месяца размещения объявления о продаже автомобиля (после стандартизации);\n",
    "- `dayofweek_std`: день недели размещения объявления о продаже автомобиля (после стандартизации);\n",
    "- `diff_years_std`: количество лет между годом производства автомобиля и годом размещения объявления о продаже автомобиля (после стандартизации);\n",
    "\n",
    "- `price`: стоимость;\n",
    "- `price_category`: категория цены."
   ]
  },
  {
   "cell_type": "markdown",
   "metadata": {
    "id": "f8cwJq0l8oyM"
   },
   "source": [
    "## Обязательные задачи"
   ]
  },
  {
   "cell_type": "code",
   "execution_count": 410,
   "metadata": {
    "id": "k-oAmtZi9R8U"
   },
   "outputs": [],
   "source": [
    "import matplotlib.pyplot as plt\n",
    "import pandas as pd\n",
    "\n",
    "from sklearn.linear_model import LogisticRegression, LinearRegression\n",
    "from sklearn.metrics import accuracy_score, confusion_matrix, mean_absolute_error\n",
    "from sklearn.model_selection import train_test_split \n",
    "from sklearn.neural_network import MLPClassifier\n",
    "from sklearn.ensemble import RandomForestClassifier"
   ]
  },
  {
   "cell_type": "code",
   "execution_count": 159,
   "metadata": {
    "colab": {
     "base_uri": "https://localhost:8080/",
     "height": 299
    },
    "id": "a4gi-XV1Jkwc",
    "outputId": "3ba30067-9c82-4b3b-aec1-80b22491ba33"
   },
   "outputs": [
    {
     "data": {
      "text/html": [
       "<div>\n",
       "<style scoped>\n",
       "    .dataframe tbody tr th:only-of-type {\n",
       "        vertical-align: middle;\n",
       "    }\n",
       "\n",
       "    .dataframe tbody tr th {\n",
       "        vertical-align: top;\n",
       "    }\n",
       "\n",
       "    .dataframe thead th {\n",
       "        text-align: right;\n",
       "    }\n",
       "</style>\n",
       "<table border=\"1\" class=\"dataframe\">\n",
       "  <thead>\n",
       "    <tr style=\"text-align: right;\">\n",
       "      <th></th>\n",
       "      <th>id</th>\n",
       "      <th>price</th>\n",
       "      <th>price_category</th>\n",
       "      <th>is_audi</th>\n",
       "      <th>is_ford</th>\n",
       "      <th>is_chevrolet</th>\n",
       "      <th>is_toyota</th>\n",
       "      <th>x0_diesel</th>\n",
       "      <th>x0_electric</th>\n",
       "      <th>x0_gas</th>\n",
       "      <th>...</th>\n",
       "      <th>long_std</th>\n",
       "      <th>year_std</th>\n",
       "      <th>odometer/price_std</th>\n",
       "      <th>desc_len_std</th>\n",
       "      <th>model_in_desc_std</th>\n",
       "      <th>model_len_std</th>\n",
       "      <th>model_word_count_std</th>\n",
       "      <th>month_std</th>\n",
       "      <th>dayofweek_std</th>\n",
       "      <th>diff_years_std</th>\n",
       "    </tr>\n",
       "  </thead>\n",
       "  <tbody>\n",
       "    <tr>\n",
       "      <th>0</th>\n",
       "      <td>7308295377</td>\n",
       "      <td>54990</td>\n",
       "      <td>high</td>\n",
       "      <td>0</td>\n",
       "      <td>0</td>\n",
       "      <td>0</td>\n",
       "      <td>0</td>\n",
       "      <td>1.0</td>\n",
       "      <td>0.0</td>\n",
       "      <td>0.0</td>\n",
       "      <td>...</td>\n",
       "      <td>0.484245</td>\n",
       "      <td>1.322394</td>\n",
       "      <td>-0.510784</td>\n",
       "      <td>0.632075</td>\n",
       "      <td>-0.155788</td>\n",
       "      <td>1.163032</td>\n",
       "      <td>1.910669</td>\n",
       "      <td>-0.615846</td>\n",
       "      <td>1.120284</td>\n",
       "      <td>-1.322394</td>\n",
       "    </tr>\n",
       "    <tr>\n",
       "      <th>1</th>\n",
       "      <td>7316380095</td>\n",
       "      <td>16942</td>\n",
       "      <td>medium</td>\n",
       "      <td>0</td>\n",
       "      <td>1</td>\n",
       "      <td>0</td>\n",
       "      <td>0</td>\n",
       "      <td>0.0</td>\n",
       "      <td>0.0</td>\n",
       "      <td>0.0</td>\n",
       "      <td>...</td>\n",
       "      <td>1.110800</td>\n",
       "      <td>0.695973</td>\n",
       "      <td>-0.402947</td>\n",
       "      <td>-0.646781</td>\n",
       "      <td>-0.155788</td>\n",
       "      <td>0.932087</td>\n",
       "      <td>1.235799</td>\n",
       "      <td>1.623784</td>\n",
       "      <td>-1.374972</td>\n",
       "      <td>-0.695973</td>\n",
       "    </tr>\n",
       "    <tr>\n",
       "      <th>2</th>\n",
       "      <td>7313733749</td>\n",
       "      <td>35590</td>\n",
       "      <td>high</td>\n",
       "      <td>0</td>\n",
       "      <td>0</td>\n",
       "      <td>0</td>\n",
       "      <td>0</td>\n",
       "      <td>0.0</td>\n",
       "      <td>0.0</td>\n",
       "      <td>1.0</td>\n",
       "      <td>...</td>\n",
       "      <td>0.531185</td>\n",
       "      <td>0.852578</td>\n",
       "      <td>-0.514480</td>\n",
       "      <td>0.560744</td>\n",
       "      <td>-0.155788</td>\n",
       "      <td>0.470197</td>\n",
       "      <td>0.560930</td>\n",
       "      <td>-0.615846</td>\n",
       "      <td>-0.376870</td>\n",
       "      <td>-0.852578</td>\n",
       "    </tr>\n",
       "    <tr>\n",
       "      <th>3</th>\n",
       "      <td>7308210929</td>\n",
       "      <td>14500</td>\n",
       "      <td>medium</td>\n",
       "      <td>0</td>\n",
       "      <td>0</td>\n",
       "      <td>0</td>\n",
       "      <td>1</td>\n",
       "      <td>0.0</td>\n",
       "      <td>0.0</td>\n",
       "      <td>1.0</td>\n",
       "      <td>...</td>\n",
       "      <td>0.853562</td>\n",
       "      <td>0.226157</td>\n",
       "      <td>-0.241883</td>\n",
       "      <td>0.180435</td>\n",
       "      <td>-0.155788</td>\n",
       "      <td>-0.915473</td>\n",
       "      <td>-0.788810</td>\n",
       "      <td>-0.615846</td>\n",
       "      <td>1.120284</td>\n",
       "      <td>-0.226157</td>\n",
       "    </tr>\n",
       "    <tr>\n",
       "      <th>4</th>\n",
       "      <td>7303797340</td>\n",
       "      <td>14590</td>\n",
       "      <td>medium</td>\n",
       "      <td>0</td>\n",
       "      <td>0</td>\n",
       "      <td>0</td>\n",
       "      <td>0</td>\n",
       "      <td>0.0</td>\n",
       "      <td>0.0</td>\n",
       "      <td>0.0</td>\n",
       "      <td>...</td>\n",
       "      <td>0.557607</td>\n",
       "      <td>0.069552</td>\n",
       "      <td>-0.333074</td>\n",
       "      <td>0.766366</td>\n",
       "      <td>-0.155788</td>\n",
       "      <td>1.163032</td>\n",
       "      <td>1.910669</td>\n",
       "      <td>-0.615846</td>\n",
       "      <td>0.122182</td>\n",
       "      <td>-0.069552</td>\n",
       "    </tr>\n",
       "  </tbody>\n",
       "</table>\n",
       "<p>5 rows × 1463 columns</p>\n",
       "</div>"
      ],
      "text/plain": [
       "           id  price price_category  is_audi  is_ford  is_chevrolet  \\\n",
       "0  7308295377  54990           high        0        0             0   \n",
       "1  7316380095  16942         medium        0        1             0   \n",
       "2  7313733749  35590           high        0        0             0   \n",
       "3  7308210929  14500         medium        0        0             0   \n",
       "4  7303797340  14590         medium        0        0             0   \n",
       "\n",
       "   is_toyota  x0_diesel  x0_electric  x0_gas  ...  long_std  year_std  \\\n",
       "0          0        1.0          0.0     0.0  ...  0.484245  1.322394   \n",
       "1          0        0.0          0.0     0.0  ...  1.110800  0.695973   \n",
       "2          0        0.0          0.0     1.0  ...  0.531185  0.852578   \n",
       "3          1        0.0          0.0     1.0  ...  0.853562  0.226157   \n",
       "4          0        0.0          0.0     0.0  ...  0.557607  0.069552   \n",
       "\n",
       "   odometer/price_std  desc_len_std  model_in_desc_std  model_len_std  \\\n",
       "0           -0.510784      0.632075          -0.155788       1.163032   \n",
       "1           -0.402947     -0.646781          -0.155788       0.932087   \n",
       "2           -0.514480      0.560744          -0.155788       0.470197   \n",
       "3           -0.241883      0.180435          -0.155788      -0.915473   \n",
       "4           -0.333074      0.766366          -0.155788       1.163032   \n",
       "\n",
       "   model_word_count_std  month_std  dayofweek_std  diff_years_std  \n",
       "0              1.910669  -0.615846       1.120284       -1.322394  \n",
       "1              1.235799   1.623784      -1.374972       -0.695973  \n",
       "2              0.560930  -0.615846      -0.376870       -0.852578  \n",
       "3             -0.788810  -0.615846       1.120284       -0.226157  \n",
       "4              1.910669  -0.615846       0.122182       -0.069552  \n",
       "\n",
       "[5 rows x 1463 columns]"
      ]
     },
     "execution_count": 159,
     "metadata": {},
     "output_type": "execute_result"
    }
   ],
   "source": [
    "df = pd.read_csv('vehicles_dataset_prepared.csv')\n",
    "df.head()"
   ]
  },
  {
   "cell_type": "markdown",
   "metadata": {
    "id": "VMmY9Xa-JdRj"
   },
   "source": [
    "**Задача 0. Линейная регрессия**\n",
    "\n",
    "Вспомните задачу по предсказанию стоимости поддержанного автомобиля. Попробуем обучить модель линейной регрессии для предсказания цены автомобиля (колонка `price`). Для этого проделайте следующие шаги:\n",
    "\n",
    "- Подготовьте данные: удалите колонки, которые косвенно содержат информацию о целевой переменной (`odometer/price_std`, `price_category`).\n",
    "- Разделите выборку на треин и тест в отношении 70/30.\n",
    "- Обучите модель линейной регрессии с дефолтными параметрами.\n",
    "- Посчитайте значение метрики mae на тестовой выборке для линейной регрессии.\n",
    "- Выведите получившиеся коэффициенты линейной регрессии при каждом параметре обучающей выборки с помощью метода `coef_`. Есть ли коэффициенты, которые равны нулю? Если есть, выведите названия фичей с нулевым коэффициентом\n",
    "- Удалите фичи, коэффициенты которых равны нулю. И переобучите модель. Убедитесь, что значение метрики не изменилось.\n",
    "\n"
   ]
  },
  {
   "cell_type": "code",
   "execution_count": 418,
   "metadata": {
    "id": "i1tH2p0nopsf"
   },
   "outputs": [
    {
     "data": {
      "text/plain": [
       "4600.341116688055"
      ]
     },
     "execution_count": 418,
     "metadata": {},
     "output_type": "execute_result"
    }
   ],
   "source": [
    "# Ваш код здесь\n",
    "df_prepared = df.copy()\n",
    "df_prepared = df_prepared.drop(['price_category', 'odometer/price_std'], axis=1)\n",
    "\n",
    "train, test = train_test_split(df_prepared, test_size=0.3, random_state=42)\n",
    "\n",
    "lr = LinearRegression()\n",
    "\n",
    "\n",
    "lr.fit(train.drop(['price'], axis=1), train.price)\n",
    "pred = lr.predict(test.drop(['price'], axis=1))\n",
    "mean_absolute_error(test.price, pred)"
   ]
  },
  {
   "cell_type": "code",
   "execution_count": 162,
   "metadata": {},
   "outputs": [
    {
     "data": {
      "text/plain": [
       "array([0.])"
      ]
     },
     "execution_count": 162,
     "metadata": {},
     "output_type": "execute_result"
    }
   ],
   "source": [
    "lr.coef_[(lr.coef_ == 0)]"
   ]
  },
  {
   "cell_type": "code",
   "execution_count": 163,
   "metadata": {
    "scrolled": true
   },
   "outputs": [
    {
     "name": "stdout",
     "output_type": "stream",
     "text": [
      "                   Feature  Coefficient\n",
      "0                       id     0.000006\n",
      "1                  is_audi   254.298335\n",
      "2                  is_ford  1073.909874\n",
      "3             is_chevrolet  -184.763046\n",
      "4                is_toyota   471.497983\n",
      "...                    ...          ...\n",
      "1455         model_len_std    25.182236\n",
      "1456  model_word_count_std   643.950550\n",
      "1457             month_std  -166.691604\n",
      "1458         dayofweek_std    23.050436\n",
      "1459        diff_years_std -2803.980404\n",
      "\n",
      "[1460 rows x 2 columns]\n",
      "                   Feature  Coefficient\n",
      "1360  manufacturer_ferrari          0.0\n"
     ]
    }
   ],
   "source": [
    "coefficients = lr.coef_\n",
    "\n",
    "coef_df = pd.DataFrame({'Feature': train.drop(['price'], axis=1).columns, 'Coefficient': coefficients})\n",
    "\n",
    "print(coef_df)\n",
    "\n",
    "zero_coef_features = coef_df[coef_df['Coefficient'] == 0]['Feature'].to_list()\n",
    "\n",
    "print(coef_df[coef_df['Coefficient'] == 0])"
   ]
  },
  {
   "cell_type": "code",
   "execution_count": 175,
   "metadata": {},
   "outputs": [
    {
     "data": {
      "text/plain": [
       "4600.341118668767"
      ]
     },
     "execution_count": 175,
     "metadata": {},
     "output_type": "execute_result"
    }
   ],
   "source": [
    "train1 = train.drop(columns=zero_coef_features)\n",
    "test1 = test.drop(columns=zero_coef_features)\n",
    "\n",
    "\n",
    "lr.fit(train1.drop(['price'], axis=1), train1.price)\n",
    "pred1 = lr.predict(test1.drop(['price'], axis=1))\n",
    "mean_absolute_error(test1.price, pred1)"
   ]
  },
  {
   "cell_type": "markdown",
   "metadata": {
    "id": "n3d55h5IQZoC"
   },
   "source": [
    "**Задача 1. Логистическая регрессия**\n",
    "\n",
    "Теперь в рамках тех же данных попробуйте предсказать `price_category` с помощью алгоритма логистической регрессии. Предварительно из датафрейма удалите переменные, в которых косвенно содержится информация о целевой переменной (`odometer/price_std`, `price`). \n",
    "\n",
    "Для обученной модели нужно:\n",
    "\n",
    "- рассчитать и вывести метрику качества (accuracy) на тренировочной выборке;\n",
    "- сделать предикт на тестовых данных и положить его в переменную `logreg_pred`;\n",
    "- рассчитать и вывести accuracy и confusion_matrix на тестовой выборке.\n",
    "\n",
    "\n",
    "Задание засчитывается, если: \n",
    "- accuracy на тренировочной выборке > 87%;\n",
    "- accuracy на тестовой выборке > 75.5%.\n",
    "\n",
    "Для улучшения метрики можно преобразовывать входные данные, тюнить параметры логистической регрессии."
   ]
  },
  {
   "cell_type": "code",
   "execution_count": 362,
   "metadata": {
    "id": "tZpWbWaMootx"
   },
   "outputs": [],
   "source": [
    "# Ваш код подготовки данных здесь. Допишите инициализацию входных фичей и целевую переменную\n",
    "df_prepared1 = df.copy()\n",
    "df_prepared1 = df_prepared1.drop(['price', 'odometer/price_std', 'id'], axis=1)\n",
    "\n",
    "x = df_prepared1.drop(['price_category'], axis=1)\n",
    "y = df_prepared1.price_category\n",
    "\n",
    "x_train, x_test, y_train, y_test = train_test_split(x, y, test_size=0.2, random_state=42)\n",
    "logreg = LogisticRegression(random_state=42, penalty='l2', solver='saga')"
   ]
  },
  {
   "cell_type": "code",
   "execution_count": 364,
   "metadata": {},
   "outputs": [],
   "source": [
    "from sklearn.preprocessing import StandardScaler\n",
    "\n",
    "# Масштабирование данных\n",
    "scaler = StandardScaler()\n",
    "X_train_scaled = scaler.fit_transform(x_train)\n",
    "X_test_scaled = scaler.transform(x_test)"
   ]
  },
  {
   "cell_type": "code",
   "execution_count": 365,
   "metadata": {
    "id": "XQL-04-XpD_n",
    "scrolled": true
   },
   "outputs": [
    {
     "name": "stdout",
     "output_type": "stream",
     "text": [
      "Accuracy на тестовой выборке: 0.7572765072765073\n",
      "Accuracy на тренировочной выборке: 0.8834307992202729\n",
      "Случайный лес:\n",
      "[[530  21 115]\n",
      " [ 12 521 101]\n",
      " [106 112 406]]\n"
     ]
    },
    {
     "name": "stderr",
     "output_type": "stream",
     "text": [
      "C:\\anaconda3\\Lib\\site-packages\\sklearn\\linear_model\\_sag.py:350: ConvergenceWarning: The max_iter was reached which means the coef_ did not converge\n",
      "  warnings.warn(\n"
     ]
    }
   ],
   "source": [
    "# Ваш код обучения моделей здесь\n",
    "logreg.fit(X_train_scaled, y_train)\n",
    "\n",
    "logreg_pred = logreg.predict(X_test_scaled)\n",
    "\n",
    "y_train_pred = logreg.predict(X_train_scaled)\n",
    "\n",
    "print(f'Accuracy на тестовой выборке: {accuracy_score(y_test, logreg_pred)}')\n",
    "print(f'Accuracy на тренировочной выборке: {accuracy_score(y_train, y_train_pred)}')\n",
    "print(f'''Случайный лес:\n",
    "{confusion_matrix(y_test, logreg_pred)}''')"
   ]
  },
  {
   "cell_type": "markdown",
   "metadata": {
    "id": "sPYGPr0ssX1l"
   },
   "source": [
    "**Задача 2. Многослойный персептрон**\n",
    "\n",
    "Решите задачу, поставленную в предыдущем задании, применив модель многослойного персептрона. Добейтесь лучших значений точности на тренировочной и тестовой выборках, чем на логистической регрессии, с помощью данного алгоритма. \n",
    "\n",
    "Значимым увеличением точности в данном задании будем считать увеличение больше, чем на 0.01 по метрике accuracy."
   ]
  },
  {
   "cell_type": "code",
   "execution_count": 368,
   "metadata": {
    "id": "1CWqF0Pl44IW"
   },
   "outputs": [
    {
     "name": "stdout",
     "output_type": "stream",
     "text": [
      "Accuracy на тестовой выборке: 0.7603950103950103\n",
      "Accuracy на тренировочной выборке: 0.9977907732293697\n"
     ]
    }
   ],
   "source": [
    "# Ваш код здесь\n",
    "mlp = MLPClassifier(random_state=42, max_iter=500, hidden_layer_sizes=(100,50))\n",
    "mlp.fit(X_train_scaled, y_train)\n",
    "\n",
    "pred_mlp = mlp.predict(X_test_scaled)\n",
    "y_train_pred_mlp = mlp.predict(X_train_scaled)\n",
    "\n",
    "print(f'Accuracy на тестовой выборке: {accuracy_score(y_test, pred_mlp)}')\n",
    "print(f'Accuracy на тренировочной выборке: {accuracy_score(y_train, y_train_pred_mlp)}')"
   ]
  },
  {
   "cell_type": "markdown",
   "metadata": {
    "id": "6ru5oLsGBOLv"
   },
   "source": [
    "**Задача 3. Сравнение с древовидными моделями**\n",
    "\n",
    "Обучите модель случайного леса на тех же данных для предсказания `price_category`. Сравните качество с моделью логистической регрессии и многослойного персептрона. Словами опишите, какая из моделей в каких случаях работает лучше по результатам на тестовой выборке, и обоснуйте свой выбор."
   ]
  },
  {
   "cell_type": "code",
   "execution_count": 370,
   "metadata": {},
   "outputs": [],
   "source": [
    "# Логистическая регрессия: Лучше всего работает на линейно разделимых данных. Если данные сложные, точность будет низкой.\n",
    "# Случайный лес: Хорошо работает на данных с нелинейными зависимостями. Устойчив к переобучению и не требует масштабирования.\n",
    "# Многослойный персептрон: Мощная модель для сложных данных, но требует тщательной настройки и масштабирования.\n",
    "# Лучше всего с нашими данными справилась модель RF, accuracy score самый высокий"
   ]
  },
  {
   "cell_type": "code",
   "execution_count": 412,
   "metadata": {
    "id": "gYFQzRHM41Dg"
   },
   "outputs": [
    {
     "name": "stdout",
     "output_type": "stream",
     "text": [
      "1.0\n",
      "0.7692307692307693\n"
     ]
    }
   ],
   "source": [
    "# Ваш код здесь\n",
    "clf_rf = RandomForestClassifier(random_state=42)\n",
    "clf_rf.fit(X_train_scaled, y_train)\n",
    "\n",
    "predicted_train = clf_rf.predict(X_train_scaled)\n",
    "predicted_test = clf_rf.predict(X_test_scaled)\n",
    "\n",
    "print(accuracy_score(y_train, predicted_train))\n",
    "print(accuracy_score(y_test, predicted_test))"
   ]
  },
  {
   "cell_type": "markdown",
   "metadata": {
    "id": "-DrgXqjv2Rgk"
   },
   "source": [
    "**Задача 4. Стратегия голосования**\n",
    "\n",
    "Реализуйте стратегию голосования для предсказания целевой переменной.\n",
    "Голосование в задаче классификации — это когда несколько моделей выдают свои предикты, и финальным выбирается тот предикт, который предсказали большинство моделей.\n",
    "\n",
    "Для реализации этой стратегии проделайте следующее:\n",
    "\n",
    "- сохраните предсказания каждой из моделей (случайный лес, многослойный персептрон, логистическая регрессия) для тестовой выборки в датафрейм `pred_df`;\n",
    "- в четвертую колонку `target` положите тот класс, который предсказало большинство классификаторов. Например, если в строке были значения `high, medium, medium`, в `target` нужно положить `medium`.\n",
    "\n",
    "     Если в строке три разных класса — `high, medium, low`, — придумайте свою стратегию по выбору значения. Самая простая стратегия: выбрать рандомно одно значение из трёх.\n",
    "\n",
    "- посчитайте точность предсказания с помощью голосования. Выведите значения метрик accuracy и confusion_matrix.\n",
    "\n",
    "\n",
    "Добейтесь значения точности > 78% "
   ]
  },
  {
   "cell_type": "code",
   "execution_count": 414,
   "metadata": {
    "id": "KKTpNxaK5UhX"
   },
   "outputs": [
    {
     "name": "stderr",
     "output_type": "stream",
     "text": [
      "C:\\anaconda3\\Lib\\site-packages\\sklearn\\linear_model\\_sag.py:350: ConvergenceWarning: The max_iter was reached which means the coef_ did not converge\n",
      "  warnings.warn(\n"
     ]
    },
    {
     "name": "stdout",
     "output_type": "stream",
     "text": [
      "Accuracy с голосованием: 0.7822245322245323\n",
      "[[546  19 101]\n",
      " [  9 544  81]\n",
      " [ 97 112 415]]\n"
     ]
    }
   ],
   "source": [
    "# Ваш код здесь\n",
    "logreg1 = LogisticRegression(random_state=42, penalty='l1', solver='saga')\n",
    "logreg1.fit(X_train_scaled, y_train)\n",
    "\n",
    "mlp1 = MLPClassifier(random_state=42, max_iter=500, hidden_layer_sizes=(100,50))\n",
    "mlp1.fit(X_train_scaled, y_train)\n",
    "\n",
    "clf_rf = RandomForestClassifier(random_state=42)\n",
    "clf_rf.fit(X_train_scaled, y_train)\n",
    "\n",
    "predicted_test1 = clf_rf.predict(X_test_scaled)\n",
    "pred_mlp1 = mlp1.predict(X_test_scaled)\n",
    "logreg_pred1 = logreg1.predict(X_test_scaled)\n",
    "\n",
    "import numpy as np\n",
    "def voting(row):\n",
    "    counts = row.value_counts()\n",
    "    if counts.max() > 1:\n",
    "        return counts.idxmax()\n",
    "    else:\n",
    "        return np.random.choice(row)\n",
    "        \n",
    "pred_df = pd.DataFrame({'LogReg': logreg_pred1, 'MLP': pred_mlp1, 'RF' : predicted_test1})\n",
    "pred_df['target'] = pred_df.apply(voting, axis=1)\n",
    "\n",
    "print(f'Accuracy с голосованием: {accuracy_score(y_test, pred_df['target'])}')\n",
    "print(confusion_matrix(y_test, pred_df['target']))"
   ]
  },
  {
   "cell_type": "markdown",
   "metadata": {
    "id": "FmuF3_05i2AD"
   },
   "source": [
    "**Примечание:**\n",
    "\n",
    "В этом домашнем задании в задаче номер 1 и далее перед вами встал выбор: включать ли в обучение колонку `id`. При удалении данной колонки во время обучении логистической регрессии качество заметно улучшается.\n",
    "\n",
    "Вообще обучать любую модель (будь то логистическая или линейная регрессия, или древовидный алгоритм) на данных айдишников не считается хорошей практикой. Как правило, между `id` и целевой переменной не должно быть никаких взаимосвязей. Включая колонку `id` в качества атрибута в обучение, вы стараетесь \"заточить\" результаты своей модели под айдишники записей. Таким образом модель обучится на некотором наборе \"частных случаев\", и, возможно, не обратит внимание на общие зависимости.   "
   ]
  },
  {
   "cell_type": "code",
   "execution_count": null,
   "metadata": {},
   "outputs": [],
   "source": []
  }
 ],
 "metadata": {
  "colab": {
   "collapsed_sections": [],
   "name": "Домашняя работа.ipynb",
   "provenance": []
  },
  "kernelspec": {
   "display_name": "Python 3 (ipykernel)",
   "language": "python",
   "name": "python3"
  },
  "language_info": {
   "codemirror_mode": {
    "name": "ipython",
    "version": 3
   },
   "file_extension": ".py",
   "mimetype": "text/x-python",
   "name": "python",
   "nbconvert_exporter": "python",
   "pygments_lexer": "ipython3",
   "version": "3.12.4"
  }
 },
 "nbformat": 4,
 "nbformat_minor": 4
}
