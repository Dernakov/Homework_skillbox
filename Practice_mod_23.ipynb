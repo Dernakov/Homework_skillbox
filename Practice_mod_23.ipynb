{
  "nbformat": 4,
  "nbformat_minor": 0,
  "metadata": {
    "colab": {
      "name": "Домашняя работа.ipynb",
      "provenance": [],
      "collapsed_sections": []
    },
    "kernelspec": {
      "name": "python3",
      "display_name": "Python 3"
    },
    "language_info": {
      "name": "python"
    }
  },
  "cells": [
    {
      "cell_type": "markdown",
      "source": [
        "## Практическая работа"
      ],
      "metadata": {
        "id": "4tc7YC6O8Ev1"
      }
    },
    {
      "cell_type": "markdown",
      "source": [
        "В этой практической работе пять обязательных задач.\n",
        "\n",
        "*Обязательные задачи* помогут проверить, что вы действительно усвоили материал модуля. Сдайте их на проверку.\n",
        "\n",
        "Удачи!"
      ],
      "metadata": {
        "id": "vSt7qQM58QEB"
      }
    },
    {
      "cell_type": "markdown",
      "source": [
        "Цели практической работы: \n",
        "\n",
        "\n",
        "1.   Потренироваться в обучении модели линейной регрессии.\n",
        "2.   Потренироваться в обучении модели логистической регрессии. \n",
        "3.   Потренироваться в обучении модели многослойного персептрона.\n",
        "\n",
        "\n",
        "\n"
      ],
      "metadata": {
        "id": "WwzP6BdQ8jbE"
      }
    },
    {
      "cell_type": "markdown",
      "source": [
        "Что оценивается:\n",
        "\n",
        "*   Все пункты и критерии приёмки по каждому заданию выполнены.\n",
        "*   Код оформлен и работает корректно.\n",
        "\n",
        "\n",
        "\n"
      ],
      "metadata": {
        "id": "fGPUx8Nh8l0F"
      }
    },
    {
      "cell_type": "markdown",
      "source": [
        "Как отправить работу на проверку:\n",
        "\n",
        "Сдайте практическую работу этого модуля через систему контроля версий Git сервиса Skillbox GitLab. После загрузки работы на проверку напишите об этом в личном кабинете своему куратору."
      ],
      "metadata": {
        "id": "IP-cDDXr-WD0"
      }
    },
    {
      "cell_type": "markdown",
      "source": [
        "В этом задании вам нужно построить модель классификации, определяющую категорию цены/цену подержанного автомобиля в зависимости от характеристик транспортного средства. \n",
        "\n",
        "Мы будем использовать датасет из коллекции подержанных автомобилей, выставленных на продажу в Соединенных Штатах. Он уже подготовлен, без выбросов и с категориальными фичами, преобразованными с помощью one hot encoding, и количественными фичами, стандартизированными с помощью скейлеров.\n"
      ],
      "metadata": {
        "id": "dH3j5hM1qCUw"
      }
    },
    {
      "cell_type": "markdown",
      "source": [
        "### Описание датасета:\n",
        "- `id`: идентификатор записи;\n",
        "- `is_manufacturer_name`: признак производителя автомобиля;\n",
        "\n",
        "- `region_*`: регион;\n",
        "- `x0_*`: тип топлива;\n",
        "- `manufacturer_*`: производитель;\n",
        "- `short_model_*`: сокращённая модель автомобиля;\n",
        "- `title_status_*`: статус;\n",
        "- `transmission_*`: коробка передач;\n",
        "- `state_*`: штат;\n",
        "- `age_category_*`: возрастная категория автомобиля;\n",
        "\n",
        "- `std_scaled_odometer`: количество пройденных миль (после стандартизации);\n",
        "- `year_std`: год выпуска (после стандартизации);\n",
        "- `lat_std`: широта (после стандартизации);\n",
        "- `long_std`: долгота (после стандартизации);\n",
        "- `odometer/price_std`: отношение стоимости к пробегу автомобиля (после стандартизации);\n",
        "- `desc_len_std`: количество символов в тексте объявления о продаже (после стандартизации);\n",
        "- `model_in_desc_std`: количество наименований модели автомобиля в тексте объявления о продаже (после стандартизации);\n",
        "- `model_len_std`: длина наименования автомобиля (после стандартизации);\n",
        "- `model_word_count_std`: количество слов в наименовании автомобиля (после стандартизации);\n",
        "- `month_std`: номер месяца размещения объявления о продаже автомобиля (после стандартизации);\n",
        "- `dayofweek_std`: день недели размещения объявления о продаже автомобиля (после стандартизации);\n",
        "- `diff_years_std`: количество лет между годом производства автомобиля и годом размещения объявления о продаже автомобиля (после стандартизации);\n",
        "\n",
        "- `price`: стоимость;\n",
        "- `price_category`: категория цены."
      ],
      "metadata": {
        "id": "jKgw4zyS8uOJ"
      }
    },
    {
      "cell_type": "markdown",
      "source": [
        "## Обязательные задачи"
      ],
      "metadata": {
        "id": "f8cwJq0l8oyM"
      }
    },
    {
      "cell_type": "code",
      "source": [
        "import matplotlib.pyplot as plt\n",
        "import pandas as pd\n",
        "\n",
        "from sklearn.linear_model import LogisticRegression, LinearRegression\n",
        "from sklearn.metrics import accuracy_score, confusion_matrix, mean_absolute_error\n",
        "from sklearn.model_selection import train_test_split \n",
        "from sklearn.neural_network import MLPClassifier"
      ],
      "metadata": {
        "id": "k-oAmtZi9R8U"
      },
      "execution_count": null,
      "outputs": []
    },
    {
      "cell_type": "code",
      "source": [
        "df = pd.read_csv('vehicles_dataset_prepared.csv')\n",
        "df.head()"
      ],
      "metadata": {
        "colab": {
          "base_uri": "https://localhost:8080/",
          "height": 299
        },
        "id": "a4gi-XV1Jkwc",
        "outputId": "3ba30067-9c82-4b3b-aec1-80b22491ba33"
      },
      "execution_count": null,
      "outputs": [
        {
          "output_type": "execute_result",
          "data": {
            "text/plain": [
              "           id  price price_category  is_audi  is_ford  is_chevrolet  \\\n",
              "0  7308295377  54990           high        0        0             0   \n",
              "1  7316380095  16942         medium        0        1             0   \n",
              "2  7313733749  35590           high        0        0             0   \n",
              "3  7308210929  14500         medium        0        0             0   \n",
              "4  7303797340  14590         medium        0        0             0   \n",
              "\n",
              "   is_toyota  x0_diesel  x0_electric  x0_gas  ...  long_std  year_std  \\\n",
              "0          0        1.0          0.0     0.0  ...  0.484245  1.322394   \n",
              "1          0        0.0          0.0     0.0  ...  1.110800  0.695973   \n",
              "2          0        0.0          0.0     1.0  ...  0.531185  0.852578   \n",
              "3          1        0.0          0.0     1.0  ...  0.853562  0.226157   \n",
              "4          0        0.0          0.0     0.0  ...  0.557607  0.069552   \n",
              "\n",
              "   odometer/price_std  desc_len_std  model_in_desc_std  model_len_std  \\\n",
              "0           -0.510784      0.632075          -0.155788       1.163032   \n",
              "1           -0.402947     -0.646781          -0.155788       0.932087   \n",
              "2           -0.514480      0.560744          -0.155788       0.470197   \n",
              "3           -0.241883      0.180435          -0.155788      -0.915473   \n",
              "4           -0.333074      0.766366          -0.155788       1.163032   \n",
              "\n",
              "   model_word_count_std  month_std  dayofweek_std  diff_years_std  \n",
              "0              1.910669  -0.615846       1.120284       -1.322394  \n",
              "1              1.235799   1.623784      -1.374972       -0.695973  \n",
              "2              0.560930  -0.615846      -0.376870       -0.852578  \n",
              "3             -0.788810  -0.615846       1.120284       -0.226157  \n",
              "4              1.910669  -0.615846       0.122182       -0.069552  \n",
              "\n",
              "[5 rows x 1463 columns]"
            ],
            "text/html": [
              "\n",
              "  <div id=\"df-6d731809-fa49-4d3c-90f1-9ee7b152e00c\">\n",
              "    <div class=\"colab-df-container\">\n",
              "      <div>\n",
              "<style scoped>\n",
              "    .dataframe tbody tr th:only-of-type {\n",
              "        vertical-align: middle;\n",
              "    }\n",
              "\n",
              "    .dataframe tbody tr th {\n",
              "        vertical-align: top;\n",
              "    }\n",
              "\n",
              "    .dataframe thead th {\n",
              "        text-align: right;\n",
              "    }\n",
              "</style>\n",
              "<table border=\"1\" class=\"dataframe\">\n",
              "  <thead>\n",
              "    <tr style=\"text-align: right;\">\n",
              "      <th></th>\n",
              "      <th>id</th>\n",
              "      <th>price</th>\n",
              "      <th>price_category</th>\n",
              "      <th>is_audi</th>\n",
              "      <th>is_ford</th>\n",
              "      <th>is_chevrolet</th>\n",
              "      <th>is_toyota</th>\n",
              "      <th>x0_diesel</th>\n",
              "      <th>x0_electric</th>\n",
              "      <th>x0_gas</th>\n",
              "      <th>...</th>\n",
              "      <th>long_std</th>\n",
              "      <th>year_std</th>\n",
              "      <th>odometer/price_std</th>\n",
              "      <th>desc_len_std</th>\n",
              "      <th>model_in_desc_std</th>\n",
              "      <th>model_len_std</th>\n",
              "      <th>model_word_count_std</th>\n",
              "      <th>month_std</th>\n",
              "      <th>dayofweek_std</th>\n",
              "      <th>diff_years_std</th>\n",
              "    </tr>\n",
              "  </thead>\n",
              "  <tbody>\n",
              "    <tr>\n",
              "      <th>0</th>\n",
              "      <td>7308295377</td>\n",
              "      <td>54990</td>\n",
              "      <td>high</td>\n",
              "      <td>0</td>\n",
              "      <td>0</td>\n",
              "      <td>0</td>\n",
              "      <td>0</td>\n",
              "      <td>1.0</td>\n",
              "      <td>0.0</td>\n",
              "      <td>0.0</td>\n",
              "      <td>...</td>\n",
              "      <td>0.484245</td>\n",
              "      <td>1.322394</td>\n",
              "      <td>-0.510784</td>\n",
              "      <td>0.632075</td>\n",
              "      <td>-0.155788</td>\n",
              "      <td>1.163032</td>\n",
              "      <td>1.910669</td>\n",
              "      <td>-0.615846</td>\n",
              "      <td>1.120284</td>\n",
              "      <td>-1.322394</td>\n",
              "    </tr>\n",
              "    <tr>\n",
              "      <th>1</th>\n",
              "      <td>7316380095</td>\n",
              "      <td>16942</td>\n",
              "      <td>medium</td>\n",
              "      <td>0</td>\n",
              "      <td>1</td>\n",
              "      <td>0</td>\n",
              "      <td>0</td>\n",
              "      <td>0.0</td>\n",
              "      <td>0.0</td>\n",
              "      <td>0.0</td>\n",
              "      <td>...</td>\n",
              "      <td>1.110800</td>\n",
              "      <td>0.695973</td>\n",
              "      <td>-0.402947</td>\n",
              "      <td>-0.646781</td>\n",
              "      <td>-0.155788</td>\n",
              "      <td>0.932087</td>\n",
              "      <td>1.235799</td>\n",
              "      <td>1.623784</td>\n",
              "      <td>-1.374972</td>\n",
              "      <td>-0.695973</td>\n",
              "    </tr>\n",
              "    <tr>\n",
              "      <th>2</th>\n",
              "      <td>7313733749</td>\n",
              "      <td>35590</td>\n",
              "      <td>high</td>\n",
              "      <td>0</td>\n",
              "      <td>0</td>\n",
              "      <td>0</td>\n",
              "      <td>0</td>\n",
              "      <td>0.0</td>\n",
              "      <td>0.0</td>\n",
              "      <td>1.0</td>\n",
              "      <td>...</td>\n",
              "      <td>0.531185</td>\n",
              "      <td>0.852578</td>\n",
              "      <td>-0.514480</td>\n",
              "      <td>0.560744</td>\n",
              "      <td>-0.155788</td>\n",
              "      <td>0.470197</td>\n",
              "      <td>0.560930</td>\n",
              "      <td>-0.615846</td>\n",
              "      <td>-0.376870</td>\n",
              "      <td>-0.852578</td>\n",
              "    </tr>\n",
              "    <tr>\n",
              "      <th>3</th>\n",
              "      <td>7308210929</td>\n",
              "      <td>14500</td>\n",
              "      <td>medium</td>\n",
              "      <td>0</td>\n",
              "      <td>0</td>\n",
              "      <td>0</td>\n",
              "      <td>1</td>\n",
              "      <td>0.0</td>\n",
              "      <td>0.0</td>\n",
              "      <td>1.0</td>\n",
              "      <td>...</td>\n",
              "      <td>0.853562</td>\n",
              "      <td>0.226157</td>\n",
              "      <td>-0.241883</td>\n",
              "      <td>0.180435</td>\n",
              "      <td>-0.155788</td>\n",
              "      <td>-0.915473</td>\n",
              "      <td>-0.788810</td>\n",
              "      <td>-0.615846</td>\n",
              "      <td>1.120284</td>\n",
              "      <td>-0.226157</td>\n",
              "    </tr>\n",
              "    <tr>\n",
              "      <th>4</th>\n",
              "      <td>7303797340</td>\n",
              "      <td>14590</td>\n",
              "      <td>medium</td>\n",
              "      <td>0</td>\n",
              "      <td>0</td>\n",
              "      <td>0</td>\n",
              "      <td>0</td>\n",
              "      <td>0.0</td>\n",
              "      <td>0.0</td>\n",
              "      <td>0.0</td>\n",
              "      <td>...</td>\n",
              "      <td>0.557607</td>\n",
              "      <td>0.069552</td>\n",
              "      <td>-0.333074</td>\n",
              "      <td>0.766366</td>\n",
              "      <td>-0.155788</td>\n",
              "      <td>1.163032</td>\n",
              "      <td>1.910669</td>\n",
              "      <td>-0.615846</td>\n",
              "      <td>0.122182</td>\n",
              "      <td>-0.069552</td>\n",
              "    </tr>\n",
              "  </tbody>\n",
              "</table>\n",
              "<p>5 rows × 1463 columns</p>\n",
              "</div>\n",
              "      <button class=\"colab-df-convert\" onclick=\"convertToInteractive('df-6d731809-fa49-4d3c-90f1-9ee7b152e00c')\"\n",
              "              title=\"Convert this dataframe to an interactive table.\"\n",
              "              style=\"display:none;\">\n",
              "        \n",
              "  <svg xmlns=\"http://www.w3.org/2000/svg\" height=\"24px\"viewBox=\"0 0 24 24\"\n",
              "       width=\"24px\">\n",
              "    <path d=\"M0 0h24v24H0V0z\" fill=\"none\"/>\n",
              "    <path d=\"M18.56 5.44l.94 2.06.94-2.06 2.06-.94-2.06-.94-.94-2.06-.94 2.06-2.06.94zm-11 1L8.5 8.5l.94-2.06 2.06-.94-2.06-.94L8.5 2.5l-.94 2.06-2.06.94zm10 10l.94 2.06.94-2.06 2.06-.94-2.06-.94-.94-2.06-.94 2.06-2.06.94z\"/><path d=\"M17.41 7.96l-1.37-1.37c-.4-.4-.92-.59-1.43-.59-.52 0-1.04.2-1.43.59L10.3 9.45l-7.72 7.72c-.78.78-.78 2.05 0 2.83L4 21.41c.39.39.9.59 1.41.59.51 0 1.02-.2 1.41-.59l7.78-7.78 2.81-2.81c.8-.78.8-2.07 0-2.86zM5.41 20L4 18.59l7.72-7.72 1.47 1.35L5.41 20z\"/>\n",
              "  </svg>\n",
              "      </button>\n",
              "      \n",
              "  <style>\n",
              "    .colab-df-container {\n",
              "      display:flex;\n",
              "      flex-wrap:wrap;\n",
              "      gap: 12px;\n",
              "    }\n",
              "\n",
              "    .colab-df-convert {\n",
              "      background-color: #E8F0FE;\n",
              "      border: none;\n",
              "      border-radius: 50%;\n",
              "      cursor: pointer;\n",
              "      display: none;\n",
              "      fill: #1967D2;\n",
              "      height: 32px;\n",
              "      padding: 0 0 0 0;\n",
              "      width: 32px;\n",
              "    }\n",
              "\n",
              "    .colab-df-convert:hover {\n",
              "      background-color: #E2EBFA;\n",
              "      box-shadow: 0px 1px 2px rgba(60, 64, 67, 0.3), 0px 1px 3px 1px rgba(60, 64, 67, 0.15);\n",
              "      fill: #174EA6;\n",
              "    }\n",
              "\n",
              "    [theme=dark] .colab-df-convert {\n",
              "      background-color: #3B4455;\n",
              "      fill: #D2E3FC;\n",
              "    }\n",
              "\n",
              "    [theme=dark] .colab-df-convert:hover {\n",
              "      background-color: #434B5C;\n",
              "      box-shadow: 0px 1px 3px 1px rgba(0, 0, 0, 0.15);\n",
              "      filter: drop-shadow(0px 1px 2px rgba(0, 0, 0, 0.3));\n",
              "      fill: #FFFFFF;\n",
              "    }\n",
              "  </style>\n",
              "\n",
              "      <script>\n",
              "        const buttonEl =\n",
              "          document.querySelector('#df-6d731809-fa49-4d3c-90f1-9ee7b152e00c button.colab-df-convert');\n",
              "        buttonEl.style.display =\n",
              "          google.colab.kernel.accessAllowed ? 'block' : 'none';\n",
              "\n",
              "        async function convertToInteractive(key) {\n",
              "          const element = document.querySelector('#df-6d731809-fa49-4d3c-90f1-9ee7b152e00c');\n",
              "          const dataTable =\n",
              "            await google.colab.kernel.invokeFunction('convertToInteractive',\n",
              "                                                     [key], {});\n",
              "          if (!dataTable) return;\n",
              "\n",
              "          const docLinkHtml = 'Like what you see? Visit the ' +\n",
              "            '<a target=\"_blank\" href=https://colab.research.google.com/notebooks/data_table.ipynb>data table notebook</a>'\n",
              "            + ' to learn more about interactive tables.';\n",
              "          element.innerHTML = '';\n",
              "          dataTable['output_type'] = 'display_data';\n",
              "          await google.colab.output.renderOutput(dataTable, element);\n",
              "          const docLink = document.createElement('div');\n",
              "          docLink.innerHTML = docLinkHtml;\n",
              "          element.appendChild(docLink);\n",
              "        }\n",
              "      </script>\n",
              "    </div>\n",
              "  </div>\n",
              "  "
            ]
          },
          "metadata": {},
          "execution_count": 2
        }
      ]
    },
    {
      "cell_type": "markdown",
      "source": [
        "**Задача 0. Линейная регрессия**\n",
        "\n",
        "Вспомните задачу по предсказанию стоимости поддержанного автомобиля. Попробуем обучить модель линейной регрессии для предсказания цены автомобиля (колонка `price`). Для этого проделайте следующие шаги:\n",
        "\n",
        "- Подготовьте данные: удалите колонки, которые косвенно содержат информацию о целевой переменной (`odometer/price_std`, `price_category`).\n",
        "- Разделите выборку на треин и тест в отношении 70/30.\n",
        "- Обучите модель линейной регрессии с дефолтными параметрами.\n",
        "- Посчитайте значение метрики mae на тестовой выборке для линейной регрессии.\n",
        "- Выведите получившиеся коэффициенты линейной регрессии при каждом параметре обучающей выборки с помощью метода `coef_`. Есть ли коэффициенты, которые равны нулю? Если есть, выведите названия фичей с нулевым коэффициентом\n",
        "- Удалите фичи, коэффициенты которых равны нулю. И переобучите модель. Убедитесь, что значение метрики не изменилось.\n",
        "\n"
      ],
      "metadata": {
        "id": "VMmY9Xa-JdRj"
      }
    },
    {
      "cell_type": "code",
      "source": [
        "# Ваш код здесь"
      ],
      "metadata": {
        "id": "i1tH2p0nopsf"
      },
      "execution_count": null,
      "outputs": []
    },
    {
      "cell_type": "markdown",
      "source": [
        "**Задача 1. Логистическая регрессия**\n",
        "\n",
        "Теперь в рамках тех же данных попробуйте предсказать `price_category` с помощью алгоритма логистической регрессии. Предварительно из датафрейма удалите переменные, в которых косвенно содержится информация о целевой переменной (`odometer/price_std`, `price`). \n",
        "\n",
        "Для обученной модели нужно:\n",
        "\n",
        "- рассчитать и вывести метрику качества (accuracy) на тренировочной выборке;\n",
        "- сделать предикт на тестовых данных и положить его в переменную `logreg_pred`;\n",
        "- рассчитать и вывести accuracy и confusion_matrix на тестовой выборке.\n",
        "\n",
        "\n",
        "Задание засчитывается, если: \n",
        "- accuracy на тренировочной выборке > 87%;\n",
        "- accuracy на тестовой выборке > 75.5%.\n",
        "\n",
        "Для улучшения метрики можно преобразовывать входные данные, тюнить параметры логистической регрессии."
      ],
      "metadata": {
        "id": "n3d55h5IQZoC"
      }
    },
    {
      "cell_type": "code",
      "source": [
        "# Ваш код подготовки данных здесь. Допишите инициализацию входных фичей и целевую переменную\n",
        "x = \n",
        "y = \n",
        "\n",
        "x_train, x_test, y_train, y_test = train_test_split(x, y, test_size=0.3, random_state=42)"
      ],
      "metadata": {
        "id": "tZpWbWaMootx"
      },
      "execution_count": null,
      "outputs": []
    },
    {
      "cell_type": "code",
      "source": [
        "# Ваш код обучения моделей здесь"
      ],
      "metadata": {
        "id": "XQL-04-XpD_n"
      },
      "execution_count": null,
      "outputs": []
    },
    {
      "cell_type": "markdown",
      "source": [
        "**Задача 2. Многослойный персептрон**\n",
        "\n",
        "Решите задачу, поставленную в предыдущем задании, применив модель многослойного персептрона. Добейтесь лучших значений точности на тренировочной и тестовой выборках, чем на логистической регрессии, с помощью данного алгоритма. \n",
        "\n",
        "Значимым увеличением точности в данном задании будем считать увеличение больше, чем на 0.01 по метрике accuracy."
      ],
      "metadata": {
        "id": "sPYGPr0ssX1l"
      }
    },
    {
      "cell_type": "code",
      "source": [
        "# Ваш код здесь"
      ],
      "metadata": {
        "id": "1CWqF0Pl44IW"
      },
      "execution_count": null,
      "outputs": []
    },
    {
      "cell_type": "markdown",
      "source": [
        "**Задача 3. Сравнение с древовидными моделями**\n",
        "\n",
        "Обучите модель случайного леса на тех же данных для предсказания `price_category`. Сравните качество с моделью логистической регрессии и многослойного персептрона. Словами опишите, какая из моделей в каких случаях работает лучше по результатам на тестовой выборке, и обоснуйте свой выбор."
      ],
      "metadata": {
        "id": "6ru5oLsGBOLv"
      }
    },
    {
      "cell_type": "code",
      "source": [
        "# Ваш код здесь"
      ],
      "metadata": {
        "id": "gYFQzRHM41Dg"
      },
      "execution_count": null,
      "outputs": []
    },
    {
      "cell_type": "markdown",
      "source": [
        "**Задача 4. Стратегия голосования**\n",
        "\n",
        "Реализуйте стратегию голосования для предсказания целевой переменной.\n",
        "Голосование в задаче классификации — это когда несколько моделей выдают свои предикты, и финальным выбирается тот предикт, который предсказали большинство моделей.\n",
        "\n",
        "Для реализации этой стратегии проделайте следующее:\n",
        "\n",
        "- сохраните предсказания каждой из моделей (случайный лес, многослойный персептрон, логистическая регрессия) для тестовой выборки в датафрейм `pred_df`;\n",
        "- в четвертую колонку `target` положите тот класс, который предсказало большинство классификаторов. Например, если в строке были значения `high, medium, medium`, в `target` нужно положить `medium`.\n",
        "\n",
        "     Если в строке три разных класса — `high, medium, low`, — придумайте свою стратегию по выбору значения. Самая простая стратегия: выбрать рандомно одно значение из трёх.\n",
        "\n",
        "- посчитайте точность предсказания с помощью голосования. Выведите значения метрик accuracy и confusion_matrix.\n",
        "\n",
        "\n",
        "Добейтесь значения точности > 78% "
      ],
      "metadata": {
        "id": "-DrgXqjv2Rgk"
      }
    },
    {
      "cell_type": "code",
      "source": [
        "# Ваш код здесь"
      ],
      "metadata": {
        "id": "KKTpNxaK5UhX"
      },
      "execution_count": null,
      "outputs": []
    },
    {
      "cell_type": "markdown",
      "source": [
        "**Примечание:**\n",
        "\n",
        "В этом домашнем задании в задаче номер 1 и далее перед вами встал выбор: включать ли в обучение колонку `id`. При удалении данной колонки во время обучении логистической регрессии качество заметно улучшается.\n",
        "\n",
        "Вообще обучать любую модель (будь то логистическая или линейная регрессия, или древовидный алгоритм) на данных айдишников не считается хорошей практикой. Как правило, между `id` и целевой переменной не должно быть никаких взаимосвязей. Включая колонку `id` в качества атрибута в обучение, вы стараетесь \"заточить\" результаты своей модели под айдишники записей. Таким образом модель обучится на некотором наборе \"частных случаев\", и, возможно, не обратит внимание на общие зависимости.   "
      ],
      "metadata": {
        "id": "FmuF3_05i2AD"
      }
    },
    {
      "cell_type": "code",
      "source": [
        ""
      ],
      "metadata": {
        "id": "47FEptPukDSs"
      },
      "execution_count": null,
      "outputs": []
    }
  ]
}