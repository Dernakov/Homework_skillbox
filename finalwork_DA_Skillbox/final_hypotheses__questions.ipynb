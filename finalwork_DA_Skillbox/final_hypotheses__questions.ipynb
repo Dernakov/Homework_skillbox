{
 "cells": [
  {
   "cell_type": "code",
   "execution_count": 1,
   "id": "dceea8b6-6c54-445b-bf3b-7c1da26162fd",
   "metadata": {},
   "outputs": [],
   "source": [
    "import pandas as pd\n",
    "import numpy as np\n",
    "from scipy import stats\n",
    "from statsmodels.stats.proportion import proportions_ztest\n",
    "import matplotlib.pyplot as plt\n",
    "import seaborn as sns\n",
    "from scipy.stats import kstest\n",
    "import re"
   ]
  },
  {
   "cell_type": "code",
   "execution_count": 2,
   "id": "582c8c76-843a-4d01-8c2c-67b38789da26",
   "metadata": {},
   "outputs": [],
   "source": [
    "df_hits = pd.read_csv('df_hits_clean.csv')"
   ]
  },
  {
   "cell_type": "code",
   "execution_count": 3,
   "id": "bf3abcea-b85d-491b-877b-6949946380ed",
   "metadata": {
    "scrolled": true
   },
   "outputs": [
    {
     "name": "stderr",
     "output_type": "stream",
     "text": [
      "C:\\Users\\derna\\AppData\\Local\\Temp\\ipykernel_12476\\2978817895.py:1: DtypeWarning: Columns (1) have mixed types. Specify dtype option on import or set low_memory=False.\n",
      "  df_sessions = pd.read_csv('df_sessions_clean.csv')\n"
     ]
    }
   ],
   "source": [
    "df_sessions = pd.read_csv('df_sessions_clean.csv')"
   ]
  },
  {
   "cell_type": "markdown",
   "id": "36b7f0fa-8a85-46cd-b11e-a030999368f2",
   "metadata": {},
   "source": [
    "# Проверка гипотез"
   ]
  },
  {
   "cell_type": "markdown",
   "id": "b3cd40cb-c3ed-4fdb-bf30-a2dcb8fdabed",
   "metadata": {},
   "source": [
    "## 1. Органический трафик не отличается от платного с точки зрения CR (Conversion Rate) в целевые события."
   ]
  },
  {
   "cell_type": "markdown",
   "id": "a22ae100-1bc8-445d-acc4-0f51c66f52c4",
   "metadata": {},
   "source": [
    "Гипотеза 1\n",
    "\n",
    "Органический трафик не отличается от платного с точки зрения CR\n",
    "(Conversion Rate) в целевые события.\n",
    "\n",
    "H0 (нулевая гипотеза): CR в органическом и платном трафике одинаковый.\n",
    "\n",
    "H1 (альтернатива): CR отличается.\n",
    "\n",
    "Если p-value < 0.05 → различие статистически значимо"
   ]
  },
  {
   "cell_type": "code",
   "execution_count": 10,
   "id": "a41d6918-735e-4d8a-b1ff-037abba11939",
   "metadata": {},
   "outputs": [],
   "source": [
    "#Создадим колонку is_target, в которой укажем было ли совершено целевое действие(1-совершено, 0-не совершено)"
   ]
  },
  {
   "cell_type": "code",
   "execution_count": 12,
   "id": "2bccf139-a67e-4e95-aa23-579c3d1d0eaf",
   "metadata": {},
   "outputs": [],
   "source": [
    "target_events = [\n",
    "    'sub_car_claim_click',\n",
    "    'sub_car_claim_submit_click',\n",
    "    'sub_open_dialog_click',\n",
    "    'sub_custom_question_submit_click',\n",
    "    'sub_call_number_click',\n",
    "    'sub_callback_submit_click',\n",
    "    'sub_submit_success',\n",
    "    'sub_car_request_submit_click'\n",
    "]\n",
    "\n",
    "df_hits['is_target'] = df_hits['event_action'].isin(target_events).astype(int)"
   ]
  },
  {
   "cell_type": "code",
   "execution_count": 13,
   "id": "51e3d88f-3ec7-46de-a471-4c58c570cf76",
   "metadata": {},
   "outputs": [
    {
     "data": {
      "text/plain": [
       "is_target\n",
       "0    15621562\n",
       "1      104908\n",
       "Name: count, dtype: int64"
      ]
     },
     "execution_count": 13,
     "metadata": {},
     "output_type": "execute_result"
    }
   ],
   "source": [
    "df_hits['is_target'].value_counts(dropna=False)"
   ]
  },
  {
   "cell_type": "code",
   "execution_count": null,
   "id": "32de7250-165f-4dbe-a100-6eaf18991f8a",
   "metadata": {},
   "outputs": [],
   "source": []
  },
  {
   "cell_type": "markdown",
   "id": "08a12660-81e7-4f61-8375-8b9772795b41",
   "metadata": {},
   "source": [
    "Добавим колонку traffic_type во фрейм sessions для определения типа трафика"
   ]
  },
  {
   "cell_type": "code",
   "execution_count": 18,
   "id": "321b9a3e-cf64-4407-b45c-a6c41388e221",
   "metadata": {},
   "outputs": [],
   "source": [
    "#отдельно выносим строки с is_target=1\n",
    "converted_sessions = df_hits.groupby('session_id')['is_target'].max().reset_index()\n",
    "\n",
    "# Помечаем тип трафика: органический или платный\n",
    "organic_mediums = ['organic', 'referral', '(none)']\n",
    "df_sessions['traffic_type'] = df_sessions['utm_medium'].apply(\n",
    "    lambda x: 'organic' if x in ['organic', 'referral', '(none)'] else ('paid' if x != 'other' else 'unknown'))"
   ]
  },
  {
   "cell_type": "code",
   "execution_count": 19,
   "id": "c1bde995-08f6-4979-9b3c-d93201210f02",
   "metadata": {},
   "outputs": [],
   "source": [
    "# Объединяем сессии с флагами конверсий\n",
    "df_combined = pd.merge(df_sessions, converted_sessions, on='session_id', how='left')\n",
    "df_combined['is_target'] = df_combined['is_target'].fillna(0).astype(int)"
   ]
  },
  {
   "cell_type": "code",
   "execution_count": 20,
   "id": "4321ca52-33cb-4d40-8f27-b039ce3b61a0",
   "metadata": {},
   "outputs": [
    {
     "name": "stdout",
     "output_type": "stream",
     "text": [
      "  traffic_type  conversions  total_sessions  conversion_rate\n",
      "0      organic        20812          515659         0.040360\n",
      "1         paid        29502         1344383         0.021945\n"
     ]
    }
   ],
   "source": [
    "# Считаем CR по типу трафика\n",
    "cr_by_traffic_type = df_combined.groupby('traffic_type')['is_target'].agg(\n",
    "    conversions='sum',\n",
    "    total_sessions='count'\n",
    ").reset_index()\n",
    "\n",
    "cr_by_traffic_type['conversion_rate'] = cr_by_traffic_type['conversions'] / cr_by_traffic_type['total_sessions']\n",
    "print(cr_by_traffic_type)"
   ]
  },
  {
   "cell_type": "code",
   "execution_count": 21,
   "id": "82cd3f30-e11e-4f3e-bc4f-9d47923eaa98",
   "metadata": {
    "scrolled": true
   },
   "outputs": [],
   "source": [
    "paid = df_combined[df_combined['traffic_type'] == 'paid']['is_target'].reset_index(drop=True)\n",
    "organic = df_combined[df_combined['traffic_type'] == 'organic']['is_target'].reset_index(drop=True)\n",
    "\n",
    "# количество значений paid и organic разное, возьмем минимальное значение длины, чтобы сделать две одинаковые выборки\n",
    "min_len = min(len(paid), len(organic))\n",
    "\n",
    "paid = paid[:min_len]\n",
    "organic = organic[:min_len]\n",
    "\n",
    "df_split = pd.DataFrame({\n",
    "    'paid_is_target': paid,\n",
    "    'organic_is_target': organic\n",
    "})"
   ]
  },
  {
   "cell_type": "code",
   "execution_count": 22,
   "id": "b349ccab-35bf-404a-b076-f95363cc972e",
   "metadata": {
    "scrolled": true
   },
   "outputs": [
    {
     "name": "stdout",
     "output_type": "stream",
     "text": [
      "Kolmogorov-Smirnov Test:\n",
      "Statistic: 0.9596399946476256, p-value: 0.0\n",
      "Kolmogorov-Smirnov Test:\n",
      "Statistic: 0.9783810619033121, p-value: 0.0\n"
     ]
    }
   ],
   "source": [
    "#тест Шапиро-Уилка плохо работает на больших выборках. Применим Kolmogorov–Smirnov test \n",
    "ks_stat, ks_pval = kstest(df_split['organic_is_target'], 'uniform')\n",
    "\n",
    "print(\"Kolmogorov-Smirnov Test:\")\n",
    "print(f\"Statistic: {ks_stat}, p-value: {ks_pval}\")\n",
    "\n",
    "ks_stat1, ks_pval1 = kstest(df_split['paid_is_target'], 'uniform')\n",
    "\n",
    "print(\"Kolmogorov-Smirnov Test:\")\n",
    "print(f\"Statistic: {ks_stat1}, p-value: {ks_pval1}\")"
   ]
  },
  {
   "cell_type": "markdown",
   "id": "ae194828-c415-403f-9c52-1fb176f0ae37",
   "metadata": {},
   "source": [
    "Выборки не распределены нормально. Попробуем применить Критерий Манна_Уитни, а также Z-тест для пропорций, который лучше подходит для сравнения частоты наступления успеха (1)"
   ]
  },
  {
   "cell_type": "code",
   "execution_count": 24,
   "id": "efabd56a-724b-488c-a325-7c67bb393c2d",
   "metadata": {
    "scrolled": true
   },
   "outputs": [
    {
     "name": "stdout",
     "output_type": "stream",
     "text": [
      "U-statistic: 130460437852.5, p-value: 0.0\n"
     ]
    }
   ],
   "source": [
    "stat, pval = stats.mannwhitneyu(df_split['paid_is_target'], df_split['organic_is_target'])\n",
    "print(f\"U-statistic: {stat}, p-value: {pval}\")"
   ]
  },
  {
   "cell_type": "code",
   "execution_count": 25,
   "id": "f0f73994-f5a9-413c-81e8-51be1aad3d31",
   "metadata": {},
   "outputs": [
    {
     "name": "stdout",
     "output_type": "stream",
     "text": [
      "Z-statistic: -54.91478506435708, p-value: 0.0\n"
     ]
    }
   ],
   "source": [
    "successes = [df_split['paid_is_target'].sum(), df_split['organic_is_target'].sum()]\n",
    "\n",
    "nobs = [len(df_split['paid_is_target']), len(df_split['organic_is_target'])]\n",
    "\n",
    "stat, pval = proportions_ztest(successes, nobs)\n",
    "\n",
    "print(f\"Z-statistic: {stat}, p-value: {pval}\")"
   ]
  },
  {
   "cell_type": "markdown",
   "id": "a54fc471-4c19-42be-ab4d-a5acbb00438e",
   "metadata": {},
   "source": [
    "___p-value меньше 0.05, отклоняем нулевую гипотезу о том, что доли успеха в двух группах равны___\n",
    "\n",
    "сделаем визуализацию, где посмотрем на доли успеха к общему количеству попыток"
   ]
  },
  {
   "cell_type": "code",
   "execution_count": 36,
   "id": "2a25e377-b6a5-4ccf-b1b0-95434872d8a0",
   "metadata": {},
   "outputs": [
    {
     "data": {
      "image/png": "[encoded data removed]",
      "text/plain": [
       "<Figure size 600x400 with 1 Axes>"
      ]
     },
     "metadata": {},
     "output_type": "display_data"
    }
   ],
   "source": [
    "paid_conversion_rate = df_split['paid_is_target'].mean()\n",
    "organic_conversion_rate = df_split['organic_is_target'].mean()\n",
    "\n",
    "# Подготовка данных для графика\n",
    "conversion_rates = [paid_conversion_rate, organic_conversion_rate]\n",
    "labels = ['Paid Traffic', 'Organic Traffic']\n",
    "\n",
    "# Построение столбчатой диаграммы\n",
    "plt.figure(figsize=(6, 4))\n",
    "bars = plt.bar(labels, conversion_rates, color=['#1f77b4', '#2ca02c'])\n",
    "\n",
    "# Подписи над столбцами\n",
    "for bar in bars:\n",
    "    height = bar.get_height()\n",
    "    plt.annotate(f'{height:.2%}', xy=(bar.get_x() + bar.get_width() / 2, height),\n",
    "                 xytext=(0, 5), textcoords=\"offset points\", ha='center', va='bottom')\n",
    "\n",
    "plt.title('Conversion Rate by Traffic Type')\n",
    "plt.ylabel('Conversion Rate')\n",
    "plt.ylim(0, max(conversion_rates) * 1.2)\n",
    "plt.grid(axis='y', linestyle='--', alpha=0.7)\n",
    "\n",
    "plt.tight_layout()\n",
    "plt.show()"
   ]
  },
  {
   "cell_type": "markdown",
   "id": "fa732660-f811-441c-ada4-0d6548a57320",
   "metadata": {},
   "source": [
    "CR органического трафика почти в 2 раза выше. Платный трафик отличается от органического с точки зрения CR"
   ]
  },
  {
   "cell_type": "markdown",
   "id": "a42034cb-d461-4ad1-bf32-65ec9f21a2c1",
   "metadata": {},
   "source": [
    "## 2. Трафик с мобильных устройств не отличается от трафика с десктопных устройств с точки зрения CR (Conversion Rate) в целевые события."
   ]
  },
  {
   "cell_type": "code",
   "execution_count": 40,
   "id": "c1a64839-8e0f-4f6c-a74d-bd20a004399d",
   "metadata": {},
   "outputs": [
    {
     "data": {
      "text/plain": [
       "array(['mobile', 'tablet', 'desktop'], dtype=object)"
      ]
     },
     "execution_count": 40,
     "metadata": {},
     "output_type": "execute_result"
    }
   ],
   "source": [
    "df_sessions['device_category'].unique()"
   ]
  },
  {
   "cell_type": "code",
   "execution_count": 42,
   "id": "517fcc17-85f4-4753-bf96-01ba50346778",
   "metadata": {},
   "outputs": [],
   "source": [
    "# категории tablet и mobile объеденяем, т к в данном случае для нас это одно и то же"
   ]
  },
  {
   "cell_type": "code",
   "execution_count": 44,
   "id": "ab9857a2-5e76-4510-a3af-b68e7568d509",
   "metadata": {},
   "outputs": [],
   "source": [
    "df_temp = df_combined.copy()\n",
    "\n",
    "df_temp['device_group'] = df_temp['device_category'].apply(\n",
    "    lambda x: 'desktop' if x in ['desktop'] else 'mobile')"
   ]
  },
  {
   "cell_type": "code",
   "execution_count": 45,
   "id": "da86c3f0-87be-43c5-ad44-ef2e4a25ea08",
   "metadata": {
    "scrolled": true
   },
   "outputs": [
    {
     "name": "stdout",
     "output_type": "stream",
     "text": [
      "  device_group  conversions  total_sessions  conversion_rate\n",
      "0      desktop        11513          366863         0.031382\n",
      "1       mobile        38801         1493179         0.025985\n"
     ]
    }
   ],
   "source": [
    "cr_by_device_type = df_temp.groupby('device_group')['is_target'].agg(\n",
    "    conversions='sum',\n",
    "    total_sessions='count'\n",
    ").reset_index()\n",
    "\n",
    "cr_by_device_type['conversion_rate'] = cr_by_device_type['conversions'] / cr_by_device_type['total_sessions']\n",
    "print(cr_by_device_type)"
   ]
  },
  {
   "cell_type": "code",
   "execution_count": 205,
   "id": "b2f59c5d-20e9-49eb-829c-d2914b5d7b3a",
   "metadata": {},
   "outputs": [],
   "source": [
    "#сделаем функцию, которая создает датафрейм для тестирования. Сравнивать будем CR по каждому календарному дню"
   ]
  },
  {
   "cell_type": "code",
   "execution_count": 48,
   "id": "a08e469b-56a1-4860-8059-77f06a7791dc",
   "metadata": {},
   "outputs": [],
   "source": [
    "def generate_df_for_ttest(df, attribute):\n",
    "\n",
    "    df_all = df.groupby(['visit_date']).agg({'session_id': 'nunique'}).reset_index()\n",
    "\n",
    "    df_true = df.loc[df[attribute] == True].groupby(['visit_date']).agg({'is_target': 'sum', 'session_id': 'nunique'}).reset_index()\n",
    "\n",
    "    df_true['cr_true'] = 100 * df_true['is_target'] / df_true['session_id']\n",
    "\n",
    "    df_true = df_true.drop(columns=['is_target', 'session_id'])\n",
    "\n",
    "    \n",
    "\n",
    "    df_false = df.loc[df[attribute] == False].groupby(['visit_date']).agg({'is_target': 'sum', 'session_id': 'nunique'}).reset_index()\n",
    "\n",
    "    df_false['cr_false'] = 100 * df_false['is_target'] / df_false['session_id']\n",
    "\n",
    "    df_false = df_false.drop(columns=['is_target', 'session_id'])\n",
    "\n",
    "    \n",
    "\n",
    "    df_all = df_all.merge(df_true, how='left', on='visit_date')\n",
    "\n",
    "    df_all = df_all.merge(df_false, how='left', on='visit_date')\n",
    "\n",
    "    df_all = df_all.drop(columns=['session_id']).reset_index(drop=True)\n",
    "\n",
    "    return df_all"
   ]
  },
  {
   "cell_type": "code",
   "execution_count": 52,
   "id": "778553a5-bf8e-4789-ba2b-e0ddb66155be",
   "metadata": {},
   "outputs": [],
   "source": [
    "df_temp['is_mobile'] = df_temp['device_group'] == 'mobile'"
   ]
  },
  {
   "cell_type": "code",
   "execution_count": 54,
   "id": "bf41b3a6-4294-473c-b8e1-0dac0a754bcf",
   "metadata": {},
   "outputs": [],
   "source": [
    "df_mobile_dist = generate_df_for_ttest(df_temp, 'is_mobile')"
   ]
  },
  {
   "cell_type": "code",
   "execution_count": 207,
   "id": "fecb8c38-0887-409d-b18a-a997f937dbae",
   "metadata": {},
   "outputs": [],
   "source": [
    "#Проверим нормально ли распределены данные."
   ]
  },
  {
   "cell_type": "code",
   "execution_count": 55,
   "id": "d0ad0900-576e-4497-aa04-c2f930983ca5",
   "metadata": {},
   "outputs": [
    {
     "name": "stdout",
     "output_type": "stream",
     "text": [
      "Kolmogorov-Smirnov Test:\n",
      "KS-тест: статистика = 0.1062, p-value = 0.1564\n"
     ]
    }
   ],
   "source": [
    "df_mobile_dist = df_mobile_dist.dropna(subset=['cr_true', 'cr_false'])\n",
    "\n",
    "print(\"Kolmogorov-Smirnov Test:\")\n",
    "ks_stat, ks_p = kstest(df_mobile_dist['cr_true'], df_mobile_dist['cr_false'])\n",
    "print(f\"KS-тест: статистика = {ks_stat:.4f}, p-value = {ks_p:.4f}\")"
   ]
  },
  {
   "cell_type": "code",
   "execution_count": 211,
   "id": "df88f088-a584-4836-8569-ca369c75f0f6",
   "metadata": {},
   "outputs": [],
   "source": [
    "#p > 0.05, распределение можно считать нормальным. Проверим дисперсии."
   ]
  },
  {
   "cell_type": "code",
   "execution_count": 56,
   "id": "7da53224-b9ba-4830-8f85-1a4d6d664384",
   "metadata": {},
   "outputs": [
    {
     "name": "stdout",
     "output_type": "stream",
     "text": [
      "Тест Левена: статистика = 20.7936, p-value = 0.0000\n"
     ]
    }
   ],
   "source": [
    "levene_stat, levene_p = stats.levene(df_mobile_dist['cr_true'], df_mobile_dist['cr_false'])\n",
    "\n",
    "print(f\"Тест Левена: статистика = {levene_stat:.4f}, p-value = {levene_p:.4f}\")"
   ]
  },
  {
   "cell_type": "code",
   "execution_count": 209,
   "id": "1facb39c-de61-4c77-9f7c-c4cb8556c75a",
   "metadata": {},
   "outputs": [
    {
     "name": "stdout",
     "output_type": "stream",
     "text": [
      "Т-критерий Уэлча: t-статистика = -2.6606, p-value = 0.0081\n"
     ]
    }
   ],
   "source": [
    "#Дисперсии отличаются. Проведем t-тест Уэлча\n",
    "\n",
    "df_mobile_dist = df_mobile_dist.dropna(subset=['cr_true', 'cr_false'])\n",
    "\n",
    "stat, p_value = stats.ttest_ind(df_mobile_dist['cr_true'], df_mobile_dist['cr_false'], equal_var=False)\n",
    "\n",
    "print(f\"Т-критерий Уэлча: t-статистика = {stat:.4f}, p-value = {p_value:.4f}\")"
   ]
  },
  {
   "cell_type": "markdown",
   "id": "da51de52-9d1f-4e06-b1a0-e7b74dbb1113",
   "metadata": {},
   "source": [
    "Так как p-value = 0.0081 < 0.05, мы отвергаем нулевую гипотезу.\n",
    "\n",
    "Это означает, что средние значения конверсий в группах cr_true и cr_false статистически различаются.\n",
    "\n",
    "Для наглядности визуализируем данные."
   ]
  },
  {
   "cell_type": "code",
   "execution_count": 217,
   "id": "654dae7f-733a-43fc-87c9-3ca30440496f",
   "metadata": {},
   "outputs": [
    {
     "data": {
      "image/png": "[encoded data removed]",
      "text/plain": [
       "<Figure size 600x400 with 1 Axes>"
      ]
     },
     "metadata": {},
     "output_type": "display_data"
    }
   ],
   "source": [
    "desc_conversion_rate = cr_by_device_type['conversion_rate'][0]\n",
    "mob_conversion_rate = cr_by_device_type['conversion_rate'][1]\n",
    "\n",
    "# Подготовка данных для графика\n",
    "conversion_rates = [desc_conversion_rate, mob_conversion_rate]\n",
    "labels = ['Desctop Traffic', 'Mobile Traffic']\n",
    "\n",
    "# Построение столбчатой диаграммы\n",
    "plt.figure(figsize=(6, 4))\n",
    "bars = plt.bar(labels, conversion_rates, color=['#1f77b4', '#2ca02c'])\n",
    "\n",
    "# Подписи над столбцами\n",
    "for bar in bars:\n",
    "    height = bar.get_height()\n",
    "    plt.annotate(f'{height:.2%}', xy=(bar.get_x() + bar.get_width() / 2, height),\n",
    "                 xytext=(0, 5), textcoords=\"offset points\", ha='center', va='bottom')\n",
    "\n",
    "plt.title('Conversion Rate by Device type')\n",
    "plt.ylabel('Conversion Rate')\n",
    "plt.ylim(0, max(conversion_rates) * 1.2)\n",
    "plt.grid(axis='y', linestyle='--', alpha=0.7)\n",
    "\n",
    "plt.tight_layout()"
   ]
  },
  {
   "cell_type": "markdown",
   "id": "53307f54-9cad-445e-b1ad-460b5d3735e6",
   "metadata": {},
   "source": [
    "## 3. Трафик из городов присутствия (Москва и область, Санкт-Петербург) не отличается от трафика из иных регионов с точки зрения CR (Conversion Rate) в целевые события."
   ]
  },
  {
   "cell_type": "code",
   "execution_count": 72,
   "id": "6651eca9-6662-4acf-a28e-79fd2448cba5",
   "metadata": {
    "scrolled": true
   },
   "outputs": [
    {
     "data": {
      "text/plain": [
       "geo_country\n",
       "Russia                 1800565\n",
       "United States            11784\n",
       "Ukraine                   9012\n",
       "Ireland                   4034\n",
       "Belarus                   3636\n",
       "                        ...   \n",
       "Zambia                       1\n",
       "Malawi                       1\n",
       "Réunion                      1\n",
       "Barbados                     1\n",
       "Congo - Brazzaville          1\n",
       "Name: count, Length: 166, dtype: int64"
      ]
     },
     "execution_count": 72,
     "metadata": {},
     "output_type": "execute_result"
    }
   ],
   "source": [
    "df_combined['geo_country'].value_counts(dropna=False)"
   ]
  },
  {
   "cell_type": "code",
   "execution_count": 74,
   "id": "452bbdd9-f236-4d9a-b9fc-f17402cb379c",
   "metadata": {},
   "outputs": [],
   "source": [
    "#Оставим для проверки гипотезы только Россию"
   ]
  },
  {
   "cell_type": "code",
   "execution_count": 76,
   "id": "525e7249-3d10-4354-bb70-5e8137fb1aea",
   "metadata": {},
   "outputs": [],
   "source": [
    "df_russia = df_combined[df_combined['geo_country'] == 'Russia']"
   ]
  },
  {
   "cell_type": "code",
   "execution_count": 78,
   "id": "b1e9f845-f319-478d-86bf-8c31ca1a5082",
   "metadata": {},
   "outputs": [
    {
     "data": {
      "text/plain": [
       "geo_city\n",
       "Moscow                        805329\n",
       "Saint Petersburg              296788\n",
       "(not set)                      70021\n",
       "Yekaterinburg                  35788\n",
       "Krasnodar                      32243\n",
       "                               ...  \n",
       "Menzelinsk                         1\n",
       "Slavyanka                          1\n",
       "Aleksandrovsk-Sakhalinskiy         1\n",
       "9992                               1\n",
       "Beslan                             1\n",
       "Name: count, Length: 506, dtype: int64"
      ]
     },
     "execution_count": 78,
     "metadata": {},
     "output_type": "execute_result"
    }
   ],
   "source": [
    "df_russia['geo_city'].value_counts(dropna=False)"
   ]
  },
  {
   "cell_type": "code",
   "execution_count": 80,
   "id": "e04549b0-6980-423e-8bff-aecd19b69c7e",
   "metadata": {},
   "outputs": [],
   "source": [
    "df_rus = df_russia.copy()\n",
    "\n",
    "df_rus['region_group'] = df_rus['geo_city'].apply(\n",
    "    lambda x: 'Moscow_SpB' if x in ['Moscow', 'Saint Petersburg'] else 'Regions')"
   ]
  },
  {
   "cell_type": "code",
   "execution_count": 81,
   "id": "c8227af0-d093-4460-adf0-fe4e4f9633ee",
   "metadata": {},
   "outputs": [
    {
     "name": "stdout",
     "output_type": "stream",
     "text": [
      "  region_group  conversions  total_sessions  conversion_rate\n",
      "0   Moscow_SpB        30742         1102117         0.027894\n",
      "1      Regions        18414          698448         0.026364\n"
     ]
    }
   ],
   "source": [
    "cr_by_region = df_rus.groupby('region_group')['is_target'].agg(\n",
    "    conversions='sum',\n",
    "    total_sessions='count'\n",
    ").reset_index()\n",
    "\n",
    "cr_by_region['conversion_rate'] = cr_by_region['conversions'] / cr_by_region['total_sessions']\n",
    "print(cr_by_region)"
   ]
  },
  {
   "cell_type": "code",
   "execution_count": 82,
   "id": "7eaab1c2-5a5e-46c0-8818-ae945e015a23",
   "metadata": {},
   "outputs": [],
   "source": [
    "df_rus['is_moscow'] = df_rus['region_group'] == 'Moscow_SpB'"
   ]
  },
  {
   "cell_type": "code",
   "execution_count": 85,
   "id": "348fad7f-9903-4508-b1c3-61a2f8a5619b",
   "metadata": {},
   "outputs": [],
   "source": [
    "df_region_dist = generate_df_for_ttest(df_rus, 'is_moscow')"
   ]
  },
  {
   "cell_type": "code",
   "execution_count": 87,
   "id": "e18d21eb-d836-4ddb-8979-f86aa4b8f968",
   "metadata": {
    "scrolled": true
   },
   "outputs": [
    {
     "name": "stdout",
     "output_type": "stream",
     "text": [
      "Kolmogorov-Smirnov Test:\n",
      "KS-тест: статистика = 0.1372, p-value = 0.0284\n"
     ]
    }
   ],
   "source": [
    "df_region_dist = df_region_dist.dropna(subset=['cr_true', 'cr_false'])\n",
    "\n",
    "print(\"Kolmogorov-Smirnov Test:\")\n",
    "ks_stat, ks_p = kstest(df_region_dist['cr_true'], df_region_dist['cr_false'])\n",
    "print(f\"KS-тест: статистика = {ks_stat:.4f}, p-value = {ks_p:.4f}\")"
   ]
  },
  {
   "cell_type": "code",
   "execution_count": 88,
   "id": "90d4361e-0829-43ac-b3d2-bc2d34f574a0",
   "metadata": {},
   "outputs": [
    {
     "name": "stdout",
     "output_type": "stream",
     "text": [
      "Манна-Уитни: статистика = 26428.0000, p-value = 0.5218\n"
     ]
    }
   ],
   "source": [
    "# Нулевая гипотеза (H0): Распределения конверсий (CR) у трафика из Москвы и Санкт-Петербурга и трафика из других регионов одинаковы.\n",
    "# Альтернативная гипотеза (H1): Распределения конверсий различаются.\n",
    "\n",
    "stat, p_value = stats.mannwhitneyu(df_region_dist['cr_true'], df_region_dist['cr_false'], alternative='two-sided')\n",
    "\n",
    "print(f\"Манна-Уитни: статистика = {stat:.4f}, p-value = {p_value:.4f}\")"
   ]
  },
  {
   "cell_type": "code",
   "execution_count": null,
   "id": "4f2d66b1-2571-4f61-8392-0fcd6dadc961",
   "metadata": {},
   "outputs": [],
   "source": []
  },
  {
   "cell_type": "markdown",
   "id": "18cc1f9a-7a12-440c-a29a-eab7b0fb4ce5",
   "metadata": {},
   "source": [
    "Так как p-value = 0.5218 > 0.05, мы не отвергаем нулевую гипотезу.\n",
    "\n",
    "Это означает, что нет статистически значимых различий между группами cr_true и cr_false по сравнению с их распределениями.\n",
    "\n",
    "Сделаем и здесь визуализацию."
   ]
  },
  {
   "cell_type": "code",
   "execution_count": 103,
   "id": "b3a76623-a985-429d-9836-8fb6ba0808cc",
   "metadata": {},
   "outputs": [
    {
     "data": {
      "image/png": "[encoded data removed]",
      "text/plain": [
       "<Figure size 600x400 with 1 Axes>"
      ]
     },
     "metadata": {},
     "output_type": "display_data"
    }
   ],
   "source": [
    "moscow_conversion_rate = cr_by_region['conversion_rate'][0]\n",
    "region_conversion_rate = cr_by_region['conversion_rate'][1]\n",
    "\n",
    "# Подготовка данных для графика\n",
    "conversion_rates = [moscow_conversion_rate, region_conversion_rate]\n",
    "labels = ['Moscow_SpB_ Traffic', 'Region Traffic']\n",
    "\n",
    "# Построение столбчатой диаграммы\n",
    "plt.figure(figsize=(6, 4))\n",
    "bars = plt.bar(labels, conversion_rates, color=['#1f77b4', '#2ca02c'])\n",
    "\n",
    "# Подписи над столбцами\n",
    "for bar in bars:\n",
    "    height = bar.get_height()\n",
    "    plt.annotate(f'{height:.2%}', xy=(bar.get_x() + bar.get_width() / 2, height),\n",
    "                 xytext=(0, 5), textcoords=\"offset points\", ha='center', va='bottom')\n",
    "\n",
    "plt.title('Conversion Rate by region')\n",
    "plt.ylabel('Conversion Rate')\n",
    "plt.ylim(0, max(conversion_rates) * 1.2)\n",
    "plt.grid(axis='y', linestyle='--', alpha=0.7)\n",
    "\n",
    "plt.tight_layout()"
   ]
  },
  {
   "cell_type": "markdown",
   "id": "561a9f89-70d9-4ace-a277-d4673f71170d",
   "metadata": {},
   "source": [
    "# Ответы на вопросы продуктовой компании"
   ]
  },
  {
   "cell_type": "markdown",
   "id": "57179a9a-013f-4456-96f2-42270ebdb4e5",
   "metadata": {},
   "source": [
    "## 1. Из каких источников (кампаний, устройств, локаций) к нам идёт самый целевой трафик (и с точки зрения объёма трафика, и с точки зрения CR)?"
   ]
  },
  {
   "cell_type": "code",
   "execution_count": 95,
   "id": "ef4b9d7b-93e4-484d-8197-4e94a0da0586",
   "metadata": {},
   "outputs": [],
   "source": [
    "#Брать к расчету CR данные будем те, где total_sessions более 3000"
   ]
  },
  {
   "cell_type": "code",
   "execution_count": 97,
   "id": "03fdde18-cb45-4a85-b6d1-bb251bc5d885",
   "metadata": {
    "scrolled": true
   },
   "outputs": [
    {
     "name": "stderr",
     "output_type": "stream",
     "text": [
      "C:\\Users\\derna\\AppData\\Local\\Temp\\ipykernel_12476\\3611829325.py:7: SettingWithCopyWarning: \n",
      "A value is trying to be set on a copy of a slice from a DataFrame.\n",
      "Try using .loc[row_indexer,col_indexer] = value instead\n",
      "\n",
      "See the caveats in the documentation: https://pandas.pydata.org/pandas-docs/stable/user_guide/indexing.html#returning-a-view-versus-a-copy\n",
      "  filtered_cr_by_camp['conversion_rate'] = filtered_cr_by_camp['conversions'] / filtered_cr_by_camp['total_sessions']\n",
      "C:\\Users\\derna\\AppData\\Local\\Temp\\ipykernel_12476\\3611829325.py:23: SettingWithCopyWarning: \n",
      "A value is trying to be set on a copy of a slice from a DataFrame.\n",
      "Try using .loc[row_indexer,col_indexer] = value instead\n",
      "\n",
      "See the caveats in the documentation: https://pandas.pydata.org/pandas-docs/stable/user_guide/indexing.html#returning-a-view-versus-a-copy\n",
      "  filtered_cr_by_location['conversion_rate'] = filtered_cr_by_location['conversions'] / filtered_cr_by_location['total_sessions']\n"
     ]
    }
   ],
   "source": [
    "#Расчёт CR по кампаниям\n",
    "cr_by_campaign = df_combined.groupby('utm_campaign')['is_target'].agg(\n",
    "    conversions='sum',\n",
    "    total_sessions='count'\n",
    ").reset_index()\n",
    "filtered_cr_by_camp = cr_by_campaign[cr_by_campaign['total_sessions'] > 3000]\n",
    "filtered_cr_by_camp['conversion_rate'] = filtered_cr_by_camp['conversions'] / filtered_cr_by_camp['total_sessions']\n",
    "\n",
    "#Расчёт CR по устройствам (mobile, desktop, tablet)\n",
    "cr_by_device = df_combined.groupby('device_category')['is_target'].agg(\n",
    "    conversions='sum',\n",
    "    total_sessions='count'\n",
    ").reset_index()\n",
    "filtered_cr_by_device = cr_by_device[cr_by_device['total_sessions'] > 3000]\n",
    "filtered_cr_by_device['conversion_rate'] = filtered_cr_by_device['conversions'] / filtered_cr_by_device['total_sessions']\n",
    "\n",
    "#Расчёт CR по локациям (города России)\n",
    "cr_by_location = df_combined.groupby('geo_city')['is_target'].agg(\n",
    "    conversions='sum',\n",
    "    total_sessions='count'\n",
    ").reset_index()\n",
    "filtered_cr_by_location = cr_by_location[cr_by_location['total_sessions'] > 3000]\n",
    "filtered_cr_by_location['conversion_rate'] = filtered_cr_by_location['conversions'] / filtered_cr_by_location['total_sessions']"
   ]
  },
  {
   "cell_type": "code",
   "execution_count": 182,
   "id": "ebeaebf1-afae-469b-9568-45149acc1168",
   "metadata": {},
   "outputs": [],
   "source": [
    "top3_campaign_by_volume = cr_by_campaign.sort_values('total_sessions', ascending=False).head(3)\n",
    "top3_device_by_volume = cr_by_device.sort_values('total_sessions', ascending=False).head(3)\n",
    "top3_location_by_volume = cr_by_location.sort_values('total_sessions', ascending=False).head(3)\n",
    "\n",
    "top3_campaign_by_cr = filtered_cr_by_camp.sort_values('conversion_rate', ascending=False).head(3)\n",
    "top3_device_by_cr = filtered_cr_by_device.sort_values('conversion_rate', ascending=False).head(3)\n",
    "top3_location_by_cr = filtered_cr_by_location.sort_values('conversion_rate', ascending=False).head(3)"
   ]
  },
  {
   "cell_type": "code",
   "execution_count": 185,
   "id": "e7115938-e56d-4fb7-a37f-529c515a89b5",
   "metadata": {},
   "outputs": [
    {
     "name": "stdout",
     "output_type": "stream",
     "text": [
      "🔥 Топ-3 источников с наибольшим объемом трафика (по total_sessions):\n",
      "_________________________\n",
      "🎯 Топ-3 по кампаниям:\n",
      "            utm_campaign  total_sessions\n",
      "88  LTuZkdKfxRGVceoWkVyg          463481\n",
      "85  LEoPHuyFvzoNfnzGgfcd          324044\n",
      "40  FTjNLDyTrXaWYgZymFkV          247360\n",
      "_________________________\n",
      "🎯 Топ-3 по устройствам:\n",
      "  device_category  total_sessions\n",
      "1          mobile         1474871\n",
      "0         desktop          366863\n",
      "2          tablet           18308\n",
      "_________________________\n",
      "🎯 Топ-3 по локациям:\n",
      "              geo_city  total_sessions\n",
      "1434            Moscow          805329\n",
      "1930  Saint Petersburg          296788\n",
      "1            (not set)           78172\n",
      "______________________________________________________\n",
      "\n",
      "🔥 Топ-3 источников с наибольшим Conversion Rate (CR):\n",
      "_________________________\n",
      "🎯 Топ-3 по кампаниям:\n",
      "             utm_campaign  conversion_rate\n",
      "266  hkvDVxqLOzGjGaoNiNzN         0.041395\n",
      "88   LTuZkdKfxRGVceoWkVyg         0.041007\n",
      "50   HEimDfYZIzuQXDZAAcEW         0.034863\n",
      "_________________________\n",
      "🎯 Топ-3 по устройствам:\n",
      "  device_category  conversion_rate\n",
      "0         desktop         0.031382\n",
      "1          mobile         0.026022\n",
      "2          tablet         0.023050\n",
      "_________________________\n",
      "🎯 Топ-3 по локациям:\n",
      "        geo_city  conversion_rate\n",
      "578   Domodedovo         0.065131\n",
      "2138   Stavropol         0.041124\n",
      "1003       Kazan         0.038570\n"
     ]
    }
   ],
   "source": [
    "print(\"🔥 Топ-3 источников с наибольшим объемом трафика (по total_sessions):\")\n",
    "print(\"_________________________\")\n",
    "print(\"🎯 Топ-3 по кампаниям:\")\n",
    "print(top3_campaign_by_volume[['utm_campaign', 'total_sessions']])\n",
    "print(\"_________________________\")\n",
    "print(\"🎯 Топ-3 по устройствам:\")\n",
    "print(top3_device_by_volume[['device_category', 'total_sessions']])\n",
    "print(\"_________________________\")\n",
    "print(\"🎯 Топ-3 по локациям:\")\n",
    "print(top3_location_by_volume[['geo_city', 'total_sessions']])\n",
    "\n",
    "print(\"______________________________________________________\")\n",
    "print(\"\\n🔥 Топ-3 источников с наибольшим Conversion Rate (CR):\")\n",
    "print(\"_________________________\")\n",
    "print(\"🎯 Топ-3 по кампаниям:\")\n",
    "print(top3_campaign_by_cr[['utm_campaign', 'conversion_rate']])\n",
    "print(\"_________________________\")\n",
    "print(\"🎯 Топ-3 по устройствам:\")\n",
    "print(top3_device_by_cr[['device_category', 'conversion_rate']])\n",
    "print(\"_________________________\")\n",
    "print(\"🎯 Топ-3 по локациям:\")\n",
    "print(top3_location_by_cr[['geo_city', 'conversion_rate']])"
   ]
  },
  {
   "cell_type": "code",
   "execution_count": null,
   "id": "9e0f7f6d-4309-4a25-a465-dd0d4d2a55f6",
   "metadata": {},
   "outputs": [],
   "source": []
  },
  {
   "cell_type": "markdown",
   "id": "ab4cf004-fdfb-4c9c-9988-7ff730c5df39",
   "metadata": {},
   "source": [
    "___Выводы:___\n",
    "\n",
    "1. Топ-3 источников с наибольшим объёмом трафика (по total_sessions)\n",
    "Кампании:\n",
    "\n",
    "___LTuZkdKfxRGVceoWkVyg (463,481 сессий)___ — кампания с наибольшим количеством сессий, что означает, что она привлекла больше всего пользователей.\n",
    "\n",
    "___LEoPHuyFvzoNfnzGgfcd (324,044 сессий)___ — следующая по величине кампания, которая также привлекла много пользователей.\n",
    "\n",
    "___FTjNLDyTrXaWYgZymFkV (247,360 сессий)___ — ещё одна кампания с большим объёмом трафика.\n",
    "\n",
    "Устройства:\n",
    "\n",
    "___Mobile (1,474,871 сессий)___ — мобильные устройства составляют наибольшую часть трафика, что подтверждает общую тенденцию роста мобильного интернета.\n",
    "\n",
    "___Desktop (366,863 сессий)___ — трафик с десктопных устройств значительно меньше, но всё ещё значителен.\n",
    "\n",
    "___Tablet (18,308 сессий)___ — трафик с планшетов значительно меньше по сравнению с мобильными устройствами и десктопами.\n",
    "\n",
    "Локации (города):\n",
    "\n",
    "___Moscow (805 329 сессий)___ — Москва является крупнейшим источником трафика.\n",
    "\n",
    "___Saint Petersburg (296 788 сессий)___ — трафик из СПБ намного меньше, чем из Москвы.\n",
    "\n",
    "___(not set) (78172 сессий)___ — Сессий где город не определен достаточно много.\n",
    "\n",
    "Выводы:\n",
    "\n",
    "Мобильные устройства и Россия — главные источники трафика, что подтверждает тренд на мобильный интернет и высокую активность пользователей в России.\n",
    "\n",
    "Кампании с большим объёмом трафика могут требовать больше внимания для оптимизации, так как они приводят к большому количеству сессий, но не обязательно приводят к большому числу конверсий.\n",
    "\n",
    "2. Топ-3 источников с наибольшим Conversion Rate (CR)\n",
    "1. Кампании\n",
    "\n",
    "Кампания\tConversion Rate\n",
    "\n",
    "___hkvDVxqLOzGjGaoNiNzN\t4.14%___\n",
    "\n",
    "___LTuZkdKfxRGVceoWkVyg\t4.10%___\n",
    "\n",
    "___HEimDfYZIzuQXDZAAcEW\t3.49%___\n",
    "\n",
    "Выводы:\n",
    "\n",
    "Эти кампании показывают значительно более высокий CR, чем в среднем, особенно первая (более 4%).\n",
    "\n",
    "Возможно, именно в этих кампаниях наиболее качественный трафик (релевантная аудитория, удачное предложение, эффективные креативы).\n",
    "\n",
    "Рекомендуется проанализировать креативы, офферы и каналы этих кампаний и масштабировать лучшие практики.\n",
    "\n",
    "2. Устройства\n",
    "\n",
    "Устройство\tConversion Rate\n",
    "\n",
    "___Desktop\t3.14%___\n",
    "\n",
    "___Mobile\t2.60%___\n",
    "\n",
    "___Tablet\t2.31%___\n",
    "\n",
    "Выводы:\n",
    "\n",
    "Пользователи с десктопов совершают конверсии чаще, чем с мобильных устройств.\n",
    "\n",
    "Возможные причины: удобство интерфейса, более осознанный выбор, доверие к сайту выше на десктопе.\n",
    "\n",
    "Рекомендуется протестировать улучшения мобильной версии сайта (скорость загрузки, простота формы заявки и т.д.).\n",
    "\n",
    "3. География\n",
    "\n",
    "Город\tConversion Rate\n",
    "\n",
    "___Domodedovo\t6.51%___\n",
    "\n",
    "___Stavropol\t4.11%___\n",
    "\n",
    "___Kazan\t3.86%___\n",
    "\n",
    "Выводы:\n",
    "\n",
    "В Домодедово конверсия заметно выше остальных городов — это может быть связано с хорошим оффером, активной рекламной кампанией или специфическим спросом. (Вероятно это связано с аэропортом)\n",
    "\n",
    "Рекомендуется глубже изучить характеристики трафика из этих городов: какие каналы приводят пользователей, какие авто чаще интересуют и т.д.\n",
    "\n",
    "Эти регионы могут стать приоритетом при запуске новых кампаний."
   ]
  },
  {
   "cell_type": "markdown",
   "id": "b67e0b53-8302-4738-bed4-93bd2fa3333e",
   "metadata": {},
   "source": [
    "## 2. Какие авто пользуются наибольшим спросом? У каких авто самый лучший показатель CR (Conversion Rate) в целевые события?"
   ]
  },
  {
   "cell_type": "markdown",
   "id": "00d8ed82-c489-4f7d-ab80-182e9c4f3b5e",
   "metadata": {},
   "source": [
    "### Топ автомобилей по спросу"
   ]
  },
  {
   "cell_type": "code",
   "execution_count": 111,
   "id": "9f36e58c-21f5-4d05-8329-483333be93f2",
   "metadata": {},
   "outputs": [],
   "source": [
    "df_hits_reduced = df_hits[['session_id', 'hit_page_path']]"
   ]
  },
  {
   "cell_type": "code",
   "execution_count": 112,
   "id": "66f92cb4-9bc5-4118-a3bb-9aade8086b22",
   "metadata": {},
   "outputs": [],
   "source": [
    "df_combined_reduced = df_combined[['session_id', 'is_target']]"
   ]
  },
  {
   "cell_type": "code",
   "execution_count": 113,
   "id": "45db83c4-1586-47b3-8861-cf2ef9c2da69",
   "metadata": {},
   "outputs": [],
   "source": [
    "df_combined_cars = df_combined_reduced.merge(df_hits_reduced, on='session_id', how='left')"
   ]
  },
  {
   "cell_type": "code",
   "execution_count": 221,
   "id": "3ba2d20e-13e6-4d7d-8bd7-693e4d726428",
   "metadata": {},
   "outputs": [
    {
     "name": "stdout",
     "output_type": "stream",
     "text": [
      "🎯 Топ-15 автомобилей по спросу:\n",
      "                                            hit_page_path  total_sessions\n",
      "3078                               podpiska.sberauto.com/         2790578\n",
      "294893  sberauto.com/cars?city=1&rental_page=rental_on...         1103282\n",
      "322943  sberauto.com/cars?utm_source_initial=sbol&utm_...          754215\n",
      "272566  sberauto.com/cars/f28947a1?rental_page=rental_car          264878\n",
      "247936  sberauto.com/cars/bf24b977?rental_page=rental_car          263966\n",
      "322927  sberauto.com/cars?utm_source_initial=sbol&utm_...          257588\n",
      "292857  sberauto.com/cars?city=1&city=18&rental_page=r...          198943\n",
      "252286  sberauto.com/cars/bfc21661?rental_page=rental_car          187602\n",
      "136405  sberauto.com/cars/2fc745ed?rental_page=rental_car          168381\n",
      "220634  sberauto.com/cars/all/skoda/rapid/bf24b977?ren...          168055\n",
      "147878  sberauto.com/cars/7a3f9330?rental_page=rental_car          153775\n",
      "264825  sberauto.com/cars/e994838f?rental_page=rental_car          150493\n",
      "322963  sberauto.com/cars?utm_source_initial=sbol&utm_...          150149\n",
      "322959  sberauto.com/cars?utm_source_initial=sbol&utm_...          145170\n",
      "171705  sberauto.com/cars/all/lada-vaz/vesta/2fc745ed?...          144094\n"
     ]
    }
   ],
   "source": [
    "cr_by_car = df_combined_cars.groupby('hit_page_path')['is_target'].agg(\n",
    "    conversions='sum',\n",
    "    total_sessions='count'\n",
    ").reset_index()\n",
    "\n",
    "top15_device_by_car = cr_by_car.sort_values('total_sessions', ascending=False).head(15)\n",
    "\n",
    "print(\"🎯 Топ-15 автомобилей по спросу:\")\n",
    "print(top15_device_by_car[['hit_page_path', 'total_sessions']])"
   ]
  },
  {
   "cell_type": "code",
   "execution_count": 119,
   "id": "d89c35f0-4f8a-4fd8-94de-472c9f426521",
   "metadata": {},
   "outputs": [],
   "source": [
    "# мы видим что нужные нам строки отобрaжаются по такой маске sberauto.com/cars/all/lada-vaz/vesta/2fc745ed\n",
    "# покажем только значения которые начинаются с sberauto.com/cars/all/"
   ]
  },
  {
   "cell_type": "code",
   "execution_count": 121,
   "id": "0f19d4ad-8519-41be-af32-a5528bba171b",
   "metadata": {},
   "outputs": [],
   "source": [
    "filtered_df_cars = df_combined_cars[df_combined_cars['hit_page_path'].str.startswith('sberauto.com/cars/all/', na=False)]"
   ]
  },
  {
   "cell_type": "code",
   "execution_count": 122,
   "id": "24133e8d-0c50-428b-87ec-276ea4e7e03d",
   "metadata": {
    "scrolled": true
   },
   "outputs": [
    {
     "name": "stdout",
     "output_type": "stream",
     "text": [
      "🎯 Топ-15 автомобилей по объему трафика:\n",
      "                                           hit_page_path  total_sessions\n",
      "63690  sberauto.com/cars/all/skoda/rapid/bf24b977?ren...          168055\n",
      "14761  sberauto.com/cars/all/lada-vaz/vesta/2fc745ed?...          144094\n",
      "76737  sberauto.com/cars/all/volkswagen/polo/e994838f...          114650\n",
      "58264  sberauto.com/cars/all/skoda/karoq/94b3d18e?ren...           82026\n",
      "21551  sberauto.com/cars/all/lada-vaz/vesta/2fc745ed?...           67571\n",
      "71407  sberauto.com/cars/all/skoda/rapid/bf24b977?utm...           67218\n",
      "26867  sberauto.com/cars/all/mercedes-benz/e-klasse/d...           61355\n",
      "44131  sberauto.com/cars/all/nissan/qashqai/bfc21661?...           55670\n",
      "71426  sberauto.com/cars/all/skoda/rapid/bf24b977?utm...           41630\n",
      "81493  sberauto.com/cars/all/volkswagen/polo/e994838f...           40600\n",
      "54764  sberauto.com/cars/all/renault/duster/145d53f1?...           37175\n",
      "62099  sberauto.com/cars/all/skoda/octavia/4791c8b2?r...           34724\n",
      "21540  sberauto.com/cars/all/lada-vaz/vesta/2fc745ed?...           33909\n",
      "81501  sberauto.com/cars/all/volkswagen/polo/e994838f...           32556\n",
      "49244  sberauto.com/cars/all/nissan/x-trail/0744675f?...           32363\n"
     ]
    }
   ],
   "source": [
    "cr_by_car_new = filtered_df_cars.groupby('hit_page_path')['is_target'].agg(\n",
    "    conversions='sum',\n",
    "    total_sessions='count'\n",
    ").reset_index()\n",
    "\n",
    "top15_device_by_car_new = cr_by_car_new.sort_values('total_sessions', ascending=False)\n",
    "\n",
    "print(\"🎯 Топ-15 автомобилей по объему трафика:\")\n",
    "print(top15_device_by_car_new[['hit_page_path', 'total_sessions']].head(15))"
   ]
  },
  {
   "cell_type": "code",
   "execution_count": 125,
   "id": "eee305fc-d3e9-41da-9509-e03992610170",
   "metadata": {},
   "outputs": [],
   "source": [
    "#сделаем понятную таблицу и просуммируем одни и те же машины, которые встречались по разным ссылкам."
   ]
  },
  {
   "cell_type": "code",
   "execution_count": 127,
   "id": "0eae88a5-b806-4832-ab42-9e4bd6dd72d6",
   "metadata": {},
   "outputs": [],
   "source": [
    "def extract_car_brand_and_model(hit_page_path):\n",
    "    match = re.search(r'sberauto\\.com/cars/all/([^/]+)/([^/]+)', hit_page_path)\n",
    "    if match:\n",
    "        return f'{match.group(1)} {match.group(2)}'.lower()\n",
    "    return 'unknown'\n",
    "    \n",
    "top15_device_by_car_new['car'] = top15_device_by_car_new['hit_page_path'].apply(extract_car_brand_and_model)\n",
    "\n",
    "# Группируем по 'car' и суммируем total_sessions\n",
    "result_grouped = (\n",
    "    top15_device_by_car_new\n",
    "    .groupby('car', as_index=False)['total_sessions']\n",
    "    .sum()\n",
    "    .sort_values('total_sessions', ascending=False)\n",
    ")\n",
    "\n",
    "result_grouped = result_grouped.reset_index(drop=True)\n",
    "result_grouped.index += 1"
   ]
  },
  {
   "cell_type": "markdown",
   "id": "537ae6e8-e16d-4ac8-9189-469045cd2642",
   "metadata": {},
   "source": [
    "___Топ 15 автомобилей по объему спроса:___"
   ]
  },
  {
   "cell_type": "code",
   "execution_count": 140,
   "id": "16367e1b-1fa6-46c7-b295-d9acb51f336a",
   "metadata": {
    "scrolled": true
   },
   "outputs": [
    {
     "data": {
      "text/html": [
       "<div>\n",
       "<style scoped>\n",
       "    .dataframe tbody tr th:only-of-type {\n",
       "        vertical-align: middle;\n",
       "    }\n",
       "\n",
       "    .dataframe tbody tr th {\n",
       "        vertical-align: top;\n",
       "    }\n",
       "\n",
       "    .dataframe thead th {\n",
       "        text-align: right;\n",
       "    }\n",
       "</style>\n",
       "<table border=\"1\" class=\"dataframe\">\n",
       "  <thead>\n",
       "    <tr style=\"text-align: right;\">\n",
       "      <th></th>\n",
       "      <th>car</th>\n",
       "      <th>total_sessions</th>\n",
       "    </tr>\n",
       "  </thead>\n",
       "  <tbody>\n",
       "    <tr>\n",
       "      <th>1</th>\n",
       "      <td>skoda rapid</td>\n",
       "      <td>438809</td>\n",
       "    </tr>\n",
       "    <tr>\n",
       "      <th>2</th>\n",
       "      <td>lada-vaz vesta</td>\n",
       "      <td>398717</td>\n",
       "    </tr>\n",
       "    <tr>\n",
       "      <th>3</th>\n",
       "      <td>volkswagen polo</td>\n",
       "      <td>313809</td>\n",
       "    </tr>\n",
       "    <tr>\n",
       "      <th>4</th>\n",
       "      <td>skoda karoq</td>\n",
       "      <td>193723</td>\n",
       "    </tr>\n",
       "    <tr>\n",
       "      <th>5</th>\n",
       "      <td>mercedes-benz e-klasse</td>\n",
       "      <td>177954</td>\n",
       "    </tr>\n",
       "    <tr>\n",
       "      <th>6</th>\n",
       "      <td>nissan qashqai</td>\n",
       "      <td>149926</td>\n",
       "    </tr>\n",
       "    <tr>\n",
       "      <th>7</th>\n",
       "      <td>kia rio</td>\n",
       "      <td>89767</td>\n",
       "    </tr>\n",
       "    <tr>\n",
       "      <th>8</th>\n",
       "      <td>nissan x-trail</td>\n",
       "      <td>83152</td>\n",
       "    </tr>\n",
       "    <tr>\n",
       "      <th>9</th>\n",
       "      <td>skoda octavia</td>\n",
       "      <td>76910</td>\n",
       "    </tr>\n",
       "    <tr>\n",
       "      <th>10</th>\n",
       "      <td>renault duster</td>\n",
       "      <td>75375</td>\n",
       "    </tr>\n",
       "    <tr>\n",
       "      <th>11</th>\n",
       "      <td>toyota camry</td>\n",
       "      <td>72960</td>\n",
       "    </tr>\n",
       "    <tr>\n",
       "      <th>12</th>\n",
       "      <td>renault logan</td>\n",
       "      <td>71848</td>\n",
       "    </tr>\n",
       "    <tr>\n",
       "      <th>13</th>\n",
       "      <td>kia seltos</td>\n",
       "      <td>70042</td>\n",
       "    </tr>\n",
       "    <tr>\n",
       "      <th>14</th>\n",
       "      <td>kia sorento</td>\n",
       "      <td>69794</td>\n",
       "    </tr>\n",
       "    <tr>\n",
       "      <th>15</th>\n",
       "      <td>volkswagen tiguan</td>\n",
       "      <td>61700</td>\n",
       "    </tr>\n",
       "  </tbody>\n",
       "</table>\n",
       "</div>"
      ],
      "text/plain": [
       "                       car  total_sessions\n",
       "1              skoda rapid          438809\n",
       "2           lada-vaz vesta          398717\n",
       "3          volkswagen polo          313809\n",
       "4              skoda karoq          193723\n",
       "5   mercedes-benz e-klasse          177954\n",
       "6           nissan qashqai          149926\n",
       "7                  kia rio           89767\n",
       "8           nissan x-trail           83152\n",
       "9            skoda octavia           76910\n",
       "10          renault duster           75375\n",
       "11            toyota camry           72960\n",
       "12           renault logan           71848\n",
       "13              kia seltos           70042\n",
       "14             kia sorento           69794\n",
       "15       volkswagen tiguan           61700"
      ]
     },
     "execution_count": 140,
     "metadata": {},
     "output_type": "execute_result"
    }
   ],
   "source": [
    "result_grouped.head(15)"
   ]
  },
  {
   "cell_type": "markdown",
   "id": "c18bbc10-d7a9-4047-858f-261466a1c2a3",
   "metadata": {},
   "source": [
    "### Далее Топ машин по CR"
   ]
  },
  {
   "cell_type": "code",
   "execution_count": 148,
   "id": "2c1e3d26-e742-4299-a0a2-68338ab4dce3",
   "metadata": {},
   "outputs": [],
   "source": [
    "cr_by_specific_cars = filtered_df_cars.groupby('hit_page_path')['is_target'].agg(\n",
    "    conversions='sum',\n",
    "    total_sessions='count'\n",
    ").reset_index()\n",
    "\n",
    "cr_by_specific_cars['conversion_rate'] = cr_by_specific_cars['conversions'] / cr_by_specific_cars['total_sessions']"
   ]
  },
  {
   "cell_type": "code",
   "execution_count": 150,
   "id": "4280ec21-6703-430e-89e0-96dcdd1db49c",
   "metadata": {},
   "outputs": [
    {
     "name": "stdout",
     "output_type": "stream",
     "text": [
      "                                           hit_page_path  total_sessions  \\\n",
      "43466  sberauto.com/cars/all/mini/hatch/b82590a3?utm_...               7   \n",
      "66581  sberauto.com/cars/all/skoda/rapid/bf24b977?ren...               9   \n",
      "34686  sberauto.com/cars/all/mercedes-benz/g-klasse/e...               7   \n",
      "66859  sberauto.com/cars/all/skoda/rapid/bf24b977?ren...               7   \n",
      "66841  sberauto.com/cars/all/skoda/rapid/bf24b977?ren...               9   \n",
      "66786  sberauto.com/cars/all/skoda/rapid/bf24b977?ren...              27   \n",
      "66779  sberauto.com/cars/all/skoda/rapid/bf24b977?ren...              16   \n",
      "66769  sberauto.com/cars/all/skoda/rapid/bf24b977?ren...               8   \n",
      "66737  sberauto.com/cars/all/skoda/rapid/bf24b977?ren...               7   \n",
      "66725  sberauto.com/cars/all/skoda/rapid/bf24b977?ren...              16   \n",
      "\n",
      "       conversion_rate  \n",
      "43466              1.0  \n",
      "66581              1.0  \n",
      "34686              1.0  \n",
      "66859              1.0  \n",
      "66841              1.0  \n",
      "66786              1.0  \n",
      "66779              1.0  \n",
      "66769              1.0  \n",
      "66737              1.0  \n",
      "66725              1.0  \n"
     ]
    }
   ],
   "source": [
    "top15_cars = cr_by_specific_cars.sort_values('conversion_rate', ascending=False).head(10)\n",
    "\n",
    "print(top15_cars[['hit_page_path', 'total_sessions', 'conversion_rate']])"
   ]
  },
  {
   "cell_type": "code",
   "execution_count": 152,
   "id": "b891437c-a192-4774-affd-4ef0e307962f",
   "metadata": {},
   "outputs": [],
   "source": [
    "# Очевидно, эти данные нам никакой пользы не несут.\n",
    "# Оценим данные, где total_sessions более 2000"
   ]
  },
  {
   "cell_type": "code",
   "execution_count": 154,
   "id": "4534d09e-f0ef-4893-8dce-e126f1f2bee4",
   "metadata": {},
   "outputs": [
    {
     "name": "stdout",
     "output_type": "stream",
     "text": [
      "                                           hit_page_path  total_sessions  \\\n",
      "10777  sberauto.com/cars/all/kia/rio/fee33fe6?utm_sou...            2003   \n",
      "71436  sberauto.com/cars/all/skoda/rapid/bf24b977?utm...            2537   \n",
      "74376  sberauto.com/cars/all/toyota/camry/f28947a1?ut...            3543   \n",
      "74380  sberauto.com/cars/all/toyota/camry/f28947a1?ut...           10706   \n",
      "81514  sberauto.com/cars/all/volkswagen/polo/e994838f...            7542   \n",
      "10757  sberauto.com/cars/all/kia/rio/fee33fe6?utm_sou...            5645   \n",
      "74385  sberauto.com/cars/all/toyota/camry/f28947a1?ut...            2849   \n",
      "63105  sberauto.com/cars/all/skoda/octavia/4791c8b2?u...            8553   \n",
      "57903  sberauto.com/cars/all/renault/logan/8c3c73f2?u...            2115   \n",
      "10762  sberauto.com/cars/all/kia/rio/fee33fe6?utm_sou...           17520   \n",
      "71435  sberauto.com/cars/all/skoda/rapid/bf24b977?utm...            2053   \n",
      "81487  sberauto.com/cars/all/volkswagen/polo/e994838f...           14394   \n",
      "10767  sberauto.com/cars/all/kia/rio/fee33fe6?utm_sou...            2906   \n",
      "21561  sberauto.com/cars/all/lada-vaz/vesta/2fc745ed?...            2447   \n",
      "12438  sberauto.com/cars/all/kia/seltos/20f30855?utm_...           11435   \n",
      "\n",
      "       conversion_rate  \n",
      "10777         0.352971  \n",
      "71436         0.285376  \n",
      "74376         0.236523  \n",
      "74380         0.212591  \n",
      "81514         0.212543  \n",
      "10757         0.206909  \n",
      "74385         0.194805  \n",
      "63105         0.184964  \n",
      "57903         0.179669  \n",
      "10762         0.178311  \n",
      "71435         0.172918  \n",
      "81487         0.169515  \n",
      "10767         0.167584  \n",
      "21561         0.165509  \n",
      "12438         0.163533  \n"
     ]
    },
    {
     "name": "stderr",
     "output_type": "stream",
     "text": [
      "C:\\Users\\derna\\AppData\\Local\\Temp\\ipykernel_12476\\634010680.py:8: SettingWithCopyWarning: \n",
      "A value is trying to be set on a copy of a slice from a DataFrame.\n",
      "Try using .loc[row_indexer,col_indexer] = value instead\n",
      "\n",
      "See the caveats in the documentation: https://pandas.pydata.org/pandas-docs/stable/user_guide/indexing.html#returning-a-view-versus-a-copy\n",
      "  filtered_cr_by_specific_cars['conversion_rate'] = filtered_cr_by_specific_cars['conversions'] / filtered_cr_by_specific_cars['total_sessions']\n"
     ]
    }
   ],
   "source": [
    "cr_by_specific_cars_upd = filtered_df_cars.groupby('hit_page_path')['is_target'].agg(\n",
    "    conversions='sum',\n",
    "    total_sessions='count'\n",
    ").reset_index()\n",
    "\n",
    "filtered_cr_by_specific_cars = cr_by_specific_cars_upd[cr_by_specific_cars_upd['total_sessions'] > 2000]\n",
    "\n",
    "filtered_cr_by_specific_cars['conversion_rate'] = filtered_cr_by_specific_cars['conversions'] / filtered_cr_by_specific_cars['total_sessions']\n",
    "\n",
    "top15_cars = filtered_cr_by_specific_cars.sort_values('conversion_rate', ascending=False).head(15)\n",
    "\n",
    "print(top15_cars[['hit_page_path', 'total_sessions', 'conversion_rate']])"
   ]
  },
  {
   "cell_type": "code",
   "execution_count": 156,
   "id": "700adb4e-4d64-46b0-81a1-f81aab78f0ba",
   "metadata": {},
   "outputs": [
    {
     "name": "stderr",
     "output_type": "stream",
     "text": [
      "C:\\Users\\derna\\AppData\\Local\\Temp\\ipykernel_12476\\2342063049.py:1: SettingWithCopyWarning: \n",
      "A value is trying to be set on a copy of a slice from a DataFrame.\n",
      "Try using .loc[row_indexer,col_indexer] = value instead\n",
      "\n",
      "See the caveats in the documentation: https://pandas.pydata.org/pandas-docs/stable/user_guide/indexing.html#returning-a-view-versus-a-copy\n",
      "  filtered_cr_by_specific_cars['car'] = filtered_cr_by_specific_cars['hit_page_path'].apply(extract_car_brand_and_model)\n"
     ]
    }
   ],
   "source": [
    "filtered_cr_by_specific_cars['car'] = filtered_cr_by_specific_cars['hit_page_path'].apply(extract_car_brand_and_model)\n",
    "\n",
    "grouped_cr = (\n",
    "    filtered_cr_by_specific_cars\n",
    "    .groupby('car', as_index=False)[['conversions', 'total_sessions']]\n",
    "    .sum()\n",
    ")\n",
    "\n",
    "grouped_cr['conversion_rate'] = grouped_cr['conversions'] / grouped_cr['total_sessions']\n",
    "\n",
    "top_cr = grouped_cr.sort_values('conversion_rate', ascending=False)\n",
    "\n",
    "top_cr = top_cr.reset_index(drop=True)\n",
    "top_cr.index += 1"
   ]
  },
  {
   "cell_type": "markdown",
   "id": "d3d8b6eb-a082-4a00-af0c-4ea012ad573c",
   "metadata": {},
   "source": [
    "___Топ-15 автомобилей по CR___"
   ]
  },
  {
   "cell_type": "code",
   "execution_count": 223,
   "id": "bd5a940d-724e-470b-94e8-d27be5aa1959",
   "metadata": {},
   "outputs": [
    {
     "data": {
      "text/html": [
       "<div>\n",
       "<style scoped>\n",
       "    .dataframe tbody tr th:only-of-type {\n",
       "        vertical-align: middle;\n",
       "    }\n",
       "\n",
       "    .dataframe tbody tr th {\n",
       "        vertical-align: top;\n",
       "    }\n",
       "\n",
       "    .dataframe thead th {\n",
       "        text-align: right;\n",
       "    }\n",
       "</style>\n",
       "<table border=\"1\" class=\"dataframe\">\n",
       "  <thead>\n",
       "    <tr style=\"text-align: right;\">\n",
       "      <th></th>\n",
       "      <th>car</th>\n",
       "      <th>conversion_rate</th>\n",
       "    </tr>\n",
       "  </thead>\n",
       "  <tbody>\n",
       "    <tr>\n",
       "      <th>1</th>\n",
       "      <td>kia rio</td>\n",
       "      <td>0.148872</td>\n",
       "    </tr>\n",
       "    <tr>\n",
       "      <th>2</th>\n",
       "      <td>hyundai solaris</td>\n",
       "      <td>0.144151</td>\n",
       "    </tr>\n",
       "    <tr>\n",
       "      <th>3</th>\n",
       "      <td>toyota camry</td>\n",
       "      <td>0.141512</td>\n",
       "    </tr>\n",
       "    <tr>\n",
       "      <th>4</th>\n",
       "      <td>volkswagen polo</td>\n",
       "      <td>0.120749</td>\n",
       "    </tr>\n",
       "    <tr>\n",
       "      <th>5</th>\n",
       "      <td>lada-vaz vesta</td>\n",
       "      <td>0.115349</td>\n",
       "    </tr>\n",
       "    <tr>\n",
       "      <th>6</th>\n",
       "      <td>toyota corolla</td>\n",
       "      <td>0.115211</td>\n",
       "    </tr>\n",
       "    <tr>\n",
       "      <th>7</th>\n",
       "      <td>kia seltos</td>\n",
       "      <td>0.112168</td>\n",
       "    </tr>\n",
       "    <tr>\n",
       "      <th>8</th>\n",
       "      <td>skoda octavia</td>\n",
       "      <td>0.111648</td>\n",
       "    </tr>\n",
       "    <tr>\n",
       "      <th>9</th>\n",
       "      <td>skoda rapid</td>\n",
       "      <td>0.110191</td>\n",
       "    </tr>\n",
       "    <tr>\n",
       "      <th>10</th>\n",
       "      <td>haval jolion</td>\n",
       "      <td>0.107015</td>\n",
       "    </tr>\n",
       "    <tr>\n",
       "      <th>11</th>\n",
       "      <td>renault logan</td>\n",
       "      <td>0.103077</td>\n",
       "    </tr>\n",
       "    <tr>\n",
       "      <th>12</th>\n",
       "      <td>toyota fortuner</td>\n",
       "      <td>0.088837</td>\n",
       "    </tr>\n",
       "    <tr>\n",
       "      <th>13</th>\n",
       "      <td>kia sorento</td>\n",
       "      <td>0.087912</td>\n",
       "    </tr>\n",
       "    <tr>\n",
       "      <th>14</th>\n",
       "      <td>mercedes-benz cla-klasse</td>\n",
       "      <td>0.081719</td>\n",
       "    </tr>\n",
       "    <tr>\n",
       "      <th>15</th>\n",
       "      <td>bmw 5-serii</td>\n",
       "      <td>0.078108</td>\n",
       "    </tr>\n",
       "  </tbody>\n",
       "</table>\n",
       "</div>"
      ],
      "text/plain": [
       "                         car  conversion_rate\n",
       "1                    kia rio         0.148872\n",
       "2            hyundai solaris         0.144151\n",
       "3               toyota camry         0.141512\n",
       "4            volkswagen polo         0.120749\n",
       "5             lada-vaz vesta         0.115349\n",
       "6             toyota corolla         0.115211\n",
       "7                 kia seltos         0.112168\n",
       "8              skoda octavia         0.111648\n",
       "9                skoda rapid         0.110191\n",
       "10              haval jolion         0.107015\n",
       "11             renault logan         0.103077\n",
       "12           toyota fortuner         0.088837\n",
       "13               kia sorento         0.087912\n",
       "14  mercedes-benz cla-klasse         0.081719\n",
       "15               bmw 5-serii         0.078108"
      ]
     },
     "execution_count": 223,
     "metadata": {},
     "output_type": "execute_result"
    }
   ],
   "source": [
    "top_cr[['car', 'conversion_rate']].head(15)"
   ]
  },
  {
   "cell_type": "markdown",
   "id": "12ce239d-0554-4133-a670-2e09ff7c5570",
   "metadata": {},
   "source": [
    "### Общий ТОП автомобилей"
   ]
  },
  {
   "cell_type": "markdown",
   "id": "5bb6240c-d25c-4e2b-9359-6a84647ce7e4",
   "metadata": {},
   "source": [
    "Сделаем общий ТОП, т. е. автомобили, которые попали в топ-15 и по total_sessions и по CR. Отсортируем список по значению CR."
   ]
  },
  {
   "cell_type": "code",
   "execution_count": 177,
   "id": "140b8109-f73a-458c-b18d-ccb06d94c1a2",
   "metadata": {},
   "outputs": [],
   "source": [
    "result_grouped_top15 = result_grouped.head(15)\n",
    "top_cr15 = top_cr[['car', 'total_sessions', 'conversion_rate']].head(15)"
   ]
  },
  {
   "cell_type": "code",
   "execution_count": 200,
   "id": "3f25ad17-18e0-4b49-b2cd-14e17b59709a",
   "metadata": {
    "scrolled": true
   },
   "outputs": [
    {
     "data": {
      "text/html": [
       "<div>\n",
       "<style scoped>\n",
       "    .dataframe tbody tr th:only-of-type {\n",
       "        vertical-align: middle;\n",
       "    }\n",
       "\n",
       "    .dataframe tbody tr th {\n",
       "        vertical-align: top;\n",
       "    }\n",
       "\n",
       "    .dataframe thead th {\n",
       "        text-align: right;\n",
       "    }\n",
       "</style>\n",
       "<table border=\"1\" class=\"dataframe\">\n",
       "  <thead>\n",
       "    <tr style=\"text-align: right;\">\n",
       "      <th></th>\n",
       "      <th>car</th>\n",
       "      <th>conversion_rate</th>\n",
       "      <th>total_sessions</th>\n",
       "    </tr>\n",
       "  </thead>\n",
       "  <tbody>\n",
       "    <tr>\n",
       "      <th>1</th>\n",
       "      <td>kia rio</td>\n",
       "      <td>0.148872</td>\n",
       "      <td>89767</td>\n",
       "    </tr>\n",
       "    <tr>\n",
       "      <th>2</th>\n",
       "      <td>toyota camry</td>\n",
       "      <td>0.141512</td>\n",
       "      <td>72960</td>\n",
       "    </tr>\n",
       "    <tr>\n",
       "      <th>3</th>\n",
       "      <td>volkswagen polo</td>\n",
       "      <td>0.120749</td>\n",
       "      <td>313809</td>\n",
       "    </tr>\n",
       "    <tr>\n",
       "      <th>4</th>\n",
       "      <td>lada-vaz vesta</td>\n",
       "      <td>0.115349</td>\n",
       "      <td>398717</td>\n",
       "    </tr>\n",
       "    <tr>\n",
       "      <th>5</th>\n",
       "      <td>kia seltos</td>\n",
       "      <td>0.112168</td>\n",
       "      <td>70042</td>\n",
       "    </tr>\n",
       "    <tr>\n",
       "      <th>6</th>\n",
       "      <td>skoda octavia</td>\n",
       "      <td>0.111648</td>\n",
       "      <td>76910</td>\n",
       "    </tr>\n",
       "    <tr>\n",
       "      <th>7</th>\n",
       "      <td>skoda rapid</td>\n",
       "      <td>0.110191</td>\n",
       "      <td>438809</td>\n",
       "    </tr>\n",
       "    <tr>\n",
       "      <th>8</th>\n",
       "      <td>renault logan</td>\n",
       "      <td>0.103077</td>\n",
       "      <td>71848</td>\n",
       "    </tr>\n",
       "    <tr>\n",
       "      <th>9</th>\n",
       "      <td>kia sorento</td>\n",
       "      <td>0.087912</td>\n",
       "      <td>69794</td>\n",
       "    </tr>\n",
       "  </tbody>\n",
       "</table>\n",
       "</div>"
      ],
      "text/plain": [
       "               car  conversion_rate  total_sessions\n",
       "1          kia rio         0.148872           89767\n",
       "2     toyota camry         0.141512           72960\n",
       "3  volkswagen polo         0.120749          313809\n",
       "4   lada-vaz vesta         0.115349          398717\n",
       "5       kia seltos         0.112168           70042\n",
       "6    skoda octavia         0.111648           76910\n",
       "7      skoda rapid         0.110191          438809\n",
       "8    renault logan         0.103077           71848\n",
       "9      kia sorento         0.087912           69794"
      ]
     },
     "execution_count": 200,
     "metadata": {},
     "output_type": "execute_result"
    }
   ],
   "source": [
    "#Сделаем inner_join по car и получим общий ТОП автомобилей.\n",
    "merged_df = pd.merge(\n",
    "    top_cr15[['car', 'conversion_rate']],\n",
    "    result_grouped_top15[['car', 'total_sessions']],\n",
    "    on='car',\n",
    "    how='inner'\n",
    ")\n",
    "\n",
    "# Сортировка по total_sessions\n",
    "final_df = merged_df.sort_values(by='conversion_rate', ascending=False).reset_index(drop=True)\n",
    "\n",
    "final_df.index = final_df.index + 1\n",
    "\n",
    "final_df"
   ]
  },
  {
   "cell_type": "markdown",
   "id": "b7297a22-066b-4e58-94ee-ac9c4efebf28",
   "metadata": {},
   "source": [
    "## 3. Стоит ли нам увеличивать своё присутствие в соцсетях и давать там больше рекламы?"
   ]
  },
  {
   "cell_type": "markdown",
   "id": "774d4587-12a1-4da2-ba19-5695fe8035fc",
   "metadata": {},
   "source": [
    "Да, **увеличивать присутствие в соцсетях и усиливать рекламную активность** — **оправданное решение**, но с важными уточнениями:\n",
    "\n",
    "---\n",
    "\n",
    "###  **Почему стоит усиливать продвижение в соцсетях:**\n",
    "\n",
    "1. Посмотрим на график разделения пользователей по типу устройств."
   ]
  },
  {
   "cell_type": "code",
   "execution_count": 244,
   "id": "074f1305-1fd6-40f8-bdb7-a52f6ea5bb5b",
   "metadata": {
    "scrolled": true
   },
   "outputs": [
    {
     "data": {
      "image/png": "[encoded data removed]",
      "text/plain": [
       "<Figure size 300x300 with 1 Axes>"
      ]
     },
     "metadata": {},
     "output_type": "display_data"
    }
   ],
   "source": [
    "device_counts = df_temp['device_group'].value_counts()\n",
    "\n",
    "plt.figure(figsize=(3, 3))\n",
    "plt.pie(device_counts, labels=device_counts.index, autopct='%1.1f%%', startangle=90)\n",
    "plt.title('Доля трафика по типу устройств')\n",
    "plt.axis('equal')\n",
    "plt.show()"
   ]
  },
  {
   "cell_type": "markdown",
   "id": "31c9e18b-df06-477b-9966-aaea615f4746",
   "metadata": {},
   "source": [
    "**Мобильный трафик — доминирующий (≈80%)**, а пользователи соцсетей в основном приходят именно с мобильных устройств. Это хорошо сочетается с текущей аудиторией."
   ]
  },
  {
   "cell_type": "markdown",
   "id": "68606325-4adc-451a-9d5d-9e55a84c834c",
   "metadata": {},
   "source": [
    "2. Сделаем график лучших рекламных кампаний, и посмотрим на CR"
   ]
  },
  {
   "cell_type": "code",
   "execution_count": 246,
   "id": "bdf2e2ec-10d1-4769-bca6-a227b034f538",
   "metadata": {
    "scrolled": true
   },
   "outputs": [
    {
     "data": {
      "image/png": "[encoded data removed]",
      "text/plain": [
       "<Figure size 800x400 with 1 Axes>"
      ]
     },
     "metadata": {},
     "output_type": "display_data"
    }
   ],
   "source": [
    "top_campaigns = filtered_cr_by_camp.sort_values('conversion_rate', ascending=False).head(15)\n",
    "\n",
    "plt.figure(figsize=(8, 4))\n",
    "barplot = sns.barplot(\n",
    "    data=top_campaigns,\n",
    "    x='conversion_rate',\n",
    "    y='utm_campaign',\n",
    "    hue='utm_campaign',\n",
    "    dodge=False,\n",
    "    legend=False,\n",
    "    palette='viridis'\n",
    ")\n",
    "\n",
    "for i, row in enumerate(top_campaigns.itertuples()):\n",
    "    plt.text(\n",
    "        row.conversion_rate + 0.001,\n",
    "        i,\n",
    "        f\"{row.conversion_rate * 100:.2f}%\",\n",
    "        va='center',\n",
    "        fontsize=10\n",
    "    )\n",
    "\n",
    "plt.title('Топ-15 рекламных кампаний по конверсии (CR)', fontsize=14)\n",
    "plt.xlabel('Конверсия (CR)', fontsize=12)\n",
    "plt.ylabel('Рекламная кампания', fontsize=12)\n",
    "plt.xlim(0, top_campaigns['conversion_rate'].max() + 0.02)\n",
    "plt.tight_layout()\n",
    "\n",
    "plt.show()"
   ]
  },
  {
   "cell_type": "markdown",
   "id": "916d3aec-f3e2-4626-b64b-c015d9390c7d",
   "metadata": {},
   "source": [
    "**Успешные кампании уже дают высокий CR (4%+)**, а значит, при правильной настройке и таргетинге в соцсетях можно получить не только объём, но и качество."
   ]
  },
  {
   "cell_type": "markdown",
   "id": "3497e156-3a22-4ec7-8636-7949fdbbd949",
   "metadata": {},
   "source": [
    "3. Сделаем график лучших городов с точки зрения CR"
   ]
  },
  {
   "cell_type": "code",
   "execution_count": 187,
   "id": "43c1af9c-2fd7-4a71-abe4-2455d4357ebd",
   "metadata": {
    "scrolled": true
   },
   "outputs": [
    {
     "data": {
      "image/png": "[encoded data removed]",
      "text/plain": [
       "<Figure size 800x400 with 1 Axes>"
      ]
     },
     "metadata": {},
     "output_type": "display_data"
    }
   ],
   "source": [
    "top_locations = filtered_cr_by_location.sort_values('conversion_rate', ascending=False).head(15)\n",
    "\n",
    "# График\n",
    "plt.figure(figsize=(8, 4))\n",
    "barplot = sns.barplot(\n",
    "    data=top_locations,\n",
    "    x='conversion_rate',\n",
    "    y='geo_city',\n",
    "    hue='geo_city',\n",
    "    dodge=False,\n",
    "    legend=False,\n",
    "    palette='crest'\n",
    ")\n",
    "\n",
    "# Подписи на полосах\n",
    "for i, row in enumerate(top_locations.itertuples()):\n",
    "    plt.text(\n",
    "        row.conversion_rate + 0.001,\n",
    "        i,\n",
    "        f\"{row.conversion_rate * 100:.2f}%\",\n",
    "        va='center',\n",
    "        fontsize=10\n",
    "    )\n",
    "\n",
    "# Оформление\n",
    "plt.title('Топ-15 городов по конверсии (CR)', fontsize=14)\n",
    "plt.xlabel('Конверсия (CR)', fontsize=12)\n",
    "plt.ylabel('Город', fontsize=12)\n",
    "plt.xlim(0, top_locations['conversion_rate'].max() + 0.02)\n",
    "plt.tight_layout()\n",
    "\n",
    "plt.show()"
   ]
  },
  {
   "cell_type": "markdown",
   "id": "ed44ea04-5b0a-459b-b302-543cfead4445",
   "metadata": {},
   "source": [
    "**Регионы с высокой конверсией (например, Домодедово, Казань)** — хороший ориентир для локального таргетинга в соцсетях. Такие сегменты можно усиленно прорабатывать."
   ]
  },
  {
   "cell_type": "markdown",
   "id": "285dcb36-6ca3-40f4-b3df-1694dd1bbf26",
   "metadata": {},
   "source": [
    "4. **Аналитика уже даёт понимание успешных креативов и офферов** — можно использовать их в рекламных форматах соцсетей (видео, карусели, сторис и т.д.)."
   ]
  },
  {
   "cell_type": "markdown",
   "id": "54e1d971-19e6-4ad4-a14e-a8db645590d1",
   "metadata": {},
   "source": [
    "###  **На что стоит обратить внимание перед масштабированием:**"
   ]
  },
  {
   "cell_type": "markdown",
   "id": "ecbca3d2-1fd6-4922-b31b-fdc8ca28a5e3",
   "metadata": {},
   "source": [
    "Посмотрим на график CR по категориям устройств"
   ]
  },
  {
   "cell_type": "code",
   "execution_count": 195,
   "id": "b1f091de-e611-4ed5-9f33-13a266721167",
   "metadata": {},
   "outputs": [
    {
     "data": {
      "image/png": "[encoded data removed]",
      "text/plain": [
       "<Figure size 500x500 with 1 Axes>"
      ]
     },
     "metadata": {},
     "output_type": "display_data"
    }
   ],
   "source": [
    "plt.figure(figsize=(5, 5))\n",
    "barplot = sns.barplot(\n",
    "    data=filtered_cr_by_device,\n",
    "    x='device_category',\n",
    "    y='conversion_rate'\n",
    ")\n",
    "\n",
    "barplot.bar_label(\n",
    "    barplot.containers[0],\n",
    "    labels=[f'{height*100:.2f}%' for height in [p.get_height() for p in barplot.patches]],\n",
    "    fontsize=10\n",
    ")\n",
    "\n",
    "plt.title('Conversion Rate by Device Category', fontsize=16)\n",
    "plt.xlabel('Device Category', fontsize=12)\n",
    "plt.ylabel('Conversion Rate', fontsize=12)\n",
    "plt.xticks(rotation=45)\n",
    "plt.tight_layout()\n",
    "plt.show()"
   ]
  },
  {
   "cell_type": "markdown",
   "id": "54a0bd41-810b-44c0-ae51-e4bc49f7057a",
   "metadata": {},
   "source": [
    "- **Проверьте эффективность мобильной версии сайта** — пользователи соцсетей часто заходят именно с телефона, а CR там ниже. Улучшение мобильного UX может сильно повлиять на итоговые метрики."
   ]
  },
  {
   "cell_type": "markdown",
   "id": "5e03112e-84f4-4dfc-98be-444dbdd430ea",
   "metadata": {},
   "source": [
    "- **Отслеживайте не только трафик, но и CR новых кампаний** — большие объёмы не всегда значат эффективность. Продолжайте опираться на CR, а не только на клики.\n",
    "\n",
    "- **А/B тестируйте креативы и посылы** — то, что работает в поиске или контексте, не всегда работает в соцсетях."
   ]
  },
  {
   "cell_type": "markdown",
   "id": "3799aca0-b504-474a-8999-212198fb92e9",
   "metadata": {
    "jp-MarkdownHeadingCollapsed": true
   },
   "source": [
    "###  Итог:\n",
    "**Да, стоит.** Но делать это **точечно** — усиливать рекламную активность в соцсетях с опорой на:\n",
    "- наиболее конверсионные кампании,\n",
    "- мобильную аудиторию,\n",
    "- эффективные города и офферы,\n",
    "- постоянную аналитику CR и стоимости заявки (CPL)."
   ]
  }
 ],
 "metadata": {
  "kernelspec": {
   "display_name": "Python 3 (ipykernel)",
   "language": "python",
   "name": "python3"
  },
  "language_info": {
   "codemirror_mode": {
    "name": "ipython",
    "version": 3
   },
   "file_extension": ".py",
   "mimetype": "text/x-python",
   "name": "python",
   "nbconvert_exporter": "python",
   "pygments_lexer": "ipython3",
   "version": "3.12.4"
  }
 },
 "nbformat": 4,
 "nbformat_minor": 5
}
