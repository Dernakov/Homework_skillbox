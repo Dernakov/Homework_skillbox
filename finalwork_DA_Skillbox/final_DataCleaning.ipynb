{
 "cells": [
  {
   "cell_type": "code",
   "execution_count": 3,
   "id": "21051504-ec41-485d-99db-70e2c9413a3d",
   "metadata": {},
   "outputs": [],
   "source": [
    "import pandas as pd"
   ]
  },
  {
   "cell_type": "markdown",
   "id": "7fcdfc04-7b1e-448e-928b-9db0cef83422",
   "metadata": {},
   "source": [
    "# Работа с качеством данных df_hits"
   ]
  },
  {
   "cell_type": "code",
   "execution_count": 6,
   "id": "e9a0c013-d4c3-410f-a1d8-1b08d373cc35",
   "metadata": {
    "scrolled": true
   },
   "outputs": [
    {
     "data": {
      "text/html": [
       "<div>\n",
       "<style scoped>\n",
       "    .dataframe tbody tr th:only-of-type {\n",
       "        vertical-align: middle;\n",
       "    }\n",
       "\n",
       "    .dataframe tbody tr th {\n",
       "        vertical-align: top;\n",
       "    }\n",
       "\n",
       "    .dataframe thead th {\n",
       "        text-align: right;\n",
       "    }\n",
       "</style>\n",
       "<table border=\"1\" class=\"dataframe\">\n",
       "  <thead>\n",
       "    <tr style=\"text-align: right;\">\n",
       "      <th></th>\n",
       "      <th>session_id</th>\n",
       "      <th>hit_date</th>\n",
       "      <th>hit_time</th>\n",
       "      <th>hit_number</th>\n",
       "      <th>hit_type</th>\n",
       "      <th>hit_referer</th>\n",
       "      <th>hit_page_path</th>\n",
       "      <th>event_category</th>\n",
       "      <th>event_action</th>\n",
       "      <th>event_label</th>\n",
       "      <th>event_value</th>\n",
       "    </tr>\n",
       "  </thead>\n",
       "  <tbody>\n",
       "    <tr>\n",
       "      <th>0</th>\n",
       "      <td>5639623078712724064.1640254056.1640254056</td>\n",
       "      <td>2021-12-23</td>\n",
       "      <td>597864.0</td>\n",
       "      <td>30</td>\n",
       "      <td>event</td>\n",
       "      <td>NaN</td>\n",
       "      <td>sberauto.com/cars?utm_source_initial=google&amp;ut...</td>\n",
       "      <td>quiz</td>\n",
       "      <td>quiz_show</td>\n",
       "      <td>NaN</td>\n",
       "      <td>NaN</td>\n",
       "    </tr>\n",
       "    <tr>\n",
       "      <th>1</th>\n",
       "      <td>7750352294969115059.1640271109.1640271109</td>\n",
       "      <td>2021-12-23</td>\n",
       "      <td>597331.0</td>\n",
       "      <td>41</td>\n",
       "      <td>event</td>\n",
       "      <td>NaN</td>\n",
       "      <td>sberauto.com/cars/fiat?city=1&amp;city=18&amp;rental_c...</td>\n",
       "      <td>quiz</td>\n",
       "      <td>quiz_show</td>\n",
       "      <td>NaN</td>\n",
       "      <td>NaN</td>\n",
       "    </tr>\n",
       "    <tr>\n",
       "      <th>2</th>\n",
       "      <td>885342191847998240.1640235807.1640235807</td>\n",
       "      <td>2021-12-23</td>\n",
       "      <td>796252.0</td>\n",
       "      <td>49</td>\n",
       "      <td>event</td>\n",
       "      <td>NaN</td>\n",
       "      <td>sberauto.com/cars/all/volkswagen/polo/e994838f...</td>\n",
       "      <td>quiz</td>\n",
       "      <td>quiz_show</td>\n",
       "      <td>NaN</td>\n",
       "      <td>NaN</td>\n",
       "    </tr>\n",
       "    <tr>\n",
       "      <th>3</th>\n",
       "      <td>142526202120934167.1640211014.1640211014</td>\n",
       "      <td>2021-12-23</td>\n",
       "      <td>934292.0</td>\n",
       "      <td>46</td>\n",
       "      <td>event</td>\n",
       "      <td>NaN</td>\n",
       "      <td>sberauto.com/cars?utm_source_initial=yandex&amp;ut...</td>\n",
       "      <td>quiz</td>\n",
       "      <td>quiz_show</td>\n",
       "      <td>NaN</td>\n",
       "      <td>NaN</td>\n",
       "    </tr>\n",
       "    <tr>\n",
       "      <th>4</th>\n",
       "      <td>3450086108837475701.1640265078.1640265078</td>\n",
       "      <td>2021-12-23</td>\n",
       "      <td>768741.0</td>\n",
       "      <td>79</td>\n",
       "      <td>event</td>\n",
       "      <td>NaN</td>\n",
       "      <td>sberauto.com/cars/all/mercedes-benz/cla-klasse...</td>\n",
       "      <td>quiz</td>\n",
       "      <td>quiz_show</td>\n",
       "      <td>NaN</td>\n",
       "      <td>NaN</td>\n",
       "    </tr>\n",
       "  </tbody>\n",
       "</table>\n",
       "</div>"
      ],
      "text/plain": [
       "                                  session_id    hit_date  hit_time  \\\n",
       "0  5639623078712724064.1640254056.1640254056  2021-12-23  597864.0   \n",
       "1  7750352294969115059.1640271109.1640271109  2021-12-23  597331.0   \n",
       "2   885342191847998240.1640235807.1640235807  2021-12-23  796252.0   \n",
       "3   142526202120934167.1640211014.1640211014  2021-12-23  934292.0   \n",
       "4  3450086108837475701.1640265078.1640265078  2021-12-23  768741.0   \n",
       "\n",
       "   hit_number hit_type hit_referer  \\\n",
       "0          30    event         NaN   \n",
       "1          41    event         NaN   \n",
       "2          49    event         NaN   \n",
       "3          46    event         NaN   \n",
       "4          79    event         NaN   \n",
       "\n",
       "                                       hit_page_path event_category  \\\n",
       "0  sberauto.com/cars?utm_source_initial=google&ut...           quiz   \n",
       "1  sberauto.com/cars/fiat?city=1&city=18&rental_c...           quiz   \n",
       "2  sberauto.com/cars/all/volkswagen/polo/e994838f...           quiz   \n",
       "3  sberauto.com/cars?utm_source_initial=yandex&ut...           quiz   \n",
       "4  sberauto.com/cars/all/mercedes-benz/cla-klasse...           quiz   \n",
       "\n",
       "  event_action event_label  event_value  \n",
       "0    quiz_show         NaN          NaN  \n",
       "1    quiz_show         NaN          NaN  \n",
       "2    quiz_show         NaN          NaN  \n",
       "3    quiz_show         NaN          NaN  \n",
       "4    quiz_show         NaN          NaN  "
      ]
     },
     "execution_count": 6,
     "metadata": {},
     "output_type": "execute_result"
    }
   ],
   "source": [
    "df_hits = pd.read_csv('ga_hits.csv')\n",
    "df_hits.head()"
   ]
  },
  {
   "cell_type": "code",
   "execution_count": 7,
   "id": "f4f511ea-fb3d-4424-8ad3-f47cc821c098",
   "metadata": {},
   "outputs": [
    {
     "data": {
      "text/plain": [
       "(15726470, 11)"
      ]
     },
     "execution_count": 7,
     "metadata": {},
     "output_type": "execute_result"
    }
   ],
   "source": [
    "df_hits.shape"
   ]
  },
  {
   "cell_type": "markdown",
   "id": "3ed4099b-adc4-4ec2-8618-624355df3dcf",
   "metadata": {},
   "source": [
    "### Проверяем дубликаты"
   ]
  },
  {
   "cell_type": "code",
   "execution_count": 10,
   "id": "3685ed21-cf93-40e5-8567-3d237a41b5d3",
   "metadata": {},
   "outputs": [
    {
     "data": {
      "text/html": [
       "<div>\n",
       "<style scoped>\n",
       "    .dataframe tbody tr th:only-of-type {\n",
       "        vertical-align: middle;\n",
       "    }\n",
       "\n",
       "    .dataframe tbody tr th {\n",
       "        vertical-align: top;\n",
       "    }\n",
       "\n",
       "    .dataframe thead th {\n",
       "        text-align: right;\n",
       "    }\n",
       "</style>\n",
       "<table border=\"1\" class=\"dataframe\">\n",
       "  <thead>\n",
       "    <tr style=\"text-align: right;\">\n",
       "      <th></th>\n",
       "      <th>session_id</th>\n",
       "      <th>hit_date</th>\n",
       "      <th>hit_time</th>\n",
       "      <th>hit_number</th>\n",
       "      <th>hit_type</th>\n",
       "      <th>hit_referer</th>\n",
       "      <th>hit_page_path</th>\n",
       "      <th>event_category</th>\n",
       "      <th>event_action</th>\n",
       "      <th>event_label</th>\n",
       "      <th>event_value</th>\n",
       "    </tr>\n",
       "  </thead>\n",
       "  <tbody>\n",
       "  </tbody>\n",
       "</table>\n",
       "</div>"
      ],
      "text/plain": [
       "Empty DataFrame\n",
       "Columns: [session_id, hit_date, hit_time, hit_number, hit_type, hit_referer, hit_page_path, event_category, event_action, event_label, event_value]\n",
       "Index: []"
      ]
     },
     "execution_count": 10,
     "metadata": {},
     "output_type": "execute_result"
    }
   ],
   "source": [
    "df_hits[df_hits.duplicated()]"
   ]
  },
  {
   "cell_type": "markdown",
   "id": "0e29b6d4-4800-4ccc-802d-b0706f3a7908",
   "metadata": {},
   "source": [
    "### Проверка пропусков:"
   ]
  },
  {
   "cell_type": "code",
   "execution_count": 12,
   "id": "ee899865-e59e-435b-9f85-946c76b3a69b",
   "metadata": {},
   "outputs": [],
   "source": [
    "def print_useful_rows_info(df):\n",
    "    total_rows = len(df)\n",
    "    print(f'Всего строк в DataFrame: {total_rows}')\n",
    "    print('\\nИнформация о пропусках по столбцам:\\n')\n",
    "    \n",
    "    missing_info = df.isnull().sum()\n",
    "    for column, missing_count in missing_info.items():\n",
    "        missing_percent = (missing_count / total_rows) * 100\n",
    "        print(f'- {column}: {missing_count} пропусков ({missing_percent:.2f}%)')\n",
    "\n",
    "    complete_rows = df.dropna()\n",
    "    print('\\nКоличество полностью заполненных строк:', len(complete_rows))\n",
    "    print('Процент полностью заполненных строк:', round(len(complete_rows) / total_rows * 100, 2), '%')"
   ]
  },
  {
   "cell_type": "code",
   "execution_count": 13,
   "id": "0aa2de38-1a8a-49cf-be09-76447838cd0e",
   "metadata": {
    "scrolled": true
   },
   "outputs": [
    {
     "name": "stdout",
     "output_type": "stream",
     "text": [
      "Всего строк в DataFrame: 15726470\n",
      "\n",
      "Информация о пропусках по столбцам:\n",
      "\n",
      "- session_id: 0 пропусков (0.00%)\n",
      "- hit_date: 0 пропусков (0.00%)\n",
      "- hit_time: 9160322 пропусков (58.25%)\n",
      "- hit_number: 0 пропусков (0.00%)\n",
      "- hit_type: 0 пропусков (0.00%)\n",
      "- hit_referer: 6274804 пропусков (39.90%)\n",
      "- hit_page_path: 0 пропусков (0.00%)\n",
      "- event_category: 0 пропусков (0.00%)\n",
      "- event_action: 0 пропусков (0.00%)\n",
      "- event_label: 3760184 пропусков (23.91%)\n",
      "- event_value: 15726470 пропусков (100.00%)\n",
      "\n",
      "Количество полностью заполненных строк: 0\n",
      "Процент полностью заполненных строк: 0.0 %\n"
     ]
    }
   ],
   "source": [
    "print_useful_rows_info(df_hits)"
   ]
  },
  {
   "cell_type": "markdown",
   "id": "ce92f8d0-f49f-4406-83f9-5af5f3992c0e",
   "metadata": {},
   "source": [
    "Колонка event_value полностью незаполнена, можно смело удалять. Также удалим колонку hit_time, hit_referer, event_label более 20% пропусков."
   ]
  },
  {
   "cell_type": "code",
   "execution_count": 18,
   "id": "687e64fb-f998-41a9-81a5-bd60aa02947e",
   "metadata": {},
   "outputs": [],
   "source": [
    "columns_to_drop = [\n",
    "    'event_value',\n",
    "    'hit_time',\n",
    "    'hit_referer',\n",
    "    'event_label'\n",
    "]\n",
    "\n",
    "df_hits.drop(columns_to_drop, axis=1, inplace=True)"
   ]
  },
  {
   "cell_type": "code",
   "execution_count": 19,
   "id": "e02938ec-da16-420e-8426-d318368c6a03",
   "metadata": {
    "scrolled": true
   },
   "outputs": [
    {
     "name": "stdout",
     "output_type": "stream",
     "text": [
      "Всего строк в DataFrame: 15726470\n",
      "\n",
      "Информация о пропусках по столбцам:\n",
      "\n",
      "- session_id: 0 пропусков (0.00%)\n",
      "- hit_date: 0 пропусков (0.00%)\n",
      "- hit_number: 0 пропусков (0.00%)\n",
      "- hit_type: 0 пропусков (0.00%)\n",
      "- hit_page_path: 0 пропусков (0.00%)\n",
      "- event_category: 0 пропусков (0.00%)\n",
      "- event_action: 0 пропусков (0.00%)\n",
      "\n",
      "Количество полностью заполненных строк: 15726470\n",
      "Процент полностью заполненных строк: 100.0 %\n"
     ]
    }
   ],
   "source": [
    "print_useful_rows_info(df_hits)"
   ]
  },
  {
   "cell_type": "markdown",
   "id": "8c6083d0-6110-4413-8973-8278dcd06824",
   "metadata": {},
   "source": [
    "### Проверка данных"
   ]
  },
  {
   "cell_type": "code",
   "execution_count": 23,
   "id": "469041d1-1643-407b-8fa0-041372130128",
   "metadata": {},
   "outputs": [
    {
     "data": {
      "text/html": [
       "<div>\n",
       "<style scoped>\n",
       "    .dataframe tbody tr th:only-of-type {\n",
       "        vertical-align: middle;\n",
       "    }\n",
       "\n",
       "    .dataframe tbody tr th {\n",
       "        vertical-align: top;\n",
       "    }\n",
       "\n",
       "    .dataframe thead th {\n",
       "        text-align: right;\n",
       "    }\n",
       "</style>\n",
       "<table border=\"1\" class=\"dataframe\">\n",
       "  <thead>\n",
       "    <tr style=\"text-align: right;\">\n",
       "      <th></th>\n",
       "      <th>session_id</th>\n",
       "      <th>hit_date</th>\n",
       "      <th>hit_number</th>\n",
       "      <th>hit_type</th>\n",
       "      <th>hit_page_path</th>\n",
       "      <th>event_category</th>\n",
       "      <th>event_action</th>\n",
       "    </tr>\n",
       "  </thead>\n",
       "  <tbody>\n",
       "    <tr>\n",
       "      <th>0</th>\n",
       "      <td>5639623078712724064.1640254056.1640254056</td>\n",
       "      <td>2021-12-23</td>\n",
       "      <td>30</td>\n",
       "      <td>event</td>\n",
       "      <td>sberauto.com/cars?utm_source_initial=google&amp;ut...</td>\n",
       "      <td>quiz</td>\n",
       "      <td>quiz_show</td>\n",
       "    </tr>\n",
       "    <tr>\n",
       "      <th>1</th>\n",
       "      <td>7750352294969115059.1640271109.1640271109</td>\n",
       "      <td>2021-12-23</td>\n",
       "      <td>41</td>\n",
       "      <td>event</td>\n",
       "      <td>sberauto.com/cars/fiat?city=1&amp;city=18&amp;rental_c...</td>\n",
       "      <td>quiz</td>\n",
       "      <td>quiz_show</td>\n",
       "    </tr>\n",
       "    <tr>\n",
       "      <th>2</th>\n",
       "      <td>885342191847998240.1640235807.1640235807</td>\n",
       "      <td>2021-12-23</td>\n",
       "      <td>49</td>\n",
       "      <td>event</td>\n",
       "      <td>sberauto.com/cars/all/volkswagen/polo/e994838f...</td>\n",
       "      <td>quiz</td>\n",
       "      <td>quiz_show</td>\n",
       "    </tr>\n",
       "    <tr>\n",
       "      <th>3</th>\n",
       "      <td>142526202120934167.1640211014.1640211014</td>\n",
       "      <td>2021-12-23</td>\n",
       "      <td>46</td>\n",
       "      <td>event</td>\n",
       "      <td>sberauto.com/cars?utm_source_initial=yandex&amp;ut...</td>\n",
       "      <td>quiz</td>\n",
       "      <td>quiz_show</td>\n",
       "    </tr>\n",
       "    <tr>\n",
       "      <th>4</th>\n",
       "      <td>3450086108837475701.1640265078.1640265078</td>\n",
       "      <td>2021-12-23</td>\n",
       "      <td>79</td>\n",
       "      <td>event</td>\n",
       "      <td>sberauto.com/cars/all/mercedes-benz/cla-klasse...</td>\n",
       "      <td>quiz</td>\n",
       "      <td>quiz_show</td>\n",
       "    </tr>\n",
       "  </tbody>\n",
       "</table>\n",
       "</div>"
      ],
      "text/plain": [
       "                                  session_id    hit_date  hit_number hit_type  \\\n",
       "0  5639623078712724064.1640254056.1640254056  2021-12-23          30    event   \n",
       "1  7750352294969115059.1640271109.1640271109  2021-12-23          41    event   \n",
       "2   885342191847998240.1640235807.1640235807  2021-12-23          49    event   \n",
       "3   142526202120934167.1640211014.1640211014  2021-12-23          46    event   \n",
       "4  3450086108837475701.1640265078.1640265078  2021-12-23          79    event   \n",
       "\n",
       "                                       hit_page_path event_category  \\\n",
       "0  sberauto.com/cars?utm_source_initial=google&ut...           quiz   \n",
       "1  sberauto.com/cars/fiat?city=1&city=18&rental_c...           quiz   \n",
       "2  sberauto.com/cars/all/volkswagen/polo/e994838f...           quiz   \n",
       "3  sberauto.com/cars?utm_source_initial=yandex&ut...           quiz   \n",
       "4  sberauto.com/cars/all/mercedes-benz/cla-klasse...           quiz   \n",
       "\n",
       "  event_action  \n",
       "0    quiz_show  \n",
       "1    quiz_show  \n",
       "2    quiz_show  \n",
       "3    quiz_show  \n",
       "4    quiz_show  "
      ]
     },
     "execution_count": 23,
     "metadata": {},
     "output_type": "execute_result"
    }
   ],
   "source": [
    "df_hits.head()"
   ]
  },
  {
   "cell_type": "code",
   "execution_count": 25,
   "id": "cfbb7415-6e61-457a-bf4d-1ad5e7625081",
   "metadata": {},
   "outputs": [
    {
     "data": {
      "text/plain": [
       "(15726470, 7)"
      ]
     },
     "execution_count": 25,
     "metadata": {},
     "output_type": "execute_result"
    }
   ],
   "source": [
    "df_hits.shape"
   ]
  },
  {
   "cell_type": "code",
   "execution_count": 27,
   "id": "ffc5cbcf-5b73-4b41-a6d9-f9c266fdb55d",
   "metadata": {},
   "outputs": [
    {
     "data": {
      "text/plain": [
       "session_id        1734610\n",
       "hit_date              226\n",
       "hit_number            500\n",
       "hit_type                1\n",
       "hit_page_path      342715\n",
       "event_category         52\n",
       "event_action          230\n",
       "dtype: int64"
      ]
     },
     "execution_count": 27,
     "metadata": {},
     "output_type": "execute_result"
    }
   ],
   "source": [
    "df_hits.nunique(dropna=False)"
   ]
  },
  {
   "cell_type": "markdown",
   "id": "d2942c76-6b5a-426f-83c8-0e5b3a5381ba",
   "metadata": {},
   "source": [
    "Можно удалить колонку hit_type, т к все значения в ней одинаковые и пользы она не несет"
   ]
  },
  {
   "cell_type": "code",
   "execution_count": 30,
   "id": "b6c206cb-cd65-458c-a4b3-6057f85e277b",
   "metadata": {},
   "outputs": [],
   "source": [
    "df_hits.drop('hit_type', axis=1, inplace=True)"
   ]
  },
  {
   "cell_type": "markdown",
   "id": "e474ff51-dbc1-4f76-bf18-3eaf229ecf81",
   "metadata": {},
   "source": [
    "### Удаление ненужных атрибутов"
   ]
  },
  {
   "cell_type": "markdown",
   "id": "90624af7-c823-4824-84a7-e498d2767fae",
   "metadata": {},
   "source": [
    "Для наших задач понадобятся не все столбцы, лишние можно удалить"
   ]
  },
  {
   "cell_type": "code",
   "execution_count": 34,
   "id": "c927081d-2de1-405f-91ed-cea96b8d37ee",
   "metadata": {},
   "outputs": [
    {
     "data": {
      "text/html": [
       "<div>\n",
       "<style scoped>\n",
       "    .dataframe tbody tr th:only-of-type {\n",
       "        vertical-align: middle;\n",
       "    }\n",
       "\n",
       "    .dataframe tbody tr th {\n",
       "        vertical-align: top;\n",
       "    }\n",
       "\n",
       "    .dataframe thead th {\n",
       "        text-align: right;\n",
       "    }\n",
       "</style>\n",
       "<table border=\"1\" class=\"dataframe\">\n",
       "  <thead>\n",
       "    <tr style=\"text-align: right;\">\n",
       "      <th></th>\n",
       "      <th>session_id</th>\n",
       "      <th>hit_date</th>\n",
       "      <th>hit_number</th>\n",
       "      <th>hit_page_path</th>\n",
       "      <th>event_category</th>\n",
       "      <th>event_action</th>\n",
       "    </tr>\n",
       "  </thead>\n",
       "  <tbody>\n",
       "    <tr>\n",
       "      <th>0</th>\n",
       "      <td>5639623078712724064.1640254056.1640254056</td>\n",
       "      <td>2021-12-23</td>\n",
       "      <td>30</td>\n",
       "      <td>sberauto.com/cars?utm_source_initial=google&amp;ut...</td>\n",
       "      <td>quiz</td>\n",
       "      <td>quiz_show</td>\n",
       "    </tr>\n",
       "    <tr>\n",
       "      <th>1</th>\n",
       "      <td>7750352294969115059.1640271109.1640271109</td>\n",
       "      <td>2021-12-23</td>\n",
       "      <td>41</td>\n",
       "      <td>sberauto.com/cars/fiat?city=1&amp;city=18&amp;rental_c...</td>\n",
       "      <td>quiz</td>\n",
       "      <td>quiz_show</td>\n",
       "    </tr>\n",
       "    <tr>\n",
       "      <th>2</th>\n",
       "      <td>885342191847998240.1640235807.1640235807</td>\n",
       "      <td>2021-12-23</td>\n",
       "      <td>49</td>\n",
       "      <td>sberauto.com/cars/all/volkswagen/polo/e994838f...</td>\n",
       "      <td>quiz</td>\n",
       "      <td>quiz_show</td>\n",
       "    </tr>\n",
       "    <tr>\n",
       "      <th>3</th>\n",
       "      <td>142526202120934167.1640211014.1640211014</td>\n",
       "      <td>2021-12-23</td>\n",
       "      <td>46</td>\n",
       "      <td>sberauto.com/cars?utm_source_initial=yandex&amp;ut...</td>\n",
       "      <td>quiz</td>\n",
       "      <td>quiz_show</td>\n",
       "    </tr>\n",
       "    <tr>\n",
       "      <th>4</th>\n",
       "      <td>3450086108837475701.1640265078.1640265078</td>\n",
       "      <td>2021-12-23</td>\n",
       "      <td>79</td>\n",
       "      <td>sberauto.com/cars/all/mercedes-benz/cla-klasse...</td>\n",
       "      <td>quiz</td>\n",
       "      <td>quiz_show</td>\n",
       "    </tr>\n",
       "  </tbody>\n",
       "</table>\n",
       "</div>"
      ],
      "text/plain": [
       "                                  session_id    hit_date  hit_number  \\\n",
       "0  5639623078712724064.1640254056.1640254056  2021-12-23          30   \n",
       "1  7750352294969115059.1640271109.1640271109  2021-12-23          41   \n",
       "2   885342191847998240.1640235807.1640235807  2021-12-23          49   \n",
       "3   142526202120934167.1640211014.1640211014  2021-12-23          46   \n",
       "4  3450086108837475701.1640265078.1640265078  2021-12-23          79   \n",
       "\n",
       "                                       hit_page_path event_category  \\\n",
       "0  sberauto.com/cars?utm_source_initial=google&ut...           quiz   \n",
       "1  sberauto.com/cars/fiat?city=1&city=18&rental_c...           quiz   \n",
       "2  sberauto.com/cars/all/volkswagen/polo/e994838f...           quiz   \n",
       "3  sberauto.com/cars?utm_source_initial=yandex&ut...           quiz   \n",
       "4  sberauto.com/cars/all/mercedes-benz/cla-klasse...           quiz   \n",
       "\n",
       "  event_action  \n",
       "0    quiz_show  \n",
       "1    quiz_show  \n",
       "2    quiz_show  \n",
       "3    quiz_show  \n",
       "4    quiz_show  "
      ]
     },
     "execution_count": 34,
     "metadata": {},
     "output_type": "execute_result"
    }
   ],
   "source": [
    "df_hits.head()"
   ]
  },
  {
   "cell_type": "code",
   "execution_count": 36,
   "id": "2fafc83c-47a8-482c-b7d5-b1474896908c",
   "metadata": {},
   "outputs": [],
   "source": [
    "columns_to_drop2 = [\n",
    "    'hit_date',\n",
    "    'hit_number',\n",
    "    'event_category'\n",
    "]\n",
    "\n",
    "df_hits.drop(columns_to_drop2, axis=1, inplace=True)"
   ]
  },
  {
   "cell_type": "code",
   "execution_count": 37,
   "id": "e28e2499-226c-4892-961e-4139d48ab4e9",
   "metadata": {},
   "outputs": [
    {
     "data": {
      "text/html": [
       "<div>\n",
       "<style scoped>\n",
       "    .dataframe tbody tr th:only-of-type {\n",
       "        vertical-align: middle;\n",
       "    }\n",
       "\n",
       "    .dataframe tbody tr th {\n",
       "        vertical-align: top;\n",
       "    }\n",
       "\n",
       "    .dataframe thead th {\n",
       "        text-align: right;\n",
       "    }\n",
       "</style>\n",
       "<table border=\"1\" class=\"dataframe\">\n",
       "  <thead>\n",
       "    <tr style=\"text-align: right;\">\n",
       "      <th></th>\n",
       "      <th>session_id</th>\n",
       "      <th>hit_page_path</th>\n",
       "      <th>event_action</th>\n",
       "    </tr>\n",
       "  </thead>\n",
       "  <tbody>\n",
       "    <tr>\n",
       "      <th>0</th>\n",
       "      <td>5639623078712724064.1640254056.1640254056</td>\n",
       "      <td>sberauto.com/cars?utm_source_initial=google&amp;ut...</td>\n",
       "      <td>quiz_show</td>\n",
       "    </tr>\n",
       "    <tr>\n",
       "      <th>1</th>\n",
       "      <td>7750352294969115059.1640271109.1640271109</td>\n",
       "      <td>sberauto.com/cars/fiat?city=1&amp;city=18&amp;rental_c...</td>\n",
       "      <td>quiz_show</td>\n",
       "    </tr>\n",
       "    <tr>\n",
       "      <th>2</th>\n",
       "      <td>885342191847998240.1640235807.1640235807</td>\n",
       "      <td>sberauto.com/cars/all/volkswagen/polo/e994838f...</td>\n",
       "      <td>quiz_show</td>\n",
       "    </tr>\n",
       "    <tr>\n",
       "      <th>3</th>\n",
       "      <td>142526202120934167.1640211014.1640211014</td>\n",
       "      <td>sberauto.com/cars?utm_source_initial=yandex&amp;ut...</td>\n",
       "      <td>quiz_show</td>\n",
       "    </tr>\n",
       "    <tr>\n",
       "      <th>4</th>\n",
       "      <td>3450086108837475701.1640265078.1640265078</td>\n",
       "      <td>sberauto.com/cars/all/mercedes-benz/cla-klasse...</td>\n",
       "      <td>quiz_show</td>\n",
       "    </tr>\n",
       "  </tbody>\n",
       "</table>\n",
       "</div>"
      ],
      "text/plain": [
       "                                  session_id  \\\n",
       "0  5639623078712724064.1640254056.1640254056   \n",
       "1  7750352294969115059.1640271109.1640271109   \n",
       "2   885342191847998240.1640235807.1640235807   \n",
       "3   142526202120934167.1640211014.1640211014   \n",
       "4  3450086108837475701.1640265078.1640265078   \n",
       "\n",
       "                                       hit_page_path event_action  \n",
       "0  sberauto.com/cars?utm_source_initial=google&ut...    quiz_show  \n",
       "1  sberauto.com/cars/fiat?city=1&city=18&rental_c...    quiz_show  \n",
       "2  sberauto.com/cars/all/volkswagen/polo/e994838f...    quiz_show  \n",
       "3  sberauto.com/cars?utm_source_initial=yandex&ut...    quiz_show  \n",
       "4  sberauto.com/cars/all/mercedes-benz/cla-klasse...    quiz_show  "
      ]
     },
     "execution_count": 37,
     "metadata": {},
     "output_type": "execute_result"
    }
   ],
   "source": [
    "df_hits.head()"
   ]
  },
  {
   "cell_type": "markdown",
   "id": "5d207a7c-7cb0-4ebc-bc0a-317e349c28c0",
   "metadata": {},
   "source": [
    "# Работа с качеством данных df_session"
   ]
  },
  {
   "cell_type": "code",
   "execution_count": 41,
   "id": "62a9db86-3414-4eca-9b0a-844b1e3d06a5",
   "metadata": {},
   "outputs": [
    {
     "name": "stderr",
     "output_type": "stream",
     "text": [
      "C:\\Users\\derna\\AppData\\Local\\Temp\\ipykernel_7452\\4016491077.py:1: DtypeWarning: Columns (1) have mixed types. Specify dtype option on import or set low_memory=False.\n",
      "  df_sessions = pd.read_csv('ga_sessions.csv')\n"
     ]
    },
    {
     "data": {
      "text/html": [
       "<div>\n",
       "<style scoped>\n",
       "    .dataframe tbody tr th:only-of-type {\n",
       "        vertical-align: middle;\n",
       "    }\n",
       "\n",
       "    .dataframe tbody tr th {\n",
       "        vertical-align: top;\n",
       "    }\n",
       "\n",
       "    .dataframe thead th {\n",
       "        text-align: right;\n",
       "    }\n",
       "</style>\n",
       "<table border=\"1\" class=\"dataframe\">\n",
       "  <thead>\n",
       "    <tr style=\"text-align: right;\">\n",
       "      <th></th>\n",
       "      <th>session_id</th>\n",
       "      <th>client_id</th>\n",
       "      <th>visit_date</th>\n",
       "      <th>visit_time</th>\n",
       "      <th>visit_number</th>\n",
       "      <th>utm_source</th>\n",
       "      <th>utm_medium</th>\n",
       "      <th>utm_campaign</th>\n",
       "      <th>utm_adcontent</th>\n",
       "      <th>utm_keyword</th>\n",
       "      <th>device_category</th>\n",
       "      <th>device_os</th>\n",
       "      <th>device_brand</th>\n",
       "      <th>device_model</th>\n",
       "      <th>device_screen_resolution</th>\n",
       "      <th>device_browser</th>\n",
       "      <th>geo_country</th>\n",
       "      <th>geo_city</th>\n",
       "    </tr>\n",
       "  </thead>\n",
       "  <tbody>\n",
       "    <tr>\n",
       "      <th>0</th>\n",
       "      <td>9055434745589932991.1637753792.1637753792</td>\n",
       "      <td>2108382700.163776</td>\n",
       "      <td>2021-11-24</td>\n",
       "      <td>14:36:32</td>\n",
       "      <td>1</td>\n",
       "      <td>ZpYIoDJMcFzVoPFsHGJL</td>\n",
       "      <td>banner</td>\n",
       "      <td>LEoPHuyFvzoNfnzGgfcd</td>\n",
       "      <td>vCIpmpaGBnIQhyYNkXqp</td>\n",
       "      <td>puhZPIYqKXeFPaUviSjo</td>\n",
       "      <td>mobile</td>\n",
       "      <td>Android</td>\n",
       "      <td>Huawei</td>\n",
       "      <td>NaN</td>\n",
       "      <td>360x720</td>\n",
       "      <td>Chrome</td>\n",
       "      <td>Russia</td>\n",
       "      <td>Zlatoust</td>\n",
       "    </tr>\n",
       "    <tr>\n",
       "      <th>1</th>\n",
       "      <td>905544597018549464.1636867290.1636867290</td>\n",
       "      <td>210838531.163687</td>\n",
       "      <td>2021-11-14</td>\n",
       "      <td>08:21:30</td>\n",
       "      <td>1</td>\n",
       "      <td>MvfHsxITijuriZxsqZqt</td>\n",
       "      <td>cpm</td>\n",
       "      <td>FTjNLDyTrXaWYgZymFkV</td>\n",
       "      <td>xhoenQgDQsgfEPYNPwKO</td>\n",
       "      <td>IGUCNvHlhfHpROGclCit</td>\n",
       "      <td>mobile</td>\n",
       "      <td>Android</td>\n",
       "      <td>Samsung</td>\n",
       "      <td>NaN</td>\n",
       "      <td>385x854</td>\n",
       "      <td>Samsung Internet</td>\n",
       "      <td>Russia</td>\n",
       "      <td>Moscow</td>\n",
       "    </tr>\n",
       "    <tr>\n",
       "      <th>2</th>\n",
       "      <td>9055446045651783499.1640648526.1640648526</td>\n",
       "      <td>2108385331.164065</td>\n",
       "      <td>2021-12-28</td>\n",
       "      <td>02:42:06</td>\n",
       "      <td>1</td>\n",
       "      <td>ZpYIoDJMcFzVoPFsHGJL</td>\n",
       "      <td>banner</td>\n",
       "      <td>LEoPHuyFvzoNfnzGgfcd</td>\n",
       "      <td>vCIpmpaGBnIQhyYNkXqp</td>\n",
       "      <td>puhZPIYqKXeFPaUviSjo</td>\n",
       "      <td>mobile</td>\n",
       "      <td>Android</td>\n",
       "      <td>Huawei</td>\n",
       "      <td>NaN</td>\n",
       "      <td>360x720</td>\n",
       "      <td>Chrome</td>\n",
       "      <td>Russia</td>\n",
       "      <td>Krasnoyarsk</td>\n",
       "    </tr>\n",
       "    <tr>\n",
       "      <th>3</th>\n",
       "      <td>9055447046360770272.1622255328.1622255328</td>\n",
       "      <td>2108385564.162225</td>\n",
       "      <td>2021-05-29</td>\n",
       "      <td>05:00:00</td>\n",
       "      <td>1</td>\n",
       "      <td>kjsLglQLzykiRbcDiGcD</td>\n",
       "      <td>cpc</td>\n",
       "      <td>NaN</td>\n",
       "      <td>NOBKLgtuvqYWkXQHeYWM</td>\n",
       "      <td>NaN</td>\n",
       "      <td>mobile</td>\n",
       "      <td>NaN</td>\n",
       "      <td>Xiaomi</td>\n",
       "      <td>NaN</td>\n",
       "      <td>393x786</td>\n",
       "      <td>Chrome</td>\n",
       "      <td>Russia</td>\n",
       "      <td>Moscow</td>\n",
       "    </tr>\n",
       "    <tr>\n",
       "      <th>4</th>\n",
       "      <td>9055447046360770272.1622255345.1622255345</td>\n",
       "      <td>2108385564.162225</td>\n",
       "      <td>2021-05-29</td>\n",
       "      <td>05:00:00</td>\n",
       "      <td>2</td>\n",
       "      <td>kjsLglQLzykiRbcDiGcD</td>\n",
       "      <td>cpc</td>\n",
       "      <td>NaN</td>\n",
       "      <td>NaN</td>\n",
       "      <td>NaN</td>\n",
       "      <td>mobile</td>\n",
       "      <td>NaN</td>\n",
       "      <td>Xiaomi</td>\n",
       "      <td>NaN</td>\n",
       "      <td>393x786</td>\n",
       "      <td>Chrome</td>\n",
       "      <td>Russia</td>\n",
       "      <td>Moscow</td>\n",
       "    </tr>\n",
       "  </tbody>\n",
       "</table>\n",
       "</div>"
      ],
      "text/plain": [
       "                                  session_id          client_id  visit_date  \\\n",
       "0  9055434745589932991.1637753792.1637753792  2108382700.163776  2021-11-24   \n",
       "1   905544597018549464.1636867290.1636867290   210838531.163687  2021-11-14   \n",
       "2  9055446045651783499.1640648526.1640648526  2108385331.164065  2021-12-28   \n",
       "3  9055447046360770272.1622255328.1622255328  2108385564.162225  2021-05-29   \n",
       "4  9055447046360770272.1622255345.1622255345  2108385564.162225  2021-05-29   \n",
       "\n",
       "  visit_time  visit_number            utm_source utm_medium  \\\n",
       "0   14:36:32             1  ZpYIoDJMcFzVoPFsHGJL     banner   \n",
       "1   08:21:30             1  MvfHsxITijuriZxsqZqt        cpm   \n",
       "2   02:42:06             1  ZpYIoDJMcFzVoPFsHGJL     banner   \n",
       "3   05:00:00             1  kjsLglQLzykiRbcDiGcD        cpc   \n",
       "4   05:00:00             2  kjsLglQLzykiRbcDiGcD        cpc   \n",
       "\n",
       "           utm_campaign         utm_adcontent           utm_keyword  \\\n",
       "0  LEoPHuyFvzoNfnzGgfcd  vCIpmpaGBnIQhyYNkXqp  puhZPIYqKXeFPaUviSjo   \n",
       "1  FTjNLDyTrXaWYgZymFkV  xhoenQgDQsgfEPYNPwKO  IGUCNvHlhfHpROGclCit   \n",
       "2  LEoPHuyFvzoNfnzGgfcd  vCIpmpaGBnIQhyYNkXqp  puhZPIYqKXeFPaUviSjo   \n",
       "3                   NaN  NOBKLgtuvqYWkXQHeYWM                   NaN   \n",
       "4                   NaN                   NaN                   NaN   \n",
       "\n",
       "  device_category device_os device_brand device_model  \\\n",
       "0          mobile   Android       Huawei          NaN   \n",
       "1          mobile   Android      Samsung          NaN   \n",
       "2          mobile   Android       Huawei          NaN   \n",
       "3          mobile       NaN       Xiaomi          NaN   \n",
       "4          mobile       NaN       Xiaomi          NaN   \n",
       "\n",
       "  device_screen_resolution    device_browser geo_country     geo_city  \n",
       "0                  360x720            Chrome      Russia     Zlatoust  \n",
       "1                  385x854  Samsung Internet      Russia       Moscow  \n",
       "2                  360x720            Chrome      Russia  Krasnoyarsk  \n",
       "3                  393x786            Chrome      Russia       Moscow  \n",
       "4                  393x786            Chrome      Russia       Moscow  "
      ]
     },
     "execution_count": 41,
     "metadata": {},
     "output_type": "execute_result"
    }
   ],
   "source": [
    "df_sessions = pd.read_csv('ga_sessions.csv')\n",
    "df_sessions.head()"
   ]
  },
  {
   "cell_type": "code",
   "execution_count": 43,
   "id": "1a6769f5-6df9-4f02-a9fb-e2d73d4d9807",
   "metadata": {},
   "outputs": [
    {
     "data": {
      "text/plain": [
       "(1860042, 18)"
      ]
     },
     "execution_count": 43,
     "metadata": {},
     "output_type": "execute_result"
    }
   ],
   "source": [
    "df_sessions.shape"
   ]
  },
  {
   "cell_type": "code",
   "execution_count": 45,
   "id": "ed461552-df60-49cb-83ac-f5ec16d45434",
   "metadata": {},
   "outputs": [
    {
     "data": {
      "text/html": [
       "<div>\n",
       "<style scoped>\n",
       "    .dataframe tbody tr th:only-of-type {\n",
       "        vertical-align: middle;\n",
       "    }\n",
       "\n",
       "    .dataframe tbody tr th {\n",
       "        vertical-align: top;\n",
       "    }\n",
       "\n",
       "    .dataframe thead th {\n",
       "        text-align: right;\n",
       "    }\n",
       "</style>\n",
       "<table border=\"1\" class=\"dataframe\">\n",
       "  <thead>\n",
       "    <tr style=\"text-align: right;\">\n",
       "      <th></th>\n",
       "      <th>session_id</th>\n",
       "      <th>client_id</th>\n",
       "      <th>visit_date</th>\n",
       "      <th>visit_time</th>\n",
       "      <th>visit_number</th>\n",
       "      <th>utm_source</th>\n",
       "      <th>utm_medium</th>\n",
       "      <th>utm_campaign</th>\n",
       "      <th>utm_adcontent</th>\n",
       "      <th>utm_keyword</th>\n",
       "      <th>device_category</th>\n",
       "      <th>device_os</th>\n",
       "      <th>device_brand</th>\n",
       "      <th>device_model</th>\n",
       "      <th>device_screen_resolution</th>\n",
       "      <th>device_browser</th>\n",
       "      <th>geo_country</th>\n",
       "      <th>geo_city</th>\n",
       "    </tr>\n",
       "  </thead>\n",
       "  <tbody>\n",
       "  </tbody>\n",
       "</table>\n",
       "</div>"
      ],
      "text/plain": [
       "Empty DataFrame\n",
       "Columns: [session_id, client_id, visit_date, visit_time, visit_number, utm_source, utm_medium, utm_campaign, utm_adcontent, utm_keyword, device_category, device_os, device_brand, device_model, device_screen_resolution, device_browser, geo_country, geo_city]\n",
       "Index: []"
      ]
     },
     "execution_count": 45,
     "metadata": {},
     "output_type": "execute_result"
    }
   ],
   "source": [
    "df_sessions[df_sessions.duplicated()]"
   ]
  },
  {
   "cell_type": "markdown",
   "id": "0ff3bf56-aa0a-4c21-a2b4-70fd6ce7a1b6",
   "metadata": {},
   "source": [
    "### Првоерка пропусков"
   ]
  },
  {
   "cell_type": "code",
   "execution_count": 48,
   "id": "8c19fb8d-2863-4b57-9448-ad0bb74c7652",
   "metadata": {
    "scrolled": true
   },
   "outputs": [
    {
     "name": "stdout",
     "output_type": "stream",
     "text": [
      "Всего строк в DataFrame: 1860042\n",
      "\n",
      "Информация о пропусках по столбцам:\n",
      "\n",
      "- session_id: 0 пропусков (0.00%)\n",
      "- client_id: 0 пропусков (0.00%)\n",
      "- visit_date: 0 пропусков (0.00%)\n",
      "- visit_time: 0 пропусков (0.00%)\n",
      "- visit_number: 0 пропусков (0.00%)\n",
      "- utm_source: 97 пропусков (0.01%)\n",
      "- utm_medium: 0 пропусков (0.00%)\n",
      "- utm_campaign: 219603 пропусков (11.81%)\n",
      "- utm_adcontent: 335615 пропусков (18.04%)\n",
      "- utm_keyword: 1082061 пропусков (58.17%)\n",
      "- device_category: 0 пропусков (0.00%)\n",
      "- device_os: 1070138 пропусков (57.53%)\n",
      "- device_brand: 367178 пропусков (19.74%)\n",
      "- device_model: 1843704 пропусков (99.12%)\n",
      "- device_screen_resolution: 0 пропусков (0.00%)\n",
      "- device_browser: 0 пропусков (0.00%)\n",
      "- geo_country: 0 пропусков (0.00%)\n",
      "- geo_city: 0 пропусков (0.00%)\n",
      "\n",
      "Количество полностью заполненных строк: 14940\n",
      "Процент полностью заполненных строк: 0.8 %\n"
     ]
    }
   ],
   "source": [
    "print_useful_rows_info(df_sessions)"
   ]
  },
  {
   "cell_type": "markdown",
   "id": "956bd91f-ef64-4dea-a618-e1fafb383051",
   "metadata": {},
   "source": [
    "Колонки 'utm_keyword', 'device_os', 'device_model' удаляем, т к пропуски более 20%"
   ]
  },
  {
   "cell_type": "code",
   "execution_count": 50,
   "id": "dca0db90-89b5-4845-9cd7-2efeb1762db6",
   "metadata": {},
   "outputs": [],
   "source": [
    "columns_to_drop1 = [\n",
    "    'utm_keyword',\n",
    "    'device_os',\n",
    "    'device_model'\n",
    "]\n",
    "\n",
    "df_sessions.drop(columns_to_drop1, axis=1, inplace=True)"
   ]
  },
  {
   "cell_type": "code",
   "execution_count": 52,
   "id": "d252293c-e228-493a-a120-053ff5d27e4c",
   "metadata": {
    "scrolled": true
   },
   "outputs": [
    {
     "name": "stdout",
     "output_type": "stream",
     "text": [
      "Всего строк в DataFrame: 1860042\n",
      "\n",
      "Информация о пропусках по столбцам:\n",
      "\n",
      "- session_id: 0 пропусков (0.00%)\n",
      "- client_id: 0 пропусков (0.00%)\n",
      "- visit_date: 0 пропусков (0.00%)\n",
      "- visit_time: 0 пропусков (0.00%)\n",
      "- visit_number: 0 пропусков (0.00%)\n",
      "- utm_source: 97 пропусков (0.01%)\n",
      "- utm_medium: 0 пропусков (0.00%)\n",
      "- utm_campaign: 219603 пропусков (11.81%)\n",
      "- utm_adcontent: 335615 пропусков (18.04%)\n",
      "- device_category: 0 пропусков (0.00%)\n",
      "- device_brand: 367178 пропусков (19.74%)\n",
      "- device_screen_resolution: 0 пропусков (0.00%)\n",
      "- device_browser: 0 пропусков (0.00%)\n",
      "- geo_country: 0 пропусков (0.00%)\n",
      "- geo_city: 0 пропусков (0.00%)\n",
      "\n",
      "Количество полностью заполненных строк: 1230859\n",
      "Процент полностью заполненных строк: 66.17 %\n"
     ]
    }
   ],
   "source": [
    "print_useful_rows_info(df_sessions)"
   ]
  },
  {
   "cell_type": "code",
   "execution_count": 55,
   "id": "c9265dd9-0b74-413e-b3d5-0edcc96f2217",
   "metadata": {},
   "outputs": [
    {
     "data": {
      "text/plain": [
       "device_brand\n",
       "Apple       551088\n",
       "NaN         367178\n",
       "Samsung     332194\n",
       "Xiaomi      288367\n",
       "Huawei      185853\n",
       "             ...  \n",
       "Vodafone         1\n",
       "Wexler           1\n",
       "KingSing         1\n",
       "Star             1\n",
       "Opera            1\n",
       "Name: count, Length: 206, dtype: int64"
      ]
     },
     "execution_count": 55,
     "metadata": {},
     "output_type": "execute_result"
    }
   ],
   "source": [
    "df_sessions['device_brand'].value_counts(dropna=False)"
   ]
  },
  {
   "cell_type": "markdown",
   "id": "99c2aa86-9af8-4cb3-9f1e-527a754c6927",
   "metadata": {},
   "source": [
    "Пропуски в колонке device_brand заполним значением other"
   ]
  },
  {
   "cell_type": "code",
   "execution_count": 58,
   "id": "2e66d785-14d2-4d3b-b4bf-3f86fcb229e1",
   "metadata": {},
   "outputs": [],
   "source": [
    "df_sessions['device_brand'] = df_sessions['device_brand'].fillna('other')"
   ]
  },
  {
   "cell_type": "markdown",
   "id": "73e551b3-7cbe-4b7a-9513-0585af0942c1",
   "metadata": {},
   "source": [
    "Пропуски в колонках utm_campaign, utm_adcontent, utm_source также заполним значением other"
   ]
  },
  {
   "cell_type": "code",
   "execution_count": 61,
   "id": "fa2fa111-c17c-4338-a29c-441c10b10e61",
   "metadata": {},
   "outputs": [],
   "source": [
    "df_sessions['utm_campaign'] = df_sessions['utm_campaign'].fillna('other')\n",
    "df_sessions['utm_adcontent'] = df_sessions['utm_adcontent'].fillna('other')\n",
    "df_sessions['utm_source'] = df_sessions['utm_source'].fillna('other')"
   ]
  },
  {
   "cell_type": "code",
   "execution_count": 63,
   "id": "7abc6747-5eec-4e3c-bc70-487fb21810f4",
   "metadata": {},
   "outputs": [
    {
     "name": "stdout",
     "output_type": "stream",
     "text": [
      "Всего строк в DataFrame: 1860042\n",
      "\n",
      "Информация о пропусках по столбцам:\n",
      "\n",
      "- session_id: 0 пропусков (0.00%)\n",
      "- client_id: 0 пропусков (0.00%)\n",
      "- visit_date: 0 пропусков (0.00%)\n",
      "- visit_time: 0 пропусков (0.00%)\n",
      "- visit_number: 0 пропусков (0.00%)\n",
      "- utm_source: 0 пропусков (0.00%)\n",
      "- utm_medium: 0 пропусков (0.00%)\n",
      "- utm_campaign: 0 пропусков (0.00%)\n",
      "- utm_adcontent: 0 пропусков (0.00%)\n",
      "- device_category: 0 пропусков (0.00%)\n",
      "- device_brand: 0 пропусков (0.00%)\n",
      "- device_screen_resolution: 0 пропусков (0.00%)\n",
      "- device_browser: 0 пропусков (0.00%)\n",
      "- geo_country: 0 пропусков (0.00%)\n",
      "- geo_city: 0 пропусков (0.00%)\n",
      "\n",
      "Количество полностью заполненных строк: 1860042\n",
      "Процент полностью заполненных строк: 100.0 %\n"
     ]
    }
   ],
   "source": [
    "print_useful_rows_info(df_sessions)"
   ]
  },
  {
   "cell_type": "markdown",
   "id": "4afcc5ac-8bfd-46ba-907b-152ce570e577",
   "metadata": {},
   "source": [
    "### Удаляем лишние столбцы"
   ]
  },
  {
   "cell_type": "code",
   "execution_count": 66,
   "id": "06c96f61-5dea-4515-b250-de44b5cbdf2d",
   "metadata": {},
   "outputs": [
    {
     "data": {
      "text/html": [
       "<div>\n",
       "<style scoped>\n",
       "    .dataframe tbody tr th:only-of-type {\n",
       "        vertical-align: middle;\n",
       "    }\n",
       "\n",
       "    .dataframe tbody tr th {\n",
       "        vertical-align: top;\n",
       "    }\n",
       "\n",
       "    .dataframe thead th {\n",
       "        text-align: right;\n",
       "    }\n",
       "</style>\n",
       "<table border=\"1\" class=\"dataframe\">\n",
       "  <thead>\n",
       "    <tr style=\"text-align: right;\">\n",
       "      <th></th>\n",
       "      <th>session_id</th>\n",
       "      <th>client_id</th>\n",
       "      <th>visit_date</th>\n",
       "      <th>visit_time</th>\n",
       "      <th>visit_number</th>\n",
       "      <th>utm_source</th>\n",
       "      <th>utm_medium</th>\n",
       "      <th>utm_campaign</th>\n",
       "      <th>utm_adcontent</th>\n",
       "      <th>device_category</th>\n",
       "      <th>device_brand</th>\n",
       "      <th>device_screen_resolution</th>\n",
       "      <th>device_browser</th>\n",
       "      <th>geo_country</th>\n",
       "      <th>geo_city</th>\n",
       "    </tr>\n",
       "  </thead>\n",
       "  <tbody>\n",
       "    <tr>\n",
       "      <th>0</th>\n",
       "      <td>9055434745589932991.1637753792.1637753792</td>\n",
       "      <td>2108382700.163776</td>\n",
       "      <td>2021-11-24</td>\n",
       "      <td>14:36:32</td>\n",
       "      <td>1</td>\n",
       "      <td>ZpYIoDJMcFzVoPFsHGJL</td>\n",
       "      <td>banner</td>\n",
       "      <td>LEoPHuyFvzoNfnzGgfcd</td>\n",
       "      <td>vCIpmpaGBnIQhyYNkXqp</td>\n",
       "      <td>mobile</td>\n",
       "      <td>Huawei</td>\n",
       "      <td>360x720</td>\n",
       "      <td>Chrome</td>\n",
       "      <td>Russia</td>\n",
       "      <td>Zlatoust</td>\n",
       "    </tr>\n",
       "    <tr>\n",
       "      <th>1</th>\n",
       "      <td>905544597018549464.1636867290.1636867290</td>\n",
       "      <td>210838531.163687</td>\n",
       "      <td>2021-11-14</td>\n",
       "      <td>08:21:30</td>\n",
       "      <td>1</td>\n",
       "      <td>MvfHsxITijuriZxsqZqt</td>\n",
       "      <td>cpm</td>\n",
       "      <td>FTjNLDyTrXaWYgZymFkV</td>\n",
       "      <td>xhoenQgDQsgfEPYNPwKO</td>\n",
       "      <td>mobile</td>\n",
       "      <td>Samsung</td>\n",
       "      <td>385x854</td>\n",
       "      <td>Samsung Internet</td>\n",
       "      <td>Russia</td>\n",
       "      <td>Moscow</td>\n",
       "    </tr>\n",
       "    <tr>\n",
       "      <th>2</th>\n",
       "      <td>9055446045651783499.1640648526.1640648526</td>\n",
       "      <td>2108385331.164065</td>\n",
       "      <td>2021-12-28</td>\n",
       "      <td>02:42:06</td>\n",
       "      <td>1</td>\n",
       "      <td>ZpYIoDJMcFzVoPFsHGJL</td>\n",
       "      <td>banner</td>\n",
       "      <td>LEoPHuyFvzoNfnzGgfcd</td>\n",
       "      <td>vCIpmpaGBnIQhyYNkXqp</td>\n",
       "      <td>mobile</td>\n",
       "      <td>Huawei</td>\n",
       "      <td>360x720</td>\n",
       "      <td>Chrome</td>\n",
       "      <td>Russia</td>\n",
       "      <td>Krasnoyarsk</td>\n",
       "    </tr>\n",
       "    <tr>\n",
       "      <th>3</th>\n",
       "      <td>9055447046360770272.1622255328.1622255328</td>\n",
       "      <td>2108385564.162225</td>\n",
       "      <td>2021-05-29</td>\n",
       "      <td>05:00:00</td>\n",
       "      <td>1</td>\n",
       "      <td>kjsLglQLzykiRbcDiGcD</td>\n",
       "      <td>cpc</td>\n",
       "      <td>other</td>\n",
       "      <td>NOBKLgtuvqYWkXQHeYWM</td>\n",
       "      <td>mobile</td>\n",
       "      <td>Xiaomi</td>\n",
       "      <td>393x786</td>\n",
       "      <td>Chrome</td>\n",
       "      <td>Russia</td>\n",
       "      <td>Moscow</td>\n",
       "    </tr>\n",
       "    <tr>\n",
       "      <th>4</th>\n",
       "      <td>9055447046360770272.1622255345.1622255345</td>\n",
       "      <td>2108385564.162225</td>\n",
       "      <td>2021-05-29</td>\n",
       "      <td>05:00:00</td>\n",
       "      <td>2</td>\n",
       "      <td>kjsLglQLzykiRbcDiGcD</td>\n",
       "      <td>cpc</td>\n",
       "      <td>other</td>\n",
       "      <td>other</td>\n",
       "      <td>mobile</td>\n",
       "      <td>Xiaomi</td>\n",
       "      <td>393x786</td>\n",
       "      <td>Chrome</td>\n",
       "      <td>Russia</td>\n",
       "      <td>Moscow</td>\n",
       "    </tr>\n",
       "  </tbody>\n",
       "</table>\n",
       "</div>"
      ],
      "text/plain": [
       "                                  session_id          client_id  visit_date  \\\n",
       "0  9055434745589932991.1637753792.1637753792  2108382700.163776  2021-11-24   \n",
       "1   905544597018549464.1636867290.1636867290   210838531.163687  2021-11-14   \n",
       "2  9055446045651783499.1640648526.1640648526  2108385331.164065  2021-12-28   \n",
       "3  9055447046360770272.1622255328.1622255328  2108385564.162225  2021-05-29   \n",
       "4  9055447046360770272.1622255345.1622255345  2108385564.162225  2021-05-29   \n",
       "\n",
       "  visit_time  visit_number            utm_source utm_medium  \\\n",
       "0   14:36:32             1  ZpYIoDJMcFzVoPFsHGJL     banner   \n",
       "1   08:21:30             1  MvfHsxITijuriZxsqZqt        cpm   \n",
       "2   02:42:06             1  ZpYIoDJMcFzVoPFsHGJL     banner   \n",
       "3   05:00:00             1  kjsLglQLzykiRbcDiGcD        cpc   \n",
       "4   05:00:00             2  kjsLglQLzykiRbcDiGcD        cpc   \n",
       "\n",
       "           utm_campaign         utm_adcontent device_category device_brand  \\\n",
       "0  LEoPHuyFvzoNfnzGgfcd  vCIpmpaGBnIQhyYNkXqp          mobile       Huawei   \n",
       "1  FTjNLDyTrXaWYgZymFkV  xhoenQgDQsgfEPYNPwKO          mobile      Samsung   \n",
       "2  LEoPHuyFvzoNfnzGgfcd  vCIpmpaGBnIQhyYNkXqp          mobile       Huawei   \n",
       "3                 other  NOBKLgtuvqYWkXQHeYWM          mobile       Xiaomi   \n",
       "4                 other                 other          mobile       Xiaomi   \n",
       "\n",
       "  device_screen_resolution    device_browser geo_country     geo_city  \n",
       "0                  360x720            Chrome      Russia     Zlatoust  \n",
       "1                  385x854  Samsung Internet      Russia       Moscow  \n",
       "2                  360x720            Chrome      Russia  Krasnoyarsk  \n",
       "3                  393x786            Chrome      Russia       Moscow  \n",
       "4                  393x786            Chrome      Russia       Moscow  "
      ]
     },
     "execution_count": 66,
     "metadata": {},
     "output_type": "execute_result"
    }
   ],
   "source": [
    "df_sessions.head()"
   ]
  },
  {
   "cell_type": "code",
   "execution_count": 68,
   "id": "d5a20c77-34e6-4e8c-9b61-d60d6d3bb33f",
   "metadata": {},
   "outputs": [],
   "source": [
    "columns_to_drop3 = [\n",
    "    'visit_time',\n",
    "    'visit_number',\n",
    "    'device_screen_resolution',\n",
    "    'device_browser'\n",
    "]\n",
    "\n",
    "df_sessions.drop(columns_to_drop3, axis=1, inplace=True)"
   ]
  },
  {
   "cell_type": "code",
   "execution_count": 70,
   "id": "b502e1fd-5b90-4346-81a4-c52853adfeaf",
   "metadata": {},
   "outputs": [
    {
     "data": {
      "text/html": [
       "<div>\n",
       "<style scoped>\n",
       "    .dataframe tbody tr th:only-of-type {\n",
       "        vertical-align: middle;\n",
       "    }\n",
       "\n",
       "    .dataframe tbody tr th {\n",
       "        vertical-align: top;\n",
       "    }\n",
       "\n",
       "    .dataframe thead th {\n",
       "        text-align: right;\n",
       "    }\n",
       "</style>\n",
       "<table border=\"1\" class=\"dataframe\">\n",
       "  <thead>\n",
       "    <tr style=\"text-align: right;\">\n",
       "      <th></th>\n",
       "      <th>session_id</th>\n",
       "      <th>client_id</th>\n",
       "      <th>visit_date</th>\n",
       "      <th>utm_source</th>\n",
       "      <th>utm_medium</th>\n",
       "      <th>utm_campaign</th>\n",
       "      <th>utm_adcontent</th>\n",
       "      <th>device_category</th>\n",
       "      <th>device_brand</th>\n",
       "      <th>geo_country</th>\n",
       "      <th>geo_city</th>\n",
       "    </tr>\n",
       "  </thead>\n",
       "  <tbody>\n",
       "    <tr>\n",
       "      <th>0</th>\n",
       "      <td>9055434745589932991.1637753792.1637753792</td>\n",
       "      <td>2108382700.163776</td>\n",
       "      <td>2021-11-24</td>\n",
       "      <td>ZpYIoDJMcFzVoPFsHGJL</td>\n",
       "      <td>banner</td>\n",
       "      <td>LEoPHuyFvzoNfnzGgfcd</td>\n",
       "      <td>vCIpmpaGBnIQhyYNkXqp</td>\n",
       "      <td>mobile</td>\n",
       "      <td>Huawei</td>\n",
       "      <td>Russia</td>\n",
       "      <td>Zlatoust</td>\n",
       "    </tr>\n",
       "    <tr>\n",
       "      <th>1</th>\n",
       "      <td>905544597018549464.1636867290.1636867290</td>\n",
       "      <td>210838531.163687</td>\n",
       "      <td>2021-11-14</td>\n",
       "      <td>MvfHsxITijuriZxsqZqt</td>\n",
       "      <td>cpm</td>\n",
       "      <td>FTjNLDyTrXaWYgZymFkV</td>\n",
       "      <td>xhoenQgDQsgfEPYNPwKO</td>\n",
       "      <td>mobile</td>\n",
       "      <td>Samsung</td>\n",
       "      <td>Russia</td>\n",
       "      <td>Moscow</td>\n",
       "    </tr>\n",
       "    <tr>\n",
       "      <th>2</th>\n",
       "      <td>9055446045651783499.1640648526.1640648526</td>\n",
       "      <td>2108385331.164065</td>\n",
       "      <td>2021-12-28</td>\n",
       "      <td>ZpYIoDJMcFzVoPFsHGJL</td>\n",
       "      <td>banner</td>\n",
       "      <td>LEoPHuyFvzoNfnzGgfcd</td>\n",
       "      <td>vCIpmpaGBnIQhyYNkXqp</td>\n",
       "      <td>mobile</td>\n",
       "      <td>Huawei</td>\n",
       "      <td>Russia</td>\n",
       "      <td>Krasnoyarsk</td>\n",
       "    </tr>\n",
       "    <tr>\n",
       "      <th>3</th>\n",
       "      <td>9055447046360770272.1622255328.1622255328</td>\n",
       "      <td>2108385564.162225</td>\n",
       "      <td>2021-05-29</td>\n",
       "      <td>kjsLglQLzykiRbcDiGcD</td>\n",
       "      <td>cpc</td>\n",
       "      <td>other</td>\n",
       "      <td>NOBKLgtuvqYWkXQHeYWM</td>\n",
       "      <td>mobile</td>\n",
       "      <td>Xiaomi</td>\n",
       "      <td>Russia</td>\n",
       "      <td>Moscow</td>\n",
       "    </tr>\n",
       "    <tr>\n",
       "      <th>4</th>\n",
       "      <td>9055447046360770272.1622255345.1622255345</td>\n",
       "      <td>2108385564.162225</td>\n",
       "      <td>2021-05-29</td>\n",
       "      <td>kjsLglQLzykiRbcDiGcD</td>\n",
       "      <td>cpc</td>\n",
       "      <td>other</td>\n",
       "      <td>other</td>\n",
       "      <td>mobile</td>\n",
       "      <td>Xiaomi</td>\n",
       "      <td>Russia</td>\n",
       "      <td>Moscow</td>\n",
       "    </tr>\n",
       "  </tbody>\n",
       "</table>\n",
       "</div>"
      ],
      "text/plain": [
       "                                  session_id          client_id  visit_date  \\\n",
       "0  9055434745589932991.1637753792.1637753792  2108382700.163776  2021-11-24   \n",
       "1   905544597018549464.1636867290.1636867290   210838531.163687  2021-11-14   \n",
       "2  9055446045651783499.1640648526.1640648526  2108385331.164065  2021-12-28   \n",
       "3  9055447046360770272.1622255328.1622255328  2108385564.162225  2021-05-29   \n",
       "4  9055447046360770272.1622255345.1622255345  2108385564.162225  2021-05-29   \n",
       "\n",
       "             utm_source utm_medium          utm_campaign  \\\n",
       "0  ZpYIoDJMcFzVoPFsHGJL     banner  LEoPHuyFvzoNfnzGgfcd   \n",
       "1  MvfHsxITijuriZxsqZqt        cpm  FTjNLDyTrXaWYgZymFkV   \n",
       "2  ZpYIoDJMcFzVoPFsHGJL     banner  LEoPHuyFvzoNfnzGgfcd   \n",
       "3  kjsLglQLzykiRbcDiGcD        cpc                 other   \n",
       "4  kjsLglQLzykiRbcDiGcD        cpc                 other   \n",
       "\n",
       "          utm_adcontent device_category device_brand geo_country     geo_city  \n",
       "0  vCIpmpaGBnIQhyYNkXqp          mobile       Huawei      Russia     Zlatoust  \n",
       "1  xhoenQgDQsgfEPYNPwKO          mobile      Samsung      Russia       Moscow  \n",
       "2  vCIpmpaGBnIQhyYNkXqp          mobile       Huawei      Russia  Krasnoyarsk  \n",
       "3  NOBKLgtuvqYWkXQHeYWM          mobile       Xiaomi      Russia       Moscow  \n",
       "4                 other          mobile       Xiaomi      Russia       Moscow  "
      ]
     },
     "execution_count": 70,
     "metadata": {},
     "output_type": "execute_result"
    }
   ],
   "source": [
    "df_sessions.head()"
   ]
  },
  {
   "cell_type": "markdown",
   "id": "3386bdf8-ddf9-4cdd-a8a4-5fd68b549df6",
   "metadata": {},
   "source": [
    "# Сохраняем обновленные DataFrames"
   ]
  },
  {
   "cell_type": "code",
   "execution_count": 73,
   "id": "d7457854-4b44-4104-8735-be44cd9d439a",
   "metadata": {},
   "outputs": [],
   "source": [
    "df_hits.to_csv('df_hits_clean.csv', index=False)"
   ]
  },
  {
   "cell_type": "code",
   "execution_count": 75,
   "id": "401f21f1-8cf2-4bd7-a0ec-04836e7df127",
   "metadata": {},
   "outputs": [],
   "source": [
    "df_sessions.to_csv('df_sessions_clean.csv', index=False)"
   ]
  },
  {
   "cell_type": "code",
   "execution_count": null,
   "id": "bce5fd1e-ecb8-444c-945b-cee43f2a50de",
   "metadata": {},
   "outputs": [],
   "source": []
  }
 ],
 "metadata": {
  "kernelspec": {
   "display_name": "Python 3 (ipykernel)",
   "language": "python",
   "name": "python3"
  },
  "language_info": {
   "codemirror_mode": {
    "name": "ipython",
    "version": 3
   },
   "file_extension": ".py",
   "mimetype": "text/x-python",
   "name": "python",
   "nbconvert_exporter": "python",
   "pygments_lexer": "ipython3",
   "version": "3.12.4"
  }
 },
 "nbformat": 4,
 "nbformat_minor": 5
}
