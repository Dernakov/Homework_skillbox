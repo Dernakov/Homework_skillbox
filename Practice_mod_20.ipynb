{
 "cells": [
  {
   "cell_type": "markdown",
   "id": "20d02d60",
   "metadata": {
    "id": "20d02d60"
   },
   "source": [
    "# Feature Engineering. Практическая работа"
   ]
  },
  {
   "cell_type": "markdown",
   "id": "zy6qaMPhyAZd",
   "metadata": {
    "id": "zy6qaMPhyAZd"
   },
   "source": [
    "Сдаётся на проверку."
   ]
  },
  {
   "cell_type": "markdown",
   "id": "df9d0fa3",
   "metadata": {
    "id": "df9d0fa3"
   },
   "source": [
    "## Цели практической работы\n",
    "\n",
    "Научиться: \n",
    "\n",
    "*   генерировать новые признаки; \n",
    "*   нормализовать и кодировать данные с помощью lambda-функций и библиотеки scikit-learn.\n"
   ]
  },
  {
   "cell_type": "markdown",
   "id": "c4a1bdf2",
   "metadata": {
    "id": "c4a1bdf2"
   },
   "source": [
    "## Что входит в практическую работу\n",
    "\n",
    "1. Построить признаки из строк.\n",
    "2. Преобразовать категориальные переменные.\n",
    "3. Стандартизировать данные.\n",
    "4. Использовать MinMaxScaler для нормализации данных.\n",
    "5. Создать признаки на основе дат.\n",
    "6. Сохранить датафрейм для этапа моделирования."
   ]
  },
  {
   "cell_type": "markdown",
   "id": "cefde751",
   "metadata": {
    "id": "cefde751"
   },
   "source": [
    "## Что оценивается\n",
    "- Программа выдаёт верный ответ на заданном наборе данных.\n",
    "- Описаны причины выбранного решения, если требуется.\n",
    "- Код читабелен: переменным даны осмысленные названия, соблюдены отступы и правила расстановки пробелов.\n",
    "- При построении графиков название и оси подписаны, выведена легенда, если требуется. \n",
    "- Репозиторий проекта содержит осмысленные коммиты, содержащие конкретные реализованные фичи, ветки названы согласно назначению, лишние файлы не хранятся в репозитории.\n",
    "- В репозитории проекта соблюдена иерархия директорий согласно списку модулей и содержащихся в них тем.\n",
    "- Репозиторий проекта содержит файлы с данными, полученными в результате выполнения практической работы.\n"
   ]
  },
  {
   "cell_type": "markdown",
   "id": "d8cc2cfd",
   "metadata": {
    "id": "d8cc2cfd"
   },
   "source": [
    "## Как отправить работу на проверку\n",
    "Сдайте практическую работу этого модуля через систему контроля версий Git сервиса Skillbox GitLab. После загрузки работы на проверку напишите об этом в личном кабинете своему проверяющему куратору.\n"
   ]
  },
  {
   "cell_type": "markdown",
   "id": "3092d4ea",
   "metadata": {
    "id": "3092d4ea"
   },
   "source": [
    "## Задача\n",
    "\n",
    "Мы продолжим исследовать и готовить данные для этапа моделирования.\n",
    "\n",
    "Вам предстоит работать с небольшой выборкой из коллекции подержанных автомобилей, выставленных на продажу в Соединённых Штатах, представленной в файле `data/vehicles_dataset_upd.csv`. На этих данных вы построите первую модель классификации, определяющую категорию цены подержанного автомобиля в зависимости от характеристик транспортного средства.\n",
    "\n",
    "В этой практической работе вы продолжите генерировать дополнительные признаки и завершите подготовку датасета для этапа моделирования.\n",
    "\n",
    "## Описание датасета:\n",
    "- `id`— идентификатор записи;\n",
    "- `url`— URL-записи о продаже;\n",
    "- `region`— регион;\n",
    "- `region_url`— URL региона;\n",
    "- `price`— стоимость;\n",
    "- `year`— год выпуска;\n",
    "- `manufacturer`— производитель;\n",
    "- `model`— модель;\n",
    "- `condition`— состояние;\n",
    "- `cylinders`— количество цилиндров;\n",
    "- `fuel`— тип топлива;\n",
    "- `odometer`— количество пройденных миль;\n",
    "- `title_status`— статус;\n",
    "- `transmission`— коробка передач;\n",
    "- `VIN`— идентификационный номер;\n",
    "- `drive`— тип привода;\n",
    "- `size`— размер;\n",
    "- `type`— кузов;\n",
    "- `paint_color`— цвет;\n",
    "- `image_url`— URL изображения;\n",
    "- `description`— указанное описание;\n",
    "- `county`— страна;\n",
    "- `state`— штат;\n",
    "- `lat`— широта;\n",
    "- `long`— долгота;\n",
    "- `posting_date`— дата размещения объявления о продаже;\n",
    "- `price_category`— категория цены.\n"
   ]
  },
  {
   "cell_type": "code",
   "execution_count": 285,
   "id": "859c4d2b",
   "metadata": {
    "ExecuteTime": {
     "end_time": "2022-02-23T19:39:15.915860Z",
     "start_time": "2022-02-23T19:39:15.902436Z"
    },
    "id": "859c4d2b"
   },
   "outputs": [],
   "source": [
    "# Импортируйте необходимые библиотеки\n",
    "import pandas as pd\n",
    "import matplotlib.pyplot as plt\n",
    "from sklearn.preprocessing import OneHotEncoder"
   ]
  },
  {
   "cell_type": "markdown",
   "id": "a98b05f6",
   "metadata": {
    "id": "a98b05f6"
   },
   "source": [
    "### Задача 1. Построение признаков из строк\n",
    "\n",
    "1. Загрузите датасет из `data/vehicles_dataset_upd6.csv`, выведите первые пять записей и список колонок."
   ]
  },
  {
   "cell_type": "code",
   "execution_count": 288,
   "id": "d536ad11",
   "metadata": {
    "ExecuteTime": {
     "end_time": "2022-03-15T22:40:23.588946Z",
     "start_time": "2022-03-15T22:40:23.585461Z"
    },
    "id": "d536ad11"
   },
   "outputs": [
    {
     "data": {
      "text/html": [
       "<div>\n",
       "<style scoped>\n",
       "    .dataframe tbody tr th:only-of-type {\n",
       "        vertical-align: middle;\n",
       "    }\n",
       "\n",
       "    .dataframe tbody tr th {\n",
       "        vertical-align: top;\n",
       "    }\n",
       "\n",
       "    .dataframe thead th {\n",
       "        text-align: right;\n",
       "    }\n",
       "</style>\n",
       "<table border=\"1\" class=\"dataframe\">\n",
       "  <thead>\n",
       "    <tr style=\"text-align: right;\">\n",
       "      <th></th>\n",
       "      <th>id</th>\n",
       "      <th>url</th>\n",
       "      <th>region</th>\n",
       "      <th>region_url</th>\n",
       "      <th>price</th>\n",
       "      <th>year</th>\n",
       "      <th>manufacturer</th>\n",
       "      <th>model</th>\n",
       "      <th>fuel</th>\n",
       "      <th>odometer</th>\n",
       "      <th>...</th>\n",
       "      <th>is_jeep</th>\n",
       "      <th>is_honda</th>\n",
       "      <th>is_nissan</th>\n",
       "      <th>x0_diesel</th>\n",
       "      <th>x0_electric</th>\n",
       "      <th>x0_gas</th>\n",
       "      <th>x0_hybrid</th>\n",
       "      <th>x0_other</th>\n",
       "      <th>std_scaled_odometer</th>\n",
       "      <th>std_scaled_price</th>\n",
       "    </tr>\n",
       "  </thead>\n",
       "  <tbody>\n",
       "    <tr>\n",
       "      <th>0</th>\n",
       "      <td>7308295377</td>\n",
       "      <td>https://chattanooga.craigslist.org/ctd/d/chatt...</td>\n",
       "      <td>chattanooga</td>\n",
       "      <td>https://chattanooga.craigslist.org</td>\n",
       "      <td>54990</td>\n",
       "      <td>2020</td>\n",
       "      <td>ram</td>\n",
       "      <td>2500 crew cab big horn</td>\n",
       "      <td>diesel</td>\n",
       "      <td>27442</td>\n",
       "      <td>...</td>\n",
       "      <td>0</td>\n",
       "      <td>0</td>\n",
       "      <td>0</td>\n",
       "      <td>1.0</td>\n",
       "      <td>0.0</td>\n",
       "      <td>0.0</td>\n",
       "      <td>0.0</td>\n",
       "      <td>0.0</td>\n",
       "      <td>-1.079390</td>\n",
       "      <td>2.958509</td>\n",
       "    </tr>\n",
       "    <tr>\n",
       "      <th>1</th>\n",
       "      <td>7316380095</td>\n",
       "      <td>https://newjersey.craigslist.org/ctd/d/carlsta...</td>\n",
       "      <td>north jersey</td>\n",
       "      <td>https://newjersey.craigslist.org</td>\n",
       "      <td>16942</td>\n",
       "      <td>2016</td>\n",
       "      <td>ford</td>\n",
       "      <td>explorer 4wd 4dr xlt</td>\n",
       "      <td>other</td>\n",
       "      <td>60023</td>\n",
       "      <td>...</td>\n",
       "      <td>0</td>\n",
       "      <td>0</td>\n",
       "      <td>0</td>\n",
       "      <td>0.0</td>\n",
       "      <td>0.0</td>\n",
       "      <td>0.0</td>\n",
       "      <td>0.0</td>\n",
       "      <td>1.0</td>\n",
       "      <td>-0.560115</td>\n",
       "      <td>-0.085826</td>\n",
       "    </tr>\n",
       "    <tr>\n",
       "      <th>2</th>\n",
       "      <td>7313733749</td>\n",
       "      <td>https://reno.craigslist.org/ctd/d/atlanta-2017...</td>\n",
       "      <td>reno / tahoe</td>\n",
       "      <td>https://reno.craigslist.org</td>\n",
       "      <td>35590</td>\n",
       "      <td>2017</td>\n",
       "      <td>volkswagen</td>\n",
       "      <td>golf r hatchback</td>\n",
       "      <td>gas</td>\n",
       "      <td>14048</td>\n",
       "      <td>...</td>\n",
       "      <td>0</td>\n",
       "      <td>0</td>\n",
       "      <td>0</td>\n",
       "      <td>0.0</td>\n",
       "      <td>0.0</td>\n",
       "      <td>1.0</td>\n",
       "      <td>0.0</td>\n",
       "      <td>0.0</td>\n",
       "      <td>-1.292863</td>\n",
       "      <td>1.406256</td>\n",
       "    </tr>\n",
       "    <tr>\n",
       "      <th>3</th>\n",
       "      <td>7308210929</td>\n",
       "      <td>https://fayetteville.craigslist.org/ctd/d/rale...</td>\n",
       "      <td>fayetteville</td>\n",
       "      <td>https://fayetteville.craigslist.org</td>\n",
       "      <td>14500</td>\n",
       "      <td>2013</td>\n",
       "      <td>toyota</td>\n",
       "      <td>rav4</td>\n",
       "      <td>gas</td>\n",
       "      <td>117291</td>\n",
       "      <td>...</td>\n",
       "      <td>0</td>\n",
       "      <td>0</td>\n",
       "      <td>0</td>\n",
       "      <td>0.0</td>\n",
       "      <td>0.0</td>\n",
       "      <td>1.0</td>\n",
       "      <td>0.0</td>\n",
       "      <td>0.0</td>\n",
       "      <td>0.352621</td>\n",
       "      <td>-0.281218</td>\n",
       "    </tr>\n",
       "    <tr>\n",
       "      <th>4</th>\n",
       "      <td>7303797340</td>\n",
       "      <td>https://knoxville.craigslist.org/ctd/d/knoxvil...</td>\n",
       "      <td>knoxville</td>\n",
       "      <td>https://knoxville.craigslist.org</td>\n",
       "      <td>14590</td>\n",
       "      <td>2012</td>\n",
       "      <td>bmw</td>\n",
       "      <td>1 series 128i coupe 2d</td>\n",
       "      <td>other</td>\n",
       "      <td>80465</td>\n",
       "      <td>...</td>\n",
       "      <td>0</td>\n",
       "      <td>0</td>\n",
       "      <td>0</td>\n",
       "      <td>0.0</td>\n",
       "      <td>0.0</td>\n",
       "      <td>0.0</td>\n",
       "      <td>0.0</td>\n",
       "      <td>1.0</td>\n",
       "      <td>-0.234311</td>\n",
       "      <td>-0.274017</td>\n",
       "    </tr>\n",
       "  </tbody>\n",
       "</table>\n",
       "<p>5 rows × 45 columns</p>\n",
       "</div>"
      ],
      "text/plain": [
       "           id                                                url  \\\n",
       "0  7308295377  https://chattanooga.craigslist.org/ctd/d/chatt...   \n",
       "1  7316380095  https://newjersey.craigslist.org/ctd/d/carlsta...   \n",
       "2  7313733749  https://reno.craigslist.org/ctd/d/atlanta-2017...   \n",
       "3  7308210929  https://fayetteville.craigslist.org/ctd/d/rale...   \n",
       "4  7303797340  https://knoxville.craigslist.org/ctd/d/knoxvil...   \n",
       "\n",
       "         region                           region_url  price  year  \\\n",
       "0   chattanooga   https://chattanooga.craigslist.org  54990  2020   \n",
       "1  north jersey     https://newjersey.craigslist.org  16942  2016   \n",
       "2  reno / tahoe          https://reno.craigslist.org  35590  2017   \n",
       "3  fayetteville  https://fayetteville.craigslist.org  14500  2013   \n",
       "4     knoxville     https://knoxville.craigslist.org  14590  2012   \n",
       "\n",
       "  manufacturer                   model    fuel  odometer  ... is_jeep  \\\n",
       "0          ram  2500 crew cab big horn  diesel     27442  ...       0   \n",
       "1         ford    explorer 4wd 4dr xlt   other     60023  ...       0   \n",
       "2   volkswagen        golf r hatchback     gas     14048  ...       0   \n",
       "3       toyota                    rav4     gas    117291  ...       0   \n",
       "4          bmw  1 series 128i coupe 2d   other     80465  ...       0   \n",
       "\n",
       "  is_honda is_nissan x0_diesel x0_electric  x0_gas  x0_hybrid x0_other  \\\n",
       "0        0         0       1.0         0.0     0.0        0.0      0.0   \n",
       "1        0         0       0.0         0.0     0.0        0.0      1.0   \n",
       "2        0         0       0.0         0.0     1.0        0.0      0.0   \n",
       "3        0         0       0.0         0.0     1.0        0.0      0.0   \n",
       "4        0         0       0.0         0.0     0.0        0.0      1.0   \n",
       "\n",
       "  std_scaled_odometer std_scaled_price  \n",
       "0           -1.079390         2.958509  \n",
       "1           -0.560115        -0.085826  \n",
       "2           -1.292863         1.406256  \n",
       "3            0.352621        -0.281218  \n",
       "4           -0.234311        -0.274017  \n",
       "\n",
       "[5 rows x 45 columns]"
      ]
     },
     "execution_count": 288,
     "metadata": {},
     "output_type": "execute_result"
    }
   ],
   "source": [
    "# Ваш код здесь\n",
    "df = pd.read_csv(\"C:/Users/derna/OneDrive/Рабочий стол/дата аналитик/дз/Module_20/vehicles_dataset_upd6.csv\")\n",
    "df.head()"
   ]
  },
  {
   "cell_type": "markdown",
   "id": "c46630e3",
   "metadata": {
    "id": "c46630e3"
   },
   "source": [
    "2. Выведите список значений и количество уникальных значений для модели автомобиля."
   ]
  },
  {
   "cell_type": "code",
   "execution_count": 290,
   "id": "12c123d6",
   "metadata": {
    "ExecuteTime": {
     "end_time": "2022-03-15T22:40:29.330321Z",
     "start_time": "2022-03-15T22:40:29.326988Z"
    },
    "id": "12c123d6"
   },
   "outputs": [
    {
     "name": "stdout",
     "output_type": "stream",
     "text": [
      "0          2500 crew cab big horn\n",
      "1            explorer 4wd 4dr xlt\n",
      "2                golf r hatchback\n",
      "3                            rav4\n",
      "4          1 series 128i coupe 2d\n",
      "                  ...            \n",
      "9614                         rav4\n",
      "9615                     wrangler\n",
      "9616    a3 2.0t premium plus pzev\n",
      "9617                      cayenne\n",
      "9618       1500 crew cab big horn\n",
      "Name: model, Length: 9619, dtype: object\n",
      "Количество уникальных значений:  3341\n"
     ]
    }
   ],
   "source": [
    "# Ваш код здесь\n",
    "print(df['model'])\n",
    "\n",
    "print(f'Количество уникальных значений:  { df['model'].nunique() }')"
   ]
  },
  {
   "cell_type": "markdown",
   "id": "bcf1904b",
   "metadata": {
    "id": "bcf1904b"
   },
   "source": [
    "3. Количество уникальных значений велико. Попробуем их сократить, оставив только первое слово в наименовании модели. С помощью lambda-функции и преобразования над строками создайте новый признак `short_model`, содержащий только первое слово из наименования модели, выведите его и количество получившихся уникальных значений."
   ]
  },
  {
   "cell_type": "code",
   "execution_count": 292,
   "id": "6de1d535",
   "metadata": {
    "ExecuteTime": {
     "end_time": "2022-03-15T22:40:30.465505Z",
     "start_time": "2022-03-15T22:40:30.460032Z"
    },
    "id": "6de1d535"
   },
   "outputs": [
    {
     "name": "stdout",
     "output_type": "stream",
     "text": [
      "0           2500\n",
      "1       explorer\n",
      "2           golf\n",
      "3           rav4\n",
      "4              1\n",
      "          ...   \n",
      "9614        rav4\n",
      "9615    wrangler\n",
      "9616          a3\n",
      "9617     cayenne\n",
      "9618        1500\n",
      "Name: short_model, Length: 9619, dtype: object\n",
      "Количество уникальных значений:  943\n"
     ]
    }
   ],
   "source": [
    "# Ваш код здесь\n",
    "df['short_model'] = df.apply((lambda x: x.model.split(' ')[0]), axis=1)\n",
    "print(df['short_model'])\n",
    "print(f'Количество уникальных значений:  { df['short_model'].nunique() }')"
   ]
  },
  {
   "cell_type": "markdown",
   "id": "f8266e27",
   "metadata": {
    "ExecuteTime": {
     "end_time": "2022-01-28T23:12:51.463454Z",
     "start_time": "2022-01-28T23:12:51.458075Z"
    },
    "id": "f8266e27"
   },
   "source": [
    "### Задача 2. Преобразование категориальных переменных\n",
    "\n",
    "1. Для категориальных переменных `short_model`, `transmission`, `region`, `manufacturer`, `state`, `title_status`, `age_category` распечатайте наименование категории и количество уникальных значений в ней.\n"
   ]
  },
  {
   "cell_type": "code",
   "execution_count": 294,
   "id": "a839bd7c",
   "metadata": {
    "ExecuteTime": {
     "end_time": "2022-03-15T22:40:31.559424Z",
     "start_time": "2022-03-15T22:40:31.552170Z"
    },
    "id": "a839bd7c"
   },
   "outputs": [
    {
     "name": "stdout",
     "output_type": "stream",
     "text": [
      " Категория: short_model. Значения: ['2500' 'explorer' 'golf' 'rav4' '1' 'fusion' 'accord' 'charger' 'altima'\n",
      " 'galant' '500' 'town' 'e-series' 'g.' 'silverado' 'mustang' 'maxima'\n",
      " 'civic' 'vue' 'tahoe' 'f-350' 'f150' 'clubman' 'xts' '3500' 'rogue'\n",
      " 'compass' 'camry' 'renegade' 'forte5' 'f-150' 'wrangler' 'mazda3' '535i'\n",
      " 'park' 'focus' 'gx' 'titan' 'corolla' 'colorado' 'tiguan' 'impreza'\n",
      " 'jetta' 'super' 'q5' 'es' 'lx450' 'pilot' 'Diahatsu' 'other' 'sequoia'\n",
      " '1500' 'tucson' 'sierra' 'grand' 'nautilus' 'elantra' 'x1' 'camaro'\n",
      " 'benz' 'tacoma' 'tsx' 'sebring' 'yukon' 'cooper' 'enclave' 'x4' 'sequioa'\n",
      " 'xc90' 'is300' 'f350' 'romeo' 'ranger' 'spark' '7' 'express' 'q7'\n",
      " 'tribute' 'xv' 'impala' 'c300' 'frontier' 'fit' 'cc' 'transit' 'outback'\n",
      " 'passat' '350z' 'optima' 'c10' 'expedition' 'pathfinder' 'challenger'\n",
      " '200' 'taurus' 'evoque' 'x3' 'arcadia' 'cr-v' 'xt6' 'sante' 'versa'\n",
      " 'e150' 'equinox' 'sonata' 'soul' 'regal' 'Scion' 'lucerne' 'f250'\n",
      " 'odyssey' 's60' 'cruze' 'mkx' 'sienna' '914' '300c' 'crosstrek'\n",
      " 'Voltswagon' 'a6' '550i' 'sport' 'mazda6' 'sorento' 'malibu' 'THOMAS'\n",
      " 'c-class' 'patriot' 'fj' 'trailblazer' 'c-max' '370z' 'mx-5' 'sl-class'\n",
      " 'e250' 'f-250' 'cc4500' '328i' 'm' 'nx' 'escape' 'Emergency' 'corvette'\n",
      " 'liberty' 'vibe' 'edge' 'model' 'chysler' 's5' 'legacy' 'v6' 'dts'\n",
      " 'navigator' 'crv' 'rdx' 'avalanche' 's10' 'Genesis' 'suzuki' 'neon'\n",
      " 'cougar' 'stinger' 'boxster' 'suburban' 'forte' 'verano' 'prius'\n",
      " 'ridgeline' 'promaster' '5' 'xt4' 'wrx' 'mkz' 'cts-v' 'traverse'\n",
      " 'journey' 'caprice' 'rx' 'avenger' '2002' 'limousine' 'eurovan' 'srx'\n",
      " 'caravan' 'c70' 'cherokee' 'rivera' 'tl' '3.2' 'sentra' 'g37' 'k10' 'mdx'\n",
      " 'rx8' 'cayenne' 'x5' '3' 'tundra' 'highlander' 'santa' 'yaris'\n",
      " 'econoline' 'qx50' 'aura' 'outlander' 'dakota' 'isuzu' 'discovery' 'eos'\n",
      " 'pickup' 'gti' 'cadenza' 'genesis' 'a5' 'Chevey' '6' 'qx60' 'flex'\n",
      " 'mariner' 'durango' 'macan' 'cx-9' 'armada' 'lacrosse' 'Hot' 'Champion'\n",
      " 'a4' 'f450' 'gt-r' 'cvr' 'land' 'envision' 'g6' '750xi' 'solara' 'f700'\n",
      " 'eqinox' 'g4500' 'continental' 'cx-5' 'eclipse' 'HINO' 'envoy' 'e-class'\n",
      " 'mazda2' 'q60' 'venza' 'trax' 'ss' 'f550' 'f-pace' 'terrain' 'quest'\n",
      " 'dump' 'fiesta' 'ats' 'rx7' 'scion' '2018' 'e350' 'hyndai' 'avalon' 'brz'\n",
      " '1954' 'accent' 'acadia' '4runner' 'all' 'xt5' 'a3' 'v60' '4500' '500l'\n",
      " 'bronco' 'Plymouth' 'Maserati' 'tlx' 'sts' '300zx' '86' '300' '4' 'cj5'\n",
      " 'eldorado' 'cj8' 'Hummer' 'hhr' 'g' 'panamera' 'lx' 'city' 'commander'\n",
      " 'e46' 'mercedes-amg' 'ram1500' 'sable' 'sonoma' 'certified' 'sedona'\n",
      " 'deville' 'sonic' 'five' 'dart' '1999' 'seirra' 'cobalt' 'e-250' 'm3'\n",
      " 'thunderbird' 'hardtop' 'GRAND' 'c' 'blue' 'veloster' 'm-class' 'e-pace'\n",
      " 'qx80' 'encore' 'cts' 'truck' 's90' 'f-250sd' '240' 'nv200' 'pt'\n",
      " 'forester' 'windstar' 'miata' 's320' 'FORD*' 'bel' 'rainier' 'i-miev'\n",
      " 'hse' 's-10' 'escalade' 'ion' 'deluxe' 'international' 'ls' 'aveo'\n",
      " '535xi' 'murano' 'pick' 'rl' 'gto' 'nv2500' 'clk-class' 'ct5' '3-series'\n",
      " 'Isuzu' 'b2200' '3i' 'xe' 'caliber' '323i' 'rsx' '545i' 'pacifica'\n",
      " 'jeepster' 'svx' 'captiva' 'f' 's8' 'sprinter' 'plymouth' 'xterra' 'f650'\n",
      " 'lifted' 'Lotus' 'IC' 's7' 'Sea' 'SCION' 'atlas' 'srx~awesome' 'c-7500'\n",
      " 'lesabre' 'INTERNATIONAL' 'International' 'quattro' 'kicks' 'juke'\n",
      " 'savana' 's2000' 'beetle' 'gladiator' 'ilx' 'willys' 'new' 'g35x' 'q70'\n",
      " '1978' 'c-hr' 'srx4' 'mpv' 'Flexible' 'bonanza' 'gle' 'c8500' 'cx9' 'is'\n",
      " 'utility' 'freestyle' '300-series' 'magnum' 'blazer' '325i' 'hummer'\n",
      " 'g37s' '280zx' 'q50' 'excursion' 'mountaineer' '2007' 'Janesville' 'gls'\n",
      " 'xk8' 'f-450' 'sportage' 'xj' 'FORD/RANGER' 'freightliner' 'uplander'\n",
      " '5500' 'passport' 'vandura' 'Isizu' 'metris' 'FordE350' 'cavalier' 'nv'\n",
      " 'coupe' 'mkc' 'b2300' 'pontaic' 'v90' 'gmc/chev' 'jouney' 'i3'\n",
      " 'countryman' 'E46' 'glk-class' 'Saab' 'x6' 'g35' 'rio' 'fiero' 'fuso'\n",
      " 'f-550' 'grumman' 'Suzuki' 'cx-7' 'fleetwood' 'a7' 'Comanche' '2' 'Xx'\n",
      " 'mirage' 'r32' 'ml350' 'canyon' 'Pierce' 'rebel' 'lr2' 's500' '350'\n",
      " 'roadster' 'aspen' 'nv2500hd' 'tudor' 'bus' 'GEHL' 'leaf' 'ml' 'gx470'\n",
      " 'ioniq' '750i' 'mazda5' 'PROGRAMS' 'a3,' '2500hd' '2009' 'qx70' 'triumph'\n",
      " '440xi' 'x-3' '330xi' 'milan' 'crew' 'q3' 'davidson' 'sedan' 'Acuarea'\n",
      " 'Frtlner' 'cabrio' 'astra' 'MERCUTY' 'f-450sd' 'Jayco' '944' '325ci'\n",
      " 'nitro' 'element' '540i' 's-class' 'Chevorlet' 'studebaker' 'colbalt'\n",
      " 'stratus' 'Jauguar' 's' '328ci' 'mark' 'gs' 'arteon' 'S60' 'baja' 's4'\n",
      " 'Thomas' 'xf' 'xc40' 'glc' 'ASC' 'cl-class' 'cabellero' 'matrix' 'sl55'\n",
      " 'Sterling' '124' 'echo' 'thomas' 'range' 'jx35' 'BUY' 'm35' 'glc-class'\n",
      " 'tribeca' 'vtx1300c' 'xc60' 'is250' 'deisel' '328' 'azera' 'insight'\n",
      " 'm35s' 'chevelle' '4-runner' '3500hd' 'century' '911' 'glk350' 'cc300'\n",
      " 'z' 's70' 'ecosport' 'g8' 'es300' 'hiace' 'niro' 'jimmy' 'panel' 'qx56'\n",
      " 'g30' 'Minin' 'isf' 'volt' 'i30' 'slc' 'ct6' 'defender' '525i' 'soul+'\n",
      " 'sc300' 'e-golf' '3100' 'cts4' '528i' 'mazda6i' 'e-150' 'sky' 'Nascar'\n",
      " 'sorrento' 'sierra1500' '430i' 'gl450' 'MITUSBISHI' 'xj8' 'tt' 'e-350'\n",
      " 'c4500' 'supra' 'e' 'x-type' 'saab' 'gl-class' 'nx300' 'Freightliner'\n",
      " 'e450' 'putback' 'riviera' 'venture' 'step-van' 'rat' 'gt' 's40' '530i'\n",
      " 'cj2a' 'mallinia' 'American' 'touareg' 'spectra' 'oldsmobile' 's3'\n",
      " 'classuc' 'sle' 'slk' 'maximum' '1972' 'belair' 'rouge' '5500hd' '318i'\n",
      " 's430' 'astro' 'f100' 'HUMMER' 's6' 'phaeton' '320i' 'classic' 'trans'\n",
      " '530' 'Studebaker' 'tracker' 'AM' 'ascent' 'crown' 'veracruz' 'PLYMOUTH'\n",
      " 'lancer' 'ct4' 'van' '5th' 'gx460' 'gla-class' 'firebird' 'FRRV'\n",
      " 'mercades' 'tercel' '2008' '210' 'rx350' 'fx35' 'allroad' 'g37x' 'cube'\n",
      " 'rondo' 'gla' 'gmt-400' 'k900' 'GULF' 'b-series' 'paceman' '928' '650i'\n",
      " 'capri' '328xi' 'conquest' 'fj40' '1968' 'gs430' 'escort' 'cla'\n",
      " 'escape-se,' 'z4' 'Town' 'marineer,premier' 'xc' 'crosstour' 'routan'\n",
      " 'i35' '2000' 'oddyssey' 'monte' 'blackwood' 'freestar' 'f750' 'hr-v'\n",
      " 't-350' 'GMC,' 'montero' 'landcruiser' 'legend' '750' 'c/k' '4x4' '325xi'\n",
      " 'cx-3' 'high' 'MASERATI' 'aviator' 'denali' 'QX' 'seville' 'w350' 'zx2'\n",
      " 'amc' 'sl2' 'ACURA*' 'e-450' 'newport' 'falcon' 'f50' 'maserati' 'Comet'\n",
      " 'rabbit' 'c30' 'corsair' '335xi' 'Triumph' 'Gx' 'reatta' 'avanger'\n",
      " 'kodiak' 'clarity' 'starcraft' 'caravan/grand' 'prizm' 'cmax' 'v50' 'z3'\n",
      " 'OLDSMOBILE' 'crz' 'f-type' 'convertible' 'solstice' 'velar' 'g5' '2016'\n",
      " 'c5500' 'f-350sd' 'cascada' 'rav' 'roadmaster' '645ci' 'mg' 'cx7' 'c250'\n",
      " 'ml500' 'lightning' '335i' 'rx-8' 'shelby' 'ramcharger' 'lemans' 'MGB'\n",
      " 'nv1500' 'ct' 'sc' '380sl' 'k20' 'f1' '3-window' 'k30' 'mks' 't' 'bolt'\n",
      " 'zephyr' 'country' '1928' 'f-100' 't-bucket' 'srx-v6' '163869'\n",
      " 'autobiography' '500c' '-benz' 'rc' 'camary' 'Peterbilt' 'el' 'elcamino'\n",
      " '2012' 'a-class' 'smart' 'glk' 'Eagle' 'rx400h' 'xc70' '2017' 'F250'\n",
      " 'slk-class' 'comet' 'replica' 'clk350' 'Blue' 'es330' 'ux' 'e320' '528xi'\n",
      " 'concorde' '650xi' 'D7FH173552' '500x' 'F-250' 'suv' 'md-x' 'clk' 'Hobda'\n",
      " 'rs' 'GMX' 'fleetmaster' 'b-class' 'ssr' 'rx300' 'MV-1' 'protege' 'fx45'\n",
      " 'gr' 'duramax' 'gle-class' 'thing' 'k5' 'vnl' 'CLICK' 'vanagon'\n",
      " 'CHEVORLET' '135i' 'f600' 'thrift' 'tc5500' 'bug' 'GCM' 'cayman' '328d'\n",
      " 'cj-5' 'lr3' 's/w' 'es350' 'ALL' 'f-750' 'tarsus' 'allante' '1966'\n",
      " '198.5' 'm5' 'c-10' 'Kaiser' '325is' 'JM1BK32F871604924' 'a8' 'endeavor'\n",
      " 'Buicks' 'MERDECES' 'crossfire' 'DODGE1500' 'dealer*' '330i' 'b2600i'\n",
      " 'voyager' 'gl' 'c60' 'l300' 'telluride' 'camero' '640' 'r-class'\n",
      " 'grandville' 'sl550' 'cla-class' 'mr2' 'foxbody' 'cls-class' 'am' '435i'\n",
      " 'fe' 'villager' 'd50' 'caddilac' 'f-650' 'rx330' 'prelude' 'c280'\n",
      " 'Bentley' 'tractor' '50' 'fords' 'c6500' 'cls550' 'sc2' '1994' '5-series'\n",
      " 'diesel' 'ghia' '300s' 'skylark' 'chryler' 'hardbody' 'school' 'EASY'\n",
      " 'lr4' 'g-class' 'rlx' 'Hino' 'g20' 'sl500' 'f450sd' 'xj-series' '1960s'\n",
      " 'hearse' '1988' 'cj7' 'mkt' '1951' 'ltd' '2006' 'slt' 'aztek' 'x2' 'C'\n",
      " 'optimia' 'e500' 'outlook' 'cargo' '1977' 'torrent' 'ram2500' 'SL' '2015'\n",
      " '128i' 'long' 'nova' 'bonneville' 'AMC' 'gmce' '428' 'chevorlet' 'l'\n",
      " 'rendezvous' 'FREIGHTLINER' 'durangon' 'gs350']\n",
      " Категория: transmission. Значения: ['other' 'automatic' 'manual']\n",
      " Категория: region. Значения: ['chattanooga' 'north jersey' 'reno / tahoe' 'fayetteville' 'knoxville'\n",
      " 'des moines' 'roanoke' 'grand rapids' 'omaha / council bluffs'\n",
      " 'rhode island' 'cincinnati' 'jacksonville' 'seattle-tacoma' 'redding'\n",
      " 'hawaii' 'salina' 'billings' 'fresno / madera' 'charleston'\n",
      " 'inland empire' 'modesto' 'south jersey' 'phoenix' 'new haven'\n",
      " 'ft myers / SW florida' 'tyler / east TX' 'charlotte' 'corpus christi'\n",
      " 'appleton-oshkosh-FDL' 'las vegas' 'eugene' 'syracuse' 'stockton'\n",
      " 'danville' 'greenville / upstate' 'philadelphia' 'anchorage / mat-su'\n",
      " 'maine' 'port huron' 'springfield' 'olympic peninsula' 'san angelo'\n",
      " 'richmond' 'albuquerque' 'dallas / fort worth' 'SF bay area' 'yakima'\n",
      " 'fort collins / north CO' 'boise' 'st cloud' 'albany' 'nashville'\n",
      " 'colorado springs' 'yuba-sutter' 'san luis obispo' 'cleveland' 'prescott'\n",
      " 'hudson valley' 'ventura county' 'holland' 'ocala' 'baton rouge'\n",
      " 'central NJ' 'pittsburgh' 'tucson' 'ames' 'erie' 'vermont'\n",
      " 'killeen / temple / ft hood' 'austin' 'jersey shore'\n",
      " 'kennewick-pasco-richland' 'western KY' 'kenai peninsula' 'detroit metro'\n",
      " 'bellingham' 'battle creek' 'chautauqua' 'st louis, MO'\n",
      " 'dayton / springfield' 'kansas city, MO' 'louisville'\n",
      " 'rapid city / west SD' 'indianapolis' 'orange county' 'baltimore'\n",
      " 'champaign urbana' 'show low' 'salem' 'mankato' 'sarasota-bradenton'\n",
      " 'tampa bay area' 'raleigh / durham / CH' 'new york city' 'gold country'\n",
      " 'montgomery' 'chico' 'fargo / moorhead' 'tulsa' 'south bend / michiana'\n",
      " 'harrisburg' 'chicago' 'duluth / superior' \"spokane / coeur d'alene\"\n",
      " 'kalispell' 'twin falls' 'worcester / central MA' 'columbus'\n",
      " 'lima / findlay' 'oklahoma city' 'binghamton' 'greensboro' 'denver'\n",
      " 'delaware' 'los angeles' 'rockford' 'columbia / jeff city' 'lancaster'\n",
      " 'san antonio' 'orlando' 'hartford' 'charlottesville' 'ithaca' 'memphis'\n",
      " 'elko' 'clarksville' 'lincoln' 'gainesville' 'monterey bay'\n",
      " 'south florida' 'lehigh valley' 'wenatchee' 'wilmington'\n",
      " 'macon / warner robins' 'new hampshire' 'treasure coast' 'akron / canton'\n",
      " 'lewiston / clarkston' 'mobile' 'topeka' 'rochester' 'bakersfield'\n",
      " 'kalamazoo' 'eastern NC' 'terre haute' 'reading' 'eastern CT'\n",
      " 'grand island' 'long island' 'toledo' 'sacramento' 'york' 'fort wayne'\n",
      " 'milwaukee' 'myrtle beach' 'scranton / wilkes-barre' 'daytona beach'\n",
      " 'frederick' 'amarillo' 'buffalo' 'savannah / hinesville'\n",
      " 'western massachusetts' 'portland' 'huntington-ashland' 'el paso'\n",
      " 'bismarck' 'winston-salem' 'western slope' 'st george' 'roseburg'\n",
      " 'tallahassee' 'minneapolis / st paul' 'columbia' 'decatur' 'wausau'\n",
      " 'morgantown' 'palm springs' 'annapolis' 'lawrence' 'williamsport'\n",
      " 'santa fe / taos' 'norfolk / hampton roads' 'northwest GA' 'bend'\n",
      " 'kokomo' 'missoula' 'washington, DC' 'glens falls' 'new river valley'\n",
      " 'oregon coast' 'south coast' 'san diego' 'las cruces' 'lakeland' 'boone'\n",
      " 'atlanta' 'joplin' 'saginaw-midland-baycity' 'muskegon' 'wichita falls'\n",
      " 'bozeman' 'parkersburg-marietta' 'florida keys' 'lansing'\n",
      " 'southwest michigan' 'janesville' 'jackson' 'little rock'\n",
      " 'quad cities, IA/IL' 'boston' 'visalia-tulare' 'plattsburgh-adirondacks'\n",
      " 'huntsville / decatur' 'southern maryland' 'sioux falls / SE SD'\n",
      " 'finger lakes' 'green bay' 'eau claire' 'shreveport' 'upper peninsula'\n",
      " 'cedar rapids' 'mcallen / edinburg' 'madison' 'birmingham' 'southwest MN'\n",
      " 'waco' 'pueblo' 'utica-rome-oneida' 'houston' 'pensacola' 'victoria'\n",
      " 'skagit / island / SJI' 'medford-ashland' 'watertown' 'salt lake city'\n",
      " 'moses lake' 'lexington' 'winchester' 'east idaho' 'wichita'\n",
      " 'cumberland valley' 'western maryland' 'butte' 'great falls'\n",
      " 'southern illinois' 'santa barbara' 'kenosha-racine' 'odessa / midland'\n",
      " 'zanesville / cambridge' 'athens' 'fredericksburg' 'yuma' 'mohave county'\n",
      " 'tri-cities' 'gadsden-anniston' 'sioux city' 'harrisonburg'\n",
      " 'northwest OK' 'pullman / moscow' 'fairbanks' 'new orleans' 'asheville'\n",
      " 'northwest CT' 'wyoming' 'jonesboro' 'mansfield' 'hilton head'\n",
      " 'manhattan' 'poconos' 'brainerd' 'central michigan' 'statesboro'\n",
      " 'siskiyou county' 'east oregon' 'space coast' 'ann arbor'\n",
      " 'hickory / lenoir' 'north central FL' 'twin tiers NY/PA'\n",
      " 'humboldt county' 'abilene' 'mattoon-charleston' 'monroe' 'susanville'\n",
      " 'ashtabula' 'la crosse' 'boulder' 'sandusky' 'scottsbluff / panhandle'\n",
      " 'tuscarawas co' 'heartland florida' 'stillwater' 'peoria' 'outer banks'\n",
      " 'the thumb' 'eastern shore' 'laredo' 'muncie / anderson' 'lynchburg'\n",
      " 'sierra vista' 'lubbock' 'youngstown' 'elmira-corning'\n",
      " 'bloomington-normal' 'hattiesburg' 'beaumont / port arthur' 'flint'\n",
      " 'hanford-corcoran' 'dothan' 'northern panhandle' 'brunswick' 'texoma'\n",
      " 'merced' 'southeast missouri' 'galveston' 'santa maria' 'lafayette'\n",
      " 'fort dodge' 'lafayette / west lafayette' 'altoona-johnstown'\n",
      " 'potsdam-canton-massena' 'sheboygan' 'augusta' 'iowa city' 'southwest KS'\n",
      " 'flagstaff / sedona' 'northwest KS' 'southeast alaska'\n",
      " 'cape cod / islands' 'college station' 'state college' 'corvallis/albany'\n",
      " 'florence' 'valdosta' 'bowling green' 'eastern kentucky'\n",
      " 'clovis / portales' 'north mississippi' 'lake of the ozarks' 'mason city'\n",
      " 'okaloosa / walton' 'san marcos' 'evansville' 'brownsville' 'meadville'\n",
      " 'southeast IA' 'bemidji' 'texarkana' 'eastern montana'\n",
      " 'central louisiana' 'lake charles' 'bloomington' 'northern WI'\n",
      " 'mendocino county' 'imperial county' 'north platte' 'southwest VA'\n",
      " 'northern michigan' 'la salle co' 'southern WV' 'ogden-clearfield'\n",
      " 'florence / muscle shoals' 'southwest MS' 'south dakota' 'dubuque'\n",
      " 'st joseph' 'del rio / eagle pass' 'tuscaloosa' 'fort smith'\n",
      " 'panama city' 'roswell / carlsbad' 'chillicothe' 'farmington'\n",
      " 'eastern panhandle' 'houma' 'logan' 'north dakota'\n",
      " 'waterloo / cedar falls' 'eastern CO' 'grand forks' 'pierre / central SD'\n",
      " 'oneonta' 'lawton' 'helena' 'klamath falls' 'owensboro' 'catskills'\n",
      " 'gulfport / biloxi' 'kirksville' 'high rockies' 'northeast SD'\n",
      " 'st augustine' 'auburn']\n",
      " Категория: manufacturer. Значения: ['ram' 'ford' 'volkswagen' 'toyota' 'bmw' 'honda' 'dodge' 'nissan'\n",
      " 'mitsubishi' 'fiat' 'lincoln' 'chevrolet' 'saturn' 'mini' 'cadillac'\n",
      " 'jeep' 'kia' 'mazda' 'buick' 'lexus' 'subaru' 'audi' 'other' 'rover'\n",
      " 'hyundai' 'gmc' 'mercedes-benz' 'acura' 'chrysler' 'volvo' 'alfa-romeo'\n",
      " 'porsche' 'pontiac' 'tesla' 'mercury' 'infiniti' 'jaguar' 'datsun'\n",
      " 'harley-davidson' 'ferrari']\n",
      " Категория: state. Значения: ['tn' 'nj' 'ca' 'nc' 'ia' 'va' 'mi' 'ri' 'oh' 'fl' 'wa' 'hi' 'ks' 'mt'\n",
      " 'sc' 'az' 'ct' 'tx' 'wi' 'nv' 'or' 'ny' 'pa' 'ak' 'me' 'mo' 'nm' 'co'\n",
      " 'id' 'mn' 'la' 'vt' 'ky' 'il' 'sd' 'in' 'md' 'al' 'ok' 'ma' 'de' 'ar'\n",
      " 'ne' 'ga' 'nh' 'nd' 'ut' 'wv' 'dc' 'wy' 'ms']\n",
      " Категория: title_status. Значения: ['clean' 'rebuilt' 'salvage' 'lien' 'missing' 'parts only']\n",
      " Категория: age_category. Значения: ['new' 'average' 'old']\n"
     ]
    }
   ],
   "source": [
    "# Ваш код здесь\n",
    "print(f' Категория: short_model. Значения: {df['short_model'].unique()}')\n",
    "print(f' Категория: transmission. Значения: {df['transmission'].unique()}')\n",
    "print(f' Категория: region. Значения: {df['region'].unique()}')\n",
    "print(f' Категория: manufacturer. Значения: {df['manufacturer'].unique()}')\n",
    "print(f' Категория: state. Значения: {df['state'].unique()}')\n",
    "print(f' Категория: title_status. Значения: {df['title_status'].unique()}')\n",
    "print(f' Категория: age_category. Значения: {df['age_category'].unique()}')"
   ]
  },
  {
   "cell_type": "markdown",
   "id": "6d22ddcd",
   "metadata": {
    "id": "6d22ddcd"
   },
   "source": [
    "2. Создайте датафрейм `data`, содержащий только выбранные категориальные переменные."
   ]
  },
  {
   "cell_type": "code",
   "execution_count": 296,
   "id": "c6fb4d53",
   "metadata": {
    "ExecuteTime": {
     "end_time": "2022-03-15T22:40:32.233510Z",
     "start_time": "2022-03-15T22:40:32.226777Z"
    },
    "id": "c6fb4d53"
   },
   "outputs": [
    {
     "data": {
      "text/html": [
       "<div>\n",
       "<style scoped>\n",
       "    .dataframe tbody tr th:only-of-type {\n",
       "        vertical-align: middle;\n",
       "    }\n",
       "\n",
       "    .dataframe tbody tr th {\n",
       "        vertical-align: top;\n",
       "    }\n",
       "\n",
       "    .dataframe thead th {\n",
       "        text-align: right;\n",
       "    }\n",
       "</style>\n",
       "<table border=\"1\" class=\"dataframe\">\n",
       "  <thead>\n",
       "    <tr style=\"text-align: right;\">\n",
       "      <th></th>\n",
       "      <th>short_model</th>\n",
       "      <th>transmission</th>\n",
       "      <th>region</th>\n",
       "      <th>manufacturer</th>\n",
       "      <th>state</th>\n",
       "      <th>title_status</th>\n",
       "      <th>age_category</th>\n",
       "    </tr>\n",
       "  </thead>\n",
       "  <tbody>\n",
       "    <tr>\n",
       "      <th>0</th>\n",
       "      <td>2500</td>\n",
       "      <td>other</td>\n",
       "      <td>chattanooga</td>\n",
       "      <td>ram</td>\n",
       "      <td>tn</td>\n",
       "      <td>clean</td>\n",
       "      <td>new</td>\n",
       "    </tr>\n",
       "    <tr>\n",
       "      <th>1</th>\n",
       "      <td>explorer</td>\n",
       "      <td>automatic</td>\n",
       "      <td>north jersey</td>\n",
       "      <td>ford</td>\n",
       "      <td>nj</td>\n",
       "      <td>clean</td>\n",
       "      <td>new</td>\n",
       "    </tr>\n",
       "    <tr>\n",
       "      <th>2</th>\n",
       "      <td>golf</td>\n",
       "      <td>other</td>\n",
       "      <td>reno / tahoe</td>\n",
       "      <td>volkswagen</td>\n",
       "      <td>ca</td>\n",
       "      <td>clean</td>\n",
       "      <td>new</td>\n",
       "    </tr>\n",
       "    <tr>\n",
       "      <th>3</th>\n",
       "      <td>rav4</td>\n",
       "      <td>automatic</td>\n",
       "      <td>fayetteville</td>\n",
       "      <td>toyota</td>\n",
       "      <td>nc</td>\n",
       "      <td>clean</td>\n",
       "      <td>average</td>\n",
       "    </tr>\n",
       "    <tr>\n",
       "      <th>4</th>\n",
       "      <td>1</td>\n",
       "      <td>other</td>\n",
       "      <td>knoxville</td>\n",
       "      <td>bmw</td>\n",
       "      <td>tn</td>\n",
       "      <td>clean</td>\n",
       "      <td>average</td>\n",
       "    </tr>\n",
       "    <tr>\n",
       "      <th>...</th>\n",
       "      <td>...</td>\n",
       "      <td>...</td>\n",
       "      <td>...</td>\n",
       "      <td>...</td>\n",
       "      <td>...</td>\n",
       "      <td>...</td>\n",
       "      <td>...</td>\n",
       "    </tr>\n",
       "    <tr>\n",
       "      <th>9614</th>\n",
       "      <td>rav4</td>\n",
       "      <td>automatic</td>\n",
       "      <td>chautauqua</td>\n",
       "      <td>toyota</td>\n",
       "      <td>ny</td>\n",
       "      <td>clean</td>\n",
       "      <td>old</td>\n",
       "    </tr>\n",
       "    <tr>\n",
       "      <th>9615</th>\n",
       "      <td>wrangler</td>\n",
       "      <td>other</td>\n",
       "      <td>binghamton</td>\n",
       "      <td>jeep</td>\n",
       "      <td>ny</td>\n",
       "      <td>clean</td>\n",
       "      <td>average</td>\n",
       "    </tr>\n",
       "    <tr>\n",
       "      <th>9616</th>\n",
       "      <td>a3</td>\n",
       "      <td>automatic</td>\n",
       "      <td>salem</td>\n",
       "      <td>audi</td>\n",
       "      <td>or</td>\n",
       "      <td>clean</td>\n",
       "      <td>average</td>\n",
       "    </tr>\n",
       "    <tr>\n",
       "      <th>9617</th>\n",
       "      <td>cayenne</td>\n",
       "      <td>automatic</td>\n",
       "      <td>madison</td>\n",
       "      <td>porsche</td>\n",
       "      <td>wi</td>\n",
       "      <td>clean</td>\n",
       "      <td>new</td>\n",
       "    </tr>\n",
       "    <tr>\n",
       "      <th>9618</th>\n",
       "      <td>1500</td>\n",
       "      <td>other</td>\n",
       "      <td>norfolk / hampton roads</td>\n",
       "      <td>ram</td>\n",
       "      <td>va</td>\n",
       "      <td>clean</td>\n",
       "      <td>new</td>\n",
       "    </tr>\n",
       "  </tbody>\n",
       "</table>\n",
       "<p>9619 rows × 7 columns</p>\n",
       "</div>"
      ],
      "text/plain": [
       "     short_model transmission                   region manufacturer state  \\\n",
       "0           2500        other              chattanooga          ram    tn   \n",
       "1       explorer    automatic             north jersey         ford    nj   \n",
       "2           golf        other             reno / tahoe   volkswagen    ca   \n",
       "3           rav4    automatic             fayetteville       toyota    nc   \n",
       "4              1        other                knoxville          bmw    tn   \n",
       "...          ...          ...                      ...          ...   ...   \n",
       "9614        rav4    automatic               chautauqua       toyota    ny   \n",
       "9615    wrangler        other               binghamton         jeep    ny   \n",
       "9616          a3    automatic                    salem         audi    or   \n",
       "9617     cayenne    automatic                  madison      porsche    wi   \n",
       "9618        1500        other  norfolk / hampton roads          ram    va   \n",
       "\n",
       "     title_status age_category  \n",
       "0           clean          new  \n",
       "1           clean          new  \n",
       "2           clean          new  \n",
       "3           clean      average  \n",
       "4           clean      average  \n",
       "...           ...          ...  \n",
       "9614        clean          old  \n",
       "9615        clean      average  \n",
       "9616        clean      average  \n",
       "9617        clean          new  \n",
       "9618        clean          new  \n",
       "\n",
       "[9619 rows x 7 columns]"
      ]
     },
     "execution_count": 296,
     "metadata": {},
     "output_type": "execute_result"
    }
   ],
   "source": [
    "# Ваш код здесь\n",
    "data = df[['short_model', 'transmission', 'region', 'manufacturer', 'state', 'title_status', 'age_category']]\n",
    "data"
   ]
  },
  {
   "cell_type": "markdown",
   "id": "cac34814",
   "metadata": {
    "id": "cac34814"
   },
   "source": [
    "3. Создайте объект класса OneHotEncoder, который будет отвечать за преобразование. Уточните, что на выходе должна быть неразреженная матрица."
   ]
  },
  {
   "cell_type": "code",
   "execution_count": 300,
   "id": "5c64ca58",
   "metadata": {
    "ExecuteTime": {
     "end_time": "2022-03-15T22:40:33.034009Z",
     "start_time": "2022-03-15T22:40:33.028764Z"
    },
    "id": "5c64ca58"
   },
   "outputs": [],
   "source": [
    "ohe = OneHotEncoder(sparse_output=False)\n",
    "# Ваш код здесь"
   ]
  },
  {
   "cell_type": "markdown",
   "id": "26a44ecc",
   "metadata": {
    "id": "26a44ecc"
   },
   "source": [
    "4. Идентифицируйте параметры преобразования на датафрейме с категориальными переменными."
   ]
  },
  {
   "cell_type": "code",
   "execution_count": 303,
   "id": "295f2ffc",
   "metadata": {
    "ExecuteTime": {
     "end_time": "2022-03-15T22:40:33.874311Z",
     "start_time": "2022-03-15T22:40:33.871463Z"
    },
    "id": "295f2ffc"
   },
   "outputs": [],
   "source": [
    "# Ваш код здесь\n",
    "encoded_data = ohe.fit_transform(data)"
   ]
  },
  {
   "cell_type": "markdown",
   "id": "e5504b8d",
   "metadata": {
    "id": "e5504b8d"
   },
   "source": [
    "5. Примените преобразование для датафрейма с категориальными переменными и сохраните в новую переменную, распечатайте получившуюся матрицу и её размерность."
   ]
  },
  {
   "cell_type": "code",
   "execution_count": 307,
   "id": "10d8356c",
   "metadata": {
    "ExecuteTime": {
     "end_time": "2022-03-15T22:40:34.519702Z",
     "start_time": "2022-03-15T22:40:34.516796Z"
    },
    "id": "10d8356c"
   },
   "outputs": [
    {
     "name": "stdout",
     "output_type": "stream",
     "text": [
      "   short_model_-benz  short_model_1  short_model_124  short_model_128i  \\\n",
      "0                0.0            0.0              0.0               0.0   \n",
      "1                0.0            0.0              0.0               0.0   \n",
      "2                0.0            0.0              0.0               0.0   \n",
      "3                0.0            0.0              0.0               0.0   \n",
      "4                0.0            1.0              0.0               0.0   \n",
      "\n",
      "   short_model_135i  short_model_1500  short_model_163869  short_model_1928  \\\n",
      "0               0.0               0.0                 0.0               0.0   \n",
      "1               0.0               0.0                 0.0               0.0   \n",
      "2               0.0               0.0                 0.0               0.0   \n",
      "3               0.0               0.0                 0.0               0.0   \n",
      "4               0.0               0.0                 0.0               0.0   \n",
      "\n",
      "   short_model_1951  short_model_1954  ...  state_wy  title_status_clean  \\\n",
      "0               0.0               0.0  ...       0.0                 1.0   \n",
      "1               0.0               0.0  ...       0.0                 1.0   \n",
      "2               0.0               0.0  ...       0.0                 1.0   \n",
      "3               0.0               0.0  ...       0.0                 1.0   \n",
      "4               0.0               0.0  ...       0.0                 1.0   \n",
      "\n",
      "   title_status_lien  title_status_missing  title_status_parts only  \\\n",
      "0                0.0                   0.0                      0.0   \n",
      "1                0.0                   0.0                      0.0   \n",
      "2                0.0                   0.0                      0.0   \n",
      "3                0.0                   0.0                      0.0   \n",
      "4                0.0                   0.0                      0.0   \n",
      "\n",
      "   title_status_rebuilt  title_status_salvage  age_category_average  \\\n",
      "0                   0.0                   0.0                   0.0   \n",
      "1                   0.0                   0.0                   0.0   \n",
      "2                   0.0                   0.0                   0.0   \n",
      "3                   0.0                   0.0                   1.0   \n",
      "4                   0.0                   0.0                   1.0   \n",
      "\n",
      "   age_category_new  age_category_old  \n",
      "0               1.0               0.0  \n",
      "1               1.0               0.0  \n",
      "2               1.0               0.0  \n",
      "3               0.0               0.0  \n",
      "4               0.0               0.0  \n",
      "\n",
      "[5 rows x 1439 columns]\n"
     ]
    }
   ],
   "source": [
    "# Ваш код здесь\n",
    "categorical_columns = ['short_model', 'transmission', 'region', 'manufacturer', 'state', 'title_status', 'age_category']\n",
    "encoded_df = pd.DataFrame(encoded_data, columns=ohe.get_feature_names_out(categorical_columns))\n",
    "print(encoded_df.head())"
   ]
  },
  {
   "cell_type": "markdown",
   "id": "490cf3fa",
   "metadata": {
    "id": "490cf3fa"
   },
   "source": [
    "6. Выведите новые наименования признаков с помощью метода `get_feature_names_out`."
   ]
  },
  {
   "cell_type": "code",
   "execution_count": 310,
   "id": "a5ee48ea",
   "metadata": {
    "ExecuteTime": {
     "end_time": "2022-03-15T22:40:35.296004Z",
     "start_time": "2022-03-15T22:40:35.291879Z"
    },
    "id": "a5ee48ea"
   },
   "outputs": [
    {
     "data": {
      "text/plain": [
       "array(['short_model_-benz', 'short_model_1', 'short_model_124', ...,\n",
       "       'age_category_average', 'age_category_new', 'age_category_old'],\n",
       "      dtype=object)"
      ]
     },
     "execution_count": 310,
     "metadata": {},
     "output_type": "execute_result"
    }
   ],
   "source": [
    "# Ваш код здесь\n",
    "ohe.get_feature_names_out()"
   ]
  },
  {
   "cell_type": "markdown",
   "id": "115aed73",
   "metadata": {
    "id": "115aed73"
   },
   "source": [
    "7. Добавьте в исходный датафрейм получившиеся новые признаки, выведите первые пять записей датафрейма и список колонок."
   ]
  },
  {
   "cell_type": "code",
   "execution_count": 313,
   "id": "0062ac07",
   "metadata": {
    "ExecuteTime": {
     "end_time": "2022-03-15T22:40:35.978083Z",
     "start_time": "2022-03-15T22:40:35.970249Z"
    },
    "id": "0062ac07"
   },
   "outputs": [
    {
     "name": "stdout",
     "output_type": "stream",
     "text": [
      "           id                                                url  \\\n",
      "0  7308295377  https://chattanooga.craigslist.org/ctd/d/chatt...   \n",
      "1  7316380095  https://newjersey.craigslist.org/ctd/d/carlsta...   \n",
      "2  7313733749  https://reno.craigslist.org/ctd/d/atlanta-2017...   \n",
      "3  7308210929  https://fayetteville.craigslist.org/ctd/d/rale...   \n",
      "4  7303797340  https://knoxville.craigslist.org/ctd/d/knoxvil...   \n",
      "\n",
      "         region                           region_url  price  year  \\\n",
      "0   chattanooga   https://chattanooga.craigslist.org  54990  2020   \n",
      "1  north jersey     https://newjersey.craigslist.org  16942  2016   \n",
      "2  reno / tahoe          https://reno.craigslist.org  35590  2017   \n",
      "3  fayetteville  https://fayetteville.craigslist.org  14500  2013   \n",
      "4     knoxville     https://knoxville.craigslist.org  14590  2012   \n",
      "\n",
      "  manufacturer                   model    fuel  odometer  ... state_wy  \\\n",
      "0          ram  2500 crew cab big horn  diesel     27442  ...      0.0   \n",
      "1         ford    explorer 4wd 4dr xlt   other     60023  ...      0.0   \n",
      "2   volkswagen        golf r hatchback     gas     14048  ...      0.0   \n",
      "3       toyota                    rav4     gas    117291  ...      0.0   \n",
      "4          bmw  1 series 128i coupe 2d   other     80465  ...      0.0   \n",
      "\n",
      "  title_status_clean title_status_lien title_status_missing  \\\n",
      "0                1.0               0.0                  0.0   \n",
      "1                1.0               0.0                  0.0   \n",
      "2                1.0               0.0                  0.0   \n",
      "3                1.0               0.0                  0.0   \n",
      "4                1.0               0.0                  0.0   \n",
      "\n",
      "  title_status_parts only  title_status_rebuilt  title_status_salvage  \\\n",
      "0                     0.0                   0.0                   0.0   \n",
      "1                     0.0                   0.0                   0.0   \n",
      "2                     0.0                   0.0                   0.0   \n",
      "3                     0.0                   0.0                   0.0   \n",
      "4                     0.0                   0.0                   0.0   \n",
      "\n",
      "  age_category_average age_category_new age_category_old  \n",
      "0                  0.0              1.0              0.0  \n",
      "1                  0.0              1.0              0.0  \n",
      "2                  0.0              1.0              0.0  \n",
      "3                  1.0              0.0              0.0  \n",
      "4                  1.0              0.0              0.0  \n",
      "\n",
      "[5 rows x 1485 columns]\n",
      "Index(['id', 'url', 'region', 'region_url', 'price', 'year', 'manufacturer',\n",
      "       'model', 'fuel', 'odometer',\n",
      "       ...\n",
      "       'state_wy', 'title_status_clean', 'title_status_lien',\n",
      "       'title_status_missing', 'title_status_parts only',\n",
      "       'title_status_rebuilt', 'title_status_salvage', 'age_category_average',\n",
      "       'age_category_new', 'age_category_old'],\n",
      "      dtype='object', length=1485)\n"
     ]
    }
   ],
   "source": [
    "# Ваш код здесь\n",
    "df = pd.concat([df, encoded_df], axis=1)\n",
    "\n",
    "print(df.head())\n",
    "print(df.columns)"
   ]
  },
  {
   "cell_type": "markdown",
   "id": "4eddeddb",
   "metadata": {
    "id": "4eddeddb"
   },
   "source": [
    "8. Посмотрите на результат обратного преобразования получившейся матрицы в исходные признаки, используйте `inverse_transform`."
   ]
  },
  {
   "cell_type": "code",
   "execution_count": 316,
   "id": "0f2613e6",
   "metadata": {
    "ExecuteTime": {
     "end_time": "2022-03-15T22:40:45.647004Z",
     "start_time": "2022-03-15T22:40:45.641686Z"
    },
    "id": "0f2613e6"
   },
   "outputs": [
    {
     "data": {
      "text/plain": [
       "array([['2500', 'other', 'chattanooga', ..., 'tn', 'clean', 'new'],\n",
       "       ['explorer', 'automatic', 'north jersey', ..., 'nj', 'clean',\n",
       "        'new'],\n",
       "       ['golf', 'other', 'reno / tahoe', ..., 'ca', 'clean', 'new'],\n",
       "       ...,\n",
       "       ['a3', 'automatic', 'salem', ..., 'or', 'clean', 'average'],\n",
       "       ['cayenne', 'automatic', 'madison', ..., 'wi', 'clean', 'new'],\n",
       "       ['1500', 'other', 'norfolk / hampton roads', ..., 'va', 'clean',\n",
       "        'new']], dtype=object)"
      ]
     },
     "execution_count": 316,
     "metadata": {},
     "output_type": "execute_result"
    }
   ],
   "source": [
    "# Ваш код здесь\n",
    "ohe.inverse_transform(encoded_data)"
   ]
  },
  {
   "cell_type": "markdown",
   "id": "29bad2c6",
   "metadata": {
    "id": "29bad2c6"
   },
   "source": [
    "### Задача 3. Стандартизация данных\n",
    "\n",
    "1. Создайте переменную под количественные переменные `lat`, `long`, `year`, `odometer/price`, `desc_len`, `model_in_desc`, `model_len`, `model_word_count` и создайте датафрейм `data`, содержащий только выбранные количественные переменные.\n"
   ]
  },
  {
   "cell_type": "code",
   "execution_count": 319,
   "id": "ad704812",
   "metadata": {
    "ExecuteTime": {
     "end_time": "2022-03-15T22:40:45.881773Z",
     "start_time": "2022-03-15T22:40:45.875957Z"
    },
    "id": "ad704812"
   },
   "outputs": [
    {
     "data": {
      "text/html": [
       "<div>\n",
       "<style scoped>\n",
       "    .dataframe tbody tr th:only-of-type {\n",
       "        vertical-align: middle;\n",
       "    }\n",
       "\n",
       "    .dataframe tbody tr th {\n",
       "        vertical-align: top;\n",
       "    }\n",
       "\n",
       "    .dataframe thead th {\n",
       "        text-align: right;\n",
       "    }\n",
       "</style>\n",
       "<table border=\"1\" class=\"dataframe\">\n",
       "  <thead>\n",
       "    <tr style=\"text-align: right;\">\n",
       "      <th></th>\n",
       "      <th>lat</th>\n",
       "      <th>long</th>\n",
       "      <th>year</th>\n",
       "      <th>odometer/price</th>\n",
       "      <th>desc_len</th>\n",
       "      <th>model_in_desc</th>\n",
       "      <th>model_len</th>\n",
       "      <th>model_word_count</th>\n",
       "    </tr>\n",
       "  </thead>\n",
       "  <tbody>\n",
       "    <tr>\n",
       "      <th>0</th>\n",
       "      <td>35.060000</td>\n",
       "      <td>-85.250000</td>\n",
       "      <td>2020</td>\n",
       "      <td>0.499036</td>\n",
       "      <td>4482</td>\n",
       "      <td>0</td>\n",
       "      <td>22</td>\n",
       "      <td>5</td>\n",
       "    </tr>\n",
       "    <tr>\n",
       "      <th>1</th>\n",
       "      <td>40.821805</td>\n",
       "      <td>-74.061962</td>\n",
       "      <td>2016</td>\n",
       "      <td>3.542852</td>\n",
       "      <td>968</td>\n",
       "      <td>0</td>\n",
       "      <td>20</td>\n",
       "      <td>4</td>\n",
       "    </tr>\n",
       "    <tr>\n",
       "      <th>2</th>\n",
       "      <td>33.779214</td>\n",
       "      <td>-84.411811</td>\n",
       "      <td>2017</td>\n",
       "      <td>0.394718</td>\n",
       "      <td>4286</td>\n",
       "      <td>0</td>\n",
       "      <td>16</td>\n",
       "      <td>3</td>\n",
       "    </tr>\n",
       "    <tr>\n",
       "      <th>3</th>\n",
       "      <td>35.715954</td>\n",
       "      <td>-78.655304</td>\n",
       "      <td>2013</td>\n",
       "      <td>8.089034</td>\n",
       "      <td>3241</td>\n",
       "      <td>0</td>\n",
       "      <td>4</td>\n",
       "      <td>1</td>\n",
       "    </tr>\n",
       "    <tr>\n",
       "      <th>4</th>\n",
       "      <td>35.970000</td>\n",
       "      <td>-83.940000</td>\n",
       "      <td>2012</td>\n",
       "      <td>5.515079</td>\n",
       "      <td>4851</td>\n",
       "      <td>0</td>\n",
       "      <td>22</td>\n",
       "      <td>5</td>\n",
       "    </tr>\n",
       "  </tbody>\n",
       "</table>\n",
       "</div>"
      ],
      "text/plain": [
       "         lat       long  year  odometer/price  desc_len  model_in_desc  \\\n",
       "0  35.060000 -85.250000  2020        0.499036      4482              0   \n",
       "1  40.821805 -74.061962  2016        3.542852       968              0   \n",
       "2  33.779214 -84.411811  2017        0.394718      4286              0   \n",
       "3  35.715954 -78.655304  2013        8.089034      3241              0   \n",
       "4  35.970000 -83.940000  2012        5.515079      4851              0   \n",
       "\n",
       "   model_len  model_word_count  \n",
       "0         22                 5  \n",
       "1         20                 4  \n",
       "2         16                 3  \n",
       "3          4                 1  \n",
       "4         22                 5  "
      ]
     },
     "execution_count": 319,
     "metadata": {},
     "output_type": "execute_result"
    }
   ],
   "source": [
    "# Ваш код здесь\n",
    "val_columns = ['lat', 'long', 'year', 'odometer/price', 'desc_len', 'model_in_desc', 'model_len', 'model_word_count']\n",
    "data = df[val_columns]\n",
    "data.head()"
   ]
  },
  {
   "cell_type": "markdown",
   "id": "3e3704a7",
   "metadata": {
    "id": "3e3704a7"
   },
   "source": [
    "2. Создайте объект `std_scaler` класса StandardScaler с параметрами по умолчанию, который будет отвечать за стандартизацию."
   ]
  },
  {
   "cell_type": "code",
   "execution_count": 322,
   "id": "7b8ab72c",
   "metadata": {
    "ExecuteTime": {
     "end_time": "2022-03-15T22:40:46.294618Z",
     "start_time": "2022-03-15T22:40:46.288462Z"
    },
    "id": "7b8ab72c"
   },
   "outputs": [],
   "source": [
    "# Ваш код здесь\n",
    "from sklearn.preprocessing import StandardScaler\n",
    "std_scaler = StandardScaler()"
   ]
  },
  {
   "cell_type": "markdown",
   "id": "1630cfa2",
   "metadata": {
    "id": "1630cfa2"
   },
   "source": [
    "3. Идентифицируйте параметры преобразования на датафрейме с количественными переменными."
   ]
  },
  {
   "cell_type": "code",
   "execution_count": 325,
   "id": "0cc2c08b",
   "metadata": {
    "ExecuteTime": {
     "end_time": "2022-03-15T22:40:46.338630Z",
     "start_time": "2022-03-15T22:40:46.333793Z"
    },
    "id": "0cc2c08b"
   },
   "outputs": [],
   "source": [
    "# Ваш код здесь\n",
    "std_scaler.fit(data)\n",
    "std_scaled = std_scaler.transform(data)"
   ]
  },
  {
   "cell_type": "markdown",
   "id": "9ef7ff55",
   "metadata": {
    "id": "9ef7ff55"
   },
   "source": [
    "4. Примените преобразование для датафрейма с количественными переменными и сохраните в новую переменную, распечатайте получившуюся матрицу и её размерность."
   ]
  },
  {
   "cell_type": "code",
   "execution_count": 330,
   "id": "cd141505",
   "metadata": {
    "ExecuteTime": {
     "end_time": "2022-03-15T22:40:46.389565Z",
     "start_time": "2022-03-15T22:40:46.380037Z"
    },
    "id": "cd141505"
   },
   "outputs": [
    {
     "name": "stdout",
     "output_type": "stream",
     "text": [
      "    lat_std  long_std  year_std  odometer/price_std  desc_len_std  \\\n",
      "0 -0.619172  0.484245  1.322394           -0.510784      0.632075   \n",
      "1  0.388014  1.110800  0.695973           -0.402947     -0.646781   \n",
      "2 -0.843059  0.531185  0.852578           -0.514480      0.560744   \n",
      "3 -0.504509  0.853562  0.226157           -0.241883      0.180435   \n",
      "4 -0.460101  0.557607  0.069552           -0.333074      0.766366   \n",
      "\n",
      "   model_in_desc_std  model_len_std  model_word_count_std  \n",
      "0          -0.155788       1.163032              1.910669  \n",
      "1          -0.155788       0.932087              1.235799  \n",
      "2          -0.155788       0.470197              0.560930  \n",
      "3          -0.155788      -0.915473             -0.788810  \n",
      "4          -0.155788       1.163032              1.910669  \n",
      "(9619, 8)\n"
     ]
    }
   ],
   "source": [
    "# Ваш код здесь\n",
    "scaled_df = pd.DataFrame(std_scaled, columns=[f\"{col}_std\" for col in val_columns])\n",
    "print(scaled_df.head())\n",
    "print(scaled_df.shape)"
   ]
  },
  {
   "cell_type": "markdown",
   "id": "68d44f88",
   "metadata": {
    "ExecuteTime": {
     "end_time": "2022-03-13T11:12:57.421096Z",
     "start_time": "2022-03-13T11:12:57.414865Z"
    },
    "id": "68d44f88"
   },
   "source": [
    "5. Создайте наименования новых признаков по шаблону: `lat_std` для `lat` и так далее."
   ]
  },
  {
   "cell_type": "code",
   "execution_count": 333,
   "id": "013e66f2",
   "metadata": {
    "ExecuteTime": {
     "end_time": "2022-03-15T22:40:46.483299Z",
     "start_time": "2022-03-15T22:40:46.475050Z"
    },
    "id": "013e66f2"
   },
   "outputs": [],
   "source": [
    "# Ваш код здесь"
   ]
  },
  {
   "cell_type": "markdown",
   "id": "490925bb",
   "metadata": {
    "ExecuteTime": {
     "end_time": "2022-03-13T11:13:15.167251Z",
     "start_time": "2022-03-13T11:13:15.161293Z"
    },
    "id": "490925bb"
   },
   "source": [
    "6. Добавьте в исходный датафрейм получившиеся новые признаки, выведите первые пять записей датафрейма и список колонок."
   ]
  },
  {
   "cell_type": "code",
   "execution_count": 336,
   "id": "6eb7c0dd",
   "metadata": {
    "ExecuteTime": {
     "end_time": "2022-03-15T22:40:46.528674Z",
     "start_time": "2022-03-15T22:40:46.520688Z"
    },
    "id": "6eb7c0dd"
   },
   "outputs": [
    {
     "data": {
      "text/html": [
       "<div>\n",
       "<style scoped>\n",
       "    .dataframe tbody tr th:only-of-type {\n",
       "        vertical-align: middle;\n",
       "    }\n",
       "\n",
       "    .dataframe tbody tr th {\n",
       "        vertical-align: top;\n",
       "    }\n",
       "\n",
       "    .dataframe thead th {\n",
       "        text-align: right;\n",
       "    }\n",
       "</style>\n",
       "<table border=\"1\" class=\"dataframe\">\n",
       "  <thead>\n",
       "    <tr style=\"text-align: right;\">\n",
       "      <th></th>\n",
       "      <th>id</th>\n",
       "      <th>url</th>\n",
       "      <th>region</th>\n",
       "      <th>region_url</th>\n",
       "      <th>price</th>\n",
       "      <th>year</th>\n",
       "      <th>manufacturer</th>\n",
       "      <th>model</th>\n",
       "      <th>fuel</th>\n",
       "      <th>odometer</th>\n",
       "      <th>...</th>\n",
       "      <th>age_category_new</th>\n",
       "      <th>age_category_old</th>\n",
       "      <th>lat_std</th>\n",
       "      <th>long_std</th>\n",
       "      <th>year_std</th>\n",
       "      <th>odometer/price_std</th>\n",
       "      <th>desc_len_std</th>\n",
       "      <th>model_in_desc_std</th>\n",
       "      <th>model_len_std</th>\n",
       "      <th>model_word_count_std</th>\n",
       "    </tr>\n",
       "  </thead>\n",
       "  <tbody>\n",
       "    <tr>\n",
       "      <th>0</th>\n",
       "      <td>7308295377</td>\n",
       "      <td>https://chattanooga.craigslist.org/ctd/d/chatt...</td>\n",
       "      <td>chattanooga</td>\n",
       "      <td>https://chattanooga.craigslist.org</td>\n",
       "      <td>54990</td>\n",
       "      <td>2020</td>\n",
       "      <td>ram</td>\n",
       "      <td>2500 crew cab big horn</td>\n",
       "      <td>diesel</td>\n",
       "      <td>27442</td>\n",
       "      <td>...</td>\n",
       "      <td>1.0</td>\n",
       "      <td>0.0</td>\n",
       "      <td>-0.619172</td>\n",
       "      <td>0.484245</td>\n",
       "      <td>1.322394</td>\n",
       "      <td>-0.510784</td>\n",
       "      <td>0.632075</td>\n",
       "      <td>-0.155788</td>\n",
       "      <td>1.163032</td>\n",
       "      <td>1.910669</td>\n",
       "    </tr>\n",
       "    <tr>\n",
       "      <th>1</th>\n",
       "      <td>7316380095</td>\n",
       "      <td>https://newjersey.craigslist.org/ctd/d/carlsta...</td>\n",
       "      <td>north jersey</td>\n",
       "      <td>https://newjersey.craigslist.org</td>\n",
       "      <td>16942</td>\n",
       "      <td>2016</td>\n",
       "      <td>ford</td>\n",
       "      <td>explorer 4wd 4dr xlt</td>\n",
       "      <td>other</td>\n",
       "      <td>60023</td>\n",
       "      <td>...</td>\n",
       "      <td>1.0</td>\n",
       "      <td>0.0</td>\n",
       "      <td>0.388014</td>\n",
       "      <td>1.110800</td>\n",
       "      <td>0.695973</td>\n",
       "      <td>-0.402947</td>\n",
       "      <td>-0.646781</td>\n",
       "      <td>-0.155788</td>\n",
       "      <td>0.932087</td>\n",
       "      <td>1.235799</td>\n",
       "    </tr>\n",
       "    <tr>\n",
       "      <th>2</th>\n",
       "      <td>7313733749</td>\n",
       "      <td>https://reno.craigslist.org/ctd/d/atlanta-2017...</td>\n",
       "      <td>reno / tahoe</td>\n",
       "      <td>https://reno.craigslist.org</td>\n",
       "      <td>35590</td>\n",
       "      <td>2017</td>\n",
       "      <td>volkswagen</td>\n",
       "      <td>golf r hatchback</td>\n",
       "      <td>gas</td>\n",
       "      <td>14048</td>\n",
       "      <td>...</td>\n",
       "      <td>1.0</td>\n",
       "      <td>0.0</td>\n",
       "      <td>-0.843059</td>\n",
       "      <td>0.531185</td>\n",
       "      <td>0.852578</td>\n",
       "      <td>-0.514480</td>\n",
       "      <td>0.560744</td>\n",
       "      <td>-0.155788</td>\n",
       "      <td>0.470197</td>\n",
       "      <td>0.560930</td>\n",
       "    </tr>\n",
       "    <tr>\n",
       "      <th>3</th>\n",
       "      <td>7308210929</td>\n",
       "      <td>https://fayetteville.craigslist.org/ctd/d/rale...</td>\n",
       "      <td>fayetteville</td>\n",
       "      <td>https://fayetteville.craigslist.org</td>\n",
       "      <td>14500</td>\n",
       "      <td>2013</td>\n",
       "      <td>toyota</td>\n",
       "      <td>rav4</td>\n",
       "      <td>gas</td>\n",
       "      <td>117291</td>\n",
       "      <td>...</td>\n",
       "      <td>0.0</td>\n",
       "      <td>0.0</td>\n",
       "      <td>-0.504509</td>\n",
       "      <td>0.853562</td>\n",
       "      <td>0.226157</td>\n",
       "      <td>-0.241883</td>\n",
       "      <td>0.180435</td>\n",
       "      <td>-0.155788</td>\n",
       "      <td>-0.915473</td>\n",
       "      <td>-0.788810</td>\n",
       "    </tr>\n",
       "    <tr>\n",
       "      <th>4</th>\n",
       "      <td>7303797340</td>\n",
       "      <td>https://knoxville.craigslist.org/ctd/d/knoxvil...</td>\n",
       "      <td>knoxville</td>\n",
       "      <td>https://knoxville.craigslist.org</td>\n",
       "      <td>14590</td>\n",
       "      <td>2012</td>\n",
       "      <td>bmw</td>\n",
       "      <td>1 series 128i coupe 2d</td>\n",
       "      <td>other</td>\n",
       "      <td>80465</td>\n",
       "      <td>...</td>\n",
       "      <td>0.0</td>\n",
       "      <td>0.0</td>\n",
       "      <td>-0.460101</td>\n",
       "      <td>0.557607</td>\n",
       "      <td>0.069552</td>\n",
       "      <td>-0.333074</td>\n",
       "      <td>0.766366</td>\n",
       "      <td>-0.155788</td>\n",
       "      <td>1.163032</td>\n",
       "      <td>1.910669</td>\n",
       "    </tr>\n",
       "  </tbody>\n",
       "</table>\n",
       "<p>5 rows × 1493 columns</p>\n",
       "</div>"
      ],
      "text/plain": [
       "           id                                                url  \\\n",
       "0  7308295377  https://chattanooga.craigslist.org/ctd/d/chatt...   \n",
       "1  7316380095  https://newjersey.craigslist.org/ctd/d/carlsta...   \n",
       "2  7313733749  https://reno.craigslist.org/ctd/d/atlanta-2017...   \n",
       "3  7308210929  https://fayetteville.craigslist.org/ctd/d/rale...   \n",
       "4  7303797340  https://knoxville.craigslist.org/ctd/d/knoxvil...   \n",
       "\n",
       "         region                           region_url  price  year  \\\n",
       "0   chattanooga   https://chattanooga.craigslist.org  54990  2020   \n",
       "1  north jersey     https://newjersey.craigslist.org  16942  2016   \n",
       "2  reno / tahoe          https://reno.craigslist.org  35590  2017   \n",
       "3  fayetteville  https://fayetteville.craigslist.org  14500  2013   \n",
       "4     knoxville     https://knoxville.craigslist.org  14590  2012   \n",
       "\n",
       "  manufacturer                   model    fuel  odometer  ...  \\\n",
       "0          ram  2500 crew cab big horn  diesel     27442  ...   \n",
       "1         ford    explorer 4wd 4dr xlt   other     60023  ...   \n",
       "2   volkswagen        golf r hatchback     gas     14048  ...   \n",
       "3       toyota                    rav4     gas    117291  ...   \n",
       "4          bmw  1 series 128i coupe 2d   other     80465  ...   \n",
       "\n",
       "  age_category_new age_category_old   lat_std  long_std  year_std  \\\n",
       "0              1.0              0.0 -0.619172  0.484245  1.322394   \n",
       "1              1.0              0.0  0.388014  1.110800  0.695973   \n",
       "2              1.0              0.0 -0.843059  0.531185  0.852578   \n",
       "3              0.0              0.0 -0.504509  0.853562  0.226157   \n",
       "4              0.0              0.0 -0.460101  0.557607  0.069552   \n",
       "\n",
       "   odometer/price_std  desc_len_std model_in_desc_std model_len_std  \\\n",
       "0           -0.510784      0.632075         -0.155788      1.163032   \n",
       "1           -0.402947     -0.646781         -0.155788      0.932087   \n",
       "2           -0.514480      0.560744         -0.155788      0.470197   \n",
       "3           -0.241883      0.180435         -0.155788     -0.915473   \n",
       "4           -0.333074      0.766366         -0.155788      1.163032   \n",
       "\n",
       "  model_word_count_std  \n",
       "0             1.910669  \n",
       "1             1.235799  \n",
       "2             0.560930  \n",
       "3            -0.788810  \n",
       "4             1.910669  \n",
       "\n",
       "[5 rows x 1493 columns]"
      ]
     },
     "execution_count": 336,
     "metadata": {},
     "output_type": "execute_result"
    }
   ],
   "source": [
    "# Ваш код здесь\n",
    "df = pd.concat([df, scaled_df], axis=1)\n",
    "df.head()"
   ]
  },
  {
   "cell_type": "markdown",
   "id": "0a3146dd",
   "metadata": {
    "ExecuteTime": {
     "end_time": "2022-03-13T11:16:52.292837Z",
     "start_time": "2022-03-13T11:16:52.286868Z"
    },
    "id": "0a3146dd"
   },
   "source": [
    "### Задача 4. MinMax-нормализация данных\n",
    "\n",
    "1. Импортируйте MinMaxScaler из `sklearn.preprocessing`."
   ]
  },
  {
   "cell_type": "code",
   "execution_count": 339,
   "id": "3db8afba",
   "metadata": {
    "ExecuteTime": {
     "end_time": "2022-03-15T22:40:46.701361Z",
     "start_time": "2022-03-15T22:40:46.695192Z"
    },
    "id": "3db8afba"
   },
   "outputs": [],
   "source": [
    "from sklearn.preprocessing import MinMaxScaler\n",
    "# Ваш код здесь\n",
    "min_max_scaler = MinMaxScaler()"
   ]
  },
  {
   "cell_type": "markdown",
   "id": "d471557f",
   "metadata": {
    "id": "d471557f"
   },
   "source": [
    "2. Создайте датафрейм, содержащий переменные `lat` и `long`."
   ]
  },
  {
   "cell_type": "code",
   "execution_count": 342,
   "id": "13859501",
   "metadata": {
    "ExecuteTime": {
     "end_time": "2022-03-15T22:40:46.732137Z",
     "start_time": "2022-03-15T22:40:46.725228Z"
    },
    "id": "13859501"
   },
   "outputs": [
    {
     "data": {
      "text/html": [
       "<div>\n",
       "<style scoped>\n",
       "    .dataframe tbody tr th:only-of-type {\n",
       "        vertical-align: middle;\n",
       "    }\n",
       "\n",
       "    .dataframe tbody tr th {\n",
       "        vertical-align: top;\n",
       "    }\n",
       "\n",
       "    .dataframe thead th {\n",
       "        text-align: right;\n",
       "    }\n",
       "</style>\n",
       "<table border=\"1\" class=\"dataframe\">\n",
       "  <thead>\n",
       "    <tr style=\"text-align: right;\">\n",
       "      <th></th>\n",
       "      <th>lat</th>\n",
       "      <th>long</th>\n",
       "    </tr>\n",
       "  </thead>\n",
       "  <tbody>\n",
       "    <tr>\n",
       "      <th>0</th>\n",
       "      <td>35.060000</td>\n",
       "      <td>-85.250000</td>\n",
       "    </tr>\n",
       "    <tr>\n",
       "      <th>1</th>\n",
       "      <td>40.821805</td>\n",
       "      <td>-74.061962</td>\n",
       "    </tr>\n",
       "    <tr>\n",
       "      <th>2</th>\n",
       "      <td>33.779214</td>\n",
       "      <td>-84.411811</td>\n",
       "    </tr>\n",
       "    <tr>\n",
       "      <th>3</th>\n",
       "      <td>35.715954</td>\n",
       "      <td>-78.655304</td>\n",
       "    </tr>\n",
       "    <tr>\n",
       "      <th>4</th>\n",
       "      <td>35.970000</td>\n",
       "      <td>-83.940000</td>\n",
       "    </tr>\n",
       "  </tbody>\n",
       "</table>\n",
       "</div>"
      ],
      "text/plain": [
       "         lat       long\n",
       "0  35.060000 -85.250000\n",
       "1  40.821805 -74.061962\n",
       "2  33.779214 -84.411811\n",
       "3  35.715954 -78.655304\n",
       "4  35.970000 -83.940000"
      ]
     },
     "execution_count": 342,
     "metadata": {},
     "output_type": "execute_result"
    }
   ],
   "source": [
    "data1 = df[['lat', 'long']]\n",
    "data1.head()\n",
    "# Ваш код здесь"
   ]
  },
  {
   "cell_type": "markdown",
   "id": "0599fc35",
   "metadata": {
    "id": "0599fc35"
   },
   "source": [
    "3. Повторите действия пунктов 2–6 из задачи 3 для добавления в исходный датафрейм признаков `lat_mm` и `long_mm`. Выведите получившийся датафрейм."
   ]
  },
  {
   "cell_type": "code",
   "execution_count": 345,
   "id": "26f2c546",
   "metadata": {
    "ExecuteTime": {
     "end_time": "2022-03-15T22:40:47.159782Z",
     "start_time": "2022-03-15T22:40:47.148971Z"
    },
    "id": "26f2c546"
   },
   "outputs": [
    {
     "name": "stdout",
     "output_type": "stream",
     "text": [
      "           id                                                url  \\\n",
      "0  7308295377  https://chattanooga.craigslist.org/ctd/d/chatt...   \n",
      "1  7316380095  https://newjersey.craigslist.org/ctd/d/carlsta...   \n",
      "2  7313733749  https://reno.craigslist.org/ctd/d/atlanta-2017...   \n",
      "3  7308210929  https://fayetteville.craigslist.org/ctd/d/rale...   \n",
      "4  7303797340  https://knoxville.craigslist.org/ctd/d/knoxvil...   \n",
      "\n",
      "         region                           region_url  price  year  \\\n",
      "0   chattanooga   https://chattanooga.craigslist.org  54990  2020   \n",
      "1  north jersey     https://newjersey.craigslist.org  16942  2016   \n",
      "2  reno / tahoe          https://reno.craigslist.org  35590  2017   \n",
      "3  fayetteville  https://fayetteville.craigslist.org  14500  2013   \n",
      "4     knoxville     https://knoxville.craigslist.org  14590  2012   \n",
      "\n",
      "  manufacturer                   model    fuel  odometer  ...   lat_std  \\\n",
      "0          ram  2500 crew cab big horn  diesel     27442  ... -0.619172   \n",
      "1         ford    explorer 4wd 4dr xlt   other     60023  ...  0.388014   \n",
      "2   volkswagen        golf r hatchback     gas     14048  ... -0.843059   \n",
      "3       toyota                    rav4     gas    117291  ... -0.504509   \n",
      "4          bmw  1 series 128i coupe 2d   other     80465  ... -0.460101   \n",
      "\n",
      "   long_std  year_std odometer/price_std desc_len_std  model_in_desc_std  \\\n",
      "0  0.484245  1.322394          -0.510784     0.632075          -0.155788   \n",
      "1  1.110800  0.695973          -0.402947    -0.646781          -0.155788   \n",
      "2  0.531185  0.852578          -0.514480     0.560744          -0.155788   \n",
      "3  0.853562  0.226157          -0.241883     0.180435          -0.155788   \n",
      "4  0.557607  0.069552          -0.333074     0.766366          -0.155788   \n",
      "\n",
      "   model_len_std model_word_count_std    lat_mm   long_mm  \n",
      "0       1.163032             1.910669  0.341769  0.288699  \n",
      "1       0.932087             1.235799  0.468665  0.333055  \n",
      "2       0.470197             0.560930  0.313561  0.292022  \n",
      "3      -0.915473            -0.788810  0.356215  0.314844  \n",
      "4       1.163032             1.910669  0.361810  0.293893  \n",
      "\n",
      "[5 rows x 1495 columns]\n"
     ]
    }
   ],
   "source": [
    "# Ваш код здесь\n",
    "min_max_data = min_max_scaler.fit_transform(data1)\n",
    "\n",
    "min_max_df = pd.DataFrame(min_max_data, columns=['lat_mm', 'long_mm'])\n",
    "\n",
    "df = pd.concat([df, min_max_df], axis=1)\n",
    "\n",
    "print(df.head())"
   ]
  },
  {
   "cell_type": "markdown",
   "id": "71044c34",
   "metadata": {
    "id": "71044c34"
   },
   "source": [
    "4. Создайте переменную под географические признаки `lat`, `lat_std`, `lat_mm`, `long`, `long_std`, `long_mm` и выведите их. Посмотрите на различия в значениях для исходных признаков и нормализованных с помощью стандартизации и MinMax-преобразования. "
   ]
  },
  {
   "cell_type": "code",
   "execution_count": 348,
   "id": "27642284",
   "metadata": {
    "ExecuteTime": {
     "end_time": "2022-03-15T22:40:47.408669Z",
     "start_time": "2022-03-15T22:40:47.402057Z"
    },
    "id": "27642284"
   },
   "outputs": [
    {
     "data": {
      "text/html": [
       "<div>\n",
       "<style scoped>\n",
       "    .dataframe tbody tr th:only-of-type {\n",
       "        vertical-align: middle;\n",
       "    }\n",
       "\n",
       "    .dataframe tbody tr th {\n",
       "        vertical-align: top;\n",
       "    }\n",
       "\n",
       "    .dataframe thead th {\n",
       "        text-align: right;\n",
       "    }\n",
       "</style>\n",
       "<table border=\"1\" class=\"dataframe\">\n",
       "  <thead>\n",
       "    <tr style=\"text-align: right;\">\n",
       "      <th></th>\n",
       "      <th>lat</th>\n",
       "      <th>lat_std</th>\n",
       "      <th>lat_mm</th>\n",
       "      <th>long</th>\n",
       "      <th>long_std</th>\n",
       "      <th>long_mm</th>\n",
       "    </tr>\n",
       "  </thead>\n",
       "  <tbody>\n",
       "    <tr>\n",
       "      <th>0</th>\n",
       "      <td>35.060000</td>\n",
       "      <td>-0.619172</td>\n",
       "      <td>0.341769</td>\n",
       "      <td>-85.250000</td>\n",
       "      <td>0.484245</td>\n",
       "      <td>0.288699</td>\n",
       "    </tr>\n",
       "    <tr>\n",
       "      <th>1</th>\n",
       "      <td>40.821805</td>\n",
       "      <td>0.388014</td>\n",
       "      <td>0.468665</td>\n",
       "      <td>-74.061962</td>\n",
       "      <td>1.110800</td>\n",
       "      <td>0.333055</td>\n",
       "    </tr>\n",
       "    <tr>\n",
       "      <th>2</th>\n",
       "      <td>33.779214</td>\n",
       "      <td>-0.843059</td>\n",
       "      <td>0.313561</td>\n",
       "      <td>-84.411811</td>\n",
       "      <td>0.531185</td>\n",
       "      <td>0.292022</td>\n",
       "    </tr>\n",
       "    <tr>\n",
       "      <th>3</th>\n",
       "      <td>35.715954</td>\n",
       "      <td>-0.504509</td>\n",
       "      <td>0.356215</td>\n",
       "      <td>-78.655304</td>\n",
       "      <td>0.853562</td>\n",
       "      <td>0.314844</td>\n",
       "    </tr>\n",
       "    <tr>\n",
       "      <th>4</th>\n",
       "      <td>35.970000</td>\n",
       "      <td>-0.460101</td>\n",
       "      <td>0.361810</td>\n",
       "      <td>-83.940000</td>\n",
       "      <td>0.557607</td>\n",
       "      <td>0.293893</td>\n",
       "    </tr>\n",
       "  </tbody>\n",
       "</table>\n",
       "</div>"
      ],
      "text/plain": [
       "         lat   lat_std    lat_mm       long  long_std   long_mm\n",
       "0  35.060000 -0.619172  0.341769 -85.250000  0.484245  0.288699\n",
       "1  40.821805  0.388014  0.468665 -74.061962  1.110800  0.333055\n",
       "2  33.779214 -0.843059  0.313561 -84.411811  0.531185  0.292022\n",
       "3  35.715954 -0.504509  0.356215 -78.655304  0.853562  0.314844\n",
       "4  35.970000 -0.460101  0.361810 -83.940000  0.557607  0.293893"
      ]
     },
     "execution_count": 348,
     "metadata": {},
     "output_type": "execute_result"
    }
   ],
   "source": [
    "# Ваш код здесь\n",
    "data2= df[['lat', 'lat_std', 'lat_mm', 'long', 'long_std', 'long_mm']]\n",
    "data2.head()"
   ]
  },
  {
   "cell_type": "markdown",
   "id": "ef219d5f",
   "metadata": {
    "id": "ef219d5f"
   },
   "source": [
    "5. Выведите описательные статистики для всех географических признаков. Посмотрите на различия в статистиках для исходных признаков и нормализованных с помощью стандартизации и MinMax-преобразования."
   ]
  },
  {
   "cell_type": "code",
   "execution_count": 364,
   "id": "453b92ff",
   "metadata": {
    "ExecuteTime": {
     "end_time": "2022-03-15T22:40:47.738681Z",
     "start_time": "2022-03-15T22:40:47.730698Z"
    },
    "id": "453b92ff"
   },
   "outputs": [
    {
     "name": "stdout",
     "output_type": "stream",
     "text": [
      "               lat       lat_std       lat_mm         long      long_std  \\\n",
      "count  9619.000000  9.619000e+03  9619.000000  9619.000000  9.619000e+03   \n",
      "mean     38.602095  2.105257e-16     0.419779   -93.896875 -4.498602e-16   \n",
      "std       5.720989  1.000052e+00     0.125997    17.857352  1.000052e+00   \n",
      "min      19.541726 -3.331829e+00     0.000000  -158.069300 -3.593801e+00   \n",
      "25%      34.920000 -6.436450e-01     0.338685  -106.944340 -7.306875e-01   \n",
      "50%      39.300000  1.219966e-01     0.435149   -87.845800  3.388739e-01   \n",
      "75%      42.382100  6.607601e-01     0.503028   -80.678711  7.402470e-01   \n",
      "max      64.947500  4.605283e+00     1.000000    94.163200  1.053179e+01   \n",
      "\n",
      "           long_mm  \n",
      "count  9619.000000  \n",
      "mean      0.254418  \n",
      "std       0.070797  \n",
      "min       0.000000  \n",
      "25%       0.202690  \n",
      "50%       0.278408  \n",
      "75%       0.306822  \n",
      "max       1.000000  \n"
     ]
    }
   ],
   "source": [
    "# Ваш код здесь\n",
    "print(data2.describe())"
   ]
  },
  {
   "cell_type": "markdown",
   "id": "efac5751",
   "metadata": {
    "id": "efac5751"
   },
   "source": [
    "6. Выведите матрицу корреляций для всех географических признаков, чтобы убедиться, что нормализация признаков сохранила свойства исходных признаков."
   ]
  },
  {
   "cell_type": "code",
   "execution_count": 366,
   "id": "10bcd5c8",
   "metadata": {
    "ExecuteTime": {
     "end_time": "2022-03-15T22:40:47.841822Z",
     "start_time": "2022-03-15T22:40:47.835737Z"
    },
    "id": "10bcd5c8"
   },
   "outputs": [
    {
     "data": {
      "text/html": [
       "<div>\n",
       "<style scoped>\n",
       "    .dataframe tbody tr th:only-of-type {\n",
       "        vertical-align: middle;\n",
       "    }\n",
       "\n",
       "    .dataframe tbody tr th {\n",
       "        vertical-align: top;\n",
       "    }\n",
       "\n",
       "    .dataframe thead th {\n",
       "        text-align: right;\n",
       "    }\n",
       "</style>\n",
       "<table border=\"1\" class=\"dataframe\">\n",
       "  <thead>\n",
       "    <tr style=\"text-align: right;\">\n",
       "      <th></th>\n",
       "      <th>lat</th>\n",
       "      <th>lat_std</th>\n",
       "      <th>lat_mm</th>\n",
       "      <th>long</th>\n",
       "      <th>long_std</th>\n",
       "      <th>long_mm</th>\n",
       "    </tr>\n",
       "  </thead>\n",
       "  <tbody>\n",
       "    <tr>\n",
       "      <th>lat</th>\n",
       "      <td>1.000000</td>\n",
       "      <td>1.000000</td>\n",
       "      <td>1.000000</td>\n",
       "      <td>-0.134596</td>\n",
       "      <td>-0.134596</td>\n",
       "      <td>-0.134596</td>\n",
       "    </tr>\n",
       "    <tr>\n",
       "      <th>lat_std</th>\n",
       "      <td>1.000000</td>\n",
       "      <td>1.000000</td>\n",
       "      <td>1.000000</td>\n",
       "      <td>-0.134596</td>\n",
       "      <td>-0.134596</td>\n",
       "      <td>-0.134596</td>\n",
       "    </tr>\n",
       "    <tr>\n",
       "      <th>lat_mm</th>\n",
       "      <td>1.000000</td>\n",
       "      <td>1.000000</td>\n",
       "      <td>1.000000</td>\n",
       "      <td>-0.134596</td>\n",
       "      <td>-0.134596</td>\n",
       "      <td>-0.134596</td>\n",
       "    </tr>\n",
       "    <tr>\n",
       "      <th>long</th>\n",
       "      <td>-0.134596</td>\n",
       "      <td>-0.134596</td>\n",
       "      <td>-0.134596</td>\n",
       "      <td>1.000000</td>\n",
       "      <td>1.000000</td>\n",
       "      <td>1.000000</td>\n",
       "    </tr>\n",
       "    <tr>\n",
       "      <th>long_std</th>\n",
       "      <td>-0.134596</td>\n",
       "      <td>-0.134596</td>\n",
       "      <td>-0.134596</td>\n",
       "      <td>1.000000</td>\n",
       "      <td>1.000000</td>\n",
       "      <td>1.000000</td>\n",
       "    </tr>\n",
       "    <tr>\n",
       "      <th>long_mm</th>\n",
       "      <td>-0.134596</td>\n",
       "      <td>-0.134596</td>\n",
       "      <td>-0.134596</td>\n",
       "      <td>1.000000</td>\n",
       "      <td>1.000000</td>\n",
       "      <td>1.000000</td>\n",
       "    </tr>\n",
       "  </tbody>\n",
       "</table>\n",
       "</div>"
      ],
      "text/plain": [
       "               lat   lat_std    lat_mm      long  long_std   long_mm\n",
       "lat       1.000000  1.000000  1.000000 -0.134596 -0.134596 -0.134596\n",
       "lat_std   1.000000  1.000000  1.000000 -0.134596 -0.134596 -0.134596\n",
       "lat_mm    1.000000  1.000000  1.000000 -0.134596 -0.134596 -0.134596\n",
       "long     -0.134596 -0.134596 -0.134596  1.000000  1.000000  1.000000\n",
       "long_std -0.134596 -0.134596 -0.134596  1.000000  1.000000  1.000000\n",
       "long_mm  -0.134596 -0.134596 -0.134596  1.000000  1.000000  1.000000"
      ]
     },
     "execution_count": 366,
     "metadata": {},
     "output_type": "execute_result"
    }
   ],
   "source": [
    "# Ваш код здесь\n",
    "data2.corr()"
   ]
  },
  {
   "cell_type": "markdown",
   "id": "f87792e8",
   "metadata": {
    "ExecuteTime": {
     "end_time": "2022-03-13T12:00:09.641795Z",
     "start_time": "2022-03-13T12:00:09.636474Z"
    },
    "id": "f87792e8"
   },
   "source": [
    "### Задача 5. Признаки на основе дат\n",
    "\n",
    "1. Выведите по отдельности колонки `posting_date` и `date`. "
   ]
  },
  {
   "cell_type": "code",
   "execution_count": 372,
   "id": "1cf0cc30",
   "metadata": {
    "ExecuteTime": {
     "end_time": "2022-03-15T22:40:48.879395Z",
     "start_time": "2022-03-15T22:40:48.875098Z"
    },
    "id": "1cf0cc30"
   },
   "outputs": [
    {
     "name": "stdout",
     "output_type": "stream",
     "text": [
      "0       2021-04-17T12:30:50-0400\n",
      "1       2021-05-03T15:40:21-0400\n",
      "2       2021-04-28T03:52:20-0700\n",
      "3       2021-04-17T10:08:57-0400\n",
      "4       2021-04-08T15:10:56-0400\n",
      "                  ...           \n",
      "9614    2021-04-10T16:33:57-0400\n",
      "9615    2021-05-03T09:36:30-0400\n",
      "9616    2021-04-22T12:14:01-0700\n",
      "9617    2021-04-14T09:14:42-0500\n",
      "9618    2021-04-24T13:50:49-0400\n",
      "Name: posting_date, Length: 9619, dtype: object\n",
      "0       2021-04-17 16:30:50+00:00\n",
      "1       2021-05-03 19:40:21+00:00\n",
      "2       2021-04-28 10:52:20+00:00\n",
      "3       2021-04-17 14:08:57+00:00\n",
      "4       2021-04-08 19:10:56+00:00\n",
      "                  ...            \n",
      "9614    2021-04-10 20:33:57+00:00\n",
      "9615    2021-05-03 13:36:30+00:00\n",
      "9616    2021-04-22 19:14:01+00:00\n",
      "9617    2021-04-14 14:14:42+00:00\n",
      "9618    2021-04-24 17:50:49+00:00\n",
      "Name: date, Length: 9619, dtype: object\n"
     ]
    }
   ],
   "source": [
    "# Ваш код здесь\n",
    "print(df['posting_date'])\n",
    "print(df['date'])"
   ]
  },
  {
   "cell_type": "markdown",
   "id": "a154545f",
   "metadata": {
    "id": "a154545f"
   },
   "source": [
    "2. Ранее преобразованная колонка `date` после сохранения в файл и загрузки из него содержит данные в строковом формате, поэтому измените её тип c помощью `pd.to_datetime`."
   ]
  },
  {
   "cell_type": "code",
   "execution_count": 374,
   "id": "a196635b",
   "metadata": {
    "ExecuteTime": {
     "end_time": "2022-03-15T22:49:02.356258Z",
     "start_time": "2022-03-15T22:49:02.315893Z"
    },
    "id": "a196635b"
   },
   "outputs": [],
   "source": [
    "# Ваш код здесь\n",
    "df['date'] = pd.to_datetime(df['date'])"
   ]
  },
  {
   "cell_type": "markdown",
   "id": "c9b3e6f1",
   "metadata": {
    "id": "c9b3e6f1"
   },
   "source": [
    "3. Несколькими способами извлеките номер месяца продажи автомобиля.\n",
    "\n",
    "3.1. Из переменной `posting_date` с помощью lambda-функции и операций над строками."
   ]
  },
  {
   "cell_type": "code",
   "execution_count": 386,
   "id": "7fb35f85",
   "metadata": {
    "ExecuteTime": {
     "end_time": "2022-03-15T22:40:51.380851Z",
     "start_time": "2022-03-15T22:40:51.369103Z"
    },
    "id": "7fb35f85"
   },
   "outputs": [],
   "source": [
    "# Ваш код здесь\n",
    "df['month'] = df['posting_date'].apply(lambda x: int(x.split('-')[1]))"
   ]
  },
  {
   "cell_type": "markdown",
   "id": "3218fd7e",
   "metadata": {
    "id": "3218fd7e"
   },
   "source": [
    "3.2. Из переменной `date` с помощью lambda-функции и метода `month`."
   ]
  },
  {
   "cell_type": "code",
   "execution_count": 389,
   "id": "4fd839cb",
   "metadata": {
    "ExecuteTime": {
     "end_time": "2022-03-15T22:40:54.064285Z",
     "start_time": "2022-03-15T22:40:54.057551Z"
    },
    "id": "4fd839cb"
   },
   "outputs": [],
   "source": [
    "# Ваш код здесь\n",
    "df['month_from_date_lambda'] = df['date'].apply(lambda x: x.month)"
   ]
  },
  {
   "cell_type": "markdown",
   "id": "4000edd6",
   "metadata": {
    "ExecuteTime": {
     "end_time": "2022-03-13T12:25:21.228094Z",
     "start_time": "2022-03-13T12:25:21.223060Z"
    },
    "id": "4000edd6"
   },
   "source": [
    "3.3. Из переменной `date` с помощью `dt` и метода `month`."
   ]
  },
  {
   "cell_type": "code",
   "execution_count": 392,
   "id": "b4112009",
   "metadata": {
    "ExecuteTime": {
     "end_time": "2022-03-15T22:40:55.768506Z",
     "start_time": "2022-03-15T22:40:55.764567Z"
    },
    "id": "b4112009"
   },
   "outputs": [],
   "source": [
    "# Ваш код здесь\n",
    "df['month_from_date_dt'] = df['date'].dt.month"
   ]
  },
  {
   "cell_type": "markdown",
   "id": "4c79c093",
   "metadata": {
    "id": "4c79c093"
   },
   "source": [
    "4. Создайте любым из способов (3.2 или 3.3) признак `month`, обозначающий номер месяца размещения объявления о продаже автомобиля, и распечатайте его."
   ]
  },
  {
   "cell_type": "code",
   "execution_count": 396,
   "id": "a6f217a1",
   "metadata": {
    "ExecuteTime": {
     "end_time": "2022-03-15T22:40:55.808808Z",
     "start_time": "2022-03-15T22:40:55.801804Z"
    },
    "id": "a6f217a1"
   },
   "outputs": [
    {
     "data": {
      "text/plain": [
       "0       4\n",
       "1       5\n",
       "2       4\n",
       "3       4\n",
       "4       4\n",
       "       ..\n",
       "9614    4\n",
       "9615    5\n",
       "9616    4\n",
       "9617    4\n",
       "9618    4\n",
       "Name: month, Length: 9619, dtype: int32"
      ]
     },
     "execution_count": 396,
     "metadata": {},
     "output_type": "execute_result"
    }
   ],
   "source": [
    "# Ваш код здесь\n",
    "df['month'] = df['date'].dt.month\n",
    "df['month']"
   ]
  },
  {
   "cell_type": "markdown",
   "id": "c855e481",
   "metadata": {
    "id": "c855e481"
   },
   "source": [
    "5. Создайте признак `dayofweek`, обозначающий день недели размещения объявления о продаже автомобиля, и распечатайте его."
   ]
  },
  {
   "cell_type": "code",
   "execution_count": 400,
   "id": "ceda59b0",
   "metadata": {
    "ExecuteTime": {
     "end_time": "2022-03-15T22:40:55.838752Z",
     "start_time": "2022-03-15T22:40:55.833582Z"
    },
    "id": "ceda59b0"
   },
   "outputs": [
    {
     "name": "stdout",
     "output_type": "stream",
     "text": [
      "0       5\n",
      "1       0\n",
      "2       2\n",
      "3       5\n",
      "4       3\n",
      "       ..\n",
      "9614    5\n",
      "9615    0\n",
      "9616    3\n",
      "9617    2\n",
      "9618    5\n",
      "Name: dayofweek, Length: 9619, dtype: int32\n"
     ]
    }
   ],
   "source": [
    "# Ваш код здесь\n",
    "df['dayofweek'] = df['date'].dt.dayofweek\n",
    "\n",
    "print(df['dayofweek'])"
   ]
  },
  {
   "cell_type": "markdown",
   "id": "53253b00",
   "metadata": {
    "id": "53253b00"
   },
   "source": [
    "6. Создайте признак `diff_years`, обозначающий количество лет между годом производства автомобиля и годом размещения объявления о продаже автомобиля, и распечатайте его. Дополнительные корректировки не применяйте."
   ]
  },
  {
   "cell_type": "code",
   "execution_count": 402,
   "id": "c5b0ec88",
   "metadata": {
    "ExecuteTime": {
     "end_time": "2022-03-15T22:40:56.791095Z",
     "start_time": "2022-03-15T22:40:56.787550Z"
    },
    "id": "c5b0ec88"
   },
   "outputs": [
    {
     "name": "stdout",
     "output_type": "stream",
     "text": [
      "0    1\n",
      "1    5\n",
      "2    4\n",
      "3    8\n",
      "4    9\n",
      "Name: diff_years, dtype: int64\n"
     ]
    }
   ],
   "source": [
    "# Ваш код здесь\n",
    "df['diff_years'] = df['date'].dt.year - df['year']\n",
    "\n",
    "print(df['diff_years'].head())"
   ]
  },
  {
   "cell_type": "markdown",
   "id": "d3a54316",
   "metadata": {
    "id": "d3a54316"
   },
   "source": [
    "7. Примените стандартизацию к новым признаками и сохраните результат в новые признаки вида `month_std`."
   ]
  },
  {
   "cell_type": "code",
   "execution_count": 410,
   "id": "8b2c2e19",
   "metadata": {
    "ExecuteTime": {
     "end_time": "2022-03-15T22:40:57.928930Z",
     "start_time": "2022-03-15T22:40:57.925925Z"
    },
    "id": "8b2c2e19"
   },
   "outputs": [
    {
     "name": "stdout",
     "output_type": "stream",
     "text": [
      "      month_std  dayofweek_std  diff_years_std\n",
      "0     -0.615846       1.120284       -1.322394\n",
      "1      1.623784      -1.374972       -0.695973\n",
      "2     -0.615846      -0.376870       -0.852578\n",
      "3     -0.615846       1.120284       -0.226157\n",
      "4     -0.615846       0.122182       -0.069552\n",
      "...         ...            ...             ...\n",
      "9614  -0.615846       1.120284        1.496501\n",
      "9615   1.623784      -1.374972        0.556869\n",
      "9616  -0.615846       0.122182        0.087054\n",
      "9617  -0.615846      -0.376870       -0.539367\n",
      "9618  -0.615846       1.120284       -0.852578\n",
      "\n",
      "[9619 rows x 3 columns]\n"
     ]
    }
   ],
   "source": [
    "# Ваш код здесь\n",
    "df['month_std'] = std_scaler.fit_transform(df[['month']])\n",
    "df['dayofweek_std'] = std_scaler.fit_transform(df[['dayofweek']])\n",
    "df['diff_years_std'] = std_scaler.fit_transform(df[['diff_years']])\n",
    "\n",
    "print(df[['month_std', 'dayofweek_std', 'diff_years_std']])"
   ]
  },
  {
   "cell_type": "markdown",
   "id": "aba80393",
   "metadata": {
    "ExecuteTime": {
     "end_time": "2022-03-13T12:36:22.108423Z",
     "start_time": "2022-03-13T12:36:22.103687Z"
    },
    "id": "aba80393"
   },
   "source": [
    "### Задача 6. Сохранение датафрейма для этапа моделирования\n",
    "\n",
    "1. Удалите колонки, которые были исходными для формирования признаков, а также новые признаки, которые были добавлены с целью обучения.  Сохраните новый датафрейм в переменную `df_prepared`."
   ]
  },
  {
   "cell_type": "code",
   "execution_count": 412,
   "id": "58ab4836",
   "metadata": {
    "ExecuteTime": {
     "end_time": "2022-03-15T22:41:00.072365Z",
     "start_time": "2022-03-15T22:41:00.064841Z"
    },
    "id": "58ab4836"
   },
   "outputs": [],
   "source": [
    "# Допишите код\n",
    "\n",
    "columns_for_drop = ['year', 'url', 'region', 'region_url', 'manufacturer',\n",
    "                    'model', 'fuel', 'odometer', 'title_status', 'transmission',\n",
    "                    'image_url', 'description', 'state', 'lat', 'long', 'posting_date',\n",
    "                    'odometer_km', 'odometer/price', 'region_new', 'region_corrected', 'manufacturer_model',\n",
    "                    'desc_len', 'model_in_desc', 'price_k$', 'age_category', 'model_len', 'model_word_count',\n",
    "                    'short_model', 'lat_mm', 'long_mm', 'date', 'std_scaled_price',\n",
    "                    'month', 'dayofweek', 'diff_years',\n",
    "                    'odometer/price_std']\n",
    "\n",
    "df_prepared = df.drop(columns=columns_for_drop)"
   ]
  },
  {
   "cell_type": "markdown",
   "id": "f120eaaa",
   "metadata": {
    "id": "f120eaaa"
   },
   "source": [
    "2. Распечатайте оставшийся список колонок и размерность финального датафрейма."
   ]
  },
  {
   "cell_type": "code",
   "execution_count": 417,
   "id": "13fb36c3",
   "metadata": {
    "ExecuteTime": {
     "end_time": "2022-03-15T22:41:03.176389Z",
     "start_time": "2022-03-15T22:41:03.172474Z"
    },
    "id": "13fb36c3"
   },
   "outputs": [
    {
     "name": "stdout",
     "output_type": "stream",
     "text": [
      "Index(['id', 'price', 'price_category', 'is_audi', 'is_ford', 'is_chevrolet',\n",
      "       'is_toyota', 'is_jeep', 'is_honda', 'is_nissan',\n",
      "       ...\n",
      "       'year_std', 'desc_len_std', 'model_in_desc_std', 'model_len_std',\n",
      "       'model_word_count_std', 'month_from_date_lambda', 'month_from_date_dt',\n",
      "       'month_std', 'dayofweek_std', 'diff_years_std'],\n",
      "      dtype='object', length=1467)\n",
      "(9619, 1467)\n"
     ]
    }
   ],
   "source": [
    "# Ваш код здесь\n",
    "print(df_prepared.columns)\n",
    "print(df_prepared.shape)"
   ]
  },
  {
   "cell_type": "markdown",
   "id": "b62690ff",
   "metadata": {
    "id": "b62690ff"
   },
   "source": [
    "3. Запишите преобразованный датафрейм в файл `data/vehicles_dataset_prepared.csv`, индекс не сохраняйте."
   ]
  },
  {
   "cell_type": "code",
   "execution_count": 423,
   "id": "955e76dd",
   "metadata": {
    "ExecuteTime": {
     "end_time": "2022-03-15T22:41:08.021538Z",
     "start_time": "2022-03-15T22:41:08.016555Z"
    },
    "id": "955e76dd"
   },
   "outputs": [],
   "source": [
    "df_prepared.to_csv('C:/Users/derna/OneDrive/Рабочий стол/дата аналитик/дз/Module_20/vehicles_dataset_prepared.csv', index=False)\n",
    "# Ваш код здесь"
   ]
  },
  {
   "cell_type": "markdown",
   "id": "6e4960b4",
   "metadata": {
    "id": "6e4960b4"
   },
   "source": [
    "## Описание преобразованного датасета:\n",
    "- `id`— идентификатор записи;\n",
    "- `is_manufacturer_name`— признак производителя автомобиля;\n",
    "\n",
    "- `region_*`— регион;\n",
    "- `x0_*`— тип топлива;\n",
    "- `manufacturer_*`— производитель;\n",
    "- `short_model_*`— сокращённая модель автомобиля;\n",
    "- `title_status_*`— статус;\n",
    "- `transmission_*`— коробка передач;\n",
    "- `state_*`— штат;\n",
    "- `age_category_*`— возрастная категория автомобиля;\n",
    "\n",
    "- `std_scaled_odometer`— количество пройденных миль (после стандартизации);\n",
    "- `year_std`— год выпуска (после стандартизации);\n",
    "- `lat_std`— широта (после стандартизации);\n",
    "- `long_std`— долгота (после стандартизации);\n",
    "- `odometer/price_std`— отношение стоимости к пробегу автомобиля (после стандартизации);\n",
    "- `desc_len_std`— количество символов в тексте объявления о продаже (после стандартизации);\n",
    "- `model_in_desc_std`— количество наименований модели автомобиля в тексте объявления о продаже (после стандартизации);\n",
    "- `model_len_std`— длина наименования автомобиля (после стандартизации);\n",
    "- `model_word_count_std`— количество слов в наименовании автомобиля (после стандартизации);\n",
    "- `month_std`— номер месяца размещения объявления о продаже автомобиля (после стандартизации);\n",
    "- `dayofweek_std`— день недели размещения объявления о продаже автомобиля (после стандартизации);\n",
    "- `diff_years_std`— количество лет между годом производства автомобиля и годом размещения объявления о продаже автомобиля (после стандартизации);\n",
    "\n",
    "- `price`— стоимость;\n",
    "- `price_category`– категория цены."
   ]
  }
 ],
 "metadata": {
  "colab": {
   "collapsed_sections": [],
   "provenance": []
  },
  "kernelspec": {
   "display_name": "Python 3 (ipykernel)",
   "language": "python",
   "name": "python3"
  },
  "language_info": {
   "codemirror_mode": {
    "name": "ipython",
    "version": 3
   },
   "file_extension": ".py",
   "mimetype": "text/x-python",
   "name": "python",
   "nbconvert_exporter": "python",
   "pygments_lexer": "ipython3",
   "version": "3.12.4"
  },
  "toc": {
   "base_numbering": 1,
   "nav_menu": {},
   "number_sections": true,
   "sideBar": true,
   "skip_h1_title": false,
   "title_cell": "Table of Contents",
   "title_sidebar": "Contents",
   "toc_cell": false,
   "toc_position": {},
   "toc_section_display": true,
   "toc_window_display": false
  }
 },
 "nbformat": 4,
 "nbformat_minor": 5
}
